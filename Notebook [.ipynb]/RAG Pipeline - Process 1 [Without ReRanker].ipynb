{
  "nbformat": 4,
  "nbformat_minor": 0,
  "metadata": {
    "colab": {
      "provenance": []
    },
    "kernelspec": {
      "name": "python3",
      "display_name": "Python 3"
    },
    "language_info": {
      "name": "python"
    },
    "widgets": {
      "application/vnd.jupyter.widget-state+json": {
        "34893bbe01b44a21a981a512fff9b09f": {
          "model_module": "@jupyter-widgets/controls",
          "model_name": "HBoxModel",
          "model_module_version": "1.5.0",
          "state": {
            "_dom_classes": [],
            "_model_module": "@jupyter-widgets/controls",
            "_model_module_version": "1.5.0",
            "_model_name": "HBoxModel",
            "_view_count": null,
            "_view_module": "@jupyter-widgets/controls",
            "_view_module_version": "1.5.0",
            "_view_name": "HBoxView",
            "box_style": "",
            "children": [
              "IPY_MODEL_ce3dc42d48304600a373a6177d91f70b",
              "IPY_MODEL_f849529a27c54c2fb4378ae8f2de4c50",
              "IPY_MODEL_e49f6b9d23254ad09ba5fc8961fcd0ed"
            ],
            "layout": "IPY_MODEL_e0f7f43eff324123974274949df026ce"
          }
        },
        "ce3dc42d48304600a373a6177d91f70b": {
          "model_module": "@jupyter-widgets/controls",
          "model_name": "HTMLModel",
          "model_module_version": "1.5.0",
          "state": {
            "_dom_classes": [],
            "_model_module": "@jupyter-widgets/controls",
            "_model_module_version": "1.5.0",
            "_model_name": "HTMLModel",
            "_view_count": null,
            "_view_module": "@jupyter-widgets/controls",
            "_view_module_version": "1.5.0",
            "_view_name": "HTMLView",
            "description": "",
            "description_tooltip": null,
            "layout": "IPY_MODEL_58bf9b245e8b485b98ce1757db379151",
            "placeholder": "​",
            "style": "IPY_MODEL_b4ff777095674bb19766b9270ab6cd50",
            "value": "Fetching 5 files: 100%"
          }
        },
        "f849529a27c54c2fb4378ae8f2de4c50": {
          "model_module": "@jupyter-widgets/controls",
          "model_name": "FloatProgressModel",
          "model_module_version": "1.5.0",
          "state": {
            "_dom_classes": [],
            "_model_module": "@jupyter-widgets/controls",
            "_model_module_version": "1.5.0",
            "_model_name": "FloatProgressModel",
            "_view_count": null,
            "_view_module": "@jupyter-widgets/controls",
            "_view_module_version": "1.5.0",
            "_view_name": "ProgressView",
            "bar_style": "success",
            "description": "",
            "description_tooltip": null,
            "layout": "IPY_MODEL_0ed62774445f4d41acb7d52954e1216f",
            "max": 5,
            "min": 0,
            "orientation": "horizontal",
            "style": "IPY_MODEL_79ff7b44725b44ec81d94bd187dc8b65",
            "value": 5
          }
        },
        "e49f6b9d23254ad09ba5fc8961fcd0ed": {
          "model_module": "@jupyter-widgets/controls",
          "model_name": "HTMLModel",
          "model_module_version": "1.5.0",
          "state": {
            "_dom_classes": [],
            "_model_module": "@jupyter-widgets/controls",
            "_model_module_version": "1.5.0",
            "_model_name": "HTMLModel",
            "_view_count": null,
            "_view_module": "@jupyter-widgets/controls",
            "_view_module_version": "1.5.0",
            "_view_name": "HTMLView",
            "description": "",
            "description_tooltip": null,
            "layout": "IPY_MODEL_972fc2a1df23430f8615c18a01af03a5",
            "placeholder": "​",
            "style": "IPY_MODEL_1056c1c6f5d041c9862ed2f3e3fc6494",
            "value": " 5/5 [00:05&lt;00:00,  2.97s/it]"
          }
        },
        "e0f7f43eff324123974274949df026ce": {
          "model_module": "@jupyter-widgets/base",
          "model_name": "LayoutModel",
          "model_module_version": "1.2.0",
          "state": {
            "_model_module": "@jupyter-widgets/base",
            "_model_module_version": "1.2.0",
            "_model_name": "LayoutModel",
            "_view_count": null,
            "_view_module": "@jupyter-widgets/base",
            "_view_module_version": "1.2.0",
            "_view_name": "LayoutView",
            "align_content": null,
            "align_items": null,
            "align_self": null,
            "border": null,
            "bottom": null,
            "display": null,
            "flex": null,
            "flex_flow": null,
            "grid_area": null,
            "grid_auto_columns": null,
            "grid_auto_flow": null,
            "grid_auto_rows": null,
            "grid_column": null,
            "grid_gap": null,
            "grid_row": null,
            "grid_template_areas": null,
            "grid_template_columns": null,
            "grid_template_rows": null,
            "height": null,
            "justify_content": null,
            "justify_items": null,
            "left": null,
            "margin": null,
            "max_height": null,
            "max_width": null,
            "min_height": null,
            "min_width": null,
            "object_fit": null,
            "object_position": null,
            "order": null,
            "overflow": null,
            "overflow_x": null,
            "overflow_y": null,
            "padding": null,
            "right": null,
            "top": null,
            "visibility": null,
            "width": null
          }
        },
        "58bf9b245e8b485b98ce1757db379151": {
          "model_module": "@jupyter-widgets/base",
          "model_name": "LayoutModel",
          "model_module_version": "1.2.0",
          "state": {
            "_model_module": "@jupyter-widgets/base",
            "_model_module_version": "1.2.0",
            "_model_name": "LayoutModel",
            "_view_count": null,
            "_view_module": "@jupyter-widgets/base",
            "_view_module_version": "1.2.0",
            "_view_name": "LayoutView",
            "align_content": null,
            "align_items": null,
            "align_self": null,
            "border": null,
            "bottom": null,
            "display": null,
            "flex": null,
            "flex_flow": null,
            "grid_area": null,
            "grid_auto_columns": null,
            "grid_auto_flow": null,
            "grid_auto_rows": null,
            "grid_column": null,
            "grid_gap": null,
            "grid_row": null,
            "grid_template_areas": null,
            "grid_template_columns": null,
            "grid_template_rows": null,
            "height": null,
            "justify_content": null,
            "justify_items": null,
            "left": null,
            "margin": null,
            "max_height": null,
            "max_width": null,
            "min_height": null,
            "min_width": null,
            "object_fit": null,
            "object_position": null,
            "order": null,
            "overflow": null,
            "overflow_x": null,
            "overflow_y": null,
            "padding": null,
            "right": null,
            "top": null,
            "visibility": null,
            "width": null
          }
        },
        "b4ff777095674bb19766b9270ab6cd50": {
          "model_module": "@jupyter-widgets/controls",
          "model_name": "DescriptionStyleModel",
          "model_module_version": "1.5.0",
          "state": {
            "_model_module": "@jupyter-widgets/controls",
            "_model_module_version": "1.5.0",
            "_model_name": "DescriptionStyleModel",
            "_view_count": null,
            "_view_module": "@jupyter-widgets/base",
            "_view_module_version": "1.2.0",
            "_view_name": "StyleView",
            "description_width": ""
          }
        },
        "0ed62774445f4d41acb7d52954e1216f": {
          "model_module": "@jupyter-widgets/base",
          "model_name": "LayoutModel",
          "model_module_version": "1.2.0",
          "state": {
            "_model_module": "@jupyter-widgets/base",
            "_model_module_version": "1.2.0",
            "_model_name": "LayoutModel",
            "_view_count": null,
            "_view_module": "@jupyter-widgets/base",
            "_view_module_version": "1.2.0",
            "_view_name": "LayoutView",
            "align_content": null,
            "align_items": null,
            "align_self": null,
            "border": null,
            "bottom": null,
            "display": null,
            "flex": null,
            "flex_flow": null,
            "grid_area": null,
            "grid_auto_columns": null,
            "grid_auto_flow": null,
            "grid_auto_rows": null,
            "grid_column": null,
            "grid_gap": null,
            "grid_row": null,
            "grid_template_areas": null,
            "grid_template_columns": null,
            "grid_template_rows": null,
            "height": null,
            "justify_content": null,
            "justify_items": null,
            "left": null,
            "margin": null,
            "max_height": null,
            "max_width": null,
            "min_height": null,
            "min_width": null,
            "object_fit": null,
            "object_position": null,
            "order": null,
            "overflow": null,
            "overflow_x": null,
            "overflow_y": null,
            "padding": null,
            "right": null,
            "top": null,
            "visibility": null,
            "width": null
          }
        },
        "79ff7b44725b44ec81d94bd187dc8b65": {
          "model_module": "@jupyter-widgets/controls",
          "model_name": "ProgressStyleModel",
          "model_module_version": "1.5.0",
          "state": {
            "_model_module": "@jupyter-widgets/controls",
            "_model_module_version": "1.5.0",
            "_model_name": "ProgressStyleModel",
            "_view_count": null,
            "_view_module": "@jupyter-widgets/base",
            "_view_module_version": "1.2.0",
            "_view_name": "StyleView",
            "bar_color": null,
            "description_width": ""
          }
        },
        "972fc2a1df23430f8615c18a01af03a5": {
          "model_module": "@jupyter-widgets/base",
          "model_name": "LayoutModel",
          "model_module_version": "1.2.0",
          "state": {
            "_model_module": "@jupyter-widgets/base",
            "_model_module_version": "1.2.0",
            "_model_name": "LayoutModel",
            "_view_count": null,
            "_view_module": "@jupyter-widgets/base",
            "_view_module_version": "1.2.0",
            "_view_name": "LayoutView",
            "align_content": null,
            "align_items": null,
            "align_self": null,
            "border": null,
            "bottom": null,
            "display": null,
            "flex": null,
            "flex_flow": null,
            "grid_area": null,
            "grid_auto_columns": null,
            "grid_auto_flow": null,
            "grid_auto_rows": null,
            "grid_column": null,
            "grid_gap": null,
            "grid_row": null,
            "grid_template_areas": null,
            "grid_template_columns": null,
            "grid_template_rows": null,
            "height": null,
            "justify_content": null,
            "justify_items": null,
            "left": null,
            "margin": null,
            "max_height": null,
            "max_width": null,
            "min_height": null,
            "min_width": null,
            "object_fit": null,
            "object_position": null,
            "order": null,
            "overflow": null,
            "overflow_x": null,
            "overflow_y": null,
            "padding": null,
            "right": null,
            "top": null,
            "visibility": null,
            "width": null
          }
        },
        "1056c1c6f5d041c9862ed2f3e3fc6494": {
          "model_module": "@jupyter-widgets/controls",
          "model_name": "DescriptionStyleModel",
          "model_module_version": "1.5.0",
          "state": {
            "_model_module": "@jupyter-widgets/controls",
            "_model_module_version": "1.5.0",
            "_model_name": "DescriptionStyleModel",
            "_view_count": null,
            "_view_module": "@jupyter-widgets/base",
            "_view_module_version": "1.2.0",
            "_view_name": "StyleView",
            "description_width": ""
          }
        },
        "dd0cd68f85944381a147810832a1dff9": {
          "model_module": "@jupyter-widgets/controls",
          "model_name": "HBoxModel",
          "model_module_version": "1.5.0",
          "state": {
            "_dom_classes": [],
            "_model_module": "@jupyter-widgets/controls",
            "_model_module_version": "1.5.0",
            "_model_name": "HBoxModel",
            "_view_count": null,
            "_view_module": "@jupyter-widgets/controls",
            "_view_module_version": "1.5.0",
            "_view_name": "HBoxView",
            "box_style": "",
            "children": [
              "IPY_MODEL_025c28766a334400b07063a97522a0a5",
              "IPY_MODEL_df299b3458ad4de58a9bb45a523a79fe",
              "IPY_MODEL_20e83554348746a2a6da75d60ef60701"
            ],
            "layout": "IPY_MODEL_cd9f5299d51e4dffaa6685a455e84519"
          }
        },
        "025c28766a334400b07063a97522a0a5": {
          "model_module": "@jupyter-widgets/controls",
          "model_name": "HTMLModel",
          "model_module_version": "1.5.0",
          "state": {
            "_dom_classes": [],
            "_model_module": "@jupyter-widgets/controls",
            "_model_module_version": "1.5.0",
            "_model_name": "HTMLModel",
            "_view_count": null,
            "_view_module": "@jupyter-widgets/controls",
            "_view_module_version": "1.5.0",
            "_view_name": "HTMLView",
            "description": "",
            "description_tooltip": null,
            "layout": "IPY_MODEL_111ed81f54f545fea6fdacab16c0f158",
            "placeholder": "​",
            "style": "IPY_MODEL_35d99d524a9c48c6bd37237629030c3c",
            "value": "config.json: 100%"
          }
        },
        "df299b3458ad4de58a9bb45a523a79fe": {
          "model_module": "@jupyter-widgets/controls",
          "model_name": "FloatProgressModel",
          "model_module_version": "1.5.0",
          "state": {
            "_dom_classes": [],
            "_model_module": "@jupyter-widgets/controls",
            "_model_module_version": "1.5.0",
            "_model_name": "FloatProgressModel",
            "_view_count": null,
            "_view_module": "@jupyter-widgets/controls",
            "_view_module_version": "1.5.0",
            "_view_name": "ProgressView",
            "bar_style": "success",
            "description": "",
            "description_tooltip": null,
            "layout": "IPY_MODEL_ee54e955c8e147f29e353ba93461aa1e",
            "max": 740,
            "min": 0,
            "orientation": "horizontal",
            "style": "IPY_MODEL_aec0bdb5295648a5b00f20a935934832",
            "value": 740
          }
        },
        "20e83554348746a2a6da75d60ef60701": {
          "model_module": "@jupyter-widgets/controls",
          "model_name": "HTMLModel",
          "model_module_version": "1.5.0",
          "state": {
            "_dom_classes": [],
            "_model_module": "@jupyter-widgets/controls",
            "_model_module_version": "1.5.0",
            "_model_name": "HTMLModel",
            "_view_count": null,
            "_view_module": "@jupyter-widgets/controls",
            "_view_module_version": "1.5.0",
            "_view_name": "HTMLView",
            "description": "",
            "description_tooltip": null,
            "layout": "IPY_MODEL_c075603a33434a9a8d96755fcbe80617",
            "placeholder": "​",
            "style": "IPY_MODEL_ca25264f5498492db5dd70afe7688a20",
            "value": " 740/740 [00:00&lt;00:00, 39.7kB/s]"
          }
        },
        "cd9f5299d51e4dffaa6685a455e84519": {
          "model_module": "@jupyter-widgets/base",
          "model_name": "LayoutModel",
          "model_module_version": "1.2.0",
          "state": {
            "_model_module": "@jupyter-widgets/base",
            "_model_module_version": "1.2.0",
            "_model_name": "LayoutModel",
            "_view_count": null,
            "_view_module": "@jupyter-widgets/base",
            "_view_module_version": "1.2.0",
            "_view_name": "LayoutView",
            "align_content": null,
            "align_items": null,
            "align_self": null,
            "border": null,
            "bottom": null,
            "display": null,
            "flex": null,
            "flex_flow": null,
            "grid_area": null,
            "grid_auto_columns": null,
            "grid_auto_flow": null,
            "grid_auto_rows": null,
            "grid_column": null,
            "grid_gap": null,
            "grid_row": null,
            "grid_template_areas": null,
            "grid_template_columns": null,
            "grid_template_rows": null,
            "height": null,
            "justify_content": null,
            "justify_items": null,
            "left": null,
            "margin": null,
            "max_height": null,
            "max_width": null,
            "min_height": null,
            "min_width": null,
            "object_fit": null,
            "object_position": null,
            "order": null,
            "overflow": null,
            "overflow_x": null,
            "overflow_y": null,
            "padding": null,
            "right": null,
            "top": null,
            "visibility": null,
            "width": null
          }
        },
        "111ed81f54f545fea6fdacab16c0f158": {
          "model_module": "@jupyter-widgets/base",
          "model_name": "LayoutModel",
          "model_module_version": "1.2.0",
          "state": {
            "_model_module": "@jupyter-widgets/base",
            "_model_module_version": "1.2.0",
            "_model_name": "LayoutModel",
            "_view_count": null,
            "_view_module": "@jupyter-widgets/base",
            "_view_module_version": "1.2.0",
            "_view_name": "LayoutView",
            "align_content": null,
            "align_items": null,
            "align_self": null,
            "border": null,
            "bottom": null,
            "display": null,
            "flex": null,
            "flex_flow": null,
            "grid_area": null,
            "grid_auto_columns": null,
            "grid_auto_flow": null,
            "grid_auto_rows": null,
            "grid_column": null,
            "grid_gap": null,
            "grid_row": null,
            "grid_template_areas": null,
            "grid_template_columns": null,
            "grid_template_rows": null,
            "height": null,
            "justify_content": null,
            "justify_items": null,
            "left": null,
            "margin": null,
            "max_height": null,
            "max_width": null,
            "min_height": null,
            "min_width": null,
            "object_fit": null,
            "object_position": null,
            "order": null,
            "overflow": null,
            "overflow_x": null,
            "overflow_y": null,
            "padding": null,
            "right": null,
            "top": null,
            "visibility": null,
            "width": null
          }
        },
        "35d99d524a9c48c6bd37237629030c3c": {
          "model_module": "@jupyter-widgets/controls",
          "model_name": "DescriptionStyleModel",
          "model_module_version": "1.5.0",
          "state": {
            "_model_module": "@jupyter-widgets/controls",
            "_model_module_version": "1.5.0",
            "_model_name": "DescriptionStyleModel",
            "_view_count": null,
            "_view_module": "@jupyter-widgets/base",
            "_view_module_version": "1.2.0",
            "_view_name": "StyleView",
            "description_width": ""
          }
        },
        "ee54e955c8e147f29e353ba93461aa1e": {
          "model_module": "@jupyter-widgets/base",
          "model_name": "LayoutModel",
          "model_module_version": "1.2.0",
          "state": {
            "_model_module": "@jupyter-widgets/base",
            "_model_module_version": "1.2.0",
            "_model_name": "LayoutModel",
            "_view_count": null,
            "_view_module": "@jupyter-widgets/base",
            "_view_module_version": "1.2.0",
            "_view_name": "LayoutView",
            "align_content": null,
            "align_items": null,
            "align_self": null,
            "border": null,
            "bottom": null,
            "display": null,
            "flex": null,
            "flex_flow": null,
            "grid_area": null,
            "grid_auto_columns": null,
            "grid_auto_flow": null,
            "grid_auto_rows": null,
            "grid_column": null,
            "grid_gap": null,
            "grid_row": null,
            "grid_template_areas": null,
            "grid_template_columns": null,
            "grid_template_rows": null,
            "height": null,
            "justify_content": null,
            "justify_items": null,
            "left": null,
            "margin": null,
            "max_height": null,
            "max_width": null,
            "min_height": null,
            "min_width": null,
            "object_fit": null,
            "object_position": null,
            "order": null,
            "overflow": null,
            "overflow_x": null,
            "overflow_y": null,
            "padding": null,
            "right": null,
            "top": null,
            "visibility": null,
            "width": null
          }
        },
        "aec0bdb5295648a5b00f20a935934832": {
          "model_module": "@jupyter-widgets/controls",
          "model_name": "ProgressStyleModel",
          "model_module_version": "1.5.0",
          "state": {
            "_model_module": "@jupyter-widgets/controls",
            "_model_module_version": "1.5.0",
            "_model_name": "ProgressStyleModel",
            "_view_count": null,
            "_view_module": "@jupyter-widgets/base",
            "_view_module_version": "1.2.0",
            "_view_name": "StyleView",
            "bar_color": null,
            "description_width": ""
          }
        },
        "c075603a33434a9a8d96755fcbe80617": {
          "model_module": "@jupyter-widgets/base",
          "model_name": "LayoutModel",
          "model_module_version": "1.2.0",
          "state": {
            "_model_module": "@jupyter-widgets/base",
            "_model_module_version": "1.2.0",
            "_model_name": "LayoutModel",
            "_view_count": null,
            "_view_module": "@jupyter-widgets/base",
            "_view_module_version": "1.2.0",
            "_view_name": "LayoutView",
            "align_content": null,
            "align_items": null,
            "align_self": null,
            "border": null,
            "bottom": null,
            "display": null,
            "flex": null,
            "flex_flow": null,
            "grid_area": null,
            "grid_auto_columns": null,
            "grid_auto_flow": null,
            "grid_auto_rows": null,
            "grid_column": null,
            "grid_gap": null,
            "grid_row": null,
            "grid_template_areas": null,
            "grid_template_columns": null,
            "grid_template_rows": null,
            "height": null,
            "justify_content": null,
            "justify_items": null,
            "left": null,
            "margin": null,
            "max_height": null,
            "max_width": null,
            "min_height": null,
            "min_width": null,
            "object_fit": null,
            "object_position": null,
            "order": null,
            "overflow": null,
            "overflow_x": null,
            "overflow_y": null,
            "padding": null,
            "right": null,
            "top": null,
            "visibility": null,
            "width": null
          }
        },
        "ca25264f5498492db5dd70afe7688a20": {
          "model_module": "@jupyter-widgets/controls",
          "model_name": "DescriptionStyleModel",
          "model_module_version": "1.5.0",
          "state": {
            "_model_module": "@jupyter-widgets/controls",
            "_model_module_version": "1.5.0",
            "_model_name": "DescriptionStyleModel",
            "_view_count": null,
            "_view_module": "@jupyter-widgets/base",
            "_view_module_version": "1.2.0",
            "_view_name": "StyleView",
            "description_width": ""
          }
        },
        "b0c2a02432b043a4aa4652a0118de447": {
          "model_module": "@jupyter-widgets/controls",
          "model_name": "HBoxModel",
          "model_module_version": "1.5.0",
          "state": {
            "_dom_classes": [],
            "_model_module": "@jupyter-widgets/controls",
            "_model_module_version": "1.5.0",
            "_model_name": "HBoxModel",
            "_view_count": null,
            "_view_module": "@jupyter-widgets/controls",
            "_view_module_version": "1.5.0",
            "_view_name": "HBoxView",
            "box_style": "",
            "children": [
              "IPY_MODEL_174d7c80877543b18a45ac7fbe02653a",
              "IPY_MODEL_fe734dea622649beaafb590f922cff18",
              "IPY_MODEL_7443280109ab437c8158f014673556fd"
            ],
            "layout": "IPY_MODEL_0627966c417a467591a46a1299d9d31a"
          }
        },
        "174d7c80877543b18a45ac7fbe02653a": {
          "model_module": "@jupyter-widgets/controls",
          "model_name": "HTMLModel",
          "model_module_version": "1.5.0",
          "state": {
            "_dom_classes": [],
            "_model_module": "@jupyter-widgets/controls",
            "_model_module_version": "1.5.0",
            "_model_name": "HTMLModel",
            "_view_count": null,
            "_view_module": "@jupyter-widgets/controls",
            "_view_module_version": "1.5.0",
            "_view_name": "HTMLView",
            "description": "",
            "description_tooltip": null,
            "layout": "IPY_MODEL_c19ed1e01a12494fb7117dc6579ecf09",
            "placeholder": "​",
            "style": "IPY_MODEL_6b44a33d9b514d499bbeac817a798536",
            "value": "special_tokens_map.json: 100%"
          }
        },
        "fe734dea622649beaafb590f922cff18": {
          "model_module": "@jupyter-widgets/controls",
          "model_name": "FloatProgressModel",
          "model_module_version": "1.5.0",
          "state": {
            "_dom_classes": [],
            "_model_module": "@jupyter-widgets/controls",
            "_model_module_version": "1.5.0",
            "_model_name": "FloatProgressModel",
            "_view_count": null,
            "_view_module": "@jupyter-widgets/controls",
            "_view_module_version": "1.5.0",
            "_view_name": "ProgressView",
            "bar_style": "success",
            "description": "",
            "description_tooltip": null,
            "layout": "IPY_MODEL_6c65907023384bbf92fbbe59664d00f7",
            "max": 695,
            "min": 0,
            "orientation": "horizontal",
            "style": "IPY_MODEL_caaaf601275249f68cbaf36575d032eb",
            "value": 695
          }
        },
        "7443280109ab437c8158f014673556fd": {
          "model_module": "@jupyter-widgets/controls",
          "model_name": "HTMLModel",
          "model_module_version": "1.5.0",
          "state": {
            "_dom_classes": [],
            "_model_module": "@jupyter-widgets/controls",
            "_model_module_version": "1.5.0",
            "_model_name": "HTMLModel",
            "_view_count": null,
            "_view_module": "@jupyter-widgets/controls",
            "_view_module_version": "1.5.0",
            "_view_name": "HTMLView",
            "description": "",
            "description_tooltip": null,
            "layout": "IPY_MODEL_8f2945c7f8d24502b4b29ca6db51114f",
            "placeholder": "​",
            "style": "IPY_MODEL_77ed4c494c7c4adbb624c6e3892fcdf9",
            "value": " 695/695 [00:00&lt;00:00, 9.06kB/s]"
          }
        },
        "0627966c417a467591a46a1299d9d31a": {
          "model_module": "@jupyter-widgets/base",
          "model_name": "LayoutModel",
          "model_module_version": "1.2.0",
          "state": {
            "_model_module": "@jupyter-widgets/base",
            "_model_module_version": "1.2.0",
            "_model_name": "LayoutModel",
            "_view_count": null,
            "_view_module": "@jupyter-widgets/base",
            "_view_module_version": "1.2.0",
            "_view_name": "LayoutView",
            "align_content": null,
            "align_items": null,
            "align_self": null,
            "border": null,
            "bottom": null,
            "display": null,
            "flex": null,
            "flex_flow": null,
            "grid_area": null,
            "grid_auto_columns": null,
            "grid_auto_flow": null,
            "grid_auto_rows": null,
            "grid_column": null,
            "grid_gap": null,
            "grid_row": null,
            "grid_template_areas": null,
            "grid_template_columns": null,
            "grid_template_rows": null,
            "height": null,
            "justify_content": null,
            "justify_items": null,
            "left": null,
            "margin": null,
            "max_height": null,
            "max_width": null,
            "min_height": null,
            "min_width": null,
            "object_fit": null,
            "object_position": null,
            "order": null,
            "overflow": null,
            "overflow_x": null,
            "overflow_y": null,
            "padding": null,
            "right": null,
            "top": null,
            "visibility": null,
            "width": null
          }
        },
        "c19ed1e01a12494fb7117dc6579ecf09": {
          "model_module": "@jupyter-widgets/base",
          "model_name": "LayoutModel",
          "model_module_version": "1.2.0",
          "state": {
            "_model_module": "@jupyter-widgets/base",
            "_model_module_version": "1.2.0",
            "_model_name": "LayoutModel",
            "_view_count": null,
            "_view_module": "@jupyter-widgets/base",
            "_view_module_version": "1.2.0",
            "_view_name": "LayoutView",
            "align_content": null,
            "align_items": null,
            "align_self": null,
            "border": null,
            "bottom": null,
            "display": null,
            "flex": null,
            "flex_flow": null,
            "grid_area": null,
            "grid_auto_columns": null,
            "grid_auto_flow": null,
            "grid_auto_rows": null,
            "grid_column": null,
            "grid_gap": null,
            "grid_row": null,
            "grid_template_areas": null,
            "grid_template_columns": null,
            "grid_template_rows": null,
            "height": null,
            "justify_content": null,
            "justify_items": null,
            "left": null,
            "margin": null,
            "max_height": null,
            "max_width": null,
            "min_height": null,
            "min_width": null,
            "object_fit": null,
            "object_position": null,
            "order": null,
            "overflow": null,
            "overflow_x": null,
            "overflow_y": null,
            "padding": null,
            "right": null,
            "top": null,
            "visibility": null,
            "width": null
          }
        },
        "6b44a33d9b514d499bbeac817a798536": {
          "model_module": "@jupyter-widgets/controls",
          "model_name": "DescriptionStyleModel",
          "model_module_version": "1.5.0",
          "state": {
            "_model_module": "@jupyter-widgets/controls",
            "_model_module_version": "1.5.0",
            "_model_name": "DescriptionStyleModel",
            "_view_count": null,
            "_view_module": "@jupyter-widgets/base",
            "_view_module_version": "1.2.0",
            "_view_name": "StyleView",
            "description_width": ""
          }
        },
        "6c65907023384bbf92fbbe59664d00f7": {
          "model_module": "@jupyter-widgets/base",
          "model_name": "LayoutModel",
          "model_module_version": "1.2.0",
          "state": {
            "_model_module": "@jupyter-widgets/base",
            "_model_module_version": "1.2.0",
            "_model_name": "LayoutModel",
            "_view_count": null,
            "_view_module": "@jupyter-widgets/base",
            "_view_module_version": "1.2.0",
            "_view_name": "LayoutView",
            "align_content": null,
            "align_items": null,
            "align_self": null,
            "border": null,
            "bottom": null,
            "display": null,
            "flex": null,
            "flex_flow": null,
            "grid_area": null,
            "grid_auto_columns": null,
            "grid_auto_flow": null,
            "grid_auto_rows": null,
            "grid_column": null,
            "grid_gap": null,
            "grid_row": null,
            "grid_template_areas": null,
            "grid_template_columns": null,
            "grid_template_rows": null,
            "height": null,
            "justify_content": null,
            "justify_items": null,
            "left": null,
            "margin": null,
            "max_height": null,
            "max_width": null,
            "min_height": null,
            "min_width": null,
            "object_fit": null,
            "object_position": null,
            "order": null,
            "overflow": null,
            "overflow_x": null,
            "overflow_y": null,
            "padding": null,
            "right": null,
            "top": null,
            "visibility": null,
            "width": null
          }
        },
        "caaaf601275249f68cbaf36575d032eb": {
          "model_module": "@jupyter-widgets/controls",
          "model_name": "ProgressStyleModel",
          "model_module_version": "1.5.0",
          "state": {
            "_model_module": "@jupyter-widgets/controls",
            "_model_module_version": "1.5.0",
            "_model_name": "ProgressStyleModel",
            "_view_count": null,
            "_view_module": "@jupyter-widgets/base",
            "_view_module_version": "1.2.0",
            "_view_name": "StyleView",
            "bar_color": null,
            "description_width": ""
          }
        },
        "8f2945c7f8d24502b4b29ca6db51114f": {
          "model_module": "@jupyter-widgets/base",
          "model_name": "LayoutModel",
          "model_module_version": "1.2.0",
          "state": {
            "_model_module": "@jupyter-widgets/base",
            "_model_module_version": "1.2.0",
            "_model_name": "LayoutModel",
            "_view_count": null,
            "_view_module": "@jupyter-widgets/base",
            "_view_module_version": "1.2.0",
            "_view_name": "LayoutView",
            "align_content": null,
            "align_items": null,
            "align_self": null,
            "border": null,
            "bottom": null,
            "display": null,
            "flex": null,
            "flex_flow": null,
            "grid_area": null,
            "grid_auto_columns": null,
            "grid_auto_flow": null,
            "grid_auto_rows": null,
            "grid_column": null,
            "grid_gap": null,
            "grid_row": null,
            "grid_template_areas": null,
            "grid_template_columns": null,
            "grid_template_rows": null,
            "height": null,
            "justify_content": null,
            "justify_items": null,
            "left": null,
            "margin": null,
            "max_height": null,
            "max_width": null,
            "min_height": null,
            "min_width": null,
            "object_fit": null,
            "object_position": null,
            "order": null,
            "overflow": null,
            "overflow_x": null,
            "overflow_y": null,
            "padding": null,
            "right": null,
            "top": null,
            "visibility": null,
            "width": null
          }
        },
        "77ed4c494c7c4adbb624c6e3892fcdf9": {
          "model_module": "@jupyter-widgets/controls",
          "model_name": "DescriptionStyleModel",
          "model_module_version": "1.5.0",
          "state": {
            "_model_module": "@jupyter-widgets/controls",
            "_model_module_version": "1.5.0",
            "_model_name": "DescriptionStyleModel",
            "_view_count": null,
            "_view_module": "@jupyter-widgets/base",
            "_view_module_version": "1.2.0",
            "_view_name": "StyleView",
            "description_width": ""
          }
        },
        "c8361c12c9f24da1b439b4a0270c3012": {
          "model_module": "@jupyter-widgets/controls",
          "model_name": "HBoxModel",
          "model_module_version": "1.5.0",
          "state": {
            "_dom_classes": [],
            "_model_module": "@jupyter-widgets/controls",
            "_model_module_version": "1.5.0",
            "_model_name": "HBoxModel",
            "_view_count": null,
            "_view_module": "@jupyter-widgets/controls",
            "_view_module_version": "1.5.0",
            "_view_name": "HBoxView",
            "box_style": "",
            "children": [
              "IPY_MODEL_656a09d6e06244ecb4f9195b92e88485",
              "IPY_MODEL_400bccea3dbc4b318e7717c6a5b02202",
              "IPY_MODEL_fac8e0abb6114d3bbafe31912d810281"
            ],
            "layout": "IPY_MODEL_b1a764c2a6264fed99970e8832fbc72f"
          }
        },
        "656a09d6e06244ecb4f9195b92e88485": {
          "model_module": "@jupyter-widgets/controls",
          "model_name": "HTMLModel",
          "model_module_version": "1.5.0",
          "state": {
            "_dom_classes": [],
            "_model_module": "@jupyter-widgets/controls",
            "_model_module_version": "1.5.0",
            "_model_name": "HTMLModel",
            "_view_count": null,
            "_view_module": "@jupyter-widgets/controls",
            "_view_module_version": "1.5.0",
            "_view_name": "HTMLView",
            "description": "",
            "description_tooltip": null,
            "layout": "IPY_MODEL_3bfd3d18271b4647ade1464b458bef8e",
            "placeholder": "​",
            "style": "IPY_MODEL_19ad5e2c5f7c4829aad914db2ffe8438",
            "value": "tokenizer.json: 100%"
          }
        },
        "400bccea3dbc4b318e7717c6a5b02202": {
          "model_module": "@jupyter-widgets/controls",
          "model_name": "FloatProgressModel",
          "model_module_version": "1.5.0",
          "state": {
            "_dom_classes": [],
            "_model_module": "@jupyter-widgets/controls",
            "_model_module_version": "1.5.0",
            "_model_name": "FloatProgressModel",
            "_view_count": null,
            "_view_module": "@jupyter-widgets/controls",
            "_view_module_version": "1.5.0",
            "_view_name": "ProgressView",
            "bar_style": "success",
            "description": "",
            "description_tooltip": null,
            "layout": "IPY_MODEL_d0d30736c16a446a8634cab886b47a71",
            "max": 711396,
            "min": 0,
            "orientation": "horizontal",
            "style": "IPY_MODEL_06fb7ea6235244239db47b5cb882d216",
            "value": 711396
          }
        },
        "fac8e0abb6114d3bbafe31912d810281": {
          "model_module": "@jupyter-widgets/controls",
          "model_name": "HTMLModel",
          "model_module_version": "1.5.0",
          "state": {
            "_dom_classes": [],
            "_model_module": "@jupyter-widgets/controls",
            "_model_module_version": "1.5.0",
            "_model_name": "HTMLModel",
            "_view_count": null,
            "_view_module": "@jupyter-widgets/controls",
            "_view_module_version": "1.5.0",
            "_view_name": "HTMLView",
            "description": "",
            "description_tooltip": null,
            "layout": "IPY_MODEL_94f2d333055f4b51b6d2f0152d35380b",
            "placeholder": "​",
            "style": "IPY_MODEL_00314e8dbfa84d2a8907b0c0bab4923c",
            "value": " 711k/711k [00:00&lt;00:00, 3.16MB/s]"
          }
        },
        "b1a764c2a6264fed99970e8832fbc72f": {
          "model_module": "@jupyter-widgets/base",
          "model_name": "LayoutModel",
          "model_module_version": "1.2.0",
          "state": {
            "_model_module": "@jupyter-widgets/base",
            "_model_module_version": "1.2.0",
            "_model_name": "LayoutModel",
            "_view_count": null,
            "_view_module": "@jupyter-widgets/base",
            "_view_module_version": "1.2.0",
            "_view_name": "LayoutView",
            "align_content": null,
            "align_items": null,
            "align_self": null,
            "border": null,
            "bottom": null,
            "display": null,
            "flex": null,
            "flex_flow": null,
            "grid_area": null,
            "grid_auto_columns": null,
            "grid_auto_flow": null,
            "grid_auto_rows": null,
            "grid_column": null,
            "grid_gap": null,
            "grid_row": null,
            "grid_template_areas": null,
            "grid_template_columns": null,
            "grid_template_rows": null,
            "height": null,
            "justify_content": null,
            "justify_items": null,
            "left": null,
            "margin": null,
            "max_height": null,
            "max_width": null,
            "min_height": null,
            "min_width": null,
            "object_fit": null,
            "object_position": null,
            "order": null,
            "overflow": null,
            "overflow_x": null,
            "overflow_y": null,
            "padding": null,
            "right": null,
            "top": null,
            "visibility": null,
            "width": null
          }
        },
        "3bfd3d18271b4647ade1464b458bef8e": {
          "model_module": "@jupyter-widgets/base",
          "model_name": "LayoutModel",
          "model_module_version": "1.2.0",
          "state": {
            "_model_module": "@jupyter-widgets/base",
            "_model_module_version": "1.2.0",
            "_model_name": "LayoutModel",
            "_view_count": null,
            "_view_module": "@jupyter-widgets/base",
            "_view_module_version": "1.2.0",
            "_view_name": "LayoutView",
            "align_content": null,
            "align_items": null,
            "align_self": null,
            "border": null,
            "bottom": null,
            "display": null,
            "flex": null,
            "flex_flow": null,
            "grid_area": null,
            "grid_auto_columns": null,
            "grid_auto_flow": null,
            "grid_auto_rows": null,
            "grid_column": null,
            "grid_gap": null,
            "grid_row": null,
            "grid_template_areas": null,
            "grid_template_columns": null,
            "grid_template_rows": null,
            "height": null,
            "justify_content": null,
            "justify_items": null,
            "left": null,
            "margin": null,
            "max_height": null,
            "max_width": null,
            "min_height": null,
            "min_width": null,
            "object_fit": null,
            "object_position": null,
            "order": null,
            "overflow": null,
            "overflow_x": null,
            "overflow_y": null,
            "padding": null,
            "right": null,
            "top": null,
            "visibility": null,
            "width": null
          }
        },
        "19ad5e2c5f7c4829aad914db2ffe8438": {
          "model_module": "@jupyter-widgets/controls",
          "model_name": "DescriptionStyleModel",
          "model_module_version": "1.5.0",
          "state": {
            "_model_module": "@jupyter-widgets/controls",
            "_model_module_version": "1.5.0",
            "_model_name": "DescriptionStyleModel",
            "_view_count": null,
            "_view_module": "@jupyter-widgets/base",
            "_view_module_version": "1.2.0",
            "_view_name": "StyleView",
            "description_width": ""
          }
        },
        "d0d30736c16a446a8634cab886b47a71": {
          "model_module": "@jupyter-widgets/base",
          "model_name": "LayoutModel",
          "model_module_version": "1.2.0",
          "state": {
            "_model_module": "@jupyter-widgets/base",
            "_model_module_version": "1.2.0",
            "_model_name": "LayoutModel",
            "_view_count": null,
            "_view_module": "@jupyter-widgets/base",
            "_view_module_version": "1.2.0",
            "_view_name": "LayoutView",
            "align_content": null,
            "align_items": null,
            "align_self": null,
            "border": null,
            "bottom": null,
            "display": null,
            "flex": null,
            "flex_flow": null,
            "grid_area": null,
            "grid_auto_columns": null,
            "grid_auto_flow": null,
            "grid_auto_rows": null,
            "grid_column": null,
            "grid_gap": null,
            "grid_row": null,
            "grid_template_areas": null,
            "grid_template_columns": null,
            "grid_template_rows": null,
            "height": null,
            "justify_content": null,
            "justify_items": null,
            "left": null,
            "margin": null,
            "max_height": null,
            "max_width": null,
            "min_height": null,
            "min_width": null,
            "object_fit": null,
            "object_position": null,
            "order": null,
            "overflow": null,
            "overflow_x": null,
            "overflow_y": null,
            "padding": null,
            "right": null,
            "top": null,
            "visibility": null,
            "width": null
          }
        },
        "06fb7ea6235244239db47b5cb882d216": {
          "model_module": "@jupyter-widgets/controls",
          "model_name": "ProgressStyleModel",
          "model_module_version": "1.5.0",
          "state": {
            "_model_module": "@jupyter-widgets/controls",
            "_model_module_version": "1.5.0",
            "_model_name": "ProgressStyleModel",
            "_view_count": null,
            "_view_module": "@jupyter-widgets/base",
            "_view_module_version": "1.2.0",
            "_view_name": "StyleView",
            "bar_color": null,
            "description_width": ""
          }
        },
        "94f2d333055f4b51b6d2f0152d35380b": {
          "model_module": "@jupyter-widgets/base",
          "model_name": "LayoutModel",
          "model_module_version": "1.2.0",
          "state": {
            "_model_module": "@jupyter-widgets/base",
            "_model_module_version": "1.2.0",
            "_model_name": "LayoutModel",
            "_view_count": null,
            "_view_module": "@jupyter-widgets/base",
            "_view_module_version": "1.2.0",
            "_view_name": "LayoutView",
            "align_content": null,
            "align_items": null,
            "align_self": null,
            "border": null,
            "bottom": null,
            "display": null,
            "flex": null,
            "flex_flow": null,
            "grid_area": null,
            "grid_auto_columns": null,
            "grid_auto_flow": null,
            "grid_auto_rows": null,
            "grid_column": null,
            "grid_gap": null,
            "grid_row": null,
            "grid_template_areas": null,
            "grid_template_columns": null,
            "grid_template_rows": null,
            "height": null,
            "justify_content": null,
            "justify_items": null,
            "left": null,
            "margin": null,
            "max_height": null,
            "max_width": null,
            "min_height": null,
            "min_width": null,
            "object_fit": null,
            "object_position": null,
            "order": null,
            "overflow": null,
            "overflow_x": null,
            "overflow_y": null,
            "padding": null,
            "right": null,
            "top": null,
            "visibility": null,
            "width": null
          }
        },
        "00314e8dbfa84d2a8907b0c0bab4923c": {
          "model_module": "@jupyter-widgets/controls",
          "model_name": "DescriptionStyleModel",
          "model_module_version": "1.5.0",
          "state": {
            "_model_module": "@jupyter-widgets/controls",
            "_model_module_version": "1.5.0",
            "_model_name": "DescriptionStyleModel",
            "_view_count": null,
            "_view_module": "@jupyter-widgets/base",
            "_view_module_version": "1.2.0",
            "_view_name": "StyleView",
            "description_width": ""
          }
        },
        "1f0f335bacf24c29a70686cd9630cadc": {
          "model_module": "@jupyter-widgets/controls",
          "model_name": "HBoxModel",
          "model_module_version": "1.5.0",
          "state": {
            "_dom_classes": [],
            "_model_module": "@jupyter-widgets/controls",
            "_model_module_version": "1.5.0",
            "_model_name": "HBoxModel",
            "_view_count": null,
            "_view_module": "@jupyter-widgets/controls",
            "_view_module_version": "1.5.0",
            "_view_name": "HBoxView",
            "box_style": "",
            "children": [
              "IPY_MODEL_c8e05530346b4e4abae3d0ed514545f9",
              "IPY_MODEL_f956a4fb0337466baf60a2d1e3876e8f",
              "IPY_MODEL_bc129a8372644ca0bc0c544fbb6f0103"
            ],
            "layout": "IPY_MODEL_82cbf28eb8f344ec99013468e1fb201c"
          }
        },
        "c8e05530346b4e4abae3d0ed514545f9": {
          "model_module": "@jupyter-widgets/controls",
          "model_name": "HTMLModel",
          "model_module_version": "1.5.0",
          "state": {
            "_dom_classes": [],
            "_model_module": "@jupyter-widgets/controls",
            "_model_module_version": "1.5.0",
            "_model_name": "HTMLModel",
            "_view_count": null,
            "_view_module": "@jupyter-widgets/controls",
            "_view_module_version": "1.5.0",
            "_view_name": "HTMLView",
            "description": "",
            "description_tooltip": null,
            "layout": "IPY_MODEL_3ebe6bc186294299b862c3f6cf839b7a",
            "placeholder": "​",
            "style": "IPY_MODEL_4ac97154ed2a4236aadf7be457462572",
            "value": "model_optimized.onnx: 100%"
          }
        },
        "f956a4fb0337466baf60a2d1e3876e8f": {
          "model_module": "@jupyter-widgets/controls",
          "model_name": "FloatProgressModel",
          "model_module_version": "1.5.0",
          "state": {
            "_dom_classes": [],
            "_model_module": "@jupyter-widgets/controls",
            "_model_module_version": "1.5.0",
            "_model_name": "FloatProgressModel",
            "_view_count": null,
            "_view_module": "@jupyter-widgets/controls",
            "_view_module_version": "1.5.0",
            "_view_name": "ProgressView",
            "bar_style": "success",
            "description": "",
            "description_tooltip": null,
            "layout": "IPY_MODEL_75a2a326c3cd40b291b20cb4b8b1ad16",
            "max": 217824172,
            "min": 0,
            "orientation": "horizontal",
            "style": "IPY_MODEL_b82b1c7c05e44be0be7897771a58be56",
            "value": 217824172
          }
        },
        "bc129a8372644ca0bc0c544fbb6f0103": {
          "model_module": "@jupyter-widgets/controls",
          "model_name": "HTMLModel",
          "model_module_version": "1.5.0",
          "state": {
            "_dom_classes": [],
            "_model_module": "@jupyter-widgets/controls",
            "_model_module_version": "1.5.0",
            "_model_name": "HTMLModel",
            "_view_count": null,
            "_view_module": "@jupyter-widgets/controls",
            "_view_module_version": "1.5.0",
            "_view_name": "HTMLView",
            "description": "",
            "description_tooltip": null,
            "layout": "IPY_MODEL_d53f64202f59406e8e6857a8cef64657",
            "placeholder": "​",
            "style": "IPY_MODEL_d7751f8e5cce49ffbfe2717bbec53898",
            "value": " 218M/218M [00:04&lt;00:00, 103MB/s]"
          }
        },
        "82cbf28eb8f344ec99013468e1fb201c": {
          "model_module": "@jupyter-widgets/base",
          "model_name": "LayoutModel",
          "model_module_version": "1.2.0",
          "state": {
            "_model_module": "@jupyter-widgets/base",
            "_model_module_version": "1.2.0",
            "_model_name": "LayoutModel",
            "_view_count": null,
            "_view_module": "@jupyter-widgets/base",
            "_view_module_version": "1.2.0",
            "_view_name": "LayoutView",
            "align_content": null,
            "align_items": null,
            "align_self": null,
            "border": null,
            "bottom": null,
            "display": null,
            "flex": null,
            "flex_flow": null,
            "grid_area": null,
            "grid_auto_columns": null,
            "grid_auto_flow": null,
            "grid_auto_rows": null,
            "grid_column": null,
            "grid_gap": null,
            "grid_row": null,
            "grid_template_areas": null,
            "grid_template_columns": null,
            "grid_template_rows": null,
            "height": null,
            "justify_content": null,
            "justify_items": null,
            "left": null,
            "margin": null,
            "max_height": null,
            "max_width": null,
            "min_height": null,
            "min_width": null,
            "object_fit": null,
            "object_position": null,
            "order": null,
            "overflow": null,
            "overflow_x": null,
            "overflow_y": null,
            "padding": null,
            "right": null,
            "top": null,
            "visibility": null,
            "width": null
          }
        },
        "3ebe6bc186294299b862c3f6cf839b7a": {
          "model_module": "@jupyter-widgets/base",
          "model_name": "LayoutModel",
          "model_module_version": "1.2.0",
          "state": {
            "_model_module": "@jupyter-widgets/base",
            "_model_module_version": "1.2.0",
            "_model_name": "LayoutModel",
            "_view_count": null,
            "_view_module": "@jupyter-widgets/base",
            "_view_module_version": "1.2.0",
            "_view_name": "LayoutView",
            "align_content": null,
            "align_items": null,
            "align_self": null,
            "border": null,
            "bottom": null,
            "display": null,
            "flex": null,
            "flex_flow": null,
            "grid_area": null,
            "grid_auto_columns": null,
            "grid_auto_flow": null,
            "grid_auto_rows": null,
            "grid_column": null,
            "grid_gap": null,
            "grid_row": null,
            "grid_template_areas": null,
            "grid_template_columns": null,
            "grid_template_rows": null,
            "height": null,
            "justify_content": null,
            "justify_items": null,
            "left": null,
            "margin": null,
            "max_height": null,
            "max_width": null,
            "min_height": null,
            "min_width": null,
            "object_fit": null,
            "object_position": null,
            "order": null,
            "overflow": null,
            "overflow_x": null,
            "overflow_y": null,
            "padding": null,
            "right": null,
            "top": null,
            "visibility": null,
            "width": null
          }
        },
        "4ac97154ed2a4236aadf7be457462572": {
          "model_module": "@jupyter-widgets/controls",
          "model_name": "DescriptionStyleModel",
          "model_module_version": "1.5.0",
          "state": {
            "_model_module": "@jupyter-widgets/controls",
            "_model_module_version": "1.5.0",
            "_model_name": "DescriptionStyleModel",
            "_view_count": null,
            "_view_module": "@jupyter-widgets/base",
            "_view_module_version": "1.2.0",
            "_view_name": "StyleView",
            "description_width": ""
          }
        },
        "75a2a326c3cd40b291b20cb4b8b1ad16": {
          "model_module": "@jupyter-widgets/base",
          "model_name": "LayoutModel",
          "model_module_version": "1.2.0",
          "state": {
            "_model_module": "@jupyter-widgets/base",
            "_model_module_version": "1.2.0",
            "_model_name": "LayoutModel",
            "_view_count": null,
            "_view_module": "@jupyter-widgets/base",
            "_view_module_version": "1.2.0",
            "_view_name": "LayoutView",
            "align_content": null,
            "align_items": null,
            "align_self": null,
            "border": null,
            "bottom": null,
            "display": null,
            "flex": null,
            "flex_flow": null,
            "grid_area": null,
            "grid_auto_columns": null,
            "grid_auto_flow": null,
            "grid_auto_rows": null,
            "grid_column": null,
            "grid_gap": null,
            "grid_row": null,
            "grid_template_areas": null,
            "grid_template_columns": null,
            "grid_template_rows": null,
            "height": null,
            "justify_content": null,
            "justify_items": null,
            "left": null,
            "margin": null,
            "max_height": null,
            "max_width": null,
            "min_height": null,
            "min_width": null,
            "object_fit": null,
            "object_position": null,
            "order": null,
            "overflow": null,
            "overflow_x": null,
            "overflow_y": null,
            "padding": null,
            "right": null,
            "top": null,
            "visibility": null,
            "width": null
          }
        },
        "b82b1c7c05e44be0be7897771a58be56": {
          "model_module": "@jupyter-widgets/controls",
          "model_name": "ProgressStyleModel",
          "model_module_version": "1.5.0",
          "state": {
            "_model_module": "@jupyter-widgets/controls",
            "_model_module_version": "1.5.0",
            "_model_name": "ProgressStyleModel",
            "_view_count": null,
            "_view_module": "@jupyter-widgets/base",
            "_view_module_version": "1.2.0",
            "_view_name": "StyleView",
            "bar_color": null,
            "description_width": ""
          }
        },
        "d53f64202f59406e8e6857a8cef64657": {
          "model_module": "@jupyter-widgets/base",
          "model_name": "LayoutModel",
          "model_module_version": "1.2.0",
          "state": {
            "_model_module": "@jupyter-widgets/base",
            "_model_module_version": "1.2.0",
            "_model_name": "LayoutModel",
            "_view_count": null,
            "_view_module": "@jupyter-widgets/base",
            "_view_module_version": "1.2.0",
            "_view_name": "LayoutView",
            "align_content": null,
            "align_items": null,
            "align_self": null,
            "border": null,
            "bottom": null,
            "display": null,
            "flex": null,
            "flex_flow": null,
            "grid_area": null,
            "grid_auto_columns": null,
            "grid_auto_flow": null,
            "grid_auto_rows": null,
            "grid_column": null,
            "grid_gap": null,
            "grid_row": null,
            "grid_template_areas": null,
            "grid_template_columns": null,
            "grid_template_rows": null,
            "height": null,
            "justify_content": null,
            "justify_items": null,
            "left": null,
            "margin": null,
            "max_height": null,
            "max_width": null,
            "min_height": null,
            "min_width": null,
            "object_fit": null,
            "object_position": null,
            "order": null,
            "overflow": null,
            "overflow_x": null,
            "overflow_y": null,
            "padding": null,
            "right": null,
            "top": null,
            "visibility": null,
            "width": null
          }
        },
        "d7751f8e5cce49ffbfe2717bbec53898": {
          "model_module": "@jupyter-widgets/controls",
          "model_name": "DescriptionStyleModel",
          "model_module_version": "1.5.0",
          "state": {
            "_model_module": "@jupyter-widgets/controls",
            "_model_module_version": "1.5.0",
            "_model_name": "DescriptionStyleModel",
            "_view_count": null,
            "_view_module": "@jupyter-widgets/base",
            "_view_module_version": "1.2.0",
            "_view_name": "StyleView",
            "description_width": ""
          }
        },
        "3d610c99920f46988211e66a861e509a": {
          "model_module": "@jupyter-widgets/controls",
          "model_name": "HBoxModel",
          "model_module_version": "1.5.0",
          "state": {
            "_dom_classes": [],
            "_model_module": "@jupyter-widgets/controls",
            "_model_module_version": "1.5.0",
            "_model_name": "HBoxModel",
            "_view_count": null,
            "_view_module": "@jupyter-widgets/controls",
            "_view_module_version": "1.5.0",
            "_view_name": "HBoxView",
            "box_style": "",
            "children": [
              "IPY_MODEL_902a647a3c2f4c2aac7e688a88ef941b",
              "IPY_MODEL_9ac98c6921f4413fa276bb530b2cebb9",
              "IPY_MODEL_4961aff666854b07bb4e91d357662a63"
            ],
            "layout": "IPY_MODEL_495ca13387184824bdf1b25e98441192"
          }
        },
        "902a647a3c2f4c2aac7e688a88ef941b": {
          "model_module": "@jupyter-widgets/controls",
          "model_name": "HTMLModel",
          "model_module_version": "1.5.0",
          "state": {
            "_dom_classes": [],
            "_model_module": "@jupyter-widgets/controls",
            "_model_module_version": "1.5.0",
            "_model_name": "HTMLModel",
            "_view_count": null,
            "_view_module": "@jupyter-widgets/controls",
            "_view_module_version": "1.5.0",
            "_view_name": "HTMLView",
            "description": "",
            "description_tooltip": null,
            "layout": "IPY_MODEL_0f64bd03913b4b7d980dcf9c1bcfa5b4",
            "placeholder": "​",
            "style": "IPY_MODEL_b47431e533a2471c918aed55f018eb40",
            "value": "tokenizer_config.json: 100%"
          }
        },
        "9ac98c6921f4413fa276bb530b2cebb9": {
          "model_module": "@jupyter-widgets/controls",
          "model_name": "FloatProgressModel",
          "model_module_version": "1.5.0",
          "state": {
            "_dom_classes": [],
            "_model_module": "@jupyter-widgets/controls",
            "_model_module_version": "1.5.0",
            "_model_name": "FloatProgressModel",
            "_view_count": null,
            "_view_module": "@jupyter-widgets/controls",
            "_view_module_version": "1.5.0",
            "_view_name": "ProgressView",
            "bar_style": "success",
            "description": "",
            "description_tooltip": null,
            "layout": "IPY_MODEL_29217cd278f348dc9be3e0b4b13afa4d",
            "max": 1242,
            "min": 0,
            "orientation": "horizontal",
            "style": "IPY_MODEL_4535a8d9dd9243249aa4e88a10bbddb0",
            "value": 1242
          }
        },
        "4961aff666854b07bb4e91d357662a63": {
          "model_module": "@jupyter-widgets/controls",
          "model_name": "HTMLModel",
          "model_module_version": "1.5.0",
          "state": {
            "_dom_classes": [],
            "_model_module": "@jupyter-widgets/controls",
            "_model_module_version": "1.5.0",
            "_model_name": "HTMLModel",
            "_view_count": null,
            "_view_module": "@jupyter-widgets/controls",
            "_view_module_version": "1.5.0",
            "_view_name": "HTMLView",
            "description": "",
            "description_tooltip": null,
            "layout": "IPY_MODEL_b12a3b8061524f098d41c8ddff2ac182",
            "placeholder": "​",
            "style": "IPY_MODEL_7c236d3a7312444f90b7efcd59330702",
            "value": " 1.24k/1.24k [00:00&lt;00:00, 28.6kB/s]"
          }
        },
        "495ca13387184824bdf1b25e98441192": {
          "model_module": "@jupyter-widgets/base",
          "model_name": "LayoutModel",
          "model_module_version": "1.2.0",
          "state": {
            "_model_module": "@jupyter-widgets/base",
            "_model_module_version": "1.2.0",
            "_model_name": "LayoutModel",
            "_view_count": null,
            "_view_module": "@jupyter-widgets/base",
            "_view_module_version": "1.2.0",
            "_view_name": "LayoutView",
            "align_content": null,
            "align_items": null,
            "align_self": null,
            "border": null,
            "bottom": null,
            "display": null,
            "flex": null,
            "flex_flow": null,
            "grid_area": null,
            "grid_auto_columns": null,
            "grid_auto_flow": null,
            "grid_auto_rows": null,
            "grid_column": null,
            "grid_gap": null,
            "grid_row": null,
            "grid_template_areas": null,
            "grid_template_columns": null,
            "grid_template_rows": null,
            "height": null,
            "justify_content": null,
            "justify_items": null,
            "left": null,
            "margin": null,
            "max_height": null,
            "max_width": null,
            "min_height": null,
            "min_width": null,
            "object_fit": null,
            "object_position": null,
            "order": null,
            "overflow": null,
            "overflow_x": null,
            "overflow_y": null,
            "padding": null,
            "right": null,
            "top": null,
            "visibility": null,
            "width": null
          }
        },
        "0f64bd03913b4b7d980dcf9c1bcfa5b4": {
          "model_module": "@jupyter-widgets/base",
          "model_name": "LayoutModel",
          "model_module_version": "1.2.0",
          "state": {
            "_model_module": "@jupyter-widgets/base",
            "_model_module_version": "1.2.0",
            "_model_name": "LayoutModel",
            "_view_count": null,
            "_view_module": "@jupyter-widgets/base",
            "_view_module_version": "1.2.0",
            "_view_name": "LayoutView",
            "align_content": null,
            "align_items": null,
            "align_self": null,
            "border": null,
            "bottom": null,
            "display": null,
            "flex": null,
            "flex_flow": null,
            "grid_area": null,
            "grid_auto_columns": null,
            "grid_auto_flow": null,
            "grid_auto_rows": null,
            "grid_column": null,
            "grid_gap": null,
            "grid_row": null,
            "grid_template_areas": null,
            "grid_template_columns": null,
            "grid_template_rows": null,
            "height": null,
            "justify_content": null,
            "justify_items": null,
            "left": null,
            "margin": null,
            "max_height": null,
            "max_width": null,
            "min_height": null,
            "min_width": null,
            "object_fit": null,
            "object_position": null,
            "order": null,
            "overflow": null,
            "overflow_x": null,
            "overflow_y": null,
            "padding": null,
            "right": null,
            "top": null,
            "visibility": null,
            "width": null
          }
        },
        "b47431e533a2471c918aed55f018eb40": {
          "model_module": "@jupyter-widgets/controls",
          "model_name": "DescriptionStyleModel",
          "model_module_version": "1.5.0",
          "state": {
            "_model_module": "@jupyter-widgets/controls",
            "_model_module_version": "1.5.0",
            "_model_name": "DescriptionStyleModel",
            "_view_count": null,
            "_view_module": "@jupyter-widgets/base",
            "_view_module_version": "1.2.0",
            "_view_name": "StyleView",
            "description_width": ""
          }
        },
        "29217cd278f348dc9be3e0b4b13afa4d": {
          "model_module": "@jupyter-widgets/base",
          "model_name": "LayoutModel",
          "model_module_version": "1.2.0",
          "state": {
            "_model_module": "@jupyter-widgets/base",
            "_model_module_version": "1.2.0",
            "_model_name": "LayoutModel",
            "_view_count": null,
            "_view_module": "@jupyter-widgets/base",
            "_view_module_version": "1.2.0",
            "_view_name": "LayoutView",
            "align_content": null,
            "align_items": null,
            "align_self": null,
            "border": null,
            "bottom": null,
            "display": null,
            "flex": null,
            "flex_flow": null,
            "grid_area": null,
            "grid_auto_columns": null,
            "grid_auto_flow": null,
            "grid_auto_rows": null,
            "grid_column": null,
            "grid_gap": null,
            "grid_row": null,
            "grid_template_areas": null,
            "grid_template_columns": null,
            "grid_template_rows": null,
            "height": null,
            "justify_content": null,
            "justify_items": null,
            "left": null,
            "margin": null,
            "max_height": null,
            "max_width": null,
            "min_height": null,
            "min_width": null,
            "object_fit": null,
            "object_position": null,
            "order": null,
            "overflow": null,
            "overflow_x": null,
            "overflow_y": null,
            "padding": null,
            "right": null,
            "top": null,
            "visibility": null,
            "width": null
          }
        },
        "4535a8d9dd9243249aa4e88a10bbddb0": {
          "model_module": "@jupyter-widgets/controls",
          "model_name": "ProgressStyleModel",
          "model_module_version": "1.5.0",
          "state": {
            "_model_module": "@jupyter-widgets/controls",
            "_model_module_version": "1.5.0",
            "_model_name": "ProgressStyleModel",
            "_view_count": null,
            "_view_module": "@jupyter-widgets/base",
            "_view_module_version": "1.2.0",
            "_view_name": "StyleView",
            "bar_color": null,
            "description_width": ""
          }
        },
        "b12a3b8061524f098d41c8ddff2ac182": {
          "model_module": "@jupyter-widgets/base",
          "model_name": "LayoutModel",
          "model_module_version": "1.2.0",
          "state": {
            "_model_module": "@jupyter-widgets/base",
            "_model_module_version": "1.2.0",
            "_model_name": "LayoutModel",
            "_view_count": null,
            "_view_module": "@jupyter-widgets/base",
            "_view_module_version": "1.2.0",
            "_view_name": "LayoutView",
            "align_content": null,
            "align_items": null,
            "align_self": null,
            "border": null,
            "bottom": null,
            "display": null,
            "flex": null,
            "flex_flow": null,
            "grid_area": null,
            "grid_auto_columns": null,
            "grid_auto_flow": null,
            "grid_auto_rows": null,
            "grid_column": null,
            "grid_gap": null,
            "grid_row": null,
            "grid_template_areas": null,
            "grid_template_columns": null,
            "grid_template_rows": null,
            "height": null,
            "justify_content": null,
            "justify_items": null,
            "left": null,
            "margin": null,
            "max_height": null,
            "max_width": null,
            "min_height": null,
            "min_width": null,
            "object_fit": null,
            "object_position": null,
            "order": null,
            "overflow": null,
            "overflow_x": null,
            "overflow_y": null,
            "padding": null,
            "right": null,
            "top": null,
            "visibility": null,
            "width": null
          }
        },
        "7c236d3a7312444f90b7efcd59330702": {
          "model_module": "@jupyter-widgets/controls",
          "model_name": "DescriptionStyleModel",
          "model_module_version": "1.5.0",
          "state": {
            "_model_module": "@jupyter-widgets/controls",
            "_model_module_version": "1.5.0",
            "_model_name": "DescriptionStyleModel",
            "_view_count": null,
            "_view_module": "@jupyter-widgets/base",
            "_view_module_version": "1.2.0",
            "_view_name": "StyleView",
            "description_width": ""
          }
        }
      }
    }
  },
  "cells": [
    {
      "cell_type": "markdown",
      "source": [
        "### **Step 1**"
      ],
      "metadata": {
        "id": "mTMUf-7GhIdo"
      }
    },
    {
      "cell_type": "markdown",
      "source": [
        "**1. Install Required Libraries**"
      ],
      "metadata": {
        "id": "MnLZkr9fhCsh"
      }
    },
    {
      "cell_type": "markdown",
      "source": [
        "Here is the list of all the required libraries and their versions. Make sure the libraries are installed with the given version as multiple libraries depend on one another. If you want to install the latest version, then make sure all the required libraries are compatible with each other."
      ],
      "metadata": {
        "id": "bK9Nw4J1BvpB"
      }
    },
    {
      "cell_type": "code",
      "execution_count": 1,
      "metadata": {
        "colab": {
          "base_uri": "https://localhost:8080/"
        },
        "id": "RGnLLHGhg2dF",
        "outputId": "fe278eeb-8024-47eb-f824-271147065efa"
      },
      "outputs": [
        {
          "output_type": "stream",
          "name": "stdout",
          "text": [
            "  Preparing metadata (setup.py) ... \u001b[?25l\u001b[?25hdone\n",
            "  Building wheel for langdetect (setup.py) ... \u001b[?25l\u001b[?25hdone\n",
            "\u001b[31mERROR: pip's dependency resolver does not currently take into account all the packages that are installed. This behaviour is the source of the following dependency conflicts.\n",
            "accelerate 0.34.2 requires huggingface-hub>=0.21.0, but you have huggingface-hub 0.20.3 which is incompatible.\n",
            "transformers 4.44.2 requires huggingface-hub<1.0,>=0.23.2, but you have huggingface-hub 0.20.3 which is incompatible.\n",
            "transformers 4.44.2 requires tokenizers<0.20,>=0.19, but you have tokenizers 0.15.2 which is incompatible.\u001b[0m\u001b[31m\n",
            "\u001b[0m  Installing build dependencies ... \u001b[?25l\u001b[?25hdone\n",
            "  Getting requirements to build wheel ... \u001b[?25l\u001b[?25hdone\n",
            "  Installing backend dependencies ... \u001b[?25l\u001b[?25hdone\n",
            "  Preparing metadata (pyproject.toml) ... \u001b[?25l\u001b[?25hdone\n",
            "  Building wheel for llama-cpp-python (pyproject.toml) ... \u001b[?25l\u001b[?25hdone\n",
            "\u001b[31mERROR: pip's dependency resolver does not currently take into account all the packages that are installed. This behaviour is the source of the following dependency conflicts.\n",
            "langchain-groq 0.1.3 requires langchain-core<0.2.0,>=0.1.45, but you have langchain-core 0.2.41 which is incompatible.\u001b[0m\u001b[31m\n",
            "\u001b[0m"
          ]
        }
      ],
      "source": [
        "!pip -qqq install pip --progress-bar off\n",
        "!pip -qqq install langchain-groq==0.1.3 --progress-bar off\n",
        "!pip -qqq install langchain==0.1.17 --progress-bar off\n",
        "!pip -qqq install llama-parse==0.1.3 --progress-bar off\n",
        "!pip -qqq install \"unstructured[md]\"==0.13.6 --progress-bar off\n",
        "!pip -qqq install fastembed==0.2.7 --progress-bar off\n",
        "!pip -qqq install flashrank==0.2.4 --progress-bar off\n",
        "!pip -qqq install faiss-cpu==1.8.0 --progress-bar off\n",
        "!pip -qqq install langchain-community==0.2.5 --progress-bar off"
      ]
    },
    {
      "cell_type": "markdown",
      "source": [
        "N.B.: Here the notification `Building wheel for llama-cpp-python (pyproject.toml)` should `done` as it allows to declare which build backend used and which other dependencies are needed to build for project."
      ],
      "metadata": {
        "id": "qyxa6v_7DZRx"
      }
    },
    {
      "cell_type": "markdown",
      "source": [
        "**2. Load Required Libraries**"
      ],
      "metadata": {
        "id": "zvuhfbochPdJ"
      }
    },
    {
      "cell_type": "code",
      "source": [
        "import os\n",
        "import textwrap\n",
        "from pathlib import Path\n",
        "\n",
        "from google.colab import userdata\n",
        "from IPython.display import Markdown\n",
        "from langchain.schema import Document\n",
        "from langchain.chains import RetrievalQA\n",
        "from langchain.prompts import PromptTemplate\n",
        "from langchain_community.vectorstores import FAISS\n",
        "from langchain.retrievers import ContextualCompressionRetriever\n",
        "from langchain.retrievers.document_compressors import FlashrankRerank\n",
        "from langchain.text_splitter import RecursiveCharacterTextSplitter\n",
        "from langchain_community.document_loaders import UnstructuredMarkdownLoader\n",
        "from langchain_community.embeddings.fastembed import FastEmbedEmbeddings\n",
        "from langchain_core.prompts import ChatPromptTemplate\n",
        "from langchain_groq import ChatGroq\n",
        "from llama_parse import LlamaParse"
      ],
      "metadata": {
        "id": "i_eWifRzhP0-"
      },
      "execution_count": 2,
      "outputs": []
    },
    {
      "cell_type": "code",
      "source": [
        "'''Connect all the SECRET KEY, stored in the vault'''\n",
        "from google.colab import userdata"
      ],
      "metadata": {
        "id": "CSP9iqIEhwk3"
      },
      "execution_count": 3,
      "outputs": []
    },
    {
      "cell_type": "markdown",
      "source": [
        "### **Step 2**"
      ],
      "metadata": {
        "id": "Vt2iN4qNhgGl"
      }
    },
    {
      "cell_type": "markdown",
      "source": [
        "**3. Set Up the File Path**"
      ],
      "metadata": {
        "id": "_jk1x22ghhw4"
      }
    },
    {
      "cell_type": "markdown",
      "source": [
        "Load and set up the file path"
      ],
      "metadata": {
        "id": "bJTNOoV9TiiZ"
      }
    },
    {
      "cell_type": "code",
      "source": [
        "file_path = \"/content/12587973.pdf\""
      ],
      "metadata": {
        "id": "z0eQWl1ihhSN"
      },
      "execution_count": 8,
      "outputs": []
    },
    {
      "cell_type": "markdown",
      "source": [
        "### **Step 3**"
      ],
      "metadata": {
        "id": "aTG23w9-hvCV"
      }
    },
    {
      "cell_type": "markdown",
      "source": [
        "**4. Document Parsing & Spliting**"
      ],
      "metadata": {
        "id": "dxlWSOgWhx-X"
      }
    },
    {
      "cell_type": "markdown",
      "source": [
        "**4.1 Required Parsing function loading...**"
      ],
      "metadata": {
        "id": "R6V0XR7HjBmA"
      }
    },
    {
      "cell_type": "markdown",
      "source": [
        "LlamaParse is a **GenAI-native document parser** that can parse complex document data for any downstream LLM use case (RAG, agents).\n",
        "\n",
        "It is really good at the following:\n",
        "\n",
        "- ✅ **Broad file type support**: Parsing a variety of unstructured file types (.pdf, .pptx, .docx, .xlsx, .html) with text, tables, visual elements, weird layouts, and more.\n",
        "- ✅ **Table recognition**: Parsing embedded tables accurately into text and semi-structured representations.\n",
        "- ✅ **Multimodal parsing and chunking**: Extracting visual elements (images/diagrams) into structured formats and return image chunks using the latest multimodal models.\n",
        "- ✅ **Custom parsing**: Input custom prompt instructions to customize the output the way you want it.\n",
        "\n",
        "LlamaParse directly integrates with [LlamaIndex](https://github.com/run-llama/llama_index).\n",
        "\n",
        "The free plan is up to 1000 pages a day. Paid plan is free 7k pages per week + 0.3c per additional page by default. There is a sandbox available to test the API [**https://cloud.llamaindex.ai/parse ↗**](https://cloud.llamaindex.ai/parse).\n",
        "\n",
        "Read below for some quickstart information, or see the [full documentation](https://docs.cloud.llamaindex.ai/).\n",
        "\n",
        "If you're a company interested in enterprise RAG solutions, and/or high volume/on-prem usage of LlamaParse, come [talk to us](https://www.llamaindex.ai/contact)."
      ],
      "metadata": {
        "id": "skdXGhd8NBbL"
      }
    },
    {
      "cell_type": "code",
      "source": [
        "LLAMA_PARSE_API_KEY = userdata.get(\"LLAMA_PARSE_API_KEY\")\n",
        "\n",
        "parsing_instruction = f\"\"\"The provided document is resume for job application and many more.\n",
        "Try to be precise while answering the questions.\"\"\"\n",
        "\n",
        "parser = LlamaParse(\n",
        "    api_key = LLAMA_PARSE_API_KEY, ## LlamaParse API key\n",
        "    result_type = \"markdown\", ## Type of parsing for showcase\n",
        "    parsing_instruction = parsing_instruction, ## Additional instruction about document\n",
        ")"
      ],
      "metadata": {
        "id": "nDAKOCfaiIWZ"
      },
      "execution_count": 9,
      "outputs": []
    },
    {
      "cell_type": "markdown",
      "source": [
        "**4.2 Load & View Document**"
      ],
      "metadata": {
        "id": "CjCh2Mxtj4xp"
      }
    },
    {
      "cell_type": "markdown",
      "source": [
        "Loading the documents or information to be utilized through llamaparse."
      ],
      "metadata": {
        "id": "1SVIEswcOF_S"
      }
    },
    {
      "cell_type": "code",
      "source": [
        "llama_parse_documents = await parser.aload_data(file_path)\n",
        "print(llama_parse_documents)"
      ],
      "metadata": {
        "colab": {
          "base_uri": "https://localhost:8080/"
        },
        "id": "hhlgGR0qj9Cu",
        "outputId": "3c8a35da-817b-4270-fad5-dc7aaebee270"
      },
      "execution_count": 10,
      "outputs": [
        {
          "output_type": "stream",
          "name": "stdout",
          "text": [
            "Started parsing the file under job_id 53ec93c0-dcbe-42c6-84c3-4392ef5d7780\n",
            "[Document(id_='3b7cee72-2988-4846-83fb-5b72b5879c01', embedding=None, metadata={'file_path': '/content/12587973.pdf'}, excluded_embed_metadata_keys=[], excluded_llm_metadata_keys=[], relationships={}, text='# SUBSTITUTE TEACHER\\n\\n# Summary\\n\\nReceiving an education on Psychology and pursuing my teaching certification has been the best professional accomplishment I have achieved. The teaching in the absence of the teacher helped me understand that I have a background to implement the strategist teach.\\n\\nSales Manager successful in relationship and team building. Motivates sales teams to exceed sales goals with a track record of consistently achieving employee retention, skilled in leading teams to set record-high sales figures, expand existing territories and develop new accounts. Achieve record-setting revenue gains. Talented, effective at multi-tasking and reaching sales targets. Builds loyalty and long-term relationships with customers.\\n\\nBusiness development executive experienced in all aspects of sales and marketing, contract negotiation and account management. Driven professional who effectively builds loyalty and long-term relationships with customers while consistently exceeding sales targets.\\n\\n# Accomplishments\\n\\n8620 Spectrum Center Blvd.\\nSan Diego, CA 92123\\n\\n- Attentive Sales Manager with a track record of consistently achieving employee retention and sales goals.\\n- 8 years in sales, customer service and personnel and payroll management.\\n- Driven to exceed goals and expectations.\\n- Talented sales professional effective at multi-tasking and reaching sales targets.\\n- Builds loyalty and long-term relationships with customers.\\n\\n# Experience\\n\\n# Substitute Teacher\\n\\n01/2016 to Current\\nCompany Name\\n\\n- Manage classrooms, and help children throughout the day, by assessing the lesson of the day.\\n- Maintaining discipline in the classroom.\\n\\n# Company Name\\n\\n10/2011 to 01/2017\\nCity, State\\n\\n- Advised prospective employees on various tips and tricks that would assist them in gaining employment in the organization.\\n- Implement effective HR policies to ensure all practices are following labor and employment regulations.\\n- Increased employee retention above 90% by rigorously maintaining a positive work environment.\\n- Develop targeted outreach recruitment programs to recruit more minorities and meet affirmative action requirements.\\n- Created a website with an embedded database and FTP functionality to enable online recruitment for the organization and reducing recruitment costs by 10%.\\n- Develop user-friendly application forms and questionnaires to be used by the organization during staff recruitment and interviewing.\\n- Arbitrate labor disputes in collaboration with the legal department.\\n\\n# Operations Sales Manager\\n\\n09/2008 to 10/2011\\nCompany Name\\nCity, State\\n\\n- Established operational objectives and work plans and delegated assignments to subordinate managers.\\n- Supervised a team of 15 area managers and 35 associates.\\n- Developed executive presentations and reports to facilitate project evaluation and process improvement.\\n- Directed planning, budgeting, vendor selection and quality assurance efforts.\\n- Defined clear targets and objectives and communicated them to other team members.\\n- Reviewed sales, customer concerns and new opportunities to drive business strategy at weekly planning sessions.\\n- Assessed vendor products and maintained positive vendor relations.\\n- Supported the sales team in writing proposals and closing contracts.\\n- Developed quarterly and annual sales department budgets.\\n- Developed a comprehensive training program for new sales associates.\\n- Reviewed operational records and reports to project sales and determine profitability.\\n- Trained all incoming sales team members.\\n- Maintained knowledge of current sales and promotions, policies regarding payment and exchanges and security practices.\\n\\n# Insurance Agent\\n\\n08/2005 to 08/2008\\nFred Loya Insurance - Eagle Pass TX 78852\\n\\n- Met with existing and prospective clients each week to select appropriate insurance policies.\\n- Calculated quotes and educated potential clients on insurance options.\\n- Tracked the progress of all outstanding insurance claims.\\n- Calculated premiums and established payment methods for sales.\\n- Identified and solicited sales prospects in agency databases.\\n- Evaluated leads obtained through direct referrals, lead databases and cold calling.\\n- Modeled exceptional customer service skills and appropriate diagnostic sales techniques.\\n- Collected all premiums on or before effective date of coverage.\\n- Contributed ideas and offered constructive feedback at weekly sales and training meetings.\\n\\n# Education and Training\\n\\nHigh School Diploma\\n2000\\nEagle Pass High School\\nCity, State\\n\\nAssociate of Science\\n---\\n# MEDICAL 2009 KAPLAN UNIVERSITY\\n\\n# City, State\\n\\n# Bachelor of Arts: Psychology minor on Child Development\\n\\n# 2017 Psychology Child Development\\n\\n# Languages\\n\\nFluent in English and Spanish\\n\\n# Skills\\n\\n- agency\\n- budgeting\\n- budgets\\n- business strategy\\n- closing\\n- cold calling\\n- interpersonal\\n- communication skills\\n- Excellent Communication\\n- oral\\n- contracts\\n- Critical thinking\\n- clients\\n- Client Relations\\n- Customer Service\\n- customer service skills\\n- databases\\n- database\\n- Fluent in English\\n- forms\\n- FTP\\n- HR\\n- Insurance\\n- Leadership\\n- legal\\n- Marketing\\n- meetings\\n- Mergers and acquisitions\\n- Works\\n- organizational\\n- policies\\n- executive presentations\\n- Problem Solver\\n- process improvement\\n- progress\\n- proposals\\n- quality assurance\\n- recruitment\\n- sales\\n- sales and training\\n- Spanish\\n- Strategic marketing\\n- supervision\\n- Time management\\n- vendor relations\\n- website\\n- written', start_char_idx=None, end_char_idx=None, text_template='{metadata_str}\\n\\n{content}', metadata_template='{key}: {value}', metadata_seperator='\\n')]\n"
          ]
        }
      ]
    },
    {
      "cell_type": "code",
      "source": [
        "parsed_doc = llama_parse_documents[0]\n",
        "print(parsed_doc)"
      ],
      "metadata": {
        "colab": {
          "base_uri": "https://localhost:8080/"
        },
        "id": "NJWm3WmbkAuT",
        "outputId": "27c0845c-99a1-4c6a-c53a-b43d4c79896e"
      },
      "execution_count": 11,
      "outputs": [
        {
          "output_type": "stream",
          "name": "stdout",
          "text": [
            "Doc ID: 3b7cee72-2988-4846-83fb-5b72b5879c01\n",
            "Text: # SUBSTITUTE TEACHER  # Summary  Receiving an education on\n",
            "Psychology and pursuing my teaching certification has been the best\n",
            "professional accomplishment I have achieved. The teaching in the\n",
            "absence of the teacher helped me understand that I have a background\n",
            "to implement the strategist teach.  Sales Manager successful in\n",
            "relationship and team ...\n"
          ]
        }
      ]
    },
    {
      "cell_type": "code",
      "source": [
        "print(parsed_doc.id_)"
      ],
      "metadata": {
        "id": "7I3nyPJxFMWW",
        "colab": {
          "base_uri": "https://localhost:8080/"
        },
        "outputId": "ff7384ed-488f-47a5-942f-00c2cbf60e44"
      },
      "execution_count": 12,
      "outputs": [
        {
          "output_type": "stream",
          "name": "stdout",
          "text": [
            "3b7cee72-2988-4846-83fb-5b72b5879c01\n"
          ]
        }
      ]
    },
    {
      "cell_type": "code",
      "source": [
        "from IPython.display import Markdown\n",
        "Markdown(parsed_doc.text)"
      ],
      "metadata": {
        "colab": {
          "base_uri": "https://localhost:8080/",
          "height": 1000
        },
        "id": "oSisQS1FkthH",
        "outputId": "2b34a2eb-9c6e-4b11-95dd-c4386bf2df6d"
      },
      "execution_count": 13,
      "outputs": [
        {
          "output_type": "execute_result",
          "data": {
            "text/plain": [
              "<IPython.core.display.Markdown object>"
            ],
            "text/markdown": "# SUBSTITUTE TEACHER\n\n# Summary\n\nReceiving an education on Psychology and pursuing my teaching certification has been the best professional accomplishment I have achieved. The teaching in the absence of the teacher helped me understand that I have a background to implement the strategist teach.\n\nSales Manager successful in relationship and team building. Motivates sales teams to exceed sales goals with a track record of consistently achieving employee retention, skilled in leading teams to set record-high sales figures, expand existing territories and develop new accounts. Achieve record-setting revenue gains. Talented, effective at multi-tasking and reaching sales targets. Builds loyalty and long-term relationships with customers.\n\nBusiness development executive experienced in all aspects of sales and marketing, contract negotiation and account management. Driven professional who effectively builds loyalty and long-term relationships with customers while consistently exceeding sales targets.\n\n# Accomplishments\n\n8620 Spectrum Center Blvd.\nSan Diego, CA 92123\n\n- Attentive Sales Manager with a track record of consistently achieving employee retention and sales goals.\n- 8 years in sales, customer service and personnel and payroll management.\n- Driven to exceed goals and expectations.\n- Talented sales professional effective at multi-tasking and reaching sales targets.\n- Builds loyalty and long-term relationships with customers.\n\n# Experience\n\n# Substitute Teacher\n\n01/2016 to Current\nCompany Name\n\n- Manage classrooms, and help children throughout the day, by assessing the lesson of the day.\n- Maintaining discipline in the classroom.\n\n# Company Name\n\n10/2011 to 01/2017\nCity, State\n\n- Advised prospective employees on various tips and tricks that would assist them in gaining employment in the organization.\n- Implement effective HR policies to ensure all practices are following labor and employment regulations.\n- Increased employee retention above 90% by rigorously maintaining a positive work environment.\n- Develop targeted outreach recruitment programs to recruit more minorities and meet affirmative action requirements.\n- Created a website with an embedded database and FTP functionality to enable online recruitment for the organization and reducing recruitment costs by 10%.\n- Develop user-friendly application forms and questionnaires to be used by the organization during staff recruitment and interviewing.\n- Arbitrate labor disputes in collaboration with the legal department.\n\n# Operations Sales Manager\n\n09/2008 to 10/2011\nCompany Name\nCity, State\n\n- Established operational objectives and work plans and delegated assignments to subordinate managers.\n- Supervised a team of 15 area managers and 35 associates.\n- Developed executive presentations and reports to facilitate project evaluation and process improvement.\n- Directed planning, budgeting, vendor selection and quality assurance efforts.\n- Defined clear targets and objectives and communicated them to other team members.\n- Reviewed sales, customer concerns and new opportunities to drive business strategy at weekly planning sessions.\n- Assessed vendor products and maintained positive vendor relations.\n- Supported the sales team in writing proposals and closing contracts.\n- Developed quarterly and annual sales department budgets.\n- Developed a comprehensive training program for new sales associates.\n- Reviewed operational records and reports to project sales and determine profitability.\n- Trained all incoming sales team members.\n- Maintained knowledge of current sales and promotions, policies regarding payment and exchanges and security practices.\n\n# Insurance Agent\n\n08/2005 to 08/2008\nFred Loya Insurance - Eagle Pass TX 78852\n\n- Met with existing and prospective clients each week to select appropriate insurance policies.\n- Calculated quotes and educated potential clients on insurance options.\n- Tracked the progress of all outstanding insurance claims.\n- Calculated premiums and established payment methods for sales.\n- Identified and solicited sales prospects in agency databases.\n- Evaluated leads obtained through direct referrals, lead databases and cold calling.\n- Modeled exceptional customer service skills and appropriate diagnostic sales techniques.\n- Collected all premiums on or before effective date of coverage.\n- Contributed ideas and offered constructive feedback at weekly sales and training meetings.\n\n# Education and Training\n\nHigh School Diploma\n2000\nEagle Pass High School\nCity, State\n\nAssociate of Science\n---\n# MEDICAL 2009 KAPLAN UNIVERSITY\n\n# City, State\n\n# Bachelor of Arts: Psychology minor on Child Development\n\n# 2017 Psychology Child Development\n\n# Languages\n\nFluent in English and Spanish\n\n# Skills\n\n- agency\n- budgeting\n- budgets\n- business strategy\n- closing\n- cold calling\n- interpersonal\n- communication skills\n- Excellent Communication\n- oral\n- contracts\n- Critical thinking\n- clients\n- Client Relations\n- Customer Service\n- customer service skills\n- databases\n- database\n- Fluent in English\n- forms\n- FTP\n- HR\n- Insurance\n- Leadership\n- legal\n- Marketing\n- meetings\n- Mergers and acquisitions\n- Works\n- organizational\n- policies\n- executive presentations\n- Problem Solver\n- process improvement\n- progress\n- proposals\n- quality assurance\n- recruitment\n- sales\n- sales and training\n- Spanish\n- Strategic marketing\n- supervision\n- Time management\n- vendor relations\n- website\n- written"
          },
          "metadata": {},
          "execution_count": 13
        }
      ]
    },
    {
      "cell_type": "markdown",
      "source": [
        "**4.3 Load the Unstructured Data**"
      ],
      "metadata": {
        "id": "0AHrw2SnkKQY"
      }
    },
    {
      "cell_type": "markdown",
      "source": [
        "**4.3.1 Process 1**"
      ],
      "metadata": {
        "id": "jX1KBZNtkT1a"
      }
    },
    {
      "cell_type": "markdown",
      "source": [
        "We passing the document information through `UnstructuredMarkdownLoader` and storing our local system.\n",
        "\n",
        "The `UnstructuredMarkdownLoader` is a powerful tool within the LangChain ecosystem designed to facilitate the loading of Markdown documents into a structured format suitable for downstream processing. This loader is particularly useful for developers and data scientists who work with Markdown files, allowing them to seamlessly integrate these documents into their applications."
      ],
      "metadata": {
        "id": "KJjXXI89SyNC"
      }
    },
    {
      "cell_type": "code",
      "source": [
        "## Process - 1\n",
        "# document_path = Path(\"parsed_document.md\")\n",
        "# with document_path.open(\"a\") as f:\n",
        "#     f.write(parsed_doc.text)\n",
        "# loader = UnstructuredMarkdownLoader(document_path)\n",
        "# loaded_documents = loader.load()"
      ],
      "metadata": {
        "id": "1w__arKkkWzs"
      },
      "execution_count": 14,
      "outputs": []
    },
    {
      "cell_type": "code",
      "source": [
        "# from pathlib import PosixPath\n",
        "# PosixPath('parsed_document.md')"
      ],
      "metadata": {
        "id": "r04CYSH8k0mf"
      },
      "execution_count": 15,
      "outputs": []
    },
    {
      "cell_type": "markdown",
      "source": [
        "**4.3.2 Process 2**"
      ],
      "metadata": {
        "id": "qI2doFskkZCZ"
      }
    },
    {
      "cell_type": "markdown",
      "source": [
        "This involves importing all the documents or information to be utilized."
      ],
      "metadata": {
        "id": "ieCJws0aOVYf"
      }
    },
    {
      "cell_type": "code",
      "source": [
        "## Process - 2\n",
        "loaded_documents = Document(page_content = parsed_doc.text,\n",
        "                            metadata={\"source\": \"This is a resume for job application.\"})\n",
        "loaded_documents = [loaded_documents]"
      ],
      "metadata": {
        "id": "vpoRPgFaj1In"
      },
      "execution_count": 16,
      "outputs": []
    },
    {
      "cell_type": "markdown",
      "source": [
        "**4.4 Split the Document**"
      ],
      "metadata": {
        "id": "P7HgKLBYkgSI"
      }
    },
    {
      "cell_type": "markdown",
      "source": [
        "Large documents are divided into smaller pieces, for instance, sections of no more than 2000 characters each with 400 overlap."
      ],
      "metadata": {
        "id": "mwMAUcseOkXK"
      }
    },
    {
      "cell_type": "code",
      "source": [
        "text_splitter = RecursiveCharacterTextSplitter(chunk_size = 2000, chunk_overlap = 400)\n",
        "docs = text_splitter.split_documents(loaded_documents)"
      ],
      "metadata": {
        "id": "P-mFPN0ZkdV9"
      },
      "execution_count": 17,
      "outputs": []
    },
    {
      "cell_type": "markdown",
      "source": [
        "### **Step 4**"
      ],
      "metadata": {
        "id": "R9QcIWmklKOy"
      }
    },
    {
      "cell_type": "markdown",
      "source": [
        "**5. Vector Embeddings and Indexing**"
      ],
      "metadata": {
        "id": "RZ7EBhuelL4d"
      }
    },
    {
      "cell_type": "markdown",
      "source": [
        "The data is converted into vector form using an embedding model, making it understandable for computers. For this project, `FastEmbedEmbeddings` model have been used."
      ],
      "metadata": {
        "id": "tcZ5kevgOuKf"
      }
    },
    {
      "cell_type": "code",
      "source": [
        "HF_TOKEN = userdata.get(\"HF_TOKEN\")\n",
        "embeddings = FastEmbedEmbeddings(model_name=\"BAAI/bge-base-en-v1.5\")"
      ],
      "metadata": {
        "colab": {
          "base_uri": "https://localhost:8080/",
          "height": 209,
          "referenced_widgets": [
            "34893bbe01b44a21a981a512fff9b09f",
            "ce3dc42d48304600a373a6177d91f70b",
            "f849529a27c54c2fb4378ae8f2de4c50",
            "e49f6b9d23254ad09ba5fc8961fcd0ed",
            "e0f7f43eff324123974274949df026ce",
            "58bf9b245e8b485b98ce1757db379151",
            "b4ff777095674bb19766b9270ab6cd50",
            "0ed62774445f4d41acb7d52954e1216f",
            "79ff7b44725b44ec81d94bd187dc8b65",
            "972fc2a1df23430f8615c18a01af03a5",
            "1056c1c6f5d041c9862ed2f3e3fc6494",
            "dd0cd68f85944381a147810832a1dff9",
            "025c28766a334400b07063a97522a0a5",
            "df299b3458ad4de58a9bb45a523a79fe",
            "20e83554348746a2a6da75d60ef60701",
            "cd9f5299d51e4dffaa6685a455e84519",
            "111ed81f54f545fea6fdacab16c0f158",
            "35d99d524a9c48c6bd37237629030c3c",
            "ee54e955c8e147f29e353ba93461aa1e",
            "aec0bdb5295648a5b00f20a935934832",
            "c075603a33434a9a8d96755fcbe80617",
            "ca25264f5498492db5dd70afe7688a20",
            "b0c2a02432b043a4aa4652a0118de447",
            "174d7c80877543b18a45ac7fbe02653a",
            "fe734dea622649beaafb590f922cff18",
            "7443280109ab437c8158f014673556fd",
            "0627966c417a467591a46a1299d9d31a",
            "c19ed1e01a12494fb7117dc6579ecf09",
            "6b44a33d9b514d499bbeac817a798536",
            "6c65907023384bbf92fbbe59664d00f7",
            "caaaf601275249f68cbaf36575d032eb",
            "8f2945c7f8d24502b4b29ca6db51114f",
            "77ed4c494c7c4adbb624c6e3892fcdf9",
            "c8361c12c9f24da1b439b4a0270c3012",
            "656a09d6e06244ecb4f9195b92e88485",
            "400bccea3dbc4b318e7717c6a5b02202",
            "fac8e0abb6114d3bbafe31912d810281",
            "b1a764c2a6264fed99970e8832fbc72f",
            "3bfd3d18271b4647ade1464b458bef8e",
            "19ad5e2c5f7c4829aad914db2ffe8438",
            "d0d30736c16a446a8634cab886b47a71",
            "06fb7ea6235244239db47b5cb882d216",
            "94f2d333055f4b51b6d2f0152d35380b",
            "00314e8dbfa84d2a8907b0c0bab4923c",
            "1f0f335bacf24c29a70686cd9630cadc",
            "c8e05530346b4e4abae3d0ed514545f9",
            "f956a4fb0337466baf60a2d1e3876e8f",
            "bc129a8372644ca0bc0c544fbb6f0103",
            "82cbf28eb8f344ec99013468e1fb201c",
            "3ebe6bc186294299b862c3f6cf839b7a",
            "4ac97154ed2a4236aadf7be457462572",
            "75a2a326c3cd40b291b20cb4b8b1ad16",
            "b82b1c7c05e44be0be7897771a58be56",
            "d53f64202f59406e8e6857a8cef64657",
            "d7751f8e5cce49ffbfe2717bbec53898",
            "3d610c99920f46988211e66a861e509a",
            "902a647a3c2f4c2aac7e688a88ef941b",
            "9ac98c6921f4413fa276bb530b2cebb9",
            "4961aff666854b07bb4e91d357662a63",
            "495ca13387184824bdf1b25e98441192",
            "0f64bd03913b4b7d980dcf9c1bcfa5b4",
            "b47431e533a2471c918aed55f018eb40",
            "29217cd278f348dc9be3e0b4b13afa4d",
            "4535a8d9dd9243249aa4e88a10bbddb0",
            "b12a3b8061524f098d41c8ddff2ac182",
            "7c236d3a7312444f90b7efcd59330702"
          ]
        },
        "id": "hh24UuRLlLVI",
        "outputId": "b42467ae-be1b-4376-e051-eb2e0188fdfb"
      },
      "execution_count": 18,
      "outputs": [
        {
          "output_type": "display_data",
          "data": {
            "text/plain": [
              "Fetching 5 files:   0%|          | 0/5 [00:00<?, ?it/s]"
            ],
            "application/vnd.jupyter.widget-view+json": {
              "version_major": 2,
              "version_minor": 0,
              "model_id": "34893bbe01b44a21a981a512fff9b09f"
            }
          },
          "metadata": {}
        },
        {
          "output_type": "display_data",
          "data": {
            "text/plain": [
              "config.json:   0%|          | 0.00/740 [00:00<?, ?B/s]"
            ],
            "application/vnd.jupyter.widget-view+json": {
              "version_major": 2,
              "version_minor": 0,
              "model_id": "dd0cd68f85944381a147810832a1dff9"
            }
          },
          "metadata": {}
        },
        {
          "output_type": "display_data",
          "data": {
            "text/plain": [
              "special_tokens_map.json:   0%|          | 0.00/695 [00:00<?, ?B/s]"
            ],
            "application/vnd.jupyter.widget-view+json": {
              "version_major": 2,
              "version_minor": 0,
              "model_id": "b0c2a02432b043a4aa4652a0118de447"
            }
          },
          "metadata": {}
        },
        {
          "output_type": "display_data",
          "data": {
            "text/plain": [
              "tokenizer.json:   0%|          | 0.00/711k [00:00<?, ?B/s]"
            ],
            "application/vnd.jupyter.widget-view+json": {
              "version_major": 2,
              "version_minor": 0,
              "model_id": "c8361c12c9f24da1b439b4a0270c3012"
            }
          },
          "metadata": {}
        },
        {
          "output_type": "display_data",
          "data": {
            "text/plain": [
              "model_optimized.onnx:   0%|          | 0.00/218M [00:00<?, ?B/s]"
            ],
            "application/vnd.jupyter.widget-view+json": {
              "version_major": 2,
              "version_minor": 0,
              "model_id": "1f0f335bacf24c29a70686cd9630cadc"
            }
          },
          "metadata": {}
        },
        {
          "output_type": "display_data",
          "data": {
            "text/plain": [
              "tokenizer_config.json:   0%|          | 0.00/1.24k [00:00<?, ?B/s]"
            ],
            "application/vnd.jupyter.widget-view+json": {
              "version_major": 2,
              "version_minor": 0,
              "model_id": "3d610c99920f46988211e66a861e509a"
            }
          },
          "metadata": {}
        }
      ]
    },
    {
      "cell_type": "markdown",
      "source": [
        "These vector embeddings are saved in a vector database, allowing them to be easily searched.\n",
        "\n",
        "[FAISS [Facebook AI Similarity Search]](https://engineering.fb.com/2017/03/29/data-infrastructure/faiss-a-library-for-efficient-similarity-search/), a free & open-source library for efficient similarity search and clustering of dense vectors."
      ],
      "metadata": {
        "id": "2SVQ7tBgO-Io"
      }
    },
    {
      "cell_type": "code",
      "source": [
        "database = FAISS.from_documents(docs, embeddings)"
      ],
      "metadata": {
        "id": "Xn_imxw7O4_f"
      },
      "execution_count": 19,
      "outputs": []
    },
    {
      "cell_type": "markdown",
      "source": [
        "**Retrieval:**   \n",
        "\n",
        "When a user asks a question:\n",
        "\n",
        "\n",
        "*   The user’s input is first transformed into a vector (query vector) using the same embedding model from the Data Indexing phase.\n",
        "*   This query vector is then matched against all vectors in the vector database to find the most similar ones (e.g., using the Euclidean distance metric) that might contain the answer to the user’s question. This step is about identifying relevant knowledge chunks.\n",
        "\n"
      ],
      "metadata": {
        "id": "vuJg-z9HPdp3"
      }
    },
    {
      "cell_type": "markdown",
      "source": [
        "**6. Load Retriever**"
      ],
      "metadata": {
        "id": "f6or7pPJlX3J"
      }
    },
    {
      "cell_type": "markdown",
      "source": [
        "Here, we are setting up the retriever technique with maximum top 5 similar phrase with user query would be fetch."
      ],
      "metadata": {
        "id": "FSIIWOiXPyv7"
      }
    },
    {
      "cell_type": "code",
      "source": [
        "retriever = database.as_retriever(search_kwargs={\"k\": 5})"
      ],
      "metadata": {
        "id": "CWxxi8RFlWoG"
      },
      "execution_count": 20,
      "outputs": []
    },
    {
      "cell_type": "markdown",
      "source": [
        "###**(Optional) Step 5**"
      ],
      "metadata": {
        "id": "AmGFIwCmlruX"
      }
    },
    {
      "cell_type": "markdown",
      "source": [
        "**7. Apply ReRanker**"
      ],
      "metadata": {
        "id": "jMwG-kxBlhV6"
      }
    },
    {
      "cell_type": "markdown",
      "source": [
        "[FlashRank](https://github.com/PrithivirajDamodaran/FlashRank) is the Ultra-lite & Super-fast Python library to add re-ranking to your existing search & retrieval pipelines. It is based on SoTA cross-encoders, with gratitude to all the model owners."
      ],
      "metadata": {
        "id": "NGwpQfYTQS5y"
      }
    },
    {
      "cell_type": "code",
      "source": [
        "# compressor = FlashrankRerank(model=\"ms-marco-MiniLM-L-12-v2\")\n",
        "# compression_retriever = ContextualCompressionRetriever(\n",
        "#     base_compressor = compressor, base_retriever = retriever\n",
        "# )\n",
        "compression_retriever = retriever"
      ],
      "metadata": {
        "id": "WzpvpGNyljSh"
      },
      "execution_count": 21,
      "outputs": []
    },
    {
      "cell_type": "markdown",
      "source": [
        "### **Step 6**"
      ],
      "metadata": {
        "id": "DfrvqXqwlwvG"
      }
    },
    {
      "cell_type": "markdown",
      "source": [
        "**8. Load Large Language Model**"
      ],
      "metadata": {
        "id": "sZ7Ckm3Al2Sv"
      }
    },
    {
      "cell_type": "markdown",
      "source": [
        "Setting up the base LLM, `Llama3-70b` model via. [Groq](https://groq.com/) for retrieval process."
      ],
      "metadata": {
        "id": "ftfK7fQAQbHr"
      }
    },
    {
      "cell_type": "code",
      "source": [
        "GROQ_API_KEY = userdata.get(\"GROQ_API_KEY\")\n",
        "llm = ChatGroq(temperature = 0,\n",
        "               model_name = \"llama3-70b-8192\",\n",
        "               groq_api_key = GROQ_API_KEY,\n",
        "               max_tokens = 3024)"
      ],
      "metadata": {
        "id": "_FOTcimslzLq"
      },
      "execution_count": 22,
      "outputs": []
    },
    {
      "cell_type": "code",
      "source": [
        "'''Testing the base model'''\n",
        "\n",
        "test_llm = llm.invoke(\"2+2?\").content\n",
        "Markdown(test_llm)"
      ],
      "metadata": {
        "colab": {
          "base_uri": "https://localhost:8080/",
          "height": 46
        },
        "id": "WAAtF091pLgK",
        "outputId": "bfb47e9e-df0e-4289-d628-80e1adbc6ce4"
      },
      "execution_count": 23,
      "outputs": [
        {
          "output_type": "execute_result",
          "data": {
            "text/plain": [
              "<IPython.core.display.Markdown object>"
            ],
            "text/markdown": "The answer to 2+2 is 4."
          },
          "metadata": {},
          "execution_count": 23
        }
      ]
    },
    {
      "cell_type": "markdown",
      "source": [
        "Setting up the ground instruction as system prompt for LLM."
      ],
      "metadata": {
        "id": "RRDgZ9sGQ3HH"
      }
    },
    {
      "cell_type": "code",
      "source": [
        "prompt_template = \"\"\"\n",
        "Use the following pieces of information to answer the user's question.\n",
        "If you don't know the answer, just say that you don't know, don't try to make up an answer.\n",
        "\n",
        "Context: {context}\n",
        "Question: {question}\n",
        "\n",
        "Answer the question and provide additional helpful information,\n",
        "based on the pieces of information, if applicable. Be succinct.\n",
        "\n",
        "Responses should be properly formatted to be easily read.\n",
        "\"\"\"\n",
        "\n",
        "prompt = PromptTemplate(template = prompt_template,\n",
        "                        input_variables = [\"context\", \"question\"])"
      ],
      "metadata": {
        "id": "20e6AkGLmABD"
      },
      "execution_count": 24,
      "outputs": []
    },
    {
      "cell_type": "markdown",
      "source": [
        "###**(Final) Step 7**"
      ],
      "metadata": {
        "id": "afOmA4m7mDnb"
      }
    },
    {
      "cell_type": "markdown",
      "source": [
        "**9. Start Question-Answering with Large Language Model for the Provided Document**"
      ],
      "metadata": {
        "id": "0FUScBjsmL7W"
      }
    },
    {
      "cell_type": "markdown",
      "source": [
        "Combining all the parts i.e. LLM, retriever, system prompt for generating response for user's query."
      ],
      "metadata": {
        "id": "kGTqXJA-Rm4Y"
      }
    },
    {
      "cell_type": "code",
      "source": [
        "qa = RetrievalQA.from_chain_type(\n",
        "    llm = llm,\n",
        "    chain_type = \"stuff\",\n",
        "    retriever = compression_retriever,\n",
        "    return_source_documents = True,\n",
        "    chain_type_kwargs = {\"prompt\" : prompt, \"verbose\" : False},\n",
        ")"
      ],
      "metadata": {
        "id": "5PVDRW73mHpq"
      },
      "execution_count": 36,
      "outputs": []
    },
    {
      "cell_type": "markdown",
      "source": [
        "**9.1 Query 1**"
      ],
      "metadata": {
        "id": "KpJdwcCGMEjd"
      }
    },
    {
      "cell_type": "markdown",
      "source": [
        "Here we fetching the retriever with relevant query and we are getting expected response.\n",
        "\n",
        "Watch the `query`, `response` and `source document with similarity or relevence score`."
      ],
      "metadata": {
        "id": "BhluTZKCR25y"
      }
    },
    {
      "cell_type": "code",
      "source": [
        "query = \"Tell about Operations Sales Manager role.\"\n",
        "response = qa.invoke(str(query))\n",
        "Markdown(response[\"result\"])"
      ],
      "metadata": {
        "colab": {
          "base_uri": "https://localhost:8080/",
          "height": 307
        },
        "id": "SyaR_zC8mZ7F",
        "outputId": "af535058-a0f2-4cda-819b-3cbd931be8e4"
      },
      "execution_count": 37,
      "outputs": [
        {
          "output_type": "execute_result",
          "data": {
            "text/plain": [
              "<IPython.core.display.Markdown object>"
            ],
            "text/markdown": "**Operations Sales Manager Role**\n\nAs an Operations Sales Manager, I was responsible for establishing operational objectives and work plans, delegating assignments to subordinate managers, and supervising a team of 15 area managers and 35 associates. My key responsibilities included:\n\n* Developing executive presentations and reports to facilitate project evaluation and process improvement\n* Directing planning, budgeting, vendor selection, and quality assurance efforts\n* Defining clear targets and objectives and communicating them to other team members\n* Reviewing sales, customer concerns, and new opportunities to drive business strategy at weekly planning sessions\n* Assessing vendor products and maintaining positive vendor relations\n* Supporting the sales team in writing proposals and closing contracts\n* Developing quarterly and annual sales department budgets\n* Developing a comprehensive training program for new sales associates\n* Reviewing operational records and reports to project sales and determine profitability\n* Training all incoming sales team members\n* Maintaining knowledge of current sales and promotions, policies regarding payment and exchanges, and security practices.\n\nIn this role, I was able to utilize my skills in leadership, communication, budgeting, and problem-solving to drive business growth and achieve sales targets."
          },
          "metadata": {},
          "execution_count": 37
        }
      ]
    },
    {
      "cell_type": "code",
      "source": [
        "response_test = \"\\n\"\n",
        "for i, doc in enumerate(response[\"source_documents\"]):\n",
        "  response_test += str(\"--------------------------------\\n\")\n",
        "  print(str(10*\"--------------------------------\"))\n",
        "  response_test += str(\"##**Source Information**\")+str(\"\\t\")+str(i+1)+str(\"\\t\")+str(\":\\n\")\n",
        "  print(str(\"Source Information\")+str(\"\\t\")+str(i+1)+str(\"\\t\")+str(\":\"))\n",
        "  response_test += str(\"--------------------------------\\n\")\n",
        "  print(str(10*\"--------------------------------\"))\n",
        "  response_test += str(doc.page_content)+str(\"\\n\")\n",
        "  print(str(doc.page_content))\n",
        "  response_test += str(\"\\n\\n\\n\")\n",
        "  print(\"\\n\\n\\n\\n\\n\")"
      ],
      "metadata": {
        "colab": {
          "base_uri": "https://localhost:8080/"
        },
        "id": "DVHW2bGnoc5W",
        "outputId": "bc273248-d206-4a31-e91a-baaafae3969b"
      },
      "execution_count": 38,
      "outputs": [
        {
          "output_type": "stream",
          "name": "stdout",
          "text": [
            "--------------------------------------------------------------------------------------------------------------------------------------------------------------------------------------------------------------------------------------------------------------------------------------------------------------------------------\n",
            "Source Information\t1\t:\n",
            "--------------------------------------------------------------------------------------------------------------------------------------------------------------------------------------------------------------------------------------------------------------------------------------------------------------------------------\n",
            "# Operations Sales Manager\n",
            "\n",
            "09/2008 to 10/2011\n",
            "Company Name\n",
            "City, State\n",
            "\n",
            "- Established operational objectives and work plans and delegated assignments to subordinate managers.\n",
            "- Supervised a team of 15 area managers and 35 associates.\n",
            "- Developed executive presentations and reports to facilitate project evaluation and process improvement.\n",
            "- Directed planning, budgeting, vendor selection and quality assurance efforts.\n",
            "- Defined clear targets and objectives and communicated them to other team members.\n",
            "- Reviewed sales, customer concerns and new opportunities to drive business strategy at weekly planning sessions.\n",
            "- Assessed vendor products and maintained positive vendor relations.\n",
            "- Supported the sales team in writing proposals and closing contracts.\n",
            "- Developed quarterly and annual sales department budgets.\n",
            "- Developed a comprehensive training program for new sales associates.\n",
            "- Reviewed operational records and reports to project sales and determine profitability.\n",
            "- Trained all incoming sales team members.\n",
            "- Maintained knowledge of current sales and promotions, policies regarding payment and exchanges and security practices.\n",
            "\n",
            "# Insurance Agent\n",
            "\n",
            "08/2005 to 08/2008\n",
            "Fred Loya Insurance - Eagle Pass TX 78852\n",
            "\n",
            "- Met with existing and prospective clients each week to select appropriate insurance policies.\n",
            "- Calculated quotes and educated potential clients on insurance options.\n",
            "- Tracked the progress of all outstanding insurance claims.\n",
            "- Calculated premiums and established payment methods for sales.\n",
            "- Identified and solicited sales prospects in agency databases.\n",
            "- Evaluated leads obtained through direct referrals, lead databases and cold calling.\n",
            "- Modeled exceptional customer service skills and appropriate diagnostic sales techniques.\n",
            "- Collected all premiums on or before effective date of coverage.\n",
            "- Contributed ideas and offered constructive feedback at weekly sales and training meetings.\n",
            "\n",
            "# Education and Training\n",
            "\n",
            "\n",
            "\n",
            "\n",
            "\n",
            "\n",
            "--------------------------------------------------------------------------------------------------------------------------------------------------------------------------------------------------------------------------------------------------------------------------------------------------------------------------------\n",
            "Source Information\t2\t:\n",
            "--------------------------------------------------------------------------------------------------------------------------------------------------------------------------------------------------------------------------------------------------------------------------------------------------------------------------------\n",
            "# SUBSTITUTE TEACHER\n",
            "\n",
            "# Summary\n",
            "\n",
            "Receiving an education on Psychology and pursuing my teaching certification has been the best professional accomplishment I have achieved. The teaching in the absence of the teacher helped me understand that I have a background to implement the strategist teach.\n",
            "\n",
            "Sales Manager successful in relationship and team building. Motivates sales teams to exceed sales goals with a track record of consistently achieving employee retention, skilled in leading teams to set record-high sales figures, expand existing territories and develop new accounts. Achieve record-setting revenue gains. Talented, effective at multi-tasking and reaching sales targets. Builds loyalty and long-term relationships with customers.\n",
            "\n",
            "Business development executive experienced in all aspects of sales and marketing, contract negotiation and account management. Driven professional who effectively builds loyalty and long-term relationships with customers while consistently exceeding sales targets.\n",
            "\n",
            "# Accomplishments\n",
            "\n",
            "8620 Spectrum Center Blvd.\n",
            "San Diego, CA 92123\n",
            "\n",
            "- Attentive Sales Manager with a track record of consistently achieving employee retention and sales goals.\n",
            "- 8 years in sales, customer service and personnel and payroll management.\n",
            "- Driven to exceed goals and expectations.\n",
            "- Talented sales professional effective at multi-tasking and reaching sales targets.\n",
            "- Builds loyalty and long-term relationships with customers.\n",
            "\n",
            "# Experience\n",
            "\n",
            "# Substitute Teacher\n",
            "\n",
            "01/2016 to Current\n",
            "Company Name\n",
            "\n",
            "- Manage classrooms, and help children throughout the day, by assessing the lesson of the day.\n",
            "- Maintaining discipline in the classroom.\n",
            "\n",
            "# Company Name\n",
            "\n",
            "10/2011 to 01/2017\n",
            "City, State\n",
            "\n",
            "\n",
            "\n",
            "\n",
            "\n",
            "\n",
            "--------------------------------------------------------------------------------------------------------------------------------------------------------------------------------------------------------------------------------------------------------------------------------------------------------------------------------\n",
            "Source Information\t3\t:\n",
            "--------------------------------------------------------------------------------------------------------------------------------------------------------------------------------------------------------------------------------------------------------------------------------------------------------------------------------\n",
            "# Experience\n",
            "\n",
            "# Substitute Teacher\n",
            "\n",
            "01/2016 to Current\n",
            "Company Name\n",
            "\n",
            "- Manage classrooms, and help children throughout the day, by assessing the lesson of the day.\n",
            "- Maintaining discipline in the classroom.\n",
            "\n",
            "# Company Name\n",
            "\n",
            "10/2011 to 01/2017\n",
            "City, State\n",
            "\n",
            "- Advised prospective employees on various tips and tricks that would assist them in gaining employment in the organization.\n",
            "- Implement effective HR policies to ensure all practices are following labor and employment regulations.\n",
            "- Increased employee retention above 90% by rigorously maintaining a positive work environment.\n",
            "- Develop targeted outreach recruitment programs to recruit more minorities and meet affirmative action requirements.\n",
            "- Created a website with an embedded database and FTP functionality to enable online recruitment for the organization and reducing recruitment costs by 10%.\n",
            "- Develop user-friendly application forms and questionnaires to be used by the organization during staff recruitment and interviewing.\n",
            "- Arbitrate labor disputes in collaboration with the legal department.\n",
            "\n",
            "# Operations Sales Manager\n",
            "\n",
            "09/2008 to 10/2011\n",
            "Company Name\n",
            "City, State\n",
            "\n",
            "\n",
            "\n",
            "\n",
            "\n",
            "\n",
            "--------------------------------------------------------------------------------------------------------------------------------------------------------------------------------------------------------------------------------------------------------------------------------------------------------------------------------\n",
            "Source Information\t4\t:\n",
            "--------------------------------------------------------------------------------------------------------------------------------------------------------------------------------------------------------------------------------------------------------------------------------------------------------------------------------\n",
            "# Education and Training\n",
            "\n",
            "High School Diploma\n",
            "2000\n",
            "Eagle Pass High School\n",
            "City, State\n",
            "\n",
            "Associate of Science\n",
            "---\n",
            "# MEDICAL 2009 KAPLAN UNIVERSITY\n",
            "\n",
            "# City, State\n",
            "\n",
            "# Bachelor of Arts: Psychology minor on Child Development\n",
            "\n",
            "# 2017 Psychology Child Development\n",
            "\n",
            "# Languages\n",
            "\n",
            "Fluent in English and Spanish\n",
            "\n",
            "# Skills\n",
            "\n",
            "- agency\n",
            "- budgeting\n",
            "- budgets\n",
            "- business strategy\n",
            "- closing\n",
            "- cold calling\n",
            "- interpersonal\n",
            "- communication skills\n",
            "- Excellent Communication\n",
            "- oral\n",
            "- contracts\n",
            "- Critical thinking\n",
            "- clients\n",
            "- Client Relations\n",
            "- Customer Service\n",
            "- customer service skills\n",
            "- databases\n",
            "- database\n",
            "- Fluent in English\n",
            "- forms\n",
            "- FTP\n",
            "- HR\n",
            "- Insurance\n",
            "- Leadership\n",
            "- legal\n",
            "- Marketing\n",
            "- meetings\n",
            "- Mergers and acquisitions\n",
            "- Works\n",
            "- organizational\n",
            "- policies\n",
            "- executive presentations\n",
            "- Problem Solver\n",
            "- process improvement\n",
            "- progress\n",
            "- proposals\n",
            "- quality assurance\n",
            "- recruitment\n",
            "- sales\n",
            "- sales and training\n",
            "- Spanish\n",
            "- Strategic marketing\n",
            "- supervision\n",
            "- Time management\n",
            "- vendor relations\n",
            "- website\n",
            "- written\n",
            "\n",
            "\n",
            "\n",
            "\n",
            "\n",
            "\n"
          ]
        }
      ]
    },
    {
      "cell_type": "code",
      "source": [
        "Markdown(response_test)"
      ],
      "metadata": {
        "colab": {
          "base_uri": "https://localhost:8080/",
          "height": 1000
        },
        "id": "yWJDtGDiZ9jV",
        "outputId": "f3eda36b-133e-4822-a7f5-c61646cdb558"
      },
      "execution_count": 39,
      "outputs": [
        {
          "output_type": "execute_result",
          "data": {
            "text/plain": [
              "<IPython.core.display.Markdown object>"
            ],
            "text/markdown": "\n--------------------------------\n##**Source Information**\t1\t:\n--------------------------------\n# Operations Sales Manager\n\n09/2008 to 10/2011\nCompany Name\nCity, State\n\n- Established operational objectives and work plans and delegated assignments to subordinate managers.\n- Supervised a team of 15 area managers and 35 associates.\n- Developed executive presentations and reports to facilitate project evaluation and process improvement.\n- Directed planning, budgeting, vendor selection and quality assurance efforts.\n- Defined clear targets and objectives and communicated them to other team members.\n- Reviewed sales, customer concerns and new opportunities to drive business strategy at weekly planning sessions.\n- Assessed vendor products and maintained positive vendor relations.\n- Supported the sales team in writing proposals and closing contracts.\n- Developed quarterly and annual sales department budgets.\n- Developed a comprehensive training program for new sales associates.\n- Reviewed operational records and reports to project sales and determine profitability.\n- Trained all incoming sales team members.\n- Maintained knowledge of current sales and promotions, policies regarding payment and exchanges and security practices.\n\n# Insurance Agent\n\n08/2005 to 08/2008\nFred Loya Insurance - Eagle Pass TX 78852\n\n- Met with existing and prospective clients each week to select appropriate insurance policies.\n- Calculated quotes and educated potential clients on insurance options.\n- Tracked the progress of all outstanding insurance claims.\n- Calculated premiums and established payment methods for sales.\n- Identified and solicited sales prospects in agency databases.\n- Evaluated leads obtained through direct referrals, lead databases and cold calling.\n- Modeled exceptional customer service skills and appropriate diagnostic sales techniques.\n- Collected all premiums on or before effective date of coverage.\n- Contributed ideas and offered constructive feedback at weekly sales and training meetings.\n\n# Education and Training\n\n\n\n--------------------------------\n##**Source Information**\t2\t:\n--------------------------------\n# SUBSTITUTE TEACHER\n\n# Summary\n\nReceiving an education on Psychology and pursuing my teaching certification has been the best professional accomplishment I have achieved. The teaching in the absence of the teacher helped me understand that I have a background to implement the strategist teach.\n\nSales Manager successful in relationship and team building. Motivates sales teams to exceed sales goals with a track record of consistently achieving employee retention, skilled in leading teams to set record-high sales figures, expand existing territories and develop new accounts. Achieve record-setting revenue gains. Talented, effective at multi-tasking and reaching sales targets. Builds loyalty and long-term relationships with customers.\n\nBusiness development executive experienced in all aspects of sales and marketing, contract negotiation and account management. Driven professional who effectively builds loyalty and long-term relationships with customers while consistently exceeding sales targets.\n\n# Accomplishments\n\n8620 Spectrum Center Blvd.\nSan Diego, CA 92123\n\n- Attentive Sales Manager with a track record of consistently achieving employee retention and sales goals.\n- 8 years in sales, customer service and personnel and payroll management.\n- Driven to exceed goals and expectations.\n- Talented sales professional effective at multi-tasking and reaching sales targets.\n- Builds loyalty and long-term relationships with customers.\n\n# Experience\n\n# Substitute Teacher\n\n01/2016 to Current\nCompany Name\n\n- Manage classrooms, and help children throughout the day, by assessing the lesson of the day.\n- Maintaining discipline in the classroom.\n\n# Company Name\n\n10/2011 to 01/2017\nCity, State\n\n\n\n--------------------------------\n##**Source Information**\t3\t:\n--------------------------------\n# Experience\n\n# Substitute Teacher\n\n01/2016 to Current\nCompany Name\n\n- Manage classrooms, and help children throughout the day, by assessing the lesson of the day.\n- Maintaining discipline in the classroom.\n\n# Company Name\n\n10/2011 to 01/2017\nCity, State\n\n- Advised prospective employees on various tips and tricks that would assist them in gaining employment in the organization.\n- Implement effective HR policies to ensure all practices are following labor and employment regulations.\n- Increased employee retention above 90% by rigorously maintaining a positive work environment.\n- Develop targeted outreach recruitment programs to recruit more minorities and meet affirmative action requirements.\n- Created a website with an embedded database and FTP functionality to enable online recruitment for the organization and reducing recruitment costs by 10%.\n- Develop user-friendly application forms and questionnaires to be used by the organization during staff recruitment and interviewing.\n- Arbitrate labor disputes in collaboration with the legal department.\n\n# Operations Sales Manager\n\n09/2008 to 10/2011\nCompany Name\nCity, State\n\n\n\n--------------------------------\n##**Source Information**\t4\t:\n--------------------------------\n# Education and Training\n\nHigh School Diploma\n2000\nEagle Pass High School\nCity, State\n\nAssociate of Science\n---\n# MEDICAL 2009 KAPLAN UNIVERSITY\n\n# City, State\n\n# Bachelor of Arts: Psychology minor on Child Development\n\n# 2017 Psychology Child Development\n\n# Languages\n\nFluent in English and Spanish\n\n# Skills\n\n- agency\n- budgeting\n- budgets\n- business strategy\n- closing\n- cold calling\n- interpersonal\n- communication skills\n- Excellent Communication\n- oral\n- contracts\n- Critical thinking\n- clients\n- Client Relations\n- Customer Service\n- customer service skills\n- databases\n- database\n- Fluent in English\n- forms\n- FTP\n- HR\n- Insurance\n- Leadership\n- legal\n- Marketing\n- meetings\n- Mergers and acquisitions\n- Works\n- organizational\n- policies\n- executive presentations\n- Problem Solver\n- process improvement\n- progress\n- proposals\n- quality assurance\n- recruitment\n- sales\n- sales and training\n- Spanish\n- Strategic marketing\n- supervision\n- Time management\n- vendor relations\n- website\n- written\n\n\n\n"
          },
          "metadata": {},
          "execution_count": 39
        }
      ]
    },
    {
      "cell_type": "markdown",
      "source": [
        "**9.1 Query 2**"
      ],
      "metadata": {
        "id": "-YHZ6em7MZki"
      }
    },
    {
      "cell_type": "markdown",
      "source": [
        "Here we fetching the retriever with irrelevant query and we are getting expected response as this query is irrelevant for given doument.\n",
        "\n",
        "Watch the `query`, `response` and `source document with similarity or relevence score`."
      ],
      "metadata": {
        "id": "PzML0MNoSVPM"
      }
    },
    {
      "cell_type": "code",
      "source": [
        "query = \"Share the details about 'First Quarter 2024 Financial Highlights'. Share your response in table format.\"\n",
        "response = qa.invoke(str(query))\n",
        "Markdown(response[\"result\"])"
      ],
      "metadata": {
        "colab": {
          "base_uri": "https://localhost:8080/",
          "height": 87
        },
        "id": "dPCNmtkYKIz7",
        "outputId": "9667cc17-d3d3-4d6b-b60a-51dc996021be"
      },
      "execution_count": 40,
      "outputs": [
        {
          "output_type": "execute_result",
          "data": {
            "text/plain": [
              "<IPython.core.display.Markdown object>"
            ],
            "text/markdown": "I apologize, but there is no information provided about \"First Quarter 2024 Financial Highlights\" in the given context. The context appears to be a resume or a personal profile, and it does not contain any financial information or highlights for a specific quarter.\n\nIf you meant to ask about something else, please feel free to rephrase the question, and I'll do my best to assist you."
          },
          "metadata": {},
          "execution_count": 40
        }
      ]
    },
    {
      "cell_type": "code",
      "source": [
        "response_test = \"\\n\"\n",
        "for i, doc in enumerate(response[\"source_documents\"]):\n",
        "  response_test += str(\"--------------------------------\\n\")\n",
        "  print(str(10*\"--------------------------------\"))\n",
        "  response_test += str(\"##**Source Information**\")+str(\"\\t\")+str(i+1)+str(\"\\t\")+str(\":\\n\")\n",
        "  print(str(\"Source Information\")+str(\"\\t\")+str(i+1)+str(\"\\t\")+str(\":\"))\n",
        "  response_test += str(\"--------------------------------\\n\")\n",
        "  print(str(10*\"--------------------------------\"))\n",
        "  response_test += str(doc.page_content)+str(\"\\n\")\n",
        "  print(str(doc.page_content))\n",
        "  response_test += str(\"\\n\\n\\n\")\n",
        "  print(\"\\n\\n\\n\\n\\n\")"
      ],
      "metadata": {
        "colab": {
          "base_uri": "https://localhost:8080/"
        },
        "id": "IR8vfHMhMQAj",
        "outputId": "a654f7f6-6565-45f1-ca88-0b6555213106"
      },
      "execution_count": 41,
      "outputs": [
        {
          "output_type": "stream",
          "name": "stdout",
          "text": [
            "--------------------------------------------------------------------------------------------------------------------------------------------------------------------------------------------------------------------------------------------------------------------------------------------------------------------------------\n",
            "Source Information\t1\t:\n",
            "--------------------------------------------------------------------------------------------------------------------------------------------------------------------------------------------------------------------------------------------------------------------------------------------------------------------------------\n",
            "# Education and Training\n",
            "\n",
            "High School Diploma\n",
            "2000\n",
            "Eagle Pass High School\n",
            "City, State\n",
            "\n",
            "Associate of Science\n",
            "---\n",
            "# MEDICAL 2009 KAPLAN UNIVERSITY\n",
            "\n",
            "# City, State\n",
            "\n",
            "# Bachelor of Arts: Psychology minor on Child Development\n",
            "\n",
            "# 2017 Psychology Child Development\n",
            "\n",
            "# Languages\n",
            "\n",
            "Fluent in English and Spanish\n",
            "\n",
            "# Skills\n",
            "\n",
            "- agency\n",
            "- budgeting\n",
            "- budgets\n",
            "- business strategy\n",
            "- closing\n",
            "- cold calling\n",
            "- interpersonal\n",
            "- communication skills\n",
            "- Excellent Communication\n",
            "- oral\n",
            "- contracts\n",
            "- Critical thinking\n",
            "- clients\n",
            "- Client Relations\n",
            "- Customer Service\n",
            "- customer service skills\n",
            "- databases\n",
            "- database\n",
            "- Fluent in English\n",
            "- forms\n",
            "- FTP\n",
            "- HR\n",
            "- Insurance\n",
            "- Leadership\n",
            "- legal\n",
            "- Marketing\n",
            "- meetings\n",
            "- Mergers and acquisitions\n",
            "- Works\n",
            "- organizational\n",
            "- policies\n",
            "- executive presentations\n",
            "- Problem Solver\n",
            "- process improvement\n",
            "- progress\n",
            "- proposals\n",
            "- quality assurance\n",
            "- recruitment\n",
            "- sales\n",
            "- sales and training\n",
            "- Spanish\n",
            "- Strategic marketing\n",
            "- supervision\n",
            "- Time management\n",
            "- vendor relations\n",
            "- website\n",
            "- written\n",
            "\n",
            "\n",
            "\n",
            "\n",
            "\n",
            "\n",
            "--------------------------------------------------------------------------------------------------------------------------------------------------------------------------------------------------------------------------------------------------------------------------------------------------------------------------------\n",
            "Source Information\t2\t:\n",
            "--------------------------------------------------------------------------------------------------------------------------------------------------------------------------------------------------------------------------------------------------------------------------------------------------------------------------------\n",
            "# Operations Sales Manager\n",
            "\n",
            "09/2008 to 10/2011\n",
            "Company Name\n",
            "City, State\n",
            "\n",
            "- Established operational objectives and work plans and delegated assignments to subordinate managers.\n",
            "- Supervised a team of 15 area managers and 35 associates.\n",
            "- Developed executive presentations and reports to facilitate project evaluation and process improvement.\n",
            "- Directed planning, budgeting, vendor selection and quality assurance efforts.\n",
            "- Defined clear targets and objectives and communicated them to other team members.\n",
            "- Reviewed sales, customer concerns and new opportunities to drive business strategy at weekly planning sessions.\n",
            "- Assessed vendor products and maintained positive vendor relations.\n",
            "- Supported the sales team in writing proposals and closing contracts.\n",
            "- Developed quarterly and annual sales department budgets.\n",
            "- Developed a comprehensive training program for new sales associates.\n",
            "- Reviewed operational records and reports to project sales and determine profitability.\n",
            "- Trained all incoming sales team members.\n",
            "- Maintained knowledge of current sales and promotions, policies regarding payment and exchanges and security practices.\n",
            "\n",
            "# Insurance Agent\n",
            "\n",
            "08/2005 to 08/2008\n",
            "Fred Loya Insurance - Eagle Pass TX 78852\n",
            "\n",
            "- Met with existing and prospective clients each week to select appropriate insurance policies.\n",
            "- Calculated quotes and educated potential clients on insurance options.\n",
            "- Tracked the progress of all outstanding insurance claims.\n",
            "- Calculated premiums and established payment methods for sales.\n",
            "- Identified and solicited sales prospects in agency databases.\n",
            "- Evaluated leads obtained through direct referrals, lead databases and cold calling.\n",
            "- Modeled exceptional customer service skills and appropriate diagnostic sales techniques.\n",
            "- Collected all premiums on or before effective date of coverage.\n",
            "- Contributed ideas and offered constructive feedback at weekly sales and training meetings.\n",
            "\n",
            "# Education and Training\n",
            "\n",
            "\n",
            "\n",
            "\n",
            "\n",
            "\n",
            "--------------------------------------------------------------------------------------------------------------------------------------------------------------------------------------------------------------------------------------------------------------------------------------------------------------------------------\n",
            "Source Information\t3\t:\n",
            "--------------------------------------------------------------------------------------------------------------------------------------------------------------------------------------------------------------------------------------------------------------------------------------------------------------------------------\n",
            "# Experience\n",
            "\n",
            "# Substitute Teacher\n",
            "\n",
            "01/2016 to Current\n",
            "Company Name\n",
            "\n",
            "- Manage classrooms, and help children throughout the day, by assessing the lesson of the day.\n",
            "- Maintaining discipline in the classroom.\n",
            "\n",
            "# Company Name\n",
            "\n",
            "10/2011 to 01/2017\n",
            "City, State\n",
            "\n",
            "- Advised prospective employees on various tips and tricks that would assist them in gaining employment in the organization.\n",
            "- Implement effective HR policies to ensure all practices are following labor and employment regulations.\n",
            "- Increased employee retention above 90% by rigorously maintaining a positive work environment.\n",
            "- Develop targeted outreach recruitment programs to recruit more minorities and meet affirmative action requirements.\n",
            "- Created a website with an embedded database and FTP functionality to enable online recruitment for the organization and reducing recruitment costs by 10%.\n",
            "- Develop user-friendly application forms and questionnaires to be used by the organization during staff recruitment and interviewing.\n",
            "- Arbitrate labor disputes in collaboration with the legal department.\n",
            "\n",
            "# Operations Sales Manager\n",
            "\n",
            "09/2008 to 10/2011\n",
            "Company Name\n",
            "City, State\n",
            "\n",
            "\n",
            "\n",
            "\n",
            "\n",
            "\n",
            "--------------------------------------------------------------------------------------------------------------------------------------------------------------------------------------------------------------------------------------------------------------------------------------------------------------------------------\n",
            "Source Information\t4\t:\n",
            "--------------------------------------------------------------------------------------------------------------------------------------------------------------------------------------------------------------------------------------------------------------------------------------------------------------------------------\n",
            "# SUBSTITUTE TEACHER\n",
            "\n",
            "# Summary\n",
            "\n",
            "Receiving an education on Psychology and pursuing my teaching certification has been the best professional accomplishment I have achieved. The teaching in the absence of the teacher helped me understand that I have a background to implement the strategist teach.\n",
            "\n",
            "Sales Manager successful in relationship and team building. Motivates sales teams to exceed sales goals with a track record of consistently achieving employee retention, skilled in leading teams to set record-high sales figures, expand existing territories and develop new accounts. Achieve record-setting revenue gains. Talented, effective at multi-tasking and reaching sales targets. Builds loyalty and long-term relationships with customers.\n",
            "\n",
            "Business development executive experienced in all aspects of sales and marketing, contract negotiation and account management. Driven professional who effectively builds loyalty and long-term relationships with customers while consistently exceeding sales targets.\n",
            "\n",
            "# Accomplishments\n",
            "\n",
            "8620 Spectrum Center Blvd.\n",
            "San Diego, CA 92123\n",
            "\n",
            "- Attentive Sales Manager with a track record of consistently achieving employee retention and sales goals.\n",
            "- 8 years in sales, customer service and personnel and payroll management.\n",
            "- Driven to exceed goals and expectations.\n",
            "- Talented sales professional effective at multi-tasking and reaching sales targets.\n",
            "- Builds loyalty and long-term relationships with customers.\n",
            "\n",
            "# Experience\n",
            "\n",
            "# Substitute Teacher\n",
            "\n",
            "01/2016 to Current\n",
            "Company Name\n",
            "\n",
            "- Manage classrooms, and help children throughout the day, by assessing the lesson of the day.\n",
            "- Maintaining discipline in the classroom.\n",
            "\n",
            "# Company Name\n",
            "\n",
            "10/2011 to 01/2017\n",
            "City, State\n",
            "\n",
            "\n",
            "\n",
            "\n",
            "\n",
            "\n"
          ]
        }
      ]
    },
    {
      "cell_type": "code",
      "source": [
        "Markdown(response_test)"
      ],
      "metadata": {
        "colab": {
          "base_uri": "https://localhost:8080/",
          "height": 1000
        },
        "id": "yL68_UMcMWJV",
        "outputId": "8be14675-3f95-46e1-98a6-55d30f6d3b96"
      },
      "execution_count": 42,
      "outputs": [
        {
          "output_type": "execute_result",
          "data": {
            "text/plain": [
              "<IPython.core.display.Markdown object>"
            ],
            "text/markdown": "\n--------------------------------\n##**Source Information**\t1\t:\n--------------------------------\n# Education and Training\n\nHigh School Diploma\n2000\nEagle Pass High School\nCity, State\n\nAssociate of Science\n---\n# MEDICAL 2009 KAPLAN UNIVERSITY\n\n# City, State\n\n# Bachelor of Arts: Psychology minor on Child Development\n\n# 2017 Psychology Child Development\n\n# Languages\n\nFluent in English and Spanish\n\n# Skills\n\n- agency\n- budgeting\n- budgets\n- business strategy\n- closing\n- cold calling\n- interpersonal\n- communication skills\n- Excellent Communication\n- oral\n- contracts\n- Critical thinking\n- clients\n- Client Relations\n- Customer Service\n- customer service skills\n- databases\n- database\n- Fluent in English\n- forms\n- FTP\n- HR\n- Insurance\n- Leadership\n- legal\n- Marketing\n- meetings\n- Mergers and acquisitions\n- Works\n- organizational\n- policies\n- executive presentations\n- Problem Solver\n- process improvement\n- progress\n- proposals\n- quality assurance\n- recruitment\n- sales\n- sales and training\n- Spanish\n- Strategic marketing\n- supervision\n- Time management\n- vendor relations\n- website\n- written\n\n\n\n--------------------------------\n##**Source Information**\t2\t:\n--------------------------------\n# Operations Sales Manager\n\n09/2008 to 10/2011\nCompany Name\nCity, State\n\n- Established operational objectives and work plans and delegated assignments to subordinate managers.\n- Supervised a team of 15 area managers and 35 associates.\n- Developed executive presentations and reports to facilitate project evaluation and process improvement.\n- Directed planning, budgeting, vendor selection and quality assurance efforts.\n- Defined clear targets and objectives and communicated them to other team members.\n- Reviewed sales, customer concerns and new opportunities to drive business strategy at weekly planning sessions.\n- Assessed vendor products and maintained positive vendor relations.\n- Supported the sales team in writing proposals and closing contracts.\n- Developed quarterly and annual sales department budgets.\n- Developed a comprehensive training program for new sales associates.\n- Reviewed operational records and reports to project sales and determine profitability.\n- Trained all incoming sales team members.\n- Maintained knowledge of current sales and promotions, policies regarding payment and exchanges and security practices.\n\n# Insurance Agent\n\n08/2005 to 08/2008\nFred Loya Insurance - Eagle Pass TX 78852\n\n- Met with existing and prospective clients each week to select appropriate insurance policies.\n- Calculated quotes and educated potential clients on insurance options.\n- Tracked the progress of all outstanding insurance claims.\n- Calculated premiums and established payment methods for sales.\n- Identified and solicited sales prospects in agency databases.\n- Evaluated leads obtained through direct referrals, lead databases and cold calling.\n- Modeled exceptional customer service skills and appropriate diagnostic sales techniques.\n- Collected all premiums on or before effective date of coverage.\n- Contributed ideas and offered constructive feedback at weekly sales and training meetings.\n\n# Education and Training\n\n\n\n--------------------------------\n##**Source Information**\t3\t:\n--------------------------------\n# Experience\n\n# Substitute Teacher\n\n01/2016 to Current\nCompany Name\n\n- Manage classrooms, and help children throughout the day, by assessing the lesson of the day.\n- Maintaining discipline in the classroom.\n\n# Company Name\n\n10/2011 to 01/2017\nCity, State\n\n- Advised prospective employees on various tips and tricks that would assist them in gaining employment in the organization.\n- Implement effective HR policies to ensure all practices are following labor and employment regulations.\n- Increased employee retention above 90% by rigorously maintaining a positive work environment.\n- Develop targeted outreach recruitment programs to recruit more minorities and meet affirmative action requirements.\n- Created a website with an embedded database and FTP functionality to enable online recruitment for the organization and reducing recruitment costs by 10%.\n- Develop user-friendly application forms and questionnaires to be used by the organization during staff recruitment and interviewing.\n- Arbitrate labor disputes in collaboration with the legal department.\n\n# Operations Sales Manager\n\n09/2008 to 10/2011\nCompany Name\nCity, State\n\n\n\n--------------------------------\n##**Source Information**\t4\t:\n--------------------------------\n# SUBSTITUTE TEACHER\n\n# Summary\n\nReceiving an education on Psychology and pursuing my teaching certification has been the best professional accomplishment I have achieved. The teaching in the absence of the teacher helped me understand that I have a background to implement the strategist teach.\n\nSales Manager successful in relationship and team building. Motivates sales teams to exceed sales goals with a track record of consistently achieving employee retention, skilled in leading teams to set record-high sales figures, expand existing territories and develop new accounts. Achieve record-setting revenue gains. Talented, effective at multi-tasking and reaching sales targets. Builds loyalty and long-term relationships with customers.\n\nBusiness development executive experienced in all aspects of sales and marketing, contract negotiation and account management. Driven professional who effectively builds loyalty and long-term relationships with customers while consistently exceeding sales targets.\n\n# Accomplishments\n\n8620 Spectrum Center Blvd.\nSan Diego, CA 92123\n\n- Attentive Sales Manager with a track record of consistently achieving employee retention and sales goals.\n- 8 years in sales, customer service and personnel and payroll management.\n- Driven to exceed goals and expectations.\n- Talented sales professional effective at multi-tasking and reaching sales targets.\n- Builds loyalty and long-term relationships with customers.\n\n# Experience\n\n# Substitute Teacher\n\n01/2016 to Current\nCompany Name\n\n- Manage classrooms, and help children throughout the day, by assessing the lesson of the day.\n- Maintaining discipline in the classroom.\n\n# Company Name\n\n10/2011 to 01/2017\nCity, State\n\n\n\n"
          },
          "metadata": {},
          "execution_count": 42
        }
      ]
    },
    {
      "cell_type": "code",
      "source": [],
      "metadata": {
        "id": "F-7Fl_YCY6XW"
      },
      "execution_count": 42,
      "outputs": []
    }
  ]
}