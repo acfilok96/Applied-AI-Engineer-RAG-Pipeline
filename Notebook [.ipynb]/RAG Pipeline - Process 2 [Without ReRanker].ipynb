{
  "nbformat": 4,
  "nbformat_minor": 0,
  "metadata": {
    "colab": {
      "provenance": []
    },
    "kernelspec": {
      "name": "python3",
      "display_name": "Python 3"
    },
    "language_info": {
      "name": "python"
    },
    "widgets": {
      "application/vnd.jupyter.widget-state+json": {
        "0f07e1cc7c0841ceb3304cc8fe0a3e76": {
          "model_module": "@jupyter-widgets/controls",
          "model_name": "HBoxModel",
          "model_module_version": "1.5.0",
          "state": {
            "_dom_classes": [],
            "_model_module": "@jupyter-widgets/controls",
            "_model_module_version": "1.5.0",
            "_model_name": "HBoxModel",
            "_view_count": null,
            "_view_module": "@jupyter-widgets/controls",
            "_view_module_version": "1.5.0",
            "_view_name": "HBoxView",
            "box_style": "",
            "children": [
              "IPY_MODEL_6bcf791d19b14c8ab518094c3d19cae8",
              "IPY_MODEL_c0936f0b4188448b8e4c1b6d61279fed",
              "IPY_MODEL_514b8ae0b86d4ebcb4c53fb77a7813a7"
            ],
            "layout": "IPY_MODEL_4298ad852d1e4eb2abdf27aff1ec6273"
          }
        },
        "6bcf791d19b14c8ab518094c3d19cae8": {
          "model_module": "@jupyter-widgets/controls",
          "model_name": "HTMLModel",
          "model_module_version": "1.5.0",
          "state": {
            "_dom_classes": [],
            "_model_module": "@jupyter-widgets/controls",
            "_model_module_version": "1.5.0",
            "_model_name": "HTMLModel",
            "_view_count": null,
            "_view_module": "@jupyter-widgets/controls",
            "_view_module_version": "1.5.0",
            "_view_name": "HTMLView",
            "description": "",
            "description_tooltip": null,
            "layout": "IPY_MODEL_49d9923790114714b3e256a8a369a9bd",
            "placeholder": "​",
            "style": "IPY_MODEL_d7d2cd6f63654b8ba5f67a5a520913b5",
            "value": "Fetching 5 files: 100%"
          }
        },
        "c0936f0b4188448b8e4c1b6d61279fed": {
          "model_module": "@jupyter-widgets/controls",
          "model_name": "FloatProgressModel",
          "model_module_version": "1.5.0",
          "state": {
            "_dom_classes": [],
            "_model_module": "@jupyter-widgets/controls",
            "_model_module_version": "1.5.0",
            "_model_name": "FloatProgressModel",
            "_view_count": null,
            "_view_module": "@jupyter-widgets/controls",
            "_view_module_version": "1.5.0",
            "_view_name": "ProgressView",
            "bar_style": "success",
            "description": "",
            "description_tooltip": null,
            "layout": "IPY_MODEL_15d26a9564cf437e9be44d579932c28b",
            "max": 5,
            "min": 0,
            "orientation": "horizontal",
            "style": "IPY_MODEL_87c6216135854834aaf1083ebb1afb84",
            "value": 5
          }
        },
        "514b8ae0b86d4ebcb4c53fb77a7813a7": {
          "model_module": "@jupyter-widgets/controls",
          "model_name": "HTMLModel",
          "model_module_version": "1.5.0",
          "state": {
            "_dom_classes": [],
            "_model_module": "@jupyter-widgets/controls",
            "_model_module_version": "1.5.0",
            "_model_name": "HTMLModel",
            "_view_count": null,
            "_view_module": "@jupyter-widgets/controls",
            "_view_module_version": "1.5.0",
            "_view_name": "HTMLView",
            "description": "",
            "description_tooltip": null,
            "layout": "IPY_MODEL_2c0904947c724cd5aea117e8e5a47e61",
            "placeholder": "​",
            "style": "IPY_MODEL_6546f59648cf49908132f39d6e134be1",
            "value": " 5/5 [00:03&lt;00:00,  2.04s/it]"
          }
        },
        "4298ad852d1e4eb2abdf27aff1ec6273": {
          "model_module": "@jupyter-widgets/base",
          "model_name": "LayoutModel",
          "model_module_version": "1.2.0",
          "state": {
            "_model_module": "@jupyter-widgets/base",
            "_model_module_version": "1.2.0",
            "_model_name": "LayoutModel",
            "_view_count": null,
            "_view_module": "@jupyter-widgets/base",
            "_view_module_version": "1.2.0",
            "_view_name": "LayoutView",
            "align_content": null,
            "align_items": null,
            "align_self": null,
            "border": null,
            "bottom": null,
            "display": null,
            "flex": null,
            "flex_flow": null,
            "grid_area": null,
            "grid_auto_columns": null,
            "grid_auto_flow": null,
            "grid_auto_rows": null,
            "grid_column": null,
            "grid_gap": null,
            "grid_row": null,
            "grid_template_areas": null,
            "grid_template_columns": null,
            "grid_template_rows": null,
            "height": null,
            "justify_content": null,
            "justify_items": null,
            "left": null,
            "margin": null,
            "max_height": null,
            "max_width": null,
            "min_height": null,
            "min_width": null,
            "object_fit": null,
            "object_position": null,
            "order": null,
            "overflow": null,
            "overflow_x": null,
            "overflow_y": null,
            "padding": null,
            "right": null,
            "top": null,
            "visibility": null,
            "width": null
          }
        },
        "49d9923790114714b3e256a8a369a9bd": {
          "model_module": "@jupyter-widgets/base",
          "model_name": "LayoutModel",
          "model_module_version": "1.2.0",
          "state": {
            "_model_module": "@jupyter-widgets/base",
            "_model_module_version": "1.2.0",
            "_model_name": "LayoutModel",
            "_view_count": null,
            "_view_module": "@jupyter-widgets/base",
            "_view_module_version": "1.2.0",
            "_view_name": "LayoutView",
            "align_content": null,
            "align_items": null,
            "align_self": null,
            "border": null,
            "bottom": null,
            "display": null,
            "flex": null,
            "flex_flow": null,
            "grid_area": null,
            "grid_auto_columns": null,
            "grid_auto_flow": null,
            "grid_auto_rows": null,
            "grid_column": null,
            "grid_gap": null,
            "grid_row": null,
            "grid_template_areas": null,
            "grid_template_columns": null,
            "grid_template_rows": null,
            "height": null,
            "justify_content": null,
            "justify_items": null,
            "left": null,
            "margin": null,
            "max_height": null,
            "max_width": null,
            "min_height": null,
            "min_width": null,
            "object_fit": null,
            "object_position": null,
            "order": null,
            "overflow": null,
            "overflow_x": null,
            "overflow_y": null,
            "padding": null,
            "right": null,
            "top": null,
            "visibility": null,
            "width": null
          }
        },
        "d7d2cd6f63654b8ba5f67a5a520913b5": {
          "model_module": "@jupyter-widgets/controls",
          "model_name": "DescriptionStyleModel",
          "model_module_version": "1.5.0",
          "state": {
            "_model_module": "@jupyter-widgets/controls",
            "_model_module_version": "1.5.0",
            "_model_name": "DescriptionStyleModel",
            "_view_count": null,
            "_view_module": "@jupyter-widgets/base",
            "_view_module_version": "1.2.0",
            "_view_name": "StyleView",
            "description_width": ""
          }
        },
        "15d26a9564cf437e9be44d579932c28b": {
          "model_module": "@jupyter-widgets/base",
          "model_name": "LayoutModel",
          "model_module_version": "1.2.0",
          "state": {
            "_model_module": "@jupyter-widgets/base",
            "_model_module_version": "1.2.0",
            "_model_name": "LayoutModel",
            "_view_count": null,
            "_view_module": "@jupyter-widgets/base",
            "_view_module_version": "1.2.0",
            "_view_name": "LayoutView",
            "align_content": null,
            "align_items": null,
            "align_self": null,
            "border": null,
            "bottom": null,
            "display": null,
            "flex": null,
            "flex_flow": null,
            "grid_area": null,
            "grid_auto_columns": null,
            "grid_auto_flow": null,
            "grid_auto_rows": null,
            "grid_column": null,
            "grid_gap": null,
            "grid_row": null,
            "grid_template_areas": null,
            "grid_template_columns": null,
            "grid_template_rows": null,
            "height": null,
            "justify_content": null,
            "justify_items": null,
            "left": null,
            "margin": null,
            "max_height": null,
            "max_width": null,
            "min_height": null,
            "min_width": null,
            "object_fit": null,
            "object_position": null,
            "order": null,
            "overflow": null,
            "overflow_x": null,
            "overflow_y": null,
            "padding": null,
            "right": null,
            "top": null,
            "visibility": null,
            "width": null
          }
        },
        "87c6216135854834aaf1083ebb1afb84": {
          "model_module": "@jupyter-widgets/controls",
          "model_name": "ProgressStyleModel",
          "model_module_version": "1.5.0",
          "state": {
            "_model_module": "@jupyter-widgets/controls",
            "_model_module_version": "1.5.0",
            "_model_name": "ProgressStyleModel",
            "_view_count": null,
            "_view_module": "@jupyter-widgets/base",
            "_view_module_version": "1.2.0",
            "_view_name": "StyleView",
            "bar_color": null,
            "description_width": ""
          }
        },
        "2c0904947c724cd5aea117e8e5a47e61": {
          "model_module": "@jupyter-widgets/base",
          "model_name": "LayoutModel",
          "model_module_version": "1.2.0",
          "state": {
            "_model_module": "@jupyter-widgets/base",
            "_model_module_version": "1.2.0",
            "_model_name": "LayoutModel",
            "_view_count": null,
            "_view_module": "@jupyter-widgets/base",
            "_view_module_version": "1.2.0",
            "_view_name": "LayoutView",
            "align_content": null,
            "align_items": null,
            "align_self": null,
            "border": null,
            "bottom": null,
            "display": null,
            "flex": null,
            "flex_flow": null,
            "grid_area": null,
            "grid_auto_columns": null,
            "grid_auto_flow": null,
            "grid_auto_rows": null,
            "grid_column": null,
            "grid_gap": null,
            "grid_row": null,
            "grid_template_areas": null,
            "grid_template_columns": null,
            "grid_template_rows": null,
            "height": null,
            "justify_content": null,
            "justify_items": null,
            "left": null,
            "margin": null,
            "max_height": null,
            "max_width": null,
            "min_height": null,
            "min_width": null,
            "object_fit": null,
            "object_position": null,
            "order": null,
            "overflow": null,
            "overflow_x": null,
            "overflow_y": null,
            "padding": null,
            "right": null,
            "top": null,
            "visibility": null,
            "width": null
          }
        },
        "6546f59648cf49908132f39d6e134be1": {
          "model_module": "@jupyter-widgets/controls",
          "model_name": "DescriptionStyleModel",
          "model_module_version": "1.5.0",
          "state": {
            "_model_module": "@jupyter-widgets/controls",
            "_model_module_version": "1.5.0",
            "_model_name": "DescriptionStyleModel",
            "_view_count": null,
            "_view_module": "@jupyter-widgets/base",
            "_view_module_version": "1.2.0",
            "_view_name": "StyleView",
            "description_width": ""
          }
        },
        "6c4e0e9eb8244d9e8a08c688ad2e9a8b": {
          "model_module": "@jupyter-widgets/controls",
          "model_name": "HBoxModel",
          "model_module_version": "1.5.0",
          "state": {
            "_dom_classes": [],
            "_model_module": "@jupyter-widgets/controls",
            "_model_module_version": "1.5.0",
            "_model_name": "HBoxModel",
            "_view_count": null,
            "_view_module": "@jupyter-widgets/controls",
            "_view_module_version": "1.5.0",
            "_view_name": "HBoxView",
            "box_style": "",
            "children": [
              "IPY_MODEL_b75bad17f1144df8840c8a2a72ec5eb6",
              "IPY_MODEL_a625e2137b5e4d44ba247d32b080e1f8",
              "IPY_MODEL_fdfb6682d5b841e499db81092d59a1df"
            ],
            "layout": "IPY_MODEL_d85d450e1206496a8260e20d7a477f3c"
          }
        },
        "b75bad17f1144df8840c8a2a72ec5eb6": {
          "model_module": "@jupyter-widgets/controls",
          "model_name": "HTMLModel",
          "model_module_version": "1.5.0",
          "state": {
            "_dom_classes": [],
            "_model_module": "@jupyter-widgets/controls",
            "_model_module_version": "1.5.0",
            "_model_name": "HTMLModel",
            "_view_count": null,
            "_view_module": "@jupyter-widgets/controls",
            "_view_module_version": "1.5.0",
            "_view_name": "HTMLView",
            "description": "",
            "description_tooltip": null,
            "layout": "IPY_MODEL_f9435ba5df0045979d0c6f97ae339dc6",
            "placeholder": "​",
            "style": "IPY_MODEL_857d0535615144028e48379e4126312f",
            "value": "config.json: 100%"
          }
        },
        "a625e2137b5e4d44ba247d32b080e1f8": {
          "model_module": "@jupyter-widgets/controls",
          "model_name": "FloatProgressModel",
          "model_module_version": "1.5.0",
          "state": {
            "_dom_classes": [],
            "_model_module": "@jupyter-widgets/controls",
            "_model_module_version": "1.5.0",
            "_model_name": "FloatProgressModel",
            "_view_count": null,
            "_view_module": "@jupyter-widgets/controls",
            "_view_module_version": "1.5.0",
            "_view_name": "ProgressView",
            "bar_style": "success",
            "description": "",
            "description_tooltip": null,
            "layout": "IPY_MODEL_79d7711e2ac74f0a99162b75b3fb81b4",
            "max": 740,
            "min": 0,
            "orientation": "horizontal",
            "style": "IPY_MODEL_722cd10989cd4d96b692889646f8f928",
            "value": 740
          }
        },
        "fdfb6682d5b841e499db81092d59a1df": {
          "model_module": "@jupyter-widgets/controls",
          "model_name": "HTMLModel",
          "model_module_version": "1.5.0",
          "state": {
            "_dom_classes": [],
            "_model_module": "@jupyter-widgets/controls",
            "_model_module_version": "1.5.0",
            "_model_name": "HTMLModel",
            "_view_count": null,
            "_view_module": "@jupyter-widgets/controls",
            "_view_module_version": "1.5.0",
            "_view_name": "HTMLView",
            "description": "",
            "description_tooltip": null,
            "layout": "IPY_MODEL_fffb5cb55727497c9a5c03bafc8387f6",
            "placeholder": "​",
            "style": "IPY_MODEL_823d00e8d63742b2b8ef2847f6a15aff",
            "value": " 740/740 [00:00&lt;00:00, 18.1kB/s]"
          }
        },
        "d85d450e1206496a8260e20d7a477f3c": {
          "model_module": "@jupyter-widgets/base",
          "model_name": "LayoutModel",
          "model_module_version": "1.2.0",
          "state": {
            "_model_module": "@jupyter-widgets/base",
            "_model_module_version": "1.2.0",
            "_model_name": "LayoutModel",
            "_view_count": null,
            "_view_module": "@jupyter-widgets/base",
            "_view_module_version": "1.2.0",
            "_view_name": "LayoutView",
            "align_content": null,
            "align_items": null,
            "align_self": null,
            "border": null,
            "bottom": null,
            "display": null,
            "flex": null,
            "flex_flow": null,
            "grid_area": null,
            "grid_auto_columns": null,
            "grid_auto_flow": null,
            "grid_auto_rows": null,
            "grid_column": null,
            "grid_gap": null,
            "grid_row": null,
            "grid_template_areas": null,
            "grid_template_columns": null,
            "grid_template_rows": null,
            "height": null,
            "justify_content": null,
            "justify_items": null,
            "left": null,
            "margin": null,
            "max_height": null,
            "max_width": null,
            "min_height": null,
            "min_width": null,
            "object_fit": null,
            "object_position": null,
            "order": null,
            "overflow": null,
            "overflow_x": null,
            "overflow_y": null,
            "padding": null,
            "right": null,
            "top": null,
            "visibility": null,
            "width": null
          }
        },
        "f9435ba5df0045979d0c6f97ae339dc6": {
          "model_module": "@jupyter-widgets/base",
          "model_name": "LayoutModel",
          "model_module_version": "1.2.0",
          "state": {
            "_model_module": "@jupyter-widgets/base",
            "_model_module_version": "1.2.0",
            "_model_name": "LayoutModel",
            "_view_count": null,
            "_view_module": "@jupyter-widgets/base",
            "_view_module_version": "1.2.0",
            "_view_name": "LayoutView",
            "align_content": null,
            "align_items": null,
            "align_self": null,
            "border": null,
            "bottom": null,
            "display": null,
            "flex": null,
            "flex_flow": null,
            "grid_area": null,
            "grid_auto_columns": null,
            "grid_auto_flow": null,
            "grid_auto_rows": null,
            "grid_column": null,
            "grid_gap": null,
            "grid_row": null,
            "grid_template_areas": null,
            "grid_template_columns": null,
            "grid_template_rows": null,
            "height": null,
            "justify_content": null,
            "justify_items": null,
            "left": null,
            "margin": null,
            "max_height": null,
            "max_width": null,
            "min_height": null,
            "min_width": null,
            "object_fit": null,
            "object_position": null,
            "order": null,
            "overflow": null,
            "overflow_x": null,
            "overflow_y": null,
            "padding": null,
            "right": null,
            "top": null,
            "visibility": null,
            "width": null
          }
        },
        "857d0535615144028e48379e4126312f": {
          "model_module": "@jupyter-widgets/controls",
          "model_name": "DescriptionStyleModel",
          "model_module_version": "1.5.0",
          "state": {
            "_model_module": "@jupyter-widgets/controls",
            "_model_module_version": "1.5.0",
            "_model_name": "DescriptionStyleModel",
            "_view_count": null,
            "_view_module": "@jupyter-widgets/base",
            "_view_module_version": "1.2.0",
            "_view_name": "StyleView",
            "description_width": ""
          }
        },
        "79d7711e2ac74f0a99162b75b3fb81b4": {
          "model_module": "@jupyter-widgets/base",
          "model_name": "LayoutModel",
          "model_module_version": "1.2.0",
          "state": {
            "_model_module": "@jupyter-widgets/base",
            "_model_module_version": "1.2.0",
            "_model_name": "LayoutModel",
            "_view_count": null,
            "_view_module": "@jupyter-widgets/base",
            "_view_module_version": "1.2.0",
            "_view_name": "LayoutView",
            "align_content": null,
            "align_items": null,
            "align_self": null,
            "border": null,
            "bottom": null,
            "display": null,
            "flex": null,
            "flex_flow": null,
            "grid_area": null,
            "grid_auto_columns": null,
            "grid_auto_flow": null,
            "grid_auto_rows": null,
            "grid_column": null,
            "grid_gap": null,
            "grid_row": null,
            "grid_template_areas": null,
            "grid_template_columns": null,
            "grid_template_rows": null,
            "height": null,
            "justify_content": null,
            "justify_items": null,
            "left": null,
            "margin": null,
            "max_height": null,
            "max_width": null,
            "min_height": null,
            "min_width": null,
            "object_fit": null,
            "object_position": null,
            "order": null,
            "overflow": null,
            "overflow_x": null,
            "overflow_y": null,
            "padding": null,
            "right": null,
            "top": null,
            "visibility": null,
            "width": null
          }
        },
        "722cd10989cd4d96b692889646f8f928": {
          "model_module": "@jupyter-widgets/controls",
          "model_name": "ProgressStyleModel",
          "model_module_version": "1.5.0",
          "state": {
            "_model_module": "@jupyter-widgets/controls",
            "_model_module_version": "1.5.0",
            "_model_name": "ProgressStyleModel",
            "_view_count": null,
            "_view_module": "@jupyter-widgets/base",
            "_view_module_version": "1.2.0",
            "_view_name": "StyleView",
            "bar_color": null,
            "description_width": ""
          }
        },
        "fffb5cb55727497c9a5c03bafc8387f6": {
          "model_module": "@jupyter-widgets/base",
          "model_name": "LayoutModel",
          "model_module_version": "1.2.0",
          "state": {
            "_model_module": "@jupyter-widgets/base",
            "_model_module_version": "1.2.0",
            "_model_name": "LayoutModel",
            "_view_count": null,
            "_view_module": "@jupyter-widgets/base",
            "_view_module_version": "1.2.0",
            "_view_name": "LayoutView",
            "align_content": null,
            "align_items": null,
            "align_self": null,
            "border": null,
            "bottom": null,
            "display": null,
            "flex": null,
            "flex_flow": null,
            "grid_area": null,
            "grid_auto_columns": null,
            "grid_auto_flow": null,
            "grid_auto_rows": null,
            "grid_column": null,
            "grid_gap": null,
            "grid_row": null,
            "grid_template_areas": null,
            "grid_template_columns": null,
            "grid_template_rows": null,
            "height": null,
            "justify_content": null,
            "justify_items": null,
            "left": null,
            "margin": null,
            "max_height": null,
            "max_width": null,
            "min_height": null,
            "min_width": null,
            "object_fit": null,
            "object_position": null,
            "order": null,
            "overflow": null,
            "overflow_x": null,
            "overflow_y": null,
            "padding": null,
            "right": null,
            "top": null,
            "visibility": null,
            "width": null
          }
        },
        "823d00e8d63742b2b8ef2847f6a15aff": {
          "model_module": "@jupyter-widgets/controls",
          "model_name": "DescriptionStyleModel",
          "model_module_version": "1.5.0",
          "state": {
            "_model_module": "@jupyter-widgets/controls",
            "_model_module_version": "1.5.0",
            "_model_name": "DescriptionStyleModel",
            "_view_count": null,
            "_view_module": "@jupyter-widgets/base",
            "_view_module_version": "1.2.0",
            "_view_name": "StyleView",
            "description_width": ""
          }
        },
        "7431475236c446a5a0762583c930097a": {
          "model_module": "@jupyter-widgets/controls",
          "model_name": "HBoxModel",
          "model_module_version": "1.5.0",
          "state": {
            "_dom_classes": [],
            "_model_module": "@jupyter-widgets/controls",
            "_model_module_version": "1.5.0",
            "_model_name": "HBoxModel",
            "_view_count": null,
            "_view_module": "@jupyter-widgets/controls",
            "_view_module_version": "1.5.0",
            "_view_name": "HBoxView",
            "box_style": "",
            "children": [
              "IPY_MODEL_2632e79af13b48c186d8513cc810eee2",
              "IPY_MODEL_288ef99039c942088668531b8b5f7670",
              "IPY_MODEL_61f6a6789d964c9ba87ef2130423c803"
            ],
            "layout": "IPY_MODEL_2798712c615141e59587d0fb65517ca8"
          }
        },
        "2632e79af13b48c186d8513cc810eee2": {
          "model_module": "@jupyter-widgets/controls",
          "model_name": "HTMLModel",
          "model_module_version": "1.5.0",
          "state": {
            "_dom_classes": [],
            "_model_module": "@jupyter-widgets/controls",
            "_model_module_version": "1.5.0",
            "_model_name": "HTMLModel",
            "_view_count": null,
            "_view_module": "@jupyter-widgets/controls",
            "_view_module_version": "1.5.0",
            "_view_name": "HTMLView",
            "description": "",
            "description_tooltip": null,
            "layout": "IPY_MODEL_0a25baa234c140c799441a8afb2bb36f",
            "placeholder": "​",
            "style": "IPY_MODEL_1d787d2b52394840b53a27f10962138e",
            "value": "tokenizer_config.json: 100%"
          }
        },
        "288ef99039c942088668531b8b5f7670": {
          "model_module": "@jupyter-widgets/controls",
          "model_name": "FloatProgressModel",
          "model_module_version": "1.5.0",
          "state": {
            "_dom_classes": [],
            "_model_module": "@jupyter-widgets/controls",
            "_model_module_version": "1.5.0",
            "_model_name": "FloatProgressModel",
            "_view_count": null,
            "_view_module": "@jupyter-widgets/controls",
            "_view_module_version": "1.5.0",
            "_view_name": "ProgressView",
            "bar_style": "success",
            "description": "",
            "description_tooltip": null,
            "layout": "IPY_MODEL_71ebe4760c044c5aaa8183ef91929a2e",
            "max": 1242,
            "min": 0,
            "orientation": "horizontal",
            "style": "IPY_MODEL_ee3d754257d344d1864616a80c9de728",
            "value": 1242
          }
        },
        "61f6a6789d964c9ba87ef2130423c803": {
          "model_module": "@jupyter-widgets/controls",
          "model_name": "HTMLModel",
          "model_module_version": "1.5.0",
          "state": {
            "_dom_classes": [],
            "_model_module": "@jupyter-widgets/controls",
            "_model_module_version": "1.5.0",
            "_model_name": "HTMLModel",
            "_view_count": null,
            "_view_module": "@jupyter-widgets/controls",
            "_view_module_version": "1.5.0",
            "_view_name": "HTMLView",
            "description": "",
            "description_tooltip": null,
            "layout": "IPY_MODEL_91e16ff5352745debd109a1f4623d428",
            "placeholder": "​",
            "style": "IPY_MODEL_72bc3c9c82aa47d58da01d53e4961ad7",
            "value": " 1.24k/1.24k [00:00&lt;00:00, 43.0kB/s]"
          }
        },
        "2798712c615141e59587d0fb65517ca8": {
          "model_module": "@jupyter-widgets/base",
          "model_name": "LayoutModel",
          "model_module_version": "1.2.0",
          "state": {
            "_model_module": "@jupyter-widgets/base",
            "_model_module_version": "1.2.0",
            "_model_name": "LayoutModel",
            "_view_count": null,
            "_view_module": "@jupyter-widgets/base",
            "_view_module_version": "1.2.0",
            "_view_name": "LayoutView",
            "align_content": null,
            "align_items": null,
            "align_self": null,
            "border": null,
            "bottom": null,
            "display": null,
            "flex": null,
            "flex_flow": null,
            "grid_area": null,
            "grid_auto_columns": null,
            "grid_auto_flow": null,
            "grid_auto_rows": null,
            "grid_column": null,
            "grid_gap": null,
            "grid_row": null,
            "grid_template_areas": null,
            "grid_template_columns": null,
            "grid_template_rows": null,
            "height": null,
            "justify_content": null,
            "justify_items": null,
            "left": null,
            "margin": null,
            "max_height": null,
            "max_width": null,
            "min_height": null,
            "min_width": null,
            "object_fit": null,
            "object_position": null,
            "order": null,
            "overflow": null,
            "overflow_x": null,
            "overflow_y": null,
            "padding": null,
            "right": null,
            "top": null,
            "visibility": null,
            "width": null
          }
        },
        "0a25baa234c140c799441a8afb2bb36f": {
          "model_module": "@jupyter-widgets/base",
          "model_name": "LayoutModel",
          "model_module_version": "1.2.0",
          "state": {
            "_model_module": "@jupyter-widgets/base",
            "_model_module_version": "1.2.0",
            "_model_name": "LayoutModel",
            "_view_count": null,
            "_view_module": "@jupyter-widgets/base",
            "_view_module_version": "1.2.0",
            "_view_name": "LayoutView",
            "align_content": null,
            "align_items": null,
            "align_self": null,
            "border": null,
            "bottom": null,
            "display": null,
            "flex": null,
            "flex_flow": null,
            "grid_area": null,
            "grid_auto_columns": null,
            "grid_auto_flow": null,
            "grid_auto_rows": null,
            "grid_column": null,
            "grid_gap": null,
            "grid_row": null,
            "grid_template_areas": null,
            "grid_template_columns": null,
            "grid_template_rows": null,
            "height": null,
            "justify_content": null,
            "justify_items": null,
            "left": null,
            "margin": null,
            "max_height": null,
            "max_width": null,
            "min_height": null,
            "min_width": null,
            "object_fit": null,
            "object_position": null,
            "order": null,
            "overflow": null,
            "overflow_x": null,
            "overflow_y": null,
            "padding": null,
            "right": null,
            "top": null,
            "visibility": null,
            "width": null
          }
        },
        "1d787d2b52394840b53a27f10962138e": {
          "model_module": "@jupyter-widgets/controls",
          "model_name": "DescriptionStyleModel",
          "model_module_version": "1.5.0",
          "state": {
            "_model_module": "@jupyter-widgets/controls",
            "_model_module_version": "1.5.0",
            "_model_name": "DescriptionStyleModel",
            "_view_count": null,
            "_view_module": "@jupyter-widgets/base",
            "_view_module_version": "1.2.0",
            "_view_name": "StyleView",
            "description_width": ""
          }
        },
        "71ebe4760c044c5aaa8183ef91929a2e": {
          "model_module": "@jupyter-widgets/base",
          "model_name": "LayoutModel",
          "model_module_version": "1.2.0",
          "state": {
            "_model_module": "@jupyter-widgets/base",
            "_model_module_version": "1.2.0",
            "_model_name": "LayoutModel",
            "_view_count": null,
            "_view_module": "@jupyter-widgets/base",
            "_view_module_version": "1.2.0",
            "_view_name": "LayoutView",
            "align_content": null,
            "align_items": null,
            "align_self": null,
            "border": null,
            "bottom": null,
            "display": null,
            "flex": null,
            "flex_flow": null,
            "grid_area": null,
            "grid_auto_columns": null,
            "grid_auto_flow": null,
            "grid_auto_rows": null,
            "grid_column": null,
            "grid_gap": null,
            "grid_row": null,
            "grid_template_areas": null,
            "grid_template_columns": null,
            "grid_template_rows": null,
            "height": null,
            "justify_content": null,
            "justify_items": null,
            "left": null,
            "margin": null,
            "max_height": null,
            "max_width": null,
            "min_height": null,
            "min_width": null,
            "object_fit": null,
            "object_position": null,
            "order": null,
            "overflow": null,
            "overflow_x": null,
            "overflow_y": null,
            "padding": null,
            "right": null,
            "top": null,
            "visibility": null,
            "width": null
          }
        },
        "ee3d754257d344d1864616a80c9de728": {
          "model_module": "@jupyter-widgets/controls",
          "model_name": "ProgressStyleModel",
          "model_module_version": "1.5.0",
          "state": {
            "_model_module": "@jupyter-widgets/controls",
            "_model_module_version": "1.5.0",
            "_model_name": "ProgressStyleModel",
            "_view_count": null,
            "_view_module": "@jupyter-widgets/base",
            "_view_module_version": "1.2.0",
            "_view_name": "StyleView",
            "bar_color": null,
            "description_width": ""
          }
        },
        "91e16ff5352745debd109a1f4623d428": {
          "model_module": "@jupyter-widgets/base",
          "model_name": "LayoutModel",
          "model_module_version": "1.2.0",
          "state": {
            "_model_module": "@jupyter-widgets/base",
            "_model_module_version": "1.2.0",
            "_model_name": "LayoutModel",
            "_view_count": null,
            "_view_module": "@jupyter-widgets/base",
            "_view_module_version": "1.2.0",
            "_view_name": "LayoutView",
            "align_content": null,
            "align_items": null,
            "align_self": null,
            "border": null,
            "bottom": null,
            "display": null,
            "flex": null,
            "flex_flow": null,
            "grid_area": null,
            "grid_auto_columns": null,
            "grid_auto_flow": null,
            "grid_auto_rows": null,
            "grid_column": null,
            "grid_gap": null,
            "grid_row": null,
            "grid_template_areas": null,
            "grid_template_columns": null,
            "grid_template_rows": null,
            "height": null,
            "justify_content": null,
            "justify_items": null,
            "left": null,
            "margin": null,
            "max_height": null,
            "max_width": null,
            "min_height": null,
            "min_width": null,
            "object_fit": null,
            "object_position": null,
            "order": null,
            "overflow": null,
            "overflow_x": null,
            "overflow_y": null,
            "padding": null,
            "right": null,
            "top": null,
            "visibility": null,
            "width": null
          }
        },
        "72bc3c9c82aa47d58da01d53e4961ad7": {
          "model_module": "@jupyter-widgets/controls",
          "model_name": "DescriptionStyleModel",
          "model_module_version": "1.5.0",
          "state": {
            "_model_module": "@jupyter-widgets/controls",
            "_model_module_version": "1.5.0",
            "_model_name": "DescriptionStyleModel",
            "_view_count": null,
            "_view_module": "@jupyter-widgets/base",
            "_view_module_version": "1.2.0",
            "_view_name": "StyleView",
            "description_width": ""
          }
        },
        "1096c90100fb43dbba611f25b2a4636b": {
          "model_module": "@jupyter-widgets/controls",
          "model_name": "HBoxModel",
          "model_module_version": "1.5.0",
          "state": {
            "_dom_classes": [],
            "_model_module": "@jupyter-widgets/controls",
            "_model_module_version": "1.5.0",
            "_model_name": "HBoxModel",
            "_view_count": null,
            "_view_module": "@jupyter-widgets/controls",
            "_view_module_version": "1.5.0",
            "_view_name": "HBoxView",
            "box_style": "",
            "children": [
              "IPY_MODEL_762bcde27208417fae81f370a76692fc",
              "IPY_MODEL_dff03e4931844e5aa576712da51c5ccf",
              "IPY_MODEL_34d27bd978b84f21a76c14b20f479f13"
            ],
            "layout": "IPY_MODEL_011460159f24463a91559ae587c8888b"
          }
        },
        "762bcde27208417fae81f370a76692fc": {
          "model_module": "@jupyter-widgets/controls",
          "model_name": "HTMLModel",
          "model_module_version": "1.5.0",
          "state": {
            "_dom_classes": [],
            "_model_module": "@jupyter-widgets/controls",
            "_model_module_version": "1.5.0",
            "_model_name": "HTMLModel",
            "_view_count": null,
            "_view_module": "@jupyter-widgets/controls",
            "_view_module_version": "1.5.0",
            "_view_name": "HTMLView",
            "description": "",
            "description_tooltip": null,
            "layout": "IPY_MODEL_519a6bfa2b8f4e798fe24cfc8e71f25e",
            "placeholder": "​",
            "style": "IPY_MODEL_6435289157f3445eab2d9929b2bb8941",
            "value": "model_optimized.onnx: 100%"
          }
        },
        "dff03e4931844e5aa576712da51c5ccf": {
          "model_module": "@jupyter-widgets/controls",
          "model_name": "FloatProgressModel",
          "model_module_version": "1.5.0",
          "state": {
            "_dom_classes": [],
            "_model_module": "@jupyter-widgets/controls",
            "_model_module_version": "1.5.0",
            "_model_name": "FloatProgressModel",
            "_view_count": null,
            "_view_module": "@jupyter-widgets/controls",
            "_view_module_version": "1.5.0",
            "_view_name": "ProgressView",
            "bar_style": "success",
            "description": "",
            "description_tooltip": null,
            "layout": "IPY_MODEL_4927263bfe71423e96ad844b76aa0da2",
            "max": 217824172,
            "min": 0,
            "orientation": "horizontal",
            "style": "IPY_MODEL_7c74d7ab667947a7908f934cfeb85aeb",
            "value": 217824172
          }
        },
        "34d27bd978b84f21a76c14b20f479f13": {
          "model_module": "@jupyter-widgets/controls",
          "model_name": "HTMLModel",
          "model_module_version": "1.5.0",
          "state": {
            "_dom_classes": [],
            "_model_module": "@jupyter-widgets/controls",
            "_model_module_version": "1.5.0",
            "_model_name": "HTMLModel",
            "_view_count": null,
            "_view_module": "@jupyter-widgets/controls",
            "_view_module_version": "1.5.0",
            "_view_name": "HTMLView",
            "description": "",
            "description_tooltip": null,
            "layout": "IPY_MODEL_bfba4405351241e98bc6169ba6603a6e",
            "placeholder": "​",
            "style": "IPY_MODEL_2547cd0ac6164893baf8cbe5f72934d7",
            "value": " 218M/218M [00:02&lt;00:00, 76.9MB/s]"
          }
        },
        "011460159f24463a91559ae587c8888b": {
          "model_module": "@jupyter-widgets/base",
          "model_name": "LayoutModel",
          "model_module_version": "1.2.0",
          "state": {
            "_model_module": "@jupyter-widgets/base",
            "_model_module_version": "1.2.0",
            "_model_name": "LayoutModel",
            "_view_count": null,
            "_view_module": "@jupyter-widgets/base",
            "_view_module_version": "1.2.0",
            "_view_name": "LayoutView",
            "align_content": null,
            "align_items": null,
            "align_self": null,
            "border": null,
            "bottom": null,
            "display": null,
            "flex": null,
            "flex_flow": null,
            "grid_area": null,
            "grid_auto_columns": null,
            "grid_auto_flow": null,
            "grid_auto_rows": null,
            "grid_column": null,
            "grid_gap": null,
            "grid_row": null,
            "grid_template_areas": null,
            "grid_template_columns": null,
            "grid_template_rows": null,
            "height": null,
            "justify_content": null,
            "justify_items": null,
            "left": null,
            "margin": null,
            "max_height": null,
            "max_width": null,
            "min_height": null,
            "min_width": null,
            "object_fit": null,
            "object_position": null,
            "order": null,
            "overflow": null,
            "overflow_x": null,
            "overflow_y": null,
            "padding": null,
            "right": null,
            "top": null,
            "visibility": null,
            "width": null
          }
        },
        "519a6bfa2b8f4e798fe24cfc8e71f25e": {
          "model_module": "@jupyter-widgets/base",
          "model_name": "LayoutModel",
          "model_module_version": "1.2.0",
          "state": {
            "_model_module": "@jupyter-widgets/base",
            "_model_module_version": "1.2.0",
            "_model_name": "LayoutModel",
            "_view_count": null,
            "_view_module": "@jupyter-widgets/base",
            "_view_module_version": "1.2.0",
            "_view_name": "LayoutView",
            "align_content": null,
            "align_items": null,
            "align_self": null,
            "border": null,
            "bottom": null,
            "display": null,
            "flex": null,
            "flex_flow": null,
            "grid_area": null,
            "grid_auto_columns": null,
            "grid_auto_flow": null,
            "grid_auto_rows": null,
            "grid_column": null,
            "grid_gap": null,
            "grid_row": null,
            "grid_template_areas": null,
            "grid_template_columns": null,
            "grid_template_rows": null,
            "height": null,
            "justify_content": null,
            "justify_items": null,
            "left": null,
            "margin": null,
            "max_height": null,
            "max_width": null,
            "min_height": null,
            "min_width": null,
            "object_fit": null,
            "object_position": null,
            "order": null,
            "overflow": null,
            "overflow_x": null,
            "overflow_y": null,
            "padding": null,
            "right": null,
            "top": null,
            "visibility": null,
            "width": null
          }
        },
        "6435289157f3445eab2d9929b2bb8941": {
          "model_module": "@jupyter-widgets/controls",
          "model_name": "DescriptionStyleModel",
          "model_module_version": "1.5.0",
          "state": {
            "_model_module": "@jupyter-widgets/controls",
            "_model_module_version": "1.5.0",
            "_model_name": "DescriptionStyleModel",
            "_view_count": null,
            "_view_module": "@jupyter-widgets/base",
            "_view_module_version": "1.2.0",
            "_view_name": "StyleView",
            "description_width": ""
          }
        },
        "4927263bfe71423e96ad844b76aa0da2": {
          "model_module": "@jupyter-widgets/base",
          "model_name": "LayoutModel",
          "model_module_version": "1.2.0",
          "state": {
            "_model_module": "@jupyter-widgets/base",
            "_model_module_version": "1.2.0",
            "_model_name": "LayoutModel",
            "_view_count": null,
            "_view_module": "@jupyter-widgets/base",
            "_view_module_version": "1.2.0",
            "_view_name": "LayoutView",
            "align_content": null,
            "align_items": null,
            "align_self": null,
            "border": null,
            "bottom": null,
            "display": null,
            "flex": null,
            "flex_flow": null,
            "grid_area": null,
            "grid_auto_columns": null,
            "grid_auto_flow": null,
            "grid_auto_rows": null,
            "grid_column": null,
            "grid_gap": null,
            "grid_row": null,
            "grid_template_areas": null,
            "grid_template_columns": null,
            "grid_template_rows": null,
            "height": null,
            "justify_content": null,
            "justify_items": null,
            "left": null,
            "margin": null,
            "max_height": null,
            "max_width": null,
            "min_height": null,
            "min_width": null,
            "object_fit": null,
            "object_position": null,
            "order": null,
            "overflow": null,
            "overflow_x": null,
            "overflow_y": null,
            "padding": null,
            "right": null,
            "top": null,
            "visibility": null,
            "width": null
          }
        },
        "7c74d7ab667947a7908f934cfeb85aeb": {
          "model_module": "@jupyter-widgets/controls",
          "model_name": "ProgressStyleModel",
          "model_module_version": "1.5.0",
          "state": {
            "_model_module": "@jupyter-widgets/controls",
            "_model_module_version": "1.5.0",
            "_model_name": "ProgressStyleModel",
            "_view_count": null,
            "_view_module": "@jupyter-widgets/base",
            "_view_module_version": "1.2.0",
            "_view_name": "StyleView",
            "bar_color": null,
            "description_width": ""
          }
        },
        "bfba4405351241e98bc6169ba6603a6e": {
          "model_module": "@jupyter-widgets/base",
          "model_name": "LayoutModel",
          "model_module_version": "1.2.0",
          "state": {
            "_model_module": "@jupyter-widgets/base",
            "_model_module_version": "1.2.0",
            "_model_name": "LayoutModel",
            "_view_count": null,
            "_view_module": "@jupyter-widgets/base",
            "_view_module_version": "1.2.0",
            "_view_name": "LayoutView",
            "align_content": null,
            "align_items": null,
            "align_self": null,
            "border": null,
            "bottom": null,
            "display": null,
            "flex": null,
            "flex_flow": null,
            "grid_area": null,
            "grid_auto_columns": null,
            "grid_auto_flow": null,
            "grid_auto_rows": null,
            "grid_column": null,
            "grid_gap": null,
            "grid_row": null,
            "grid_template_areas": null,
            "grid_template_columns": null,
            "grid_template_rows": null,
            "height": null,
            "justify_content": null,
            "justify_items": null,
            "left": null,
            "margin": null,
            "max_height": null,
            "max_width": null,
            "min_height": null,
            "min_width": null,
            "object_fit": null,
            "object_position": null,
            "order": null,
            "overflow": null,
            "overflow_x": null,
            "overflow_y": null,
            "padding": null,
            "right": null,
            "top": null,
            "visibility": null,
            "width": null
          }
        },
        "2547cd0ac6164893baf8cbe5f72934d7": {
          "model_module": "@jupyter-widgets/controls",
          "model_name": "DescriptionStyleModel",
          "model_module_version": "1.5.0",
          "state": {
            "_model_module": "@jupyter-widgets/controls",
            "_model_module_version": "1.5.0",
            "_model_name": "DescriptionStyleModel",
            "_view_count": null,
            "_view_module": "@jupyter-widgets/base",
            "_view_module_version": "1.2.0",
            "_view_name": "StyleView",
            "description_width": ""
          }
        },
        "83756a68b20e4e1ca011eea98238dda0": {
          "model_module": "@jupyter-widgets/controls",
          "model_name": "HBoxModel",
          "model_module_version": "1.5.0",
          "state": {
            "_dom_classes": [],
            "_model_module": "@jupyter-widgets/controls",
            "_model_module_version": "1.5.0",
            "_model_name": "HBoxModel",
            "_view_count": null,
            "_view_module": "@jupyter-widgets/controls",
            "_view_module_version": "1.5.0",
            "_view_name": "HBoxView",
            "box_style": "",
            "children": [
              "IPY_MODEL_eb959abbe2b24fc286f5ed6d2eba1fb8",
              "IPY_MODEL_e21283d28da7406fb5ef00210a7200c1",
              "IPY_MODEL_cd8c613b71074eb38c60c53c887a53af"
            ],
            "layout": "IPY_MODEL_92357405d4574b9aa26f1adaeed88484"
          }
        },
        "eb959abbe2b24fc286f5ed6d2eba1fb8": {
          "model_module": "@jupyter-widgets/controls",
          "model_name": "HTMLModel",
          "model_module_version": "1.5.0",
          "state": {
            "_dom_classes": [],
            "_model_module": "@jupyter-widgets/controls",
            "_model_module_version": "1.5.0",
            "_model_name": "HTMLModel",
            "_view_count": null,
            "_view_module": "@jupyter-widgets/controls",
            "_view_module_version": "1.5.0",
            "_view_name": "HTMLView",
            "description": "",
            "description_tooltip": null,
            "layout": "IPY_MODEL_c56d3d42c0334ea88e31bf65a40e434c",
            "placeholder": "​",
            "style": "IPY_MODEL_67d7410e89474f5da98877fe7ac44ebc",
            "value": "tokenizer.json: 100%"
          }
        },
        "e21283d28da7406fb5ef00210a7200c1": {
          "model_module": "@jupyter-widgets/controls",
          "model_name": "FloatProgressModel",
          "model_module_version": "1.5.0",
          "state": {
            "_dom_classes": [],
            "_model_module": "@jupyter-widgets/controls",
            "_model_module_version": "1.5.0",
            "_model_name": "FloatProgressModel",
            "_view_count": null,
            "_view_module": "@jupyter-widgets/controls",
            "_view_module_version": "1.5.0",
            "_view_name": "ProgressView",
            "bar_style": "success",
            "description": "",
            "description_tooltip": null,
            "layout": "IPY_MODEL_037ca20a3e594342a6026232b41882fe",
            "max": 711396,
            "min": 0,
            "orientation": "horizontal",
            "style": "IPY_MODEL_8b1808bc2856463592e38db049ff79c8",
            "value": 711396
          }
        },
        "cd8c613b71074eb38c60c53c887a53af": {
          "model_module": "@jupyter-widgets/controls",
          "model_name": "HTMLModel",
          "model_module_version": "1.5.0",
          "state": {
            "_dom_classes": [],
            "_model_module": "@jupyter-widgets/controls",
            "_model_module_version": "1.5.0",
            "_model_name": "HTMLModel",
            "_view_count": null,
            "_view_module": "@jupyter-widgets/controls",
            "_view_module_version": "1.5.0",
            "_view_name": "HTMLView",
            "description": "",
            "description_tooltip": null,
            "layout": "IPY_MODEL_228869f907854c4a8136deca29f2c290",
            "placeholder": "​",
            "style": "IPY_MODEL_376ecffbeec24c9bac2b0c76b3ac2d4d",
            "value": " 711k/711k [00:00&lt;00:00, 891kB/s]"
          }
        },
        "92357405d4574b9aa26f1adaeed88484": {
          "model_module": "@jupyter-widgets/base",
          "model_name": "LayoutModel",
          "model_module_version": "1.2.0",
          "state": {
            "_model_module": "@jupyter-widgets/base",
            "_model_module_version": "1.2.0",
            "_model_name": "LayoutModel",
            "_view_count": null,
            "_view_module": "@jupyter-widgets/base",
            "_view_module_version": "1.2.0",
            "_view_name": "LayoutView",
            "align_content": null,
            "align_items": null,
            "align_self": null,
            "border": null,
            "bottom": null,
            "display": null,
            "flex": null,
            "flex_flow": null,
            "grid_area": null,
            "grid_auto_columns": null,
            "grid_auto_flow": null,
            "grid_auto_rows": null,
            "grid_column": null,
            "grid_gap": null,
            "grid_row": null,
            "grid_template_areas": null,
            "grid_template_columns": null,
            "grid_template_rows": null,
            "height": null,
            "justify_content": null,
            "justify_items": null,
            "left": null,
            "margin": null,
            "max_height": null,
            "max_width": null,
            "min_height": null,
            "min_width": null,
            "object_fit": null,
            "object_position": null,
            "order": null,
            "overflow": null,
            "overflow_x": null,
            "overflow_y": null,
            "padding": null,
            "right": null,
            "top": null,
            "visibility": null,
            "width": null
          }
        },
        "c56d3d42c0334ea88e31bf65a40e434c": {
          "model_module": "@jupyter-widgets/base",
          "model_name": "LayoutModel",
          "model_module_version": "1.2.0",
          "state": {
            "_model_module": "@jupyter-widgets/base",
            "_model_module_version": "1.2.0",
            "_model_name": "LayoutModel",
            "_view_count": null,
            "_view_module": "@jupyter-widgets/base",
            "_view_module_version": "1.2.0",
            "_view_name": "LayoutView",
            "align_content": null,
            "align_items": null,
            "align_self": null,
            "border": null,
            "bottom": null,
            "display": null,
            "flex": null,
            "flex_flow": null,
            "grid_area": null,
            "grid_auto_columns": null,
            "grid_auto_flow": null,
            "grid_auto_rows": null,
            "grid_column": null,
            "grid_gap": null,
            "grid_row": null,
            "grid_template_areas": null,
            "grid_template_columns": null,
            "grid_template_rows": null,
            "height": null,
            "justify_content": null,
            "justify_items": null,
            "left": null,
            "margin": null,
            "max_height": null,
            "max_width": null,
            "min_height": null,
            "min_width": null,
            "object_fit": null,
            "object_position": null,
            "order": null,
            "overflow": null,
            "overflow_x": null,
            "overflow_y": null,
            "padding": null,
            "right": null,
            "top": null,
            "visibility": null,
            "width": null
          }
        },
        "67d7410e89474f5da98877fe7ac44ebc": {
          "model_module": "@jupyter-widgets/controls",
          "model_name": "DescriptionStyleModel",
          "model_module_version": "1.5.0",
          "state": {
            "_model_module": "@jupyter-widgets/controls",
            "_model_module_version": "1.5.0",
            "_model_name": "DescriptionStyleModel",
            "_view_count": null,
            "_view_module": "@jupyter-widgets/base",
            "_view_module_version": "1.2.0",
            "_view_name": "StyleView",
            "description_width": ""
          }
        },
        "037ca20a3e594342a6026232b41882fe": {
          "model_module": "@jupyter-widgets/base",
          "model_name": "LayoutModel",
          "model_module_version": "1.2.0",
          "state": {
            "_model_module": "@jupyter-widgets/base",
            "_model_module_version": "1.2.0",
            "_model_name": "LayoutModel",
            "_view_count": null,
            "_view_module": "@jupyter-widgets/base",
            "_view_module_version": "1.2.0",
            "_view_name": "LayoutView",
            "align_content": null,
            "align_items": null,
            "align_self": null,
            "border": null,
            "bottom": null,
            "display": null,
            "flex": null,
            "flex_flow": null,
            "grid_area": null,
            "grid_auto_columns": null,
            "grid_auto_flow": null,
            "grid_auto_rows": null,
            "grid_column": null,
            "grid_gap": null,
            "grid_row": null,
            "grid_template_areas": null,
            "grid_template_columns": null,
            "grid_template_rows": null,
            "height": null,
            "justify_content": null,
            "justify_items": null,
            "left": null,
            "margin": null,
            "max_height": null,
            "max_width": null,
            "min_height": null,
            "min_width": null,
            "object_fit": null,
            "object_position": null,
            "order": null,
            "overflow": null,
            "overflow_x": null,
            "overflow_y": null,
            "padding": null,
            "right": null,
            "top": null,
            "visibility": null,
            "width": null
          }
        },
        "8b1808bc2856463592e38db049ff79c8": {
          "model_module": "@jupyter-widgets/controls",
          "model_name": "ProgressStyleModel",
          "model_module_version": "1.5.0",
          "state": {
            "_model_module": "@jupyter-widgets/controls",
            "_model_module_version": "1.5.0",
            "_model_name": "ProgressStyleModel",
            "_view_count": null,
            "_view_module": "@jupyter-widgets/base",
            "_view_module_version": "1.2.0",
            "_view_name": "StyleView",
            "bar_color": null,
            "description_width": ""
          }
        },
        "228869f907854c4a8136deca29f2c290": {
          "model_module": "@jupyter-widgets/base",
          "model_name": "LayoutModel",
          "model_module_version": "1.2.0",
          "state": {
            "_model_module": "@jupyter-widgets/base",
            "_model_module_version": "1.2.0",
            "_model_name": "LayoutModel",
            "_view_count": null,
            "_view_module": "@jupyter-widgets/base",
            "_view_module_version": "1.2.0",
            "_view_name": "LayoutView",
            "align_content": null,
            "align_items": null,
            "align_self": null,
            "border": null,
            "bottom": null,
            "display": null,
            "flex": null,
            "flex_flow": null,
            "grid_area": null,
            "grid_auto_columns": null,
            "grid_auto_flow": null,
            "grid_auto_rows": null,
            "grid_column": null,
            "grid_gap": null,
            "grid_row": null,
            "grid_template_areas": null,
            "grid_template_columns": null,
            "grid_template_rows": null,
            "height": null,
            "justify_content": null,
            "justify_items": null,
            "left": null,
            "margin": null,
            "max_height": null,
            "max_width": null,
            "min_height": null,
            "min_width": null,
            "object_fit": null,
            "object_position": null,
            "order": null,
            "overflow": null,
            "overflow_x": null,
            "overflow_y": null,
            "padding": null,
            "right": null,
            "top": null,
            "visibility": null,
            "width": null
          }
        },
        "376ecffbeec24c9bac2b0c76b3ac2d4d": {
          "model_module": "@jupyter-widgets/controls",
          "model_name": "DescriptionStyleModel",
          "model_module_version": "1.5.0",
          "state": {
            "_model_module": "@jupyter-widgets/controls",
            "_model_module_version": "1.5.0",
            "_model_name": "DescriptionStyleModel",
            "_view_count": null,
            "_view_module": "@jupyter-widgets/base",
            "_view_module_version": "1.2.0",
            "_view_name": "StyleView",
            "description_width": ""
          }
        },
        "304423b4d7c04c9d8aba2d12faa4713f": {
          "model_module": "@jupyter-widgets/controls",
          "model_name": "HBoxModel",
          "model_module_version": "1.5.0",
          "state": {
            "_dom_classes": [],
            "_model_module": "@jupyter-widgets/controls",
            "_model_module_version": "1.5.0",
            "_model_name": "HBoxModel",
            "_view_count": null,
            "_view_module": "@jupyter-widgets/controls",
            "_view_module_version": "1.5.0",
            "_view_name": "HBoxView",
            "box_style": "",
            "children": [
              "IPY_MODEL_8852de05adf447c781b0f5369b4dc42d",
              "IPY_MODEL_af99782e292c4a99b1ab6fab2eb6fc87",
              "IPY_MODEL_c766dfb3378e47baa4e54b4b6f184dde"
            ],
            "layout": "IPY_MODEL_bd36addb476f49ab88741dc0248ddc21"
          }
        },
        "8852de05adf447c781b0f5369b4dc42d": {
          "model_module": "@jupyter-widgets/controls",
          "model_name": "HTMLModel",
          "model_module_version": "1.5.0",
          "state": {
            "_dom_classes": [],
            "_model_module": "@jupyter-widgets/controls",
            "_model_module_version": "1.5.0",
            "_model_name": "HTMLModel",
            "_view_count": null,
            "_view_module": "@jupyter-widgets/controls",
            "_view_module_version": "1.5.0",
            "_view_name": "HTMLView",
            "description": "",
            "description_tooltip": null,
            "layout": "IPY_MODEL_15762491ab034d75ac173bc85af24bbc",
            "placeholder": "​",
            "style": "IPY_MODEL_00123707c59d405e989782bbdf9c223f",
            "value": "special_tokens_map.json: 100%"
          }
        },
        "af99782e292c4a99b1ab6fab2eb6fc87": {
          "model_module": "@jupyter-widgets/controls",
          "model_name": "FloatProgressModel",
          "model_module_version": "1.5.0",
          "state": {
            "_dom_classes": [],
            "_model_module": "@jupyter-widgets/controls",
            "_model_module_version": "1.5.0",
            "_model_name": "FloatProgressModel",
            "_view_count": null,
            "_view_module": "@jupyter-widgets/controls",
            "_view_module_version": "1.5.0",
            "_view_name": "ProgressView",
            "bar_style": "success",
            "description": "",
            "description_tooltip": null,
            "layout": "IPY_MODEL_97c0907bceef49ed9a9d5d0e16362897",
            "max": 695,
            "min": 0,
            "orientation": "horizontal",
            "style": "IPY_MODEL_897a737ae2404db8b371908c5459ee1c",
            "value": 695
          }
        },
        "c766dfb3378e47baa4e54b4b6f184dde": {
          "model_module": "@jupyter-widgets/controls",
          "model_name": "HTMLModel",
          "model_module_version": "1.5.0",
          "state": {
            "_dom_classes": [],
            "_model_module": "@jupyter-widgets/controls",
            "_model_module_version": "1.5.0",
            "_model_name": "HTMLModel",
            "_view_count": null,
            "_view_module": "@jupyter-widgets/controls",
            "_view_module_version": "1.5.0",
            "_view_name": "HTMLView",
            "description": "",
            "description_tooltip": null,
            "layout": "IPY_MODEL_51db838b725541b0ab61ef5495b23679",
            "placeholder": "​",
            "style": "IPY_MODEL_56c35a0803ee49bf980edb87dcc0551c",
            "value": " 695/695 [00:00&lt;00:00, 14.8kB/s]"
          }
        },
        "bd36addb476f49ab88741dc0248ddc21": {
          "model_module": "@jupyter-widgets/base",
          "model_name": "LayoutModel",
          "model_module_version": "1.2.0",
          "state": {
            "_model_module": "@jupyter-widgets/base",
            "_model_module_version": "1.2.0",
            "_model_name": "LayoutModel",
            "_view_count": null,
            "_view_module": "@jupyter-widgets/base",
            "_view_module_version": "1.2.0",
            "_view_name": "LayoutView",
            "align_content": null,
            "align_items": null,
            "align_self": null,
            "border": null,
            "bottom": null,
            "display": null,
            "flex": null,
            "flex_flow": null,
            "grid_area": null,
            "grid_auto_columns": null,
            "grid_auto_flow": null,
            "grid_auto_rows": null,
            "grid_column": null,
            "grid_gap": null,
            "grid_row": null,
            "grid_template_areas": null,
            "grid_template_columns": null,
            "grid_template_rows": null,
            "height": null,
            "justify_content": null,
            "justify_items": null,
            "left": null,
            "margin": null,
            "max_height": null,
            "max_width": null,
            "min_height": null,
            "min_width": null,
            "object_fit": null,
            "object_position": null,
            "order": null,
            "overflow": null,
            "overflow_x": null,
            "overflow_y": null,
            "padding": null,
            "right": null,
            "top": null,
            "visibility": null,
            "width": null
          }
        },
        "15762491ab034d75ac173bc85af24bbc": {
          "model_module": "@jupyter-widgets/base",
          "model_name": "LayoutModel",
          "model_module_version": "1.2.0",
          "state": {
            "_model_module": "@jupyter-widgets/base",
            "_model_module_version": "1.2.0",
            "_model_name": "LayoutModel",
            "_view_count": null,
            "_view_module": "@jupyter-widgets/base",
            "_view_module_version": "1.2.0",
            "_view_name": "LayoutView",
            "align_content": null,
            "align_items": null,
            "align_self": null,
            "border": null,
            "bottom": null,
            "display": null,
            "flex": null,
            "flex_flow": null,
            "grid_area": null,
            "grid_auto_columns": null,
            "grid_auto_flow": null,
            "grid_auto_rows": null,
            "grid_column": null,
            "grid_gap": null,
            "grid_row": null,
            "grid_template_areas": null,
            "grid_template_columns": null,
            "grid_template_rows": null,
            "height": null,
            "justify_content": null,
            "justify_items": null,
            "left": null,
            "margin": null,
            "max_height": null,
            "max_width": null,
            "min_height": null,
            "min_width": null,
            "object_fit": null,
            "object_position": null,
            "order": null,
            "overflow": null,
            "overflow_x": null,
            "overflow_y": null,
            "padding": null,
            "right": null,
            "top": null,
            "visibility": null,
            "width": null
          }
        },
        "00123707c59d405e989782bbdf9c223f": {
          "model_module": "@jupyter-widgets/controls",
          "model_name": "DescriptionStyleModel",
          "model_module_version": "1.5.0",
          "state": {
            "_model_module": "@jupyter-widgets/controls",
            "_model_module_version": "1.5.0",
            "_model_name": "DescriptionStyleModel",
            "_view_count": null,
            "_view_module": "@jupyter-widgets/base",
            "_view_module_version": "1.2.0",
            "_view_name": "StyleView",
            "description_width": ""
          }
        },
        "97c0907bceef49ed9a9d5d0e16362897": {
          "model_module": "@jupyter-widgets/base",
          "model_name": "LayoutModel",
          "model_module_version": "1.2.0",
          "state": {
            "_model_module": "@jupyter-widgets/base",
            "_model_module_version": "1.2.0",
            "_model_name": "LayoutModel",
            "_view_count": null,
            "_view_module": "@jupyter-widgets/base",
            "_view_module_version": "1.2.0",
            "_view_name": "LayoutView",
            "align_content": null,
            "align_items": null,
            "align_self": null,
            "border": null,
            "bottom": null,
            "display": null,
            "flex": null,
            "flex_flow": null,
            "grid_area": null,
            "grid_auto_columns": null,
            "grid_auto_flow": null,
            "grid_auto_rows": null,
            "grid_column": null,
            "grid_gap": null,
            "grid_row": null,
            "grid_template_areas": null,
            "grid_template_columns": null,
            "grid_template_rows": null,
            "height": null,
            "justify_content": null,
            "justify_items": null,
            "left": null,
            "margin": null,
            "max_height": null,
            "max_width": null,
            "min_height": null,
            "min_width": null,
            "object_fit": null,
            "object_position": null,
            "order": null,
            "overflow": null,
            "overflow_x": null,
            "overflow_y": null,
            "padding": null,
            "right": null,
            "top": null,
            "visibility": null,
            "width": null
          }
        },
        "897a737ae2404db8b371908c5459ee1c": {
          "model_module": "@jupyter-widgets/controls",
          "model_name": "ProgressStyleModel",
          "model_module_version": "1.5.0",
          "state": {
            "_model_module": "@jupyter-widgets/controls",
            "_model_module_version": "1.5.0",
            "_model_name": "ProgressStyleModel",
            "_view_count": null,
            "_view_module": "@jupyter-widgets/base",
            "_view_module_version": "1.2.0",
            "_view_name": "StyleView",
            "bar_color": null,
            "description_width": ""
          }
        },
        "51db838b725541b0ab61ef5495b23679": {
          "model_module": "@jupyter-widgets/base",
          "model_name": "LayoutModel",
          "model_module_version": "1.2.0",
          "state": {
            "_model_module": "@jupyter-widgets/base",
            "_model_module_version": "1.2.0",
            "_model_name": "LayoutModel",
            "_view_count": null,
            "_view_module": "@jupyter-widgets/base",
            "_view_module_version": "1.2.0",
            "_view_name": "LayoutView",
            "align_content": null,
            "align_items": null,
            "align_self": null,
            "border": null,
            "bottom": null,
            "display": null,
            "flex": null,
            "flex_flow": null,
            "grid_area": null,
            "grid_auto_columns": null,
            "grid_auto_flow": null,
            "grid_auto_rows": null,
            "grid_column": null,
            "grid_gap": null,
            "grid_row": null,
            "grid_template_areas": null,
            "grid_template_columns": null,
            "grid_template_rows": null,
            "height": null,
            "justify_content": null,
            "justify_items": null,
            "left": null,
            "margin": null,
            "max_height": null,
            "max_width": null,
            "min_height": null,
            "min_width": null,
            "object_fit": null,
            "object_position": null,
            "order": null,
            "overflow": null,
            "overflow_x": null,
            "overflow_y": null,
            "padding": null,
            "right": null,
            "top": null,
            "visibility": null,
            "width": null
          }
        },
        "56c35a0803ee49bf980edb87dcc0551c": {
          "model_module": "@jupyter-widgets/controls",
          "model_name": "DescriptionStyleModel",
          "model_module_version": "1.5.0",
          "state": {
            "_model_module": "@jupyter-widgets/controls",
            "_model_module_version": "1.5.0",
            "_model_name": "DescriptionStyleModel",
            "_view_count": null,
            "_view_module": "@jupyter-widgets/base",
            "_view_module_version": "1.2.0",
            "_view_name": "StyleView",
            "description_width": ""
          }
        }
      }
    }
  },
  "cells": [
    {
      "cell_type": "markdown",
      "source": [
        "### **Step 1**"
      ],
      "metadata": {
        "id": "mTMUf-7GhIdo"
      }
    },
    {
      "cell_type": "markdown",
      "source": [
        "**1. Install Required Libraries**"
      ],
      "metadata": {
        "id": "MnLZkr9fhCsh"
      }
    },
    {
      "cell_type": "markdown",
      "source": [
        "Here is the list of all the required libraries and their versions. Make sure the libraries are installed with the given version as multiple libraries depend on one another. If you want to install the latest version, then make sure all the required libraries are compatible with each other."
      ],
      "metadata": {
        "id": "bK9Nw4J1BvpB"
      }
    },
    {
      "cell_type": "code",
      "execution_count": 1,
      "metadata": {
        "colab": {
          "base_uri": "https://localhost:8080/"
        },
        "id": "RGnLLHGhg2dF",
        "outputId": "fe6e1ee6-6415-4eb0-be95-f81df62071b8"
      },
      "outputs": [
        {
          "output_type": "stream",
          "name": "stdout",
          "text": [
            "  Preparing metadata (setup.py) ... \u001b[?25l\u001b[?25hdone\n",
            "  Building wheel for langdetect (setup.py) ... \u001b[?25l\u001b[?25hdone\n",
            "\u001b[31mERROR: pip's dependency resolver does not currently take into account all the packages that are installed. This behaviour is the source of the following dependency conflicts.\n",
            "accelerate 0.34.2 requires huggingface-hub>=0.21.0, but you have huggingface-hub 0.20.3 which is incompatible.\n",
            "transformers 4.44.2 requires huggingface-hub<1.0,>=0.23.2, but you have huggingface-hub 0.20.3 which is incompatible.\n",
            "transformers 4.44.2 requires tokenizers<0.20,>=0.19, but you have tokenizers 0.15.2 which is incompatible.\u001b[0m\u001b[31m\n",
            "\u001b[0m  Installing build dependencies ... \u001b[?25l\u001b[?25hdone\n",
            "  Getting requirements to build wheel ... \u001b[?25l\u001b[?25hdone\n",
            "  Installing backend dependencies ... \u001b[?25l\u001b[?25hdone\n",
            "  Preparing metadata (pyproject.toml) ... \u001b[?25l\u001b[?25hdone\n",
            "  Building wheel for llama-cpp-python (pyproject.toml) ... \u001b[?25l\u001b[?25hdone\n",
            "\u001b[31mERROR: pip's dependency resolver does not currently take into account all the packages that are installed. This behaviour is the source of the following dependency conflicts.\n",
            "langchain-groq 0.1.3 requires langchain-core<0.2.0,>=0.1.45, but you have langchain-core 0.2.41 which is incompatible.\u001b[0m\u001b[31m\n",
            "\u001b[0m"
          ]
        }
      ],
      "source": [
        "!pip -qqq install pip --progress-bar off\n",
        "!pip -qqq install langchain-groq==0.1.3 --progress-bar off\n",
        "!pip -qqq install langchain==0.1.17 --progress-bar off\n",
        "!pip -qqq install llama-parse==0.1.3 --progress-bar off\n",
        "!pip -qqq install \"unstructured[md]\"==0.13.6 --progress-bar off\n",
        "!pip -qqq install fastembed==0.2.7 --progress-bar off\n",
        "!pip -qqq install flashrank==0.2.4 --progress-bar off\n",
        "!pip -qqq install faiss-cpu==1.8.0 --progress-bar off\n",
        "!pip -qqq install langchain-community==0.2.5 --progress-bar off"
      ]
    },
    {
      "cell_type": "markdown",
      "source": [
        "N.B.: Here the notification `Building wheel for llama-cpp-python (pyproject.toml)` should `done` as it allows to declare which build backend used and which other dependencies are needed to build for project."
      ],
      "metadata": {
        "id": "qyxa6v_7DZRx"
      }
    },
    {
      "cell_type": "markdown",
      "source": [
        "**2. Load Required Libraries**"
      ],
      "metadata": {
        "id": "zvuhfbochPdJ"
      }
    },
    {
      "cell_type": "code",
      "source": [
        "import os\n",
        "import textwrap\n",
        "from pathlib import Path\n",
        "\n",
        "from google.colab import userdata\n",
        "from IPython.display import Markdown\n",
        "from langchain.schema import Document\n",
        "from langchain.chains import RetrievalQA\n",
        "from langchain.prompts import PromptTemplate\n",
        "from langchain_community.vectorstores import FAISS\n",
        "from langchain.retrievers import ContextualCompressionRetriever\n",
        "from langchain.retrievers.document_compressors import FlashrankRerank\n",
        "from langchain.text_splitter import RecursiveCharacterTextSplitter\n",
        "from langchain_community.document_loaders import UnstructuredMarkdownLoader\n",
        "from langchain_community.embeddings.fastembed import FastEmbedEmbeddings\n",
        "from langchain_core.prompts import ChatPromptTemplate\n",
        "from langchain_groq import ChatGroq\n",
        "from llama_parse import LlamaParse"
      ],
      "metadata": {
        "id": "i_eWifRzhP0-"
      },
      "execution_count": 2,
      "outputs": []
    },
    {
      "cell_type": "code",
      "source": [
        "'''Connect all the SECRET KEY, stored in the vault'''\n",
        "from google.colab import userdata"
      ],
      "metadata": {
        "id": "CSP9iqIEhwk3"
      },
      "execution_count": 3,
      "outputs": []
    },
    {
      "cell_type": "markdown",
      "source": [
        "### **Step 2**"
      ],
      "metadata": {
        "id": "Vt2iN4qNhgGl"
      }
    },
    {
      "cell_type": "markdown",
      "source": [
        "**3. Set Up the File Path**"
      ],
      "metadata": {
        "id": "_jk1x22ghhw4"
      }
    },
    {
      "cell_type": "markdown",
      "source": [
        "Load and set up the file path"
      ],
      "metadata": {
        "id": "bJTNOoV9TiiZ"
      }
    },
    {
      "cell_type": "code",
      "source": [
        "file_path = \"/content/12587973.pdf\""
      ],
      "metadata": {
        "id": "z0eQWl1ihhSN"
      },
      "execution_count": 4,
      "outputs": []
    },
    {
      "cell_type": "markdown",
      "source": [
        "### **Step 3**"
      ],
      "metadata": {
        "id": "aTG23w9-hvCV"
      }
    },
    {
      "cell_type": "markdown",
      "source": [
        "**4. Document Parsing & Spliting**"
      ],
      "metadata": {
        "id": "dxlWSOgWhx-X"
      }
    },
    {
      "cell_type": "markdown",
      "source": [
        "**4.1 Required Parsing function loading...**"
      ],
      "metadata": {
        "id": "R6V0XR7HjBmA"
      }
    },
    {
      "cell_type": "markdown",
      "source": [
        "LlamaParse is a **GenAI-native document parser** that can parse complex document data for any downstream LLM use case (RAG, agents).\n",
        "\n",
        "It is really good at the following:\n",
        "\n",
        "- ✅ **Broad file type support**: Parsing a variety of unstructured file types (.pdf, .pptx, .docx, .xlsx, .html) with text, tables, visual elements, weird layouts, and more.\n",
        "- ✅ **Table recognition**: Parsing embedded tables accurately into text and semi-structured representations.\n",
        "- ✅ **Multimodal parsing and chunking**: Extracting visual elements (images/diagrams) into structured formats and return image chunks using the latest multimodal models.\n",
        "- ✅ **Custom parsing**: Input custom prompt instructions to customize the output the way you want it.\n",
        "\n",
        "LlamaParse directly integrates with [LlamaIndex](https://github.com/run-llama/llama_index).\n",
        "\n",
        "The free plan is up to 1000 pages a day. Paid plan is free 7k pages per week + 0.3c per additional page by default. There is a sandbox available to test the API [**https://cloud.llamaindex.ai/parse ↗**](https://cloud.llamaindex.ai/parse).\n",
        "\n",
        "Read below for some quickstart information, or see the [full documentation](https://docs.cloud.llamaindex.ai/).\n",
        "\n",
        "If you're a company interested in enterprise RAG solutions, and/or high volume/on-prem usage of LlamaParse, come [talk to us](https://www.llamaindex.ai/contact)."
      ],
      "metadata": {
        "id": "skdXGhd8NBbL"
      }
    },
    {
      "cell_type": "code",
      "source": [
        "LLAMA_PARSE_API_KEY = userdata.get(\"LLAMA_PARSE_API_KEY\")\n",
        "\n",
        "parsing_instruction = f\"\"\"The provided document is resume for job application and many more.\n",
        "Try to be precise while answering the questions.\"\"\"\n",
        "\n",
        "parser = LlamaParse(\n",
        "    api_key = LLAMA_PARSE_API_KEY, ## LlamaParse API key\n",
        "    result_type = \"markdown\", ## Type of parsing for showcase\n",
        "    parsing_instruction = parsing_instruction, ## Additional instruction about document\n",
        ")"
      ],
      "metadata": {
        "id": "nDAKOCfaiIWZ"
      },
      "execution_count": 5,
      "outputs": []
    },
    {
      "cell_type": "markdown",
      "source": [
        "**4.2 Load & View Document**"
      ],
      "metadata": {
        "id": "CjCh2Mxtj4xp"
      }
    },
    {
      "cell_type": "markdown",
      "source": [
        "Loading the documents or information to be utilized through llamaparse."
      ],
      "metadata": {
        "id": "1SVIEswcOF_S"
      }
    },
    {
      "cell_type": "code",
      "source": [
        "llama_parse_documents = await parser.aload_data(file_path)\n",
        "print(llama_parse_documents)"
      ],
      "metadata": {
        "colab": {
          "base_uri": "https://localhost:8080/"
        },
        "id": "hhlgGR0qj9Cu",
        "outputId": "064845fe-f9bc-470f-93b7-579a5c11eed0"
      },
      "execution_count": 6,
      "outputs": [
        {
          "output_type": "stream",
          "name": "stdout",
          "text": [
            "Started parsing the file under job_id f546eb35-2d6b-420a-9227-d6035b05633b\n",
            "[Document(id_='a217be49-b35b-44a5-88e3-d39639ba1f6e', embedding=None, metadata={'file_path': '/content/12587973.pdf'}, excluded_embed_metadata_keys=[], excluded_llm_metadata_keys=[], relationships={}, text='# SUBSTITUTE TEACHER\\n\\n# Summary\\n\\nReceiving an education on Psychology and pursuing my teaching certification has been the best professional accomplishment I have achieved. The teaching in the absence of the teacher helped me understand that I have a background to implement the strategist teach.\\n\\nSales Manager successful in relationship and team building. Motivates sales teams to exceed sales goals with a track record of consistently achieving employee retention, skilled in leading teams to set record-high sales figures, expand existing territories and develop new accounts. Achieve record-setting revenue gains. Talented, effective at multi-tasking and reaching sales targets. Builds loyalty and long-term relationships with customers.\\n\\nBusiness development executive experienced in all aspects of sales and marketing, contract negotiation and account management. Driven professional who effectively builds loyalty and long-term relationships with customers while consistently exceeding sales targets.\\n\\n# Accomplishments\\n\\n8620 Spectrum Center Blvd.\\nSan Diego, CA 92123\\n\\n- Attentive Sales Manager with a track record of consistently achieving employee retention and sales goals.\\n- 8 years in sales, customer service and personnel and payroll management.\\n- Driven to exceed goals and expectations.\\n- Talented sales professional effective at multi-tasking and reaching sales targets.\\n- Builds loyalty and long-term relationships with customers.\\n\\n# Experience\\n\\n# Substitute Teacher\\n\\n01/2016 to Current\\nCompany Name\\n\\n- Manage classrooms, and help children throughout the day, by assessing the lesson of the day.\\n- Maintaining discipline in the classroom.\\n\\n# Company Name\\n\\n10/2011 to 01/2017\\nCity, State\\n\\n- Advised prospective employees on various tips and tricks that would assist them in gaining employment in the organization.\\n- Implement effective HR policies to ensure all practices are following labor and employment regulations.\\n- Increased employee retention above 90% by rigorously maintaining a positive work environment.\\n- Develop targeted outreach recruitment programs to recruit more minorities and meet affirmative action requirements.\\n- Created a website with an embedded database and FTP functionality to enable online recruitment for the organization and reducing recruitment costs by 10%.\\n- Develop user-friendly application forms and questionnaires to be used by the organization during staff recruitment and interviewing.\\n- Arbitrate labor disputes in collaboration with the legal department.\\n\\n# Operations Sales Manager\\n\\n09/2008 to 10/2011\\nCompany Name\\nCity, State\\n\\n- Established operational objectives and work plans and delegated assignments to subordinate managers.\\n- Supervised a team of 15 area managers and 35 associates.\\n- Developed executive presentations and reports to facilitate project evaluation and process improvement.\\n- Directed planning, budgeting, vendor selection and quality assurance efforts.\\n- Defined clear targets and objectives and communicated them to other team members.\\n- Reviewed sales, customer concerns and new opportunities to drive business strategy at weekly planning sessions.\\n- Assessed vendor products and maintained positive vendor relations.\\n- Supported the sales team in writing proposals and closing contracts.\\n- Developed quarterly and annual sales department budgets.\\n- Developed a comprehensive training program for new sales associates.\\n- Reviewed operational records and reports to project sales and determine profitability.\\n- Trained all incoming sales team members.\\n- Maintained knowledge of current sales and promotions, policies regarding payment and exchanges and security practices.\\n\\n# Insurance Agent\\n\\n08/2005 to 08/2008\\nFred Loya Insurance - Eagle Pass TX 78852\\n\\n- Met with existing and prospective clients each week to select appropriate insurance policies.\\n- Calculated quotes and educated potential clients on insurance options.\\n- Tracked the progress of all outstanding insurance claims.\\n- Calculated premiums and established payment methods for sales.\\n- Identified and solicited sales prospects in agency databases.\\n- Evaluated leads obtained through direct referrals, lead databases and cold calling.\\n- Modeled exceptional customer service skills and appropriate diagnostic sales techniques.\\n- Collected all premiums on or before effective date of coverage.\\n- Contributed ideas and offered constructive feedback at weekly sales and training meetings.\\n\\n# Education and Training\\n\\nHigh School Diploma\\n2000\\nEagle Pass High School\\nCity, State\\n\\nAssociate of Science\\n---\\n# MEDICAL 2009 KAPLAN UNIVERSITY\\n\\n# City, State\\n\\n# Bachelor of Arts: Psychology minor on Child Development\\n\\n# 2017 Psychology Child Development\\n\\n# Languages\\n\\nFluent in English and Spanish\\n\\n# Skills\\n\\n- agency\\n- budgeting\\n- budgets\\n- business strategy\\n- closing\\n- cold calling\\n- interpersonal\\n- communication skills\\n- Excellent Communication\\n- oral\\n- contracts\\n- Critical thinking\\n- clients\\n- Client Relations\\n- Customer Service\\n- customer service skills\\n- databases\\n- database\\n- Fluent in English\\n- forms\\n- FTP\\n- HR\\n- Insurance\\n- Leadership\\n- legal\\n- Marketing\\n- meetings\\n- Mergers and acquisitions\\n- Works\\n- organizational\\n- policies\\n- executive presentations\\n- Problem Solver\\n- process improvement\\n- progress\\n- proposals\\n- quality assurance\\n- recruitment\\n- sales\\n- sales and training\\n- Spanish\\n- Strategic marketing\\n- supervision\\n- Time management\\n- vendor relations\\n- website\\n- written', start_char_idx=None, end_char_idx=None, text_template='{metadata_str}\\n\\n{content}', metadata_template='{key}: {value}', metadata_seperator='\\n')]\n"
          ]
        }
      ]
    },
    {
      "cell_type": "code",
      "source": [
        "parsed_doc = llama_parse_documents[0]\n",
        "print(parsed_doc)"
      ],
      "metadata": {
        "colab": {
          "base_uri": "https://localhost:8080/"
        },
        "id": "NJWm3WmbkAuT",
        "outputId": "1e4dab3c-d202-47d1-ef3d-35bb5c0e375a"
      },
      "execution_count": 7,
      "outputs": [
        {
          "output_type": "stream",
          "name": "stdout",
          "text": [
            "Doc ID: a217be49-b35b-44a5-88e3-d39639ba1f6e\n",
            "Text: # SUBSTITUTE TEACHER  # Summary  Receiving an education on\n",
            "Psychology and pursuing my teaching certification has been the best\n",
            "professional accomplishment I have achieved. The teaching in the\n",
            "absence of the teacher helped me understand that I have a background\n",
            "to implement the strategist teach.  Sales Manager successful in\n",
            "relationship and team ...\n"
          ]
        }
      ]
    },
    {
      "cell_type": "code",
      "source": [
        "print(parsed_doc.id_)"
      ],
      "metadata": {
        "id": "7I3nyPJxFMWW",
        "colab": {
          "base_uri": "https://localhost:8080/"
        },
        "outputId": "88701737-de3a-4448-d6bc-7f4252f9ec2f"
      },
      "execution_count": 8,
      "outputs": [
        {
          "output_type": "stream",
          "name": "stdout",
          "text": [
            "a217be49-b35b-44a5-88e3-d39639ba1f6e\n"
          ]
        }
      ]
    },
    {
      "cell_type": "code",
      "source": [
        "from IPython.display import Markdown\n",
        "Markdown(parsed_doc.text)"
      ],
      "metadata": {
        "colab": {
          "base_uri": "https://localhost:8080/",
          "height": 1000
        },
        "id": "oSisQS1FkthH",
        "outputId": "28d3787b-5c2d-4fb7-c084-ddffbab94d91"
      },
      "execution_count": 9,
      "outputs": [
        {
          "output_type": "execute_result",
          "data": {
            "text/plain": [
              "<IPython.core.display.Markdown object>"
            ],
            "text/markdown": "# SUBSTITUTE TEACHER\n\n# Summary\n\nReceiving an education on Psychology and pursuing my teaching certification has been the best professional accomplishment I have achieved. The teaching in the absence of the teacher helped me understand that I have a background to implement the strategist teach.\n\nSales Manager successful in relationship and team building. Motivates sales teams to exceed sales goals with a track record of consistently achieving employee retention, skilled in leading teams to set record-high sales figures, expand existing territories and develop new accounts. Achieve record-setting revenue gains. Talented, effective at multi-tasking and reaching sales targets. Builds loyalty and long-term relationships with customers.\n\nBusiness development executive experienced in all aspects of sales and marketing, contract negotiation and account management. Driven professional who effectively builds loyalty and long-term relationships with customers while consistently exceeding sales targets.\n\n# Accomplishments\n\n8620 Spectrum Center Blvd.\nSan Diego, CA 92123\n\n- Attentive Sales Manager with a track record of consistently achieving employee retention and sales goals.\n- 8 years in sales, customer service and personnel and payroll management.\n- Driven to exceed goals and expectations.\n- Talented sales professional effective at multi-tasking and reaching sales targets.\n- Builds loyalty and long-term relationships with customers.\n\n# Experience\n\n# Substitute Teacher\n\n01/2016 to Current\nCompany Name\n\n- Manage classrooms, and help children throughout the day, by assessing the lesson of the day.\n- Maintaining discipline in the classroom.\n\n# Company Name\n\n10/2011 to 01/2017\nCity, State\n\n- Advised prospective employees on various tips and tricks that would assist them in gaining employment in the organization.\n- Implement effective HR policies to ensure all practices are following labor and employment regulations.\n- Increased employee retention above 90% by rigorously maintaining a positive work environment.\n- Develop targeted outreach recruitment programs to recruit more minorities and meet affirmative action requirements.\n- Created a website with an embedded database and FTP functionality to enable online recruitment for the organization and reducing recruitment costs by 10%.\n- Develop user-friendly application forms and questionnaires to be used by the organization during staff recruitment and interviewing.\n- Arbitrate labor disputes in collaboration with the legal department.\n\n# Operations Sales Manager\n\n09/2008 to 10/2011\nCompany Name\nCity, State\n\n- Established operational objectives and work plans and delegated assignments to subordinate managers.\n- Supervised a team of 15 area managers and 35 associates.\n- Developed executive presentations and reports to facilitate project evaluation and process improvement.\n- Directed planning, budgeting, vendor selection and quality assurance efforts.\n- Defined clear targets and objectives and communicated them to other team members.\n- Reviewed sales, customer concerns and new opportunities to drive business strategy at weekly planning sessions.\n- Assessed vendor products and maintained positive vendor relations.\n- Supported the sales team in writing proposals and closing contracts.\n- Developed quarterly and annual sales department budgets.\n- Developed a comprehensive training program for new sales associates.\n- Reviewed operational records and reports to project sales and determine profitability.\n- Trained all incoming sales team members.\n- Maintained knowledge of current sales and promotions, policies regarding payment and exchanges and security practices.\n\n# Insurance Agent\n\n08/2005 to 08/2008\nFred Loya Insurance - Eagle Pass TX 78852\n\n- Met with existing and prospective clients each week to select appropriate insurance policies.\n- Calculated quotes and educated potential clients on insurance options.\n- Tracked the progress of all outstanding insurance claims.\n- Calculated premiums and established payment methods for sales.\n- Identified and solicited sales prospects in agency databases.\n- Evaluated leads obtained through direct referrals, lead databases and cold calling.\n- Modeled exceptional customer service skills and appropriate diagnostic sales techniques.\n- Collected all premiums on or before effective date of coverage.\n- Contributed ideas and offered constructive feedback at weekly sales and training meetings.\n\n# Education and Training\n\nHigh School Diploma\n2000\nEagle Pass High School\nCity, State\n\nAssociate of Science\n---\n# MEDICAL 2009 KAPLAN UNIVERSITY\n\n# City, State\n\n# Bachelor of Arts: Psychology minor on Child Development\n\n# 2017 Psychology Child Development\n\n# Languages\n\nFluent in English and Spanish\n\n# Skills\n\n- agency\n- budgeting\n- budgets\n- business strategy\n- closing\n- cold calling\n- interpersonal\n- communication skills\n- Excellent Communication\n- oral\n- contracts\n- Critical thinking\n- clients\n- Client Relations\n- Customer Service\n- customer service skills\n- databases\n- database\n- Fluent in English\n- forms\n- FTP\n- HR\n- Insurance\n- Leadership\n- legal\n- Marketing\n- meetings\n- Mergers and acquisitions\n- Works\n- organizational\n- policies\n- executive presentations\n- Problem Solver\n- process improvement\n- progress\n- proposals\n- quality assurance\n- recruitment\n- sales\n- sales and training\n- Spanish\n- Strategic marketing\n- supervision\n- Time management\n- vendor relations\n- website\n- written"
          },
          "metadata": {},
          "execution_count": 9
        }
      ]
    },
    {
      "cell_type": "markdown",
      "source": [
        "**4.3 Load the Unstructured Data**"
      ],
      "metadata": {
        "id": "0AHrw2SnkKQY"
      }
    },
    {
      "cell_type": "markdown",
      "source": [
        "**4.3.1 Process 1**"
      ],
      "metadata": {
        "id": "jX1KBZNtkT1a"
      }
    },
    {
      "cell_type": "markdown",
      "source": [
        "We passing the document information through `UnstructuredMarkdownLoader` and storing our local system.\n",
        "\n",
        "The `UnstructuredMarkdownLoader` is a powerful tool within the LangChain ecosystem designed to facilitate the loading of Markdown documents into a structured format suitable for downstream processing. This loader is particularly useful for developers and data scientists who work with Markdown files, allowing them to seamlessly integrate these documents into their applications."
      ],
      "metadata": {
        "id": "KJjXXI89SyNC"
      }
    },
    {
      "cell_type": "code",
      "source": [
        "# Process - 1\n",
        "document_path = Path(\"parsed_document.md\")\n",
        "with document_path.open(\"a\") as f:\n",
        "    f.write(parsed_doc.text)\n",
        "loader = UnstructuredMarkdownLoader(document_path)\n",
        "loaded_documents = loader.load()"
      ],
      "metadata": {
        "id": "1w__arKkkWzs"
      },
      "execution_count": 10,
      "outputs": []
    },
    {
      "cell_type": "code",
      "source": [
        "from pathlib import PosixPath\n",
        "PosixPath('parsed_document.md')"
      ],
      "metadata": {
        "id": "r04CYSH8k0mf",
        "colab": {
          "base_uri": "https://localhost:8080/"
        },
        "outputId": "d4da8b40-5be1-409d-be2b-061de0ea85be"
      },
      "execution_count": 11,
      "outputs": [
        {
          "output_type": "execute_result",
          "data": {
            "text/plain": [
              "PosixPath('parsed_document.md')"
            ]
          },
          "metadata": {},
          "execution_count": 11
        }
      ]
    },
    {
      "cell_type": "markdown",
      "source": [
        "**4.3.2 Process 2**"
      ],
      "metadata": {
        "id": "qI2doFskkZCZ"
      }
    },
    {
      "cell_type": "markdown",
      "source": [
        "This involves importing all the documents or information to be utilized."
      ],
      "metadata": {
        "id": "ieCJws0aOVYf"
      }
    },
    {
      "cell_type": "code",
      "source": [
        "# ## Process - 2\n",
        "# loaded_documents = Document(page_content = parsed_doc.text,\n",
        "#                             metadata={\"source\": \"This is a resume for job application.\"})\n",
        "# loaded_documents = [loaded_documents]"
      ],
      "metadata": {
        "id": "vpoRPgFaj1In"
      },
      "execution_count": 12,
      "outputs": []
    },
    {
      "cell_type": "markdown",
      "source": [
        "**4.4 Split the Document**"
      ],
      "metadata": {
        "id": "P7HgKLBYkgSI"
      }
    },
    {
      "cell_type": "markdown",
      "source": [
        "Large documents are divided into smaller pieces, for instance, sections of no more than 2000 characters each with 400 overlap."
      ],
      "metadata": {
        "id": "mwMAUcseOkXK"
      }
    },
    {
      "cell_type": "code",
      "source": [
        "text_splitter = RecursiveCharacterTextSplitter(chunk_size = 2000, chunk_overlap = 400)\n",
        "docs = text_splitter.split_documents(loaded_documents)"
      ],
      "metadata": {
        "id": "P-mFPN0ZkdV9"
      },
      "execution_count": 13,
      "outputs": []
    },
    {
      "cell_type": "markdown",
      "source": [
        "### **Step 4**"
      ],
      "metadata": {
        "id": "R9QcIWmklKOy"
      }
    },
    {
      "cell_type": "markdown",
      "source": [
        "**5. Vector Embeddings and Indexing**"
      ],
      "metadata": {
        "id": "RZ7EBhuelL4d"
      }
    },
    {
      "cell_type": "markdown",
      "source": [
        "The data is converted into vector form using an embedding model, making it understandable for computers. For this project, `FastEmbedEmbeddings` model have been used."
      ],
      "metadata": {
        "id": "tcZ5kevgOuKf"
      }
    },
    {
      "cell_type": "code",
      "source": [
        "HF_TOKEN = userdata.get(\"HF_TOKEN\")\n",
        "embeddings = FastEmbedEmbeddings(model_name=\"BAAI/bge-base-en-v1.5\")"
      ],
      "metadata": {
        "colab": {
          "base_uri": "https://localhost:8080/",
          "height": 209,
          "referenced_widgets": [
            "0f07e1cc7c0841ceb3304cc8fe0a3e76",
            "6bcf791d19b14c8ab518094c3d19cae8",
            "c0936f0b4188448b8e4c1b6d61279fed",
            "514b8ae0b86d4ebcb4c53fb77a7813a7",
            "4298ad852d1e4eb2abdf27aff1ec6273",
            "49d9923790114714b3e256a8a369a9bd",
            "d7d2cd6f63654b8ba5f67a5a520913b5",
            "15d26a9564cf437e9be44d579932c28b",
            "87c6216135854834aaf1083ebb1afb84",
            "2c0904947c724cd5aea117e8e5a47e61",
            "6546f59648cf49908132f39d6e134be1",
            "6c4e0e9eb8244d9e8a08c688ad2e9a8b",
            "b75bad17f1144df8840c8a2a72ec5eb6",
            "a625e2137b5e4d44ba247d32b080e1f8",
            "fdfb6682d5b841e499db81092d59a1df",
            "d85d450e1206496a8260e20d7a477f3c",
            "f9435ba5df0045979d0c6f97ae339dc6",
            "857d0535615144028e48379e4126312f",
            "79d7711e2ac74f0a99162b75b3fb81b4",
            "722cd10989cd4d96b692889646f8f928",
            "fffb5cb55727497c9a5c03bafc8387f6",
            "823d00e8d63742b2b8ef2847f6a15aff",
            "7431475236c446a5a0762583c930097a",
            "2632e79af13b48c186d8513cc810eee2",
            "288ef99039c942088668531b8b5f7670",
            "61f6a6789d964c9ba87ef2130423c803",
            "2798712c615141e59587d0fb65517ca8",
            "0a25baa234c140c799441a8afb2bb36f",
            "1d787d2b52394840b53a27f10962138e",
            "71ebe4760c044c5aaa8183ef91929a2e",
            "ee3d754257d344d1864616a80c9de728",
            "91e16ff5352745debd109a1f4623d428",
            "72bc3c9c82aa47d58da01d53e4961ad7",
            "1096c90100fb43dbba611f25b2a4636b",
            "762bcde27208417fae81f370a76692fc",
            "dff03e4931844e5aa576712da51c5ccf",
            "34d27bd978b84f21a76c14b20f479f13",
            "011460159f24463a91559ae587c8888b",
            "519a6bfa2b8f4e798fe24cfc8e71f25e",
            "6435289157f3445eab2d9929b2bb8941",
            "4927263bfe71423e96ad844b76aa0da2",
            "7c74d7ab667947a7908f934cfeb85aeb",
            "bfba4405351241e98bc6169ba6603a6e",
            "2547cd0ac6164893baf8cbe5f72934d7",
            "83756a68b20e4e1ca011eea98238dda0",
            "eb959abbe2b24fc286f5ed6d2eba1fb8",
            "e21283d28da7406fb5ef00210a7200c1",
            "cd8c613b71074eb38c60c53c887a53af",
            "92357405d4574b9aa26f1adaeed88484",
            "c56d3d42c0334ea88e31bf65a40e434c",
            "67d7410e89474f5da98877fe7ac44ebc",
            "037ca20a3e594342a6026232b41882fe",
            "8b1808bc2856463592e38db049ff79c8",
            "228869f907854c4a8136deca29f2c290",
            "376ecffbeec24c9bac2b0c76b3ac2d4d",
            "304423b4d7c04c9d8aba2d12faa4713f",
            "8852de05adf447c781b0f5369b4dc42d",
            "af99782e292c4a99b1ab6fab2eb6fc87",
            "c766dfb3378e47baa4e54b4b6f184dde",
            "bd36addb476f49ab88741dc0248ddc21",
            "15762491ab034d75ac173bc85af24bbc",
            "00123707c59d405e989782bbdf9c223f",
            "97c0907bceef49ed9a9d5d0e16362897",
            "897a737ae2404db8b371908c5459ee1c",
            "51db838b725541b0ab61ef5495b23679",
            "56c35a0803ee49bf980edb87dcc0551c"
          ]
        },
        "id": "hh24UuRLlLVI",
        "outputId": "bfa72883-f0e9-4d3c-e753-04f940ff1485"
      },
      "execution_count": 14,
      "outputs": [
        {
          "output_type": "display_data",
          "data": {
            "text/plain": [
              "Fetching 5 files:   0%|          | 0/5 [00:00<?, ?it/s]"
            ],
            "application/vnd.jupyter.widget-view+json": {
              "version_major": 2,
              "version_minor": 0,
              "model_id": "0f07e1cc7c0841ceb3304cc8fe0a3e76"
            }
          },
          "metadata": {}
        },
        {
          "output_type": "display_data",
          "data": {
            "text/plain": [
              "config.json:   0%|          | 0.00/740 [00:00<?, ?B/s]"
            ],
            "application/vnd.jupyter.widget-view+json": {
              "version_major": 2,
              "version_minor": 0,
              "model_id": "6c4e0e9eb8244d9e8a08c688ad2e9a8b"
            }
          },
          "metadata": {}
        },
        {
          "output_type": "display_data",
          "data": {
            "text/plain": [
              "tokenizer_config.json:   0%|          | 0.00/1.24k [00:00<?, ?B/s]"
            ],
            "application/vnd.jupyter.widget-view+json": {
              "version_major": 2,
              "version_minor": 0,
              "model_id": "7431475236c446a5a0762583c930097a"
            }
          },
          "metadata": {}
        },
        {
          "output_type": "display_data",
          "data": {
            "text/plain": [
              "model_optimized.onnx:   0%|          | 0.00/218M [00:00<?, ?B/s]"
            ],
            "application/vnd.jupyter.widget-view+json": {
              "version_major": 2,
              "version_minor": 0,
              "model_id": "1096c90100fb43dbba611f25b2a4636b"
            }
          },
          "metadata": {}
        },
        {
          "output_type": "display_data",
          "data": {
            "text/plain": [
              "tokenizer.json:   0%|          | 0.00/711k [00:00<?, ?B/s]"
            ],
            "application/vnd.jupyter.widget-view+json": {
              "version_major": 2,
              "version_minor": 0,
              "model_id": "83756a68b20e4e1ca011eea98238dda0"
            }
          },
          "metadata": {}
        },
        {
          "output_type": "display_data",
          "data": {
            "text/plain": [
              "special_tokens_map.json:   0%|          | 0.00/695 [00:00<?, ?B/s]"
            ],
            "application/vnd.jupyter.widget-view+json": {
              "version_major": 2,
              "version_minor": 0,
              "model_id": "304423b4d7c04c9d8aba2d12faa4713f"
            }
          },
          "metadata": {}
        }
      ]
    },
    {
      "cell_type": "markdown",
      "source": [
        "These vector embeddings are saved in a vector database, allowing them to be easily searched.\n",
        "\n",
        "[FAISS [Facebook AI Similarity Search]](https://engineering.fb.com/2017/03/29/data-infrastructure/faiss-a-library-for-efficient-similarity-search/), a free & open-source library for efficient similarity search and clustering of dense vectors."
      ],
      "metadata": {
        "id": "2SVQ7tBgO-Io"
      }
    },
    {
      "cell_type": "code",
      "source": [
        "database = FAISS.from_documents(docs, embeddings)"
      ],
      "metadata": {
        "id": "Xn_imxw7O4_f"
      },
      "execution_count": 15,
      "outputs": []
    },
    {
      "cell_type": "markdown",
      "source": [
        "**Retrieval:**   \n",
        "\n",
        "When a user asks a question:\n",
        "\n",
        "\n",
        "*   The user’s input is first transformed into a vector (query vector) using the same embedding model from the Data Indexing phase.\n",
        "*   This query vector is then matched against all vectors in the vector database to find the most similar ones (e.g., using the Euclidean distance metric) that might contain the answer to the user’s question. This step is about identifying relevant knowledge chunks.\n",
        "\n"
      ],
      "metadata": {
        "id": "vuJg-z9HPdp3"
      }
    },
    {
      "cell_type": "markdown",
      "source": [
        "**6. Load Retriever**"
      ],
      "metadata": {
        "id": "f6or7pPJlX3J"
      }
    },
    {
      "cell_type": "markdown",
      "source": [
        "Here, we are setting up the retriever technique with maximum top 5 similar phrase with user query would be fetch."
      ],
      "metadata": {
        "id": "FSIIWOiXPyv7"
      }
    },
    {
      "cell_type": "code",
      "source": [
        "retriever = database.as_retriever(search_kwargs={\"k\": 5})"
      ],
      "metadata": {
        "id": "CWxxi8RFlWoG"
      },
      "execution_count": 16,
      "outputs": []
    },
    {
      "cell_type": "markdown",
      "source": [
        "###**(Optional) Step 5**"
      ],
      "metadata": {
        "id": "AmGFIwCmlruX"
      }
    },
    {
      "cell_type": "markdown",
      "source": [
        "**7. Apply ReRanker**"
      ],
      "metadata": {
        "id": "jMwG-kxBlhV6"
      }
    },
    {
      "cell_type": "markdown",
      "source": [
        "[FlashRank](https://github.com/PrithivirajDamodaran/FlashRank) is the Ultra-lite & Super-fast Python library to add re-ranking to your existing search & retrieval pipelines. It is based on SoTA cross-encoders, with gratitude to all the model owners."
      ],
      "metadata": {
        "id": "NGwpQfYTQS5y"
      }
    },
    {
      "cell_type": "code",
      "source": [
        "# compressor = FlashrankRerank(model=\"ms-marco-MiniLM-L-12-v2\")\n",
        "# compression_retriever = ContextualCompressionRetriever(\n",
        "#     base_compressor = compressor, base_retriever = retriever\n",
        "# )\n",
        "compression_retriever = retriever"
      ],
      "metadata": {
        "id": "WzpvpGNyljSh"
      },
      "execution_count": 17,
      "outputs": []
    },
    {
      "cell_type": "markdown",
      "source": [
        "### **Step 6**"
      ],
      "metadata": {
        "id": "DfrvqXqwlwvG"
      }
    },
    {
      "cell_type": "markdown",
      "source": [
        "**8. Load Large Language Model**"
      ],
      "metadata": {
        "id": "sZ7Ckm3Al2Sv"
      }
    },
    {
      "cell_type": "markdown",
      "source": [
        "Setting up the base LLM, `Llama3-70b` model via. [Groq](https://groq.com/) for retrieval process."
      ],
      "metadata": {
        "id": "ftfK7fQAQbHr"
      }
    },
    {
      "cell_type": "code",
      "source": [
        "GROQ_API_KEY = userdata.get(\"GROQ_API_KEY\")\n",
        "llm = ChatGroq(temperature = 0,\n",
        "               model_name = \"llama3-70b-8192\",\n",
        "               groq_api_key = GROQ_API_KEY,\n",
        "               max_tokens = 3024)"
      ],
      "metadata": {
        "id": "_FOTcimslzLq"
      },
      "execution_count": 18,
      "outputs": []
    },
    {
      "cell_type": "code",
      "source": [
        "'''Testing the base model'''\n",
        "\n",
        "test_llm = llm.invoke(\"2+2?\").content\n",
        "Markdown(test_llm)"
      ],
      "metadata": {
        "colab": {
          "base_uri": "https://localhost:8080/",
          "height": 46
        },
        "id": "WAAtF091pLgK",
        "outputId": "4d5cf2e0-bae9-43c5-9828-836fe764613a"
      },
      "execution_count": 19,
      "outputs": [
        {
          "output_type": "execute_result",
          "data": {
            "text/plain": [
              "<IPython.core.display.Markdown object>"
            ],
            "text/markdown": "The answer to 2+2 is 4."
          },
          "metadata": {},
          "execution_count": 19
        }
      ]
    },
    {
      "cell_type": "markdown",
      "source": [
        "Setting up the ground instruction as system prompt for LLM."
      ],
      "metadata": {
        "id": "RRDgZ9sGQ3HH"
      }
    },
    {
      "cell_type": "code",
      "source": [
        "prompt_template = \"\"\"\n",
        "Use the following pieces of information to answer the user's question.\n",
        "If you don't know the answer, just say that you don't know, don't try to make up an answer.\n",
        "\n",
        "Context: {context}\n",
        "Question: {question}\n",
        "\n",
        "Answer the question and provide additional helpful information,\n",
        "based on the pieces of information, if applicable. Be succinct.\n",
        "\n",
        "Responses should be properly formatted to be easily read.\n",
        "\"\"\"\n",
        "\n",
        "prompt = PromptTemplate(template = prompt_template,\n",
        "                        input_variables = [\"context\", \"question\"])"
      ],
      "metadata": {
        "id": "20e6AkGLmABD"
      },
      "execution_count": 20,
      "outputs": []
    },
    {
      "cell_type": "markdown",
      "source": [
        "###**(Final) Step 7**"
      ],
      "metadata": {
        "id": "afOmA4m7mDnb"
      }
    },
    {
      "cell_type": "markdown",
      "source": [
        "**9. Start Question-Answering with Large Language Model for the Provided Document**"
      ],
      "metadata": {
        "id": "0FUScBjsmL7W"
      }
    },
    {
      "cell_type": "markdown",
      "source": [
        "Combining all the parts i.e. LLM, retriever, system prompt for generating response for user's query."
      ],
      "metadata": {
        "id": "kGTqXJA-Rm4Y"
      }
    },
    {
      "cell_type": "code",
      "source": [
        "qa = RetrievalQA.from_chain_type(\n",
        "    llm = llm,\n",
        "    chain_type = \"stuff\",\n",
        "    retriever = compression_retriever,\n",
        "    return_source_documents = True,\n",
        "    chain_type_kwargs = {\"prompt\" : prompt, \"verbose\" : False},\n",
        ")"
      ],
      "metadata": {
        "id": "5PVDRW73mHpq"
      },
      "execution_count": 21,
      "outputs": []
    },
    {
      "cell_type": "markdown",
      "source": [
        "**9.1 Query 1**"
      ],
      "metadata": {
        "id": "KpJdwcCGMEjd"
      }
    },
    {
      "cell_type": "markdown",
      "source": [
        "Here we fetching the retriever with relevant query and we are getting expected response.\n",
        "\n",
        "Watch the `query`, `response` and `source document with similarity or relevence score`."
      ],
      "metadata": {
        "id": "BhluTZKCR25y"
      }
    },
    {
      "cell_type": "code",
      "source": [
        "query = \"Tell about Operations Sales Manager role.\"\n",
        "response = qa.invoke(str(query))\n",
        "Markdown(response[\"result\"])"
      ],
      "metadata": {
        "colab": {
          "base_uri": "https://localhost:8080/",
          "height": 348
        },
        "id": "SyaR_zC8mZ7F",
        "outputId": "68f4f02a-fead-4f71-d3ee-851393031a8c"
      },
      "execution_count": 22,
      "outputs": [
        {
          "output_type": "execute_result",
          "data": {
            "text/plain": [
              "<IPython.core.display.Markdown object>"
            ],
            "text/markdown": "**Operations Sales Manager Role**\n\nThe Operations Sales Manager role was held from 09/2008 to 10/2011 at a company in City, State. The key responsibilities in this role included:\n\n* Establishing operational objectives and work plans, and delegating assignments to subordinate managers\n* Supervising a team of 15 area managers and 35 associates\n* Developing executive presentations and reports to facilitate project evaluation and process improvement\n* Directing planning, budgeting, vendor selection, and quality assurance efforts\n* Defining clear targets and objectives, and communicating them to other team members\n* Reviewing sales, customer concerns, and new opportunities to drive business strategy at weekly planning sessions\n* Assessing vendor products and maintaining positive vendor relations\n* Supporting the sales team in writing proposals and closing contracts\n* Developing quarterly and annual sales department budgets\n* Developing a comprehensive training program for new sales associates\n* Reviewing operational records and reports to project sales and determine profitability\n* Training all incoming sales team members\n\n**Additional Helpful Information**\n\nThe Operations Sales Manager role demonstrates the individual's ability to lead teams, develop strategies, and drive sales growth. The experience in this role has likely contributed to the development of strong leadership, communication, and problem-solving skills."
          },
          "metadata": {},
          "execution_count": 22
        }
      ]
    },
    {
      "cell_type": "code",
      "source": [
        "response_test = \"\\n\"\n",
        "for i, doc in enumerate(response[\"source_documents\"]):\n",
        "  response_test += str(\"--------------------------------\\n\")\n",
        "  print(str(10*\"--------------------------------\"))\n",
        "  response_test += str(\"##**Source Information**\")+str(\"\\t\")+str(i+1)+str(\"\\t\")+str(\":\\n\")\n",
        "  print(str(\"Source Information\")+str(\"\\t\")+str(i+1)+str(\"\\t\")+str(\":\"))\n",
        "  response_test += str(\"--------------------------------\\n\")\n",
        "  print(str(10*\"--------------------------------\"))\n",
        "  response_test += str(doc.page_content)+str(\"\\n\")\n",
        "  print(str(doc.page_content))\n",
        "  response_test += str(\"\\n\\n\\n\")\n",
        "  print(\"\\n\\n\\n\\n\\n\")"
      ],
      "metadata": {
        "colab": {
          "base_uri": "https://localhost:8080/"
        },
        "id": "DVHW2bGnoc5W",
        "outputId": "e0c86cb0-8e67-43d4-ef48-4413694748cb"
      },
      "execution_count": 23,
      "outputs": [
        {
          "output_type": "stream",
          "name": "stdout",
          "text": [
            "--------------------------------------------------------------------------------------------------------------------------------------------------------------------------------------------------------------------------------------------------------------------------------------------------------------------------------\n",
            "Source Information\t1\t:\n",
            "--------------------------------------------------------------------------------------------------------------------------------------------------------------------------------------------------------------------------------------------------------------------------------------------------------------------------------\n",
            "Maintaining discipline in the classroom.\n",
            "\n",
            "Company Name\n",
            "\n",
            "10/2011 to 01/2017\n",
            "City, State\n",
            "\n",
            "Advised prospective employees on various tips and tricks that would assist them in gaining employment in the organization.\n",
            "\n",
            "Implement effective HR policies to ensure all practices are following labor and employment regulations.\n",
            "\n",
            "Increased employee retention above 90% by rigorously maintaining a positive work environment.\n",
            "\n",
            "Develop targeted outreach recruitment programs to recruit more minorities and meet affirmative action requirements.\n",
            "\n",
            "Created a website with an embedded database and FTP functionality to enable online recruitment for the organization and reducing recruitment costs by 10%.\n",
            "\n",
            "Develop user-friendly application forms and questionnaires to be used by the organization during staff recruitment and interviewing.\n",
            "\n",
            "Arbitrate labor disputes in collaboration with the legal department.\n",
            "\n",
            "Operations Sales Manager\n",
            "\n",
            "09/2008 to 10/2011\n",
            "Company Name\n",
            "City, State\n",
            "\n",
            "Established operational objectives and work plans and delegated assignments to subordinate managers.\n",
            "\n",
            "Supervised a team of 15 area managers and 35 associates.\n",
            "\n",
            "Developed executive presentations and reports to facilitate project evaluation and process improvement.\n",
            "\n",
            "Directed planning, budgeting, vendor selection and quality assurance efforts.\n",
            "\n",
            "Defined clear targets and objectives and communicated them to other team members.\n",
            "\n",
            "Reviewed sales, customer concerns and new opportunities to drive business strategy at weekly planning sessions.\n",
            "\n",
            "Assessed vendor products and maintained positive vendor relations.\n",
            "\n",
            "Supported the sales team in writing proposals and closing contracts.\n",
            "\n",
            "Developed quarterly and annual sales department budgets.\n",
            "\n",
            "Developed a comprehensive training program for new sales associates.\n",
            "\n",
            "Reviewed operational records and reports to project sales and determine profitability.\n",
            "\n",
            "Trained all incoming sales team members.\n",
            "\n",
            "\n",
            "\n",
            "\n",
            "\n",
            "\n",
            "--------------------------------------------------------------------------------------------------------------------------------------------------------------------------------------------------------------------------------------------------------------------------------------------------------------------------------\n",
            "Source Information\t2\t:\n",
            "--------------------------------------------------------------------------------------------------------------------------------------------------------------------------------------------------------------------------------------------------------------------------------------------------------------------------------\n",
            "SUBSTITUTE TEACHER\n",
            "\n",
            "Summary\n",
            "\n",
            "Receiving an education on Psychology and pursuing my teaching certification has been the best professional accomplishment I have achieved. The teaching in the absence of the teacher helped me understand that I have a background to implement the strategist teach.\n",
            "\n",
            "Sales Manager successful in relationship and team building. Motivates sales teams to exceed sales goals with a track record of consistently achieving employee retention, skilled in leading teams to set record-high sales figures, expand existing territories and develop new accounts. Achieve record-setting revenue gains. Talented, effective at multi-tasking and reaching sales targets. Builds loyalty and long-term relationships with customers.\n",
            "\n",
            "Business development executive experienced in all aspects of sales and marketing, contract negotiation and account management. Driven professional who effectively builds loyalty and long-term relationships with customers while consistently exceeding sales targets.\n",
            "\n",
            "Accomplishments\n",
            "\n",
            "8620 Spectrum Center Blvd.\n",
            "San Diego, CA 92123\n",
            "\n",
            "Attentive Sales Manager with a track record of consistently achieving employee retention and sales goals.\n",
            "\n",
            "8 years in sales, customer service and personnel and payroll management.\n",
            "\n",
            "Driven to exceed goals and expectations.\n",
            "\n",
            "Talented sales professional effective at multi-tasking and reaching sales targets.\n",
            "\n",
            "Builds loyalty and long-term relationships with customers.\n",
            "\n",
            "Experience\n",
            "\n",
            "Substitute Teacher\n",
            "\n",
            "01/2016 to Current\n",
            "Company Name\n",
            "\n",
            "Manage classrooms, and help children throughout the day, by assessing the lesson of the day.\n",
            "\n",
            "Maintaining discipline in the classroom.\n",
            "\n",
            "Company Name\n",
            "\n",
            "10/2011 to 01/2017\n",
            "City, State\n",
            "\n",
            "Advised prospective employees on various tips and tricks that would assist them in gaining employment in the organization.\n",
            "\n",
            "Implement effective HR policies to ensure all practices are following labor and employment regulations.\n",
            "\n",
            "\n",
            "\n",
            "\n",
            "\n",
            "\n",
            "--------------------------------------------------------------------------------------------------------------------------------------------------------------------------------------------------------------------------------------------------------------------------------------------------------------------------------\n",
            "Source Information\t3\t:\n",
            "--------------------------------------------------------------------------------------------------------------------------------------------------------------------------------------------------------------------------------------------------------------------------------------------------------------------------------\n",
            "budgeting\n",
            "\n",
            "budgets\n",
            "\n",
            "business strategy\n",
            "\n",
            "closing\n",
            "\n",
            "cold calling\n",
            "\n",
            "interpersonal\n",
            "\n",
            "communication skills\n",
            "\n",
            "Excellent Communication\n",
            "\n",
            "oral\n",
            "\n",
            "contracts\n",
            "\n",
            "Critical thinking\n",
            "\n",
            "clients\n",
            "\n",
            "Client Relations\n",
            "\n",
            "Customer Service\n",
            "\n",
            "customer service skills\n",
            "\n",
            "databases\n",
            "\n",
            "database\n",
            "\n",
            "Fluent in English\n",
            "\n",
            "forms\n",
            "\n",
            "FTP\n",
            "\n",
            "HR\n",
            "\n",
            "Insurance\n",
            "\n",
            "Leadership\n",
            "\n",
            "legal\n",
            "\n",
            "Marketing\n",
            "\n",
            "meetings\n",
            "\n",
            "Mergers and acquisitions\n",
            "\n",
            "Works\n",
            "\n",
            "organizational\n",
            "\n",
            "policies\n",
            "\n",
            "executive presentations\n",
            "\n",
            "Problem Solver\n",
            "\n",
            "process improvement\n",
            "\n",
            "progress\n",
            "\n",
            "proposals\n",
            "\n",
            "quality assurance\n",
            "\n",
            "recruitment\n",
            "\n",
            "sales\n",
            "\n",
            "sales and training\n",
            "\n",
            "Spanish\n",
            "\n",
            "Strategic marketing\n",
            "\n",
            "supervision\n",
            "\n",
            "Time management\n",
            "\n",
            "vendor relations\n",
            "\n",
            "website\n",
            "\n",
            "written\n",
            "\n",
            "\n",
            "\n",
            "\n",
            "\n",
            "\n",
            "--------------------------------------------------------------------------------------------------------------------------------------------------------------------------------------------------------------------------------------------------------------------------------------------------------------------------------\n",
            "Source Information\t4\t:\n",
            "--------------------------------------------------------------------------------------------------------------------------------------------------------------------------------------------------------------------------------------------------------------------------------------------------------------------------------\n",
            "Assessed vendor products and maintained positive vendor relations.\n",
            "\n",
            "Supported the sales team in writing proposals and closing contracts.\n",
            "\n",
            "Developed quarterly and annual sales department budgets.\n",
            "\n",
            "Developed a comprehensive training program for new sales associates.\n",
            "\n",
            "Reviewed operational records and reports to project sales and determine profitability.\n",
            "\n",
            "Trained all incoming sales team members.\n",
            "\n",
            "Maintained knowledge of current sales and promotions, policies regarding payment and exchanges and security practices.\n",
            "\n",
            "Insurance Agent\n",
            "\n",
            "08/2005 to 08/2008\n",
            "Fred Loya Insurance - Eagle Pass TX 78852\n",
            "\n",
            "Met with existing and prospective clients each week to select appropriate insurance policies.\n",
            "\n",
            "Calculated quotes and educated potential clients on insurance options.\n",
            "\n",
            "Tracked the progress of all outstanding insurance claims.\n",
            "\n",
            "Calculated premiums and established payment methods for sales.\n",
            "\n",
            "Identified and solicited sales prospects in agency databases.\n",
            "\n",
            "Evaluated leads obtained through direct referrals, lead databases and cold calling.\n",
            "\n",
            "Modeled exceptional customer service skills and appropriate diagnostic sales techniques.\n",
            "\n",
            "Collected all premiums on or before effective date of coverage.\n",
            "\n",
            "Contributed ideas and offered constructive feedback at weekly sales and training meetings.\n",
            "\n",
            "Education and Training\n",
            "\n",
            "High School Diploma\n",
            "2000\n",
            "Eagle Pass High School\n",
            "City, State\n",
            "\n",
            "Associate of Science\n",
            "\n",
            "MEDICAL 2009 KAPLAN UNIVERSITY\n",
            "\n",
            "City, State\n",
            "\n",
            "Bachelor of Arts: Psychology minor on Child Development\n",
            "\n",
            "2017 Psychology Child Development\n",
            "\n",
            "Languages\n",
            "\n",
            "Fluent in English and Spanish\n",
            "\n",
            "Skills\n",
            "\n",
            "agency\n",
            "\n",
            "budgeting\n",
            "\n",
            "budgets\n",
            "\n",
            "business strategy\n",
            "\n",
            "closing\n",
            "\n",
            "cold calling\n",
            "\n",
            "interpersonal\n",
            "\n",
            "communication skills\n",
            "\n",
            "Excellent Communication\n",
            "\n",
            "oral\n",
            "\n",
            "contracts\n",
            "\n",
            "Critical thinking\n",
            "\n",
            "clients\n",
            "\n",
            "Client Relations\n",
            "\n",
            "Customer Service\n",
            "\n",
            "customer service skills\n",
            "\n",
            "databases\n",
            "\n",
            "database\n",
            "\n",
            "Fluent in English\n",
            "\n",
            "forms\n",
            "\n",
            "FTP\n",
            "\n",
            "HR\n",
            "\n",
            "Insurance\n",
            "\n",
            "Leadership\n",
            "\n",
            "legal\n",
            "\n",
            "Marketing\n",
            "\n",
            "meetings\n",
            "\n",
            "Mergers and acquisitions\n",
            "\n",
            "Works\n",
            "\n",
            "organizational\n",
            "\n",
            "policies\n",
            "\n",
            "\n",
            "\n",
            "\n",
            "\n",
            "\n"
          ]
        }
      ]
    },
    {
      "cell_type": "code",
      "source": [
        "Markdown(response_test)"
      ],
      "metadata": {
        "colab": {
          "base_uri": "https://localhost:8080/",
          "height": 1000
        },
        "id": "yWJDtGDiZ9jV",
        "outputId": "c54902a0-a0b8-407c-efdf-92d22d407a14"
      },
      "execution_count": 24,
      "outputs": [
        {
          "output_type": "execute_result",
          "data": {
            "text/plain": [
              "<IPython.core.display.Markdown object>"
            ],
            "text/markdown": "\n--------------------------------\n##**Source Information**\t1\t:\n--------------------------------\nMaintaining discipline in the classroom.\n\nCompany Name\n\n10/2011 to 01/2017\nCity, State\n\nAdvised prospective employees on various tips and tricks that would assist them in gaining employment in the organization.\n\nImplement effective HR policies to ensure all practices are following labor and employment regulations.\n\nIncreased employee retention above 90% by rigorously maintaining a positive work environment.\n\nDevelop targeted outreach recruitment programs to recruit more minorities and meet affirmative action requirements.\n\nCreated a website with an embedded database and FTP functionality to enable online recruitment for the organization and reducing recruitment costs by 10%.\n\nDevelop user-friendly application forms and questionnaires to be used by the organization during staff recruitment and interviewing.\n\nArbitrate labor disputes in collaboration with the legal department.\n\nOperations Sales Manager\n\n09/2008 to 10/2011\nCompany Name\nCity, State\n\nEstablished operational objectives and work plans and delegated assignments to subordinate managers.\n\nSupervised a team of 15 area managers and 35 associates.\n\nDeveloped executive presentations and reports to facilitate project evaluation and process improvement.\n\nDirected planning, budgeting, vendor selection and quality assurance efforts.\n\nDefined clear targets and objectives and communicated them to other team members.\n\nReviewed sales, customer concerns and new opportunities to drive business strategy at weekly planning sessions.\n\nAssessed vendor products and maintained positive vendor relations.\n\nSupported the sales team in writing proposals and closing contracts.\n\nDeveloped quarterly and annual sales department budgets.\n\nDeveloped a comprehensive training program for new sales associates.\n\nReviewed operational records and reports to project sales and determine profitability.\n\nTrained all incoming sales team members.\n\n\n\n--------------------------------\n##**Source Information**\t2\t:\n--------------------------------\nSUBSTITUTE TEACHER\n\nSummary\n\nReceiving an education on Psychology and pursuing my teaching certification has been the best professional accomplishment I have achieved. The teaching in the absence of the teacher helped me understand that I have a background to implement the strategist teach.\n\nSales Manager successful in relationship and team building. Motivates sales teams to exceed sales goals with a track record of consistently achieving employee retention, skilled in leading teams to set record-high sales figures, expand existing territories and develop new accounts. Achieve record-setting revenue gains. Talented, effective at multi-tasking and reaching sales targets. Builds loyalty and long-term relationships with customers.\n\nBusiness development executive experienced in all aspects of sales and marketing, contract negotiation and account management. Driven professional who effectively builds loyalty and long-term relationships with customers while consistently exceeding sales targets.\n\nAccomplishments\n\n8620 Spectrum Center Blvd.\nSan Diego, CA 92123\n\nAttentive Sales Manager with a track record of consistently achieving employee retention and sales goals.\n\n8 years in sales, customer service and personnel and payroll management.\n\nDriven to exceed goals and expectations.\n\nTalented sales professional effective at multi-tasking and reaching sales targets.\n\nBuilds loyalty and long-term relationships with customers.\n\nExperience\n\nSubstitute Teacher\n\n01/2016 to Current\nCompany Name\n\nManage classrooms, and help children throughout the day, by assessing the lesson of the day.\n\nMaintaining discipline in the classroom.\n\nCompany Name\n\n10/2011 to 01/2017\nCity, State\n\nAdvised prospective employees on various tips and tricks that would assist them in gaining employment in the organization.\n\nImplement effective HR policies to ensure all practices are following labor and employment regulations.\n\n\n\n--------------------------------\n##**Source Information**\t3\t:\n--------------------------------\nbudgeting\n\nbudgets\n\nbusiness strategy\n\nclosing\n\ncold calling\n\ninterpersonal\n\ncommunication skills\n\nExcellent Communication\n\noral\n\ncontracts\n\nCritical thinking\n\nclients\n\nClient Relations\n\nCustomer Service\n\ncustomer service skills\n\ndatabases\n\ndatabase\n\nFluent in English\n\nforms\n\nFTP\n\nHR\n\nInsurance\n\nLeadership\n\nlegal\n\nMarketing\n\nmeetings\n\nMergers and acquisitions\n\nWorks\n\norganizational\n\npolicies\n\nexecutive presentations\n\nProblem Solver\n\nprocess improvement\n\nprogress\n\nproposals\n\nquality assurance\n\nrecruitment\n\nsales\n\nsales and training\n\nSpanish\n\nStrategic marketing\n\nsupervision\n\nTime management\n\nvendor relations\n\nwebsite\n\nwritten\n\n\n\n--------------------------------\n##**Source Information**\t4\t:\n--------------------------------\nAssessed vendor products and maintained positive vendor relations.\n\nSupported the sales team in writing proposals and closing contracts.\n\nDeveloped quarterly and annual sales department budgets.\n\nDeveloped a comprehensive training program for new sales associates.\n\nReviewed operational records and reports to project sales and determine profitability.\n\nTrained all incoming sales team members.\n\nMaintained knowledge of current sales and promotions, policies regarding payment and exchanges and security practices.\n\nInsurance Agent\n\n08/2005 to 08/2008\nFred Loya Insurance - Eagle Pass TX 78852\n\nMet with existing and prospective clients each week to select appropriate insurance policies.\n\nCalculated quotes and educated potential clients on insurance options.\n\nTracked the progress of all outstanding insurance claims.\n\nCalculated premiums and established payment methods for sales.\n\nIdentified and solicited sales prospects in agency databases.\n\nEvaluated leads obtained through direct referrals, lead databases and cold calling.\n\nModeled exceptional customer service skills and appropriate diagnostic sales techniques.\n\nCollected all premiums on or before effective date of coverage.\n\nContributed ideas and offered constructive feedback at weekly sales and training meetings.\n\nEducation and Training\n\nHigh School Diploma\n2000\nEagle Pass High School\nCity, State\n\nAssociate of Science\n\nMEDICAL 2009 KAPLAN UNIVERSITY\n\nCity, State\n\nBachelor of Arts: Psychology minor on Child Development\n\n2017 Psychology Child Development\n\nLanguages\n\nFluent in English and Spanish\n\nSkills\n\nagency\n\nbudgeting\n\nbudgets\n\nbusiness strategy\n\nclosing\n\ncold calling\n\ninterpersonal\n\ncommunication skills\n\nExcellent Communication\n\noral\n\ncontracts\n\nCritical thinking\n\nclients\n\nClient Relations\n\nCustomer Service\n\ncustomer service skills\n\ndatabases\n\ndatabase\n\nFluent in English\n\nforms\n\nFTP\n\nHR\n\nInsurance\n\nLeadership\n\nlegal\n\nMarketing\n\nmeetings\n\nMergers and acquisitions\n\nWorks\n\norganizational\n\npolicies\n\n\n\n"
          },
          "metadata": {},
          "execution_count": 24
        }
      ]
    },
    {
      "cell_type": "markdown",
      "source": [
        "**9.1 Query 2**"
      ],
      "metadata": {
        "id": "-YHZ6em7MZki"
      }
    },
    {
      "cell_type": "markdown",
      "source": [
        "Here we fetching the retriever with irrelevant query and we are getting expected response as this query is irrelevant for given doument.\n",
        "\n",
        "Watch the `query`, `response` and `source document with similarity or relevence score`."
      ],
      "metadata": {
        "id": "PzML0MNoSVPM"
      }
    },
    {
      "cell_type": "code",
      "source": [
        "query = \"Share the details about 'First Quarter 2024 Financial Highlights'. Share your response in table format.\"\n",
        "response = qa.invoke(str(query))\n",
        "Markdown(response[\"result\"])"
      ],
      "metadata": {
        "colab": {
          "base_uri": "https://localhost:8080/",
          "height": 122
        },
        "id": "dPCNmtkYKIz7",
        "outputId": "15a2ca38-8573-4145-e45c-cad4a0fc44e7"
      },
      "execution_count": 25,
      "outputs": [
        {
          "output_type": "execute_result",
          "data": {
            "text/plain": [
              "<IPython.core.display.Markdown object>"
            ],
            "text/markdown": "I apologize, but there is no information provided about \"First Quarter 2024 Financial Highlights\" in the given context. The text appears to be a resume or a CV, and it does not contain any financial data or highlights for a specific quarter.\n\nIf you meant to ask about the person's experience or skills in finance or budgeting, I can provide some information. The individual has experience in budgeting, has developed quarterly and annual sales department budgets, and has reviewed operational records and reports to project sales and determine profitability. However, there is no specific information about \"First Quarter 2024 Financial Highlights\"."
          },
          "metadata": {},
          "execution_count": 25
        }
      ]
    },
    {
      "cell_type": "code",
      "source": [
        "response_test = \"\\n\"\n",
        "for i, doc in enumerate(response[\"source_documents\"]):\n",
        "  response_test += str(\"--------------------------------\\n\")\n",
        "  print(str(10*\"--------------------------------\"))\n",
        "  response_test += str(\"##**Source Information**\")+str(\"\\t\")+str(i+1)+str(\"\\t\")+str(\":\\n\")\n",
        "  print(str(\"Source Information\")+str(\"\\t\")+str(i+1)+str(\"\\t\")+str(\":\"))\n",
        "  response_test += str(\"--------------------------------\\n\")\n",
        "  print(str(10*\"--------------------------------\"))\n",
        "  response_test += str(doc.page_content)+str(\"\\n\")\n",
        "  print(str(doc.page_content))\n",
        "  response_test += str(\"\\n\\n\\n\")\n",
        "  print(\"\\n\\n\\n\\n\\n\")"
      ],
      "metadata": {
        "colab": {
          "base_uri": "https://localhost:8080/"
        },
        "id": "IR8vfHMhMQAj",
        "outputId": "90f240d5-4ae9-4925-c9eb-7763d478603d"
      },
      "execution_count": 26,
      "outputs": [
        {
          "output_type": "stream",
          "name": "stdout",
          "text": [
            "--------------------------------------------------------------------------------------------------------------------------------------------------------------------------------------------------------------------------------------------------------------------------------------------------------------------------------\n",
            "Source Information\t1\t:\n",
            "--------------------------------------------------------------------------------------------------------------------------------------------------------------------------------------------------------------------------------------------------------------------------------------------------------------------------------\n",
            "budgeting\n",
            "\n",
            "budgets\n",
            "\n",
            "business strategy\n",
            "\n",
            "closing\n",
            "\n",
            "cold calling\n",
            "\n",
            "interpersonal\n",
            "\n",
            "communication skills\n",
            "\n",
            "Excellent Communication\n",
            "\n",
            "oral\n",
            "\n",
            "contracts\n",
            "\n",
            "Critical thinking\n",
            "\n",
            "clients\n",
            "\n",
            "Client Relations\n",
            "\n",
            "Customer Service\n",
            "\n",
            "customer service skills\n",
            "\n",
            "databases\n",
            "\n",
            "database\n",
            "\n",
            "Fluent in English\n",
            "\n",
            "forms\n",
            "\n",
            "FTP\n",
            "\n",
            "HR\n",
            "\n",
            "Insurance\n",
            "\n",
            "Leadership\n",
            "\n",
            "legal\n",
            "\n",
            "Marketing\n",
            "\n",
            "meetings\n",
            "\n",
            "Mergers and acquisitions\n",
            "\n",
            "Works\n",
            "\n",
            "organizational\n",
            "\n",
            "policies\n",
            "\n",
            "executive presentations\n",
            "\n",
            "Problem Solver\n",
            "\n",
            "process improvement\n",
            "\n",
            "progress\n",
            "\n",
            "proposals\n",
            "\n",
            "quality assurance\n",
            "\n",
            "recruitment\n",
            "\n",
            "sales\n",
            "\n",
            "sales and training\n",
            "\n",
            "Spanish\n",
            "\n",
            "Strategic marketing\n",
            "\n",
            "supervision\n",
            "\n",
            "Time management\n",
            "\n",
            "vendor relations\n",
            "\n",
            "website\n",
            "\n",
            "written\n",
            "\n",
            "\n",
            "\n",
            "\n",
            "\n",
            "\n",
            "--------------------------------------------------------------------------------------------------------------------------------------------------------------------------------------------------------------------------------------------------------------------------------------------------------------------------------\n",
            "Source Information\t2\t:\n",
            "--------------------------------------------------------------------------------------------------------------------------------------------------------------------------------------------------------------------------------------------------------------------------------------------------------------------------------\n",
            "Maintaining discipline in the classroom.\n",
            "\n",
            "Company Name\n",
            "\n",
            "10/2011 to 01/2017\n",
            "City, State\n",
            "\n",
            "Advised prospective employees on various tips and tricks that would assist them in gaining employment in the organization.\n",
            "\n",
            "Implement effective HR policies to ensure all practices are following labor and employment regulations.\n",
            "\n",
            "Increased employee retention above 90% by rigorously maintaining a positive work environment.\n",
            "\n",
            "Develop targeted outreach recruitment programs to recruit more minorities and meet affirmative action requirements.\n",
            "\n",
            "Created a website with an embedded database and FTP functionality to enable online recruitment for the organization and reducing recruitment costs by 10%.\n",
            "\n",
            "Develop user-friendly application forms and questionnaires to be used by the organization during staff recruitment and interviewing.\n",
            "\n",
            "Arbitrate labor disputes in collaboration with the legal department.\n",
            "\n",
            "Operations Sales Manager\n",
            "\n",
            "09/2008 to 10/2011\n",
            "Company Name\n",
            "City, State\n",
            "\n",
            "Established operational objectives and work plans and delegated assignments to subordinate managers.\n",
            "\n",
            "Supervised a team of 15 area managers and 35 associates.\n",
            "\n",
            "Developed executive presentations and reports to facilitate project evaluation and process improvement.\n",
            "\n",
            "Directed planning, budgeting, vendor selection and quality assurance efforts.\n",
            "\n",
            "Defined clear targets and objectives and communicated them to other team members.\n",
            "\n",
            "Reviewed sales, customer concerns and new opportunities to drive business strategy at weekly planning sessions.\n",
            "\n",
            "Assessed vendor products and maintained positive vendor relations.\n",
            "\n",
            "Supported the sales team in writing proposals and closing contracts.\n",
            "\n",
            "Developed quarterly and annual sales department budgets.\n",
            "\n",
            "Developed a comprehensive training program for new sales associates.\n",
            "\n",
            "Reviewed operational records and reports to project sales and determine profitability.\n",
            "\n",
            "Trained all incoming sales team members.\n",
            "\n",
            "\n",
            "\n",
            "\n",
            "\n",
            "\n",
            "--------------------------------------------------------------------------------------------------------------------------------------------------------------------------------------------------------------------------------------------------------------------------------------------------------------------------------\n",
            "Source Information\t3\t:\n",
            "--------------------------------------------------------------------------------------------------------------------------------------------------------------------------------------------------------------------------------------------------------------------------------------------------------------------------------\n",
            "SUBSTITUTE TEACHER\n",
            "\n",
            "Summary\n",
            "\n",
            "Receiving an education on Psychology and pursuing my teaching certification has been the best professional accomplishment I have achieved. The teaching in the absence of the teacher helped me understand that I have a background to implement the strategist teach.\n",
            "\n",
            "Sales Manager successful in relationship and team building. Motivates sales teams to exceed sales goals with a track record of consistently achieving employee retention, skilled in leading teams to set record-high sales figures, expand existing territories and develop new accounts. Achieve record-setting revenue gains. Talented, effective at multi-tasking and reaching sales targets. Builds loyalty and long-term relationships with customers.\n",
            "\n",
            "Business development executive experienced in all aspects of sales and marketing, contract negotiation and account management. Driven professional who effectively builds loyalty and long-term relationships with customers while consistently exceeding sales targets.\n",
            "\n",
            "Accomplishments\n",
            "\n",
            "8620 Spectrum Center Blvd.\n",
            "San Diego, CA 92123\n",
            "\n",
            "Attentive Sales Manager with a track record of consistently achieving employee retention and sales goals.\n",
            "\n",
            "8 years in sales, customer service and personnel and payroll management.\n",
            "\n",
            "Driven to exceed goals and expectations.\n",
            "\n",
            "Talented sales professional effective at multi-tasking and reaching sales targets.\n",
            "\n",
            "Builds loyalty and long-term relationships with customers.\n",
            "\n",
            "Experience\n",
            "\n",
            "Substitute Teacher\n",
            "\n",
            "01/2016 to Current\n",
            "Company Name\n",
            "\n",
            "Manage classrooms, and help children throughout the day, by assessing the lesson of the day.\n",
            "\n",
            "Maintaining discipline in the classroom.\n",
            "\n",
            "Company Name\n",
            "\n",
            "10/2011 to 01/2017\n",
            "City, State\n",
            "\n",
            "Advised prospective employees on various tips and tricks that would assist them in gaining employment in the organization.\n",
            "\n",
            "Implement effective HR policies to ensure all practices are following labor and employment regulations.\n",
            "\n",
            "\n",
            "\n",
            "\n",
            "\n",
            "\n",
            "--------------------------------------------------------------------------------------------------------------------------------------------------------------------------------------------------------------------------------------------------------------------------------------------------------------------------------\n",
            "Source Information\t4\t:\n",
            "--------------------------------------------------------------------------------------------------------------------------------------------------------------------------------------------------------------------------------------------------------------------------------------------------------------------------------\n",
            "Assessed vendor products and maintained positive vendor relations.\n",
            "\n",
            "Supported the sales team in writing proposals and closing contracts.\n",
            "\n",
            "Developed quarterly and annual sales department budgets.\n",
            "\n",
            "Developed a comprehensive training program for new sales associates.\n",
            "\n",
            "Reviewed operational records and reports to project sales and determine profitability.\n",
            "\n",
            "Trained all incoming sales team members.\n",
            "\n",
            "Maintained knowledge of current sales and promotions, policies regarding payment and exchanges and security practices.\n",
            "\n",
            "Insurance Agent\n",
            "\n",
            "08/2005 to 08/2008\n",
            "Fred Loya Insurance - Eagle Pass TX 78852\n",
            "\n",
            "Met with existing and prospective clients each week to select appropriate insurance policies.\n",
            "\n",
            "Calculated quotes and educated potential clients on insurance options.\n",
            "\n",
            "Tracked the progress of all outstanding insurance claims.\n",
            "\n",
            "Calculated premiums and established payment methods for sales.\n",
            "\n",
            "Identified and solicited sales prospects in agency databases.\n",
            "\n",
            "Evaluated leads obtained through direct referrals, lead databases and cold calling.\n",
            "\n",
            "Modeled exceptional customer service skills and appropriate diagnostic sales techniques.\n",
            "\n",
            "Collected all premiums on or before effective date of coverage.\n",
            "\n",
            "Contributed ideas and offered constructive feedback at weekly sales and training meetings.\n",
            "\n",
            "Education and Training\n",
            "\n",
            "High School Diploma\n",
            "2000\n",
            "Eagle Pass High School\n",
            "City, State\n",
            "\n",
            "Associate of Science\n",
            "\n",
            "MEDICAL 2009 KAPLAN UNIVERSITY\n",
            "\n",
            "City, State\n",
            "\n",
            "Bachelor of Arts: Psychology minor on Child Development\n",
            "\n",
            "2017 Psychology Child Development\n",
            "\n",
            "Languages\n",
            "\n",
            "Fluent in English and Spanish\n",
            "\n",
            "Skills\n",
            "\n",
            "agency\n",
            "\n",
            "budgeting\n",
            "\n",
            "budgets\n",
            "\n",
            "business strategy\n",
            "\n",
            "closing\n",
            "\n",
            "cold calling\n",
            "\n",
            "interpersonal\n",
            "\n",
            "communication skills\n",
            "\n",
            "Excellent Communication\n",
            "\n",
            "oral\n",
            "\n",
            "contracts\n",
            "\n",
            "Critical thinking\n",
            "\n",
            "clients\n",
            "\n",
            "Client Relations\n",
            "\n",
            "Customer Service\n",
            "\n",
            "customer service skills\n",
            "\n",
            "databases\n",
            "\n",
            "database\n",
            "\n",
            "Fluent in English\n",
            "\n",
            "forms\n",
            "\n",
            "FTP\n",
            "\n",
            "HR\n",
            "\n",
            "Insurance\n",
            "\n",
            "Leadership\n",
            "\n",
            "legal\n",
            "\n",
            "Marketing\n",
            "\n",
            "meetings\n",
            "\n",
            "Mergers and acquisitions\n",
            "\n",
            "Works\n",
            "\n",
            "organizational\n",
            "\n",
            "policies\n",
            "\n",
            "\n",
            "\n",
            "\n",
            "\n",
            "\n"
          ]
        }
      ]
    },
    {
      "cell_type": "code",
      "source": [
        "Markdown(response_test)"
      ],
      "metadata": {
        "colab": {
          "base_uri": "https://localhost:8080/",
          "height": 1000
        },
        "id": "yL68_UMcMWJV",
        "outputId": "1ca77b83-fac6-49d4-8f7a-838e24ab8eea"
      },
      "execution_count": 27,
      "outputs": [
        {
          "output_type": "execute_result",
          "data": {
            "text/plain": [
              "<IPython.core.display.Markdown object>"
            ],
            "text/markdown": "\n--------------------------------\n##**Source Information**\t1\t:\n--------------------------------\nbudgeting\n\nbudgets\n\nbusiness strategy\n\nclosing\n\ncold calling\n\ninterpersonal\n\ncommunication skills\n\nExcellent Communication\n\noral\n\ncontracts\n\nCritical thinking\n\nclients\n\nClient Relations\n\nCustomer Service\n\ncustomer service skills\n\ndatabases\n\ndatabase\n\nFluent in English\n\nforms\n\nFTP\n\nHR\n\nInsurance\n\nLeadership\n\nlegal\n\nMarketing\n\nmeetings\n\nMergers and acquisitions\n\nWorks\n\norganizational\n\npolicies\n\nexecutive presentations\n\nProblem Solver\n\nprocess improvement\n\nprogress\n\nproposals\n\nquality assurance\n\nrecruitment\n\nsales\n\nsales and training\n\nSpanish\n\nStrategic marketing\n\nsupervision\n\nTime management\n\nvendor relations\n\nwebsite\n\nwritten\n\n\n\n--------------------------------\n##**Source Information**\t2\t:\n--------------------------------\nMaintaining discipline in the classroom.\n\nCompany Name\n\n10/2011 to 01/2017\nCity, State\n\nAdvised prospective employees on various tips and tricks that would assist them in gaining employment in the organization.\n\nImplement effective HR policies to ensure all practices are following labor and employment regulations.\n\nIncreased employee retention above 90% by rigorously maintaining a positive work environment.\n\nDevelop targeted outreach recruitment programs to recruit more minorities and meet affirmative action requirements.\n\nCreated a website with an embedded database and FTP functionality to enable online recruitment for the organization and reducing recruitment costs by 10%.\n\nDevelop user-friendly application forms and questionnaires to be used by the organization during staff recruitment and interviewing.\n\nArbitrate labor disputes in collaboration with the legal department.\n\nOperations Sales Manager\n\n09/2008 to 10/2011\nCompany Name\nCity, State\n\nEstablished operational objectives and work plans and delegated assignments to subordinate managers.\n\nSupervised a team of 15 area managers and 35 associates.\n\nDeveloped executive presentations and reports to facilitate project evaluation and process improvement.\n\nDirected planning, budgeting, vendor selection and quality assurance efforts.\n\nDefined clear targets and objectives and communicated them to other team members.\n\nReviewed sales, customer concerns and new opportunities to drive business strategy at weekly planning sessions.\n\nAssessed vendor products and maintained positive vendor relations.\n\nSupported the sales team in writing proposals and closing contracts.\n\nDeveloped quarterly and annual sales department budgets.\n\nDeveloped a comprehensive training program for new sales associates.\n\nReviewed operational records and reports to project sales and determine profitability.\n\nTrained all incoming sales team members.\n\n\n\n--------------------------------\n##**Source Information**\t3\t:\n--------------------------------\nSUBSTITUTE TEACHER\n\nSummary\n\nReceiving an education on Psychology and pursuing my teaching certification has been the best professional accomplishment I have achieved. The teaching in the absence of the teacher helped me understand that I have a background to implement the strategist teach.\n\nSales Manager successful in relationship and team building. Motivates sales teams to exceed sales goals with a track record of consistently achieving employee retention, skilled in leading teams to set record-high sales figures, expand existing territories and develop new accounts. Achieve record-setting revenue gains. Talented, effective at multi-tasking and reaching sales targets. Builds loyalty and long-term relationships with customers.\n\nBusiness development executive experienced in all aspects of sales and marketing, contract negotiation and account management. Driven professional who effectively builds loyalty and long-term relationships with customers while consistently exceeding sales targets.\n\nAccomplishments\n\n8620 Spectrum Center Blvd.\nSan Diego, CA 92123\n\nAttentive Sales Manager with a track record of consistently achieving employee retention and sales goals.\n\n8 years in sales, customer service and personnel and payroll management.\n\nDriven to exceed goals and expectations.\n\nTalented sales professional effective at multi-tasking and reaching sales targets.\n\nBuilds loyalty and long-term relationships with customers.\n\nExperience\n\nSubstitute Teacher\n\n01/2016 to Current\nCompany Name\n\nManage classrooms, and help children throughout the day, by assessing the lesson of the day.\n\nMaintaining discipline in the classroom.\n\nCompany Name\n\n10/2011 to 01/2017\nCity, State\n\nAdvised prospective employees on various tips and tricks that would assist them in gaining employment in the organization.\n\nImplement effective HR policies to ensure all practices are following labor and employment regulations.\n\n\n\n--------------------------------\n##**Source Information**\t4\t:\n--------------------------------\nAssessed vendor products and maintained positive vendor relations.\n\nSupported the sales team in writing proposals and closing contracts.\n\nDeveloped quarterly and annual sales department budgets.\n\nDeveloped a comprehensive training program for new sales associates.\n\nReviewed operational records and reports to project sales and determine profitability.\n\nTrained all incoming sales team members.\n\nMaintained knowledge of current sales and promotions, policies regarding payment and exchanges and security practices.\n\nInsurance Agent\n\n08/2005 to 08/2008\nFred Loya Insurance - Eagle Pass TX 78852\n\nMet with existing and prospective clients each week to select appropriate insurance policies.\n\nCalculated quotes and educated potential clients on insurance options.\n\nTracked the progress of all outstanding insurance claims.\n\nCalculated premiums and established payment methods for sales.\n\nIdentified and solicited sales prospects in agency databases.\n\nEvaluated leads obtained through direct referrals, lead databases and cold calling.\n\nModeled exceptional customer service skills and appropriate diagnostic sales techniques.\n\nCollected all premiums on or before effective date of coverage.\n\nContributed ideas and offered constructive feedback at weekly sales and training meetings.\n\nEducation and Training\n\nHigh School Diploma\n2000\nEagle Pass High School\nCity, State\n\nAssociate of Science\n\nMEDICAL 2009 KAPLAN UNIVERSITY\n\nCity, State\n\nBachelor of Arts: Psychology minor on Child Development\n\n2017 Psychology Child Development\n\nLanguages\n\nFluent in English and Spanish\n\nSkills\n\nagency\n\nbudgeting\n\nbudgets\n\nbusiness strategy\n\nclosing\n\ncold calling\n\ninterpersonal\n\ncommunication skills\n\nExcellent Communication\n\noral\n\ncontracts\n\nCritical thinking\n\nclients\n\nClient Relations\n\nCustomer Service\n\ncustomer service skills\n\ndatabases\n\ndatabase\n\nFluent in English\n\nforms\n\nFTP\n\nHR\n\nInsurance\n\nLeadership\n\nlegal\n\nMarketing\n\nmeetings\n\nMergers and acquisitions\n\nWorks\n\norganizational\n\npolicies\n\n\n\n"
          },
          "metadata": {},
          "execution_count": 27
        }
      ]
    },
    {
      "cell_type": "code",
      "source": [],
      "metadata": {
        "id": "F-7Fl_YCY6XW"
      },
      "execution_count": 27,
      "outputs": []
    }
  ]
}