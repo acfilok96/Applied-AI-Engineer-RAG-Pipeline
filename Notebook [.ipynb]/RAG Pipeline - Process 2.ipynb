{
  "nbformat": 4,
  "nbformat_minor": 0,
  "metadata": {
    "colab": {
      "provenance": []
    },
    "kernelspec": {
      "name": "python3",
      "display_name": "Python 3"
    },
    "language_info": {
      "name": "python"
    },
    "widgets": {
      "application/vnd.jupyter.widget-state+json": {
        "2773df1c130d4e4099f8c18bf430afd3": {
          "model_module": "@jupyter-widgets/controls",
          "model_name": "HBoxModel",
          "model_module_version": "1.5.0",
          "state": {
            "_dom_classes": [],
            "_model_module": "@jupyter-widgets/controls",
            "_model_module_version": "1.5.0",
            "_model_name": "HBoxModel",
            "_view_count": null,
            "_view_module": "@jupyter-widgets/controls",
            "_view_module_version": "1.5.0",
            "_view_name": "HBoxView",
            "box_style": "",
            "children": [
              "IPY_MODEL_cb961c8fae1c4e20b798be441837f18e",
              "IPY_MODEL_7aaefdb7eb92448a8a36c82373876eb7",
              "IPY_MODEL_a1a32bd5f525420babb7ceffee356662"
            ],
            "layout": "IPY_MODEL_78ce34a362ff4897aa8242a17516a157"
          }
        },
        "cb961c8fae1c4e20b798be441837f18e": {
          "model_module": "@jupyter-widgets/controls",
          "model_name": "HTMLModel",
          "model_module_version": "1.5.0",
          "state": {
            "_dom_classes": [],
            "_model_module": "@jupyter-widgets/controls",
            "_model_module_version": "1.5.0",
            "_model_name": "HTMLModel",
            "_view_count": null,
            "_view_module": "@jupyter-widgets/controls",
            "_view_module_version": "1.5.0",
            "_view_name": "HTMLView",
            "description": "",
            "description_tooltip": null,
            "layout": "IPY_MODEL_1ebe4454edcc430bb8a6480dfebc07f8",
            "placeholder": "​",
            "style": "IPY_MODEL_afa2d04a73b64d6396a4b2cce8c09995",
            "value": "Fetching 5 files: 100%"
          }
        },
        "7aaefdb7eb92448a8a36c82373876eb7": {
          "model_module": "@jupyter-widgets/controls",
          "model_name": "FloatProgressModel",
          "model_module_version": "1.5.0",
          "state": {
            "_dom_classes": [],
            "_model_module": "@jupyter-widgets/controls",
            "_model_module_version": "1.5.0",
            "_model_name": "FloatProgressModel",
            "_view_count": null,
            "_view_module": "@jupyter-widgets/controls",
            "_view_module_version": "1.5.0",
            "_view_name": "ProgressView",
            "bar_style": "success",
            "description": "",
            "description_tooltip": null,
            "layout": "IPY_MODEL_38a502f4258b4938bedbbf09d74cf3ea",
            "max": 5,
            "min": 0,
            "orientation": "horizontal",
            "style": "IPY_MODEL_4d9c4d264dfb451bb596757d1c085478",
            "value": 5
          }
        },
        "a1a32bd5f525420babb7ceffee356662": {
          "model_module": "@jupyter-widgets/controls",
          "model_name": "HTMLModel",
          "model_module_version": "1.5.0",
          "state": {
            "_dom_classes": [],
            "_model_module": "@jupyter-widgets/controls",
            "_model_module_version": "1.5.0",
            "_model_name": "HTMLModel",
            "_view_count": null,
            "_view_module": "@jupyter-widgets/controls",
            "_view_module_version": "1.5.0",
            "_view_name": "HTMLView",
            "description": "",
            "description_tooltip": null,
            "layout": "IPY_MODEL_b51f0311397f45449532ba070ae935a3",
            "placeholder": "​",
            "style": "IPY_MODEL_8fe0628c814e4cda84f435a9d6f4b40d",
            "value": " 5/5 [00:07&lt;00:00,  4.13s/it]"
          }
        },
        "78ce34a362ff4897aa8242a17516a157": {
          "model_module": "@jupyter-widgets/base",
          "model_name": "LayoutModel",
          "model_module_version": "1.2.0",
          "state": {
            "_model_module": "@jupyter-widgets/base",
            "_model_module_version": "1.2.0",
            "_model_name": "LayoutModel",
            "_view_count": null,
            "_view_module": "@jupyter-widgets/base",
            "_view_module_version": "1.2.0",
            "_view_name": "LayoutView",
            "align_content": null,
            "align_items": null,
            "align_self": null,
            "border": null,
            "bottom": null,
            "display": null,
            "flex": null,
            "flex_flow": null,
            "grid_area": null,
            "grid_auto_columns": null,
            "grid_auto_flow": null,
            "grid_auto_rows": null,
            "grid_column": null,
            "grid_gap": null,
            "grid_row": null,
            "grid_template_areas": null,
            "grid_template_columns": null,
            "grid_template_rows": null,
            "height": null,
            "justify_content": null,
            "justify_items": null,
            "left": null,
            "margin": null,
            "max_height": null,
            "max_width": null,
            "min_height": null,
            "min_width": null,
            "object_fit": null,
            "object_position": null,
            "order": null,
            "overflow": null,
            "overflow_x": null,
            "overflow_y": null,
            "padding": null,
            "right": null,
            "top": null,
            "visibility": null,
            "width": null
          }
        },
        "1ebe4454edcc430bb8a6480dfebc07f8": {
          "model_module": "@jupyter-widgets/base",
          "model_name": "LayoutModel",
          "model_module_version": "1.2.0",
          "state": {
            "_model_module": "@jupyter-widgets/base",
            "_model_module_version": "1.2.0",
            "_model_name": "LayoutModel",
            "_view_count": null,
            "_view_module": "@jupyter-widgets/base",
            "_view_module_version": "1.2.0",
            "_view_name": "LayoutView",
            "align_content": null,
            "align_items": null,
            "align_self": null,
            "border": null,
            "bottom": null,
            "display": null,
            "flex": null,
            "flex_flow": null,
            "grid_area": null,
            "grid_auto_columns": null,
            "grid_auto_flow": null,
            "grid_auto_rows": null,
            "grid_column": null,
            "grid_gap": null,
            "grid_row": null,
            "grid_template_areas": null,
            "grid_template_columns": null,
            "grid_template_rows": null,
            "height": null,
            "justify_content": null,
            "justify_items": null,
            "left": null,
            "margin": null,
            "max_height": null,
            "max_width": null,
            "min_height": null,
            "min_width": null,
            "object_fit": null,
            "object_position": null,
            "order": null,
            "overflow": null,
            "overflow_x": null,
            "overflow_y": null,
            "padding": null,
            "right": null,
            "top": null,
            "visibility": null,
            "width": null
          }
        },
        "afa2d04a73b64d6396a4b2cce8c09995": {
          "model_module": "@jupyter-widgets/controls",
          "model_name": "DescriptionStyleModel",
          "model_module_version": "1.5.0",
          "state": {
            "_model_module": "@jupyter-widgets/controls",
            "_model_module_version": "1.5.0",
            "_model_name": "DescriptionStyleModel",
            "_view_count": null,
            "_view_module": "@jupyter-widgets/base",
            "_view_module_version": "1.2.0",
            "_view_name": "StyleView",
            "description_width": ""
          }
        },
        "38a502f4258b4938bedbbf09d74cf3ea": {
          "model_module": "@jupyter-widgets/base",
          "model_name": "LayoutModel",
          "model_module_version": "1.2.0",
          "state": {
            "_model_module": "@jupyter-widgets/base",
            "_model_module_version": "1.2.0",
            "_model_name": "LayoutModel",
            "_view_count": null,
            "_view_module": "@jupyter-widgets/base",
            "_view_module_version": "1.2.0",
            "_view_name": "LayoutView",
            "align_content": null,
            "align_items": null,
            "align_self": null,
            "border": null,
            "bottom": null,
            "display": null,
            "flex": null,
            "flex_flow": null,
            "grid_area": null,
            "grid_auto_columns": null,
            "grid_auto_flow": null,
            "grid_auto_rows": null,
            "grid_column": null,
            "grid_gap": null,
            "grid_row": null,
            "grid_template_areas": null,
            "grid_template_columns": null,
            "grid_template_rows": null,
            "height": null,
            "justify_content": null,
            "justify_items": null,
            "left": null,
            "margin": null,
            "max_height": null,
            "max_width": null,
            "min_height": null,
            "min_width": null,
            "object_fit": null,
            "object_position": null,
            "order": null,
            "overflow": null,
            "overflow_x": null,
            "overflow_y": null,
            "padding": null,
            "right": null,
            "top": null,
            "visibility": null,
            "width": null
          }
        },
        "4d9c4d264dfb451bb596757d1c085478": {
          "model_module": "@jupyter-widgets/controls",
          "model_name": "ProgressStyleModel",
          "model_module_version": "1.5.0",
          "state": {
            "_model_module": "@jupyter-widgets/controls",
            "_model_module_version": "1.5.0",
            "_model_name": "ProgressStyleModel",
            "_view_count": null,
            "_view_module": "@jupyter-widgets/base",
            "_view_module_version": "1.2.0",
            "_view_name": "StyleView",
            "bar_color": null,
            "description_width": ""
          }
        },
        "b51f0311397f45449532ba070ae935a3": {
          "model_module": "@jupyter-widgets/base",
          "model_name": "LayoutModel",
          "model_module_version": "1.2.0",
          "state": {
            "_model_module": "@jupyter-widgets/base",
            "_model_module_version": "1.2.0",
            "_model_name": "LayoutModel",
            "_view_count": null,
            "_view_module": "@jupyter-widgets/base",
            "_view_module_version": "1.2.0",
            "_view_name": "LayoutView",
            "align_content": null,
            "align_items": null,
            "align_self": null,
            "border": null,
            "bottom": null,
            "display": null,
            "flex": null,
            "flex_flow": null,
            "grid_area": null,
            "grid_auto_columns": null,
            "grid_auto_flow": null,
            "grid_auto_rows": null,
            "grid_column": null,
            "grid_gap": null,
            "grid_row": null,
            "grid_template_areas": null,
            "grid_template_columns": null,
            "grid_template_rows": null,
            "height": null,
            "justify_content": null,
            "justify_items": null,
            "left": null,
            "margin": null,
            "max_height": null,
            "max_width": null,
            "min_height": null,
            "min_width": null,
            "object_fit": null,
            "object_position": null,
            "order": null,
            "overflow": null,
            "overflow_x": null,
            "overflow_y": null,
            "padding": null,
            "right": null,
            "top": null,
            "visibility": null,
            "width": null
          }
        },
        "8fe0628c814e4cda84f435a9d6f4b40d": {
          "model_module": "@jupyter-widgets/controls",
          "model_name": "DescriptionStyleModel",
          "model_module_version": "1.5.0",
          "state": {
            "_model_module": "@jupyter-widgets/controls",
            "_model_module_version": "1.5.0",
            "_model_name": "DescriptionStyleModel",
            "_view_count": null,
            "_view_module": "@jupyter-widgets/base",
            "_view_module_version": "1.2.0",
            "_view_name": "StyleView",
            "description_width": ""
          }
        },
        "bcb768e3301346f28201b15875ea368c": {
          "model_module": "@jupyter-widgets/controls",
          "model_name": "HBoxModel",
          "model_module_version": "1.5.0",
          "state": {
            "_dom_classes": [],
            "_model_module": "@jupyter-widgets/controls",
            "_model_module_version": "1.5.0",
            "_model_name": "HBoxModel",
            "_view_count": null,
            "_view_module": "@jupyter-widgets/controls",
            "_view_module_version": "1.5.0",
            "_view_name": "HBoxView",
            "box_style": "",
            "children": [
              "IPY_MODEL_9a2644474014440b96e16cad6a6ff2ba",
              "IPY_MODEL_b4b14735ebad4f7cbb299aceaa25dc05",
              "IPY_MODEL_9e40f37c27ba4fcf9dd21c33c27cb9dc"
            ],
            "layout": "IPY_MODEL_7b34afb3288a4321817debf97c171e71"
          }
        },
        "9a2644474014440b96e16cad6a6ff2ba": {
          "model_module": "@jupyter-widgets/controls",
          "model_name": "HTMLModel",
          "model_module_version": "1.5.0",
          "state": {
            "_dom_classes": [],
            "_model_module": "@jupyter-widgets/controls",
            "_model_module_version": "1.5.0",
            "_model_name": "HTMLModel",
            "_view_count": null,
            "_view_module": "@jupyter-widgets/controls",
            "_view_module_version": "1.5.0",
            "_view_name": "HTMLView",
            "description": "",
            "description_tooltip": null,
            "layout": "IPY_MODEL_1db2712731b4489a89edeabb0bf9a6d2",
            "placeholder": "​",
            "style": "IPY_MODEL_7800853503074520b7df96d5a0a3ebd9",
            "value": "special_tokens_map.json: 100%"
          }
        },
        "b4b14735ebad4f7cbb299aceaa25dc05": {
          "model_module": "@jupyter-widgets/controls",
          "model_name": "FloatProgressModel",
          "model_module_version": "1.5.0",
          "state": {
            "_dom_classes": [],
            "_model_module": "@jupyter-widgets/controls",
            "_model_module_version": "1.5.0",
            "_model_name": "FloatProgressModel",
            "_view_count": null,
            "_view_module": "@jupyter-widgets/controls",
            "_view_module_version": "1.5.0",
            "_view_name": "ProgressView",
            "bar_style": "success",
            "description": "",
            "description_tooltip": null,
            "layout": "IPY_MODEL_5a05669c88274ea5994dc12c5ed36a7d",
            "max": 695,
            "min": 0,
            "orientation": "horizontal",
            "style": "IPY_MODEL_5d71020f3aba4b2490025d47404063cb",
            "value": 695
          }
        },
        "9e40f37c27ba4fcf9dd21c33c27cb9dc": {
          "model_module": "@jupyter-widgets/controls",
          "model_name": "HTMLModel",
          "model_module_version": "1.5.0",
          "state": {
            "_dom_classes": [],
            "_model_module": "@jupyter-widgets/controls",
            "_model_module_version": "1.5.0",
            "_model_name": "HTMLModel",
            "_view_count": null,
            "_view_module": "@jupyter-widgets/controls",
            "_view_module_version": "1.5.0",
            "_view_name": "HTMLView",
            "description": "",
            "description_tooltip": null,
            "layout": "IPY_MODEL_066253fdb3c3412d830a043828a45ff8",
            "placeholder": "​",
            "style": "IPY_MODEL_c58707e9c56644f7bceba2447a85cbcc",
            "value": " 695/695 [00:00&lt;00:00, 11.1kB/s]"
          }
        },
        "7b34afb3288a4321817debf97c171e71": {
          "model_module": "@jupyter-widgets/base",
          "model_name": "LayoutModel",
          "model_module_version": "1.2.0",
          "state": {
            "_model_module": "@jupyter-widgets/base",
            "_model_module_version": "1.2.0",
            "_model_name": "LayoutModel",
            "_view_count": null,
            "_view_module": "@jupyter-widgets/base",
            "_view_module_version": "1.2.0",
            "_view_name": "LayoutView",
            "align_content": null,
            "align_items": null,
            "align_self": null,
            "border": null,
            "bottom": null,
            "display": null,
            "flex": null,
            "flex_flow": null,
            "grid_area": null,
            "grid_auto_columns": null,
            "grid_auto_flow": null,
            "grid_auto_rows": null,
            "grid_column": null,
            "grid_gap": null,
            "grid_row": null,
            "grid_template_areas": null,
            "grid_template_columns": null,
            "grid_template_rows": null,
            "height": null,
            "justify_content": null,
            "justify_items": null,
            "left": null,
            "margin": null,
            "max_height": null,
            "max_width": null,
            "min_height": null,
            "min_width": null,
            "object_fit": null,
            "object_position": null,
            "order": null,
            "overflow": null,
            "overflow_x": null,
            "overflow_y": null,
            "padding": null,
            "right": null,
            "top": null,
            "visibility": null,
            "width": null
          }
        },
        "1db2712731b4489a89edeabb0bf9a6d2": {
          "model_module": "@jupyter-widgets/base",
          "model_name": "LayoutModel",
          "model_module_version": "1.2.0",
          "state": {
            "_model_module": "@jupyter-widgets/base",
            "_model_module_version": "1.2.0",
            "_model_name": "LayoutModel",
            "_view_count": null,
            "_view_module": "@jupyter-widgets/base",
            "_view_module_version": "1.2.0",
            "_view_name": "LayoutView",
            "align_content": null,
            "align_items": null,
            "align_self": null,
            "border": null,
            "bottom": null,
            "display": null,
            "flex": null,
            "flex_flow": null,
            "grid_area": null,
            "grid_auto_columns": null,
            "grid_auto_flow": null,
            "grid_auto_rows": null,
            "grid_column": null,
            "grid_gap": null,
            "grid_row": null,
            "grid_template_areas": null,
            "grid_template_columns": null,
            "grid_template_rows": null,
            "height": null,
            "justify_content": null,
            "justify_items": null,
            "left": null,
            "margin": null,
            "max_height": null,
            "max_width": null,
            "min_height": null,
            "min_width": null,
            "object_fit": null,
            "object_position": null,
            "order": null,
            "overflow": null,
            "overflow_x": null,
            "overflow_y": null,
            "padding": null,
            "right": null,
            "top": null,
            "visibility": null,
            "width": null
          }
        },
        "7800853503074520b7df96d5a0a3ebd9": {
          "model_module": "@jupyter-widgets/controls",
          "model_name": "DescriptionStyleModel",
          "model_module_version": "1.5.0",
          "state": {
            "_model_module": "@jupyter-widgets/controls",
            "_model_module_version": "1.5.0",
            "_model_name": "DescriptionStyleModel",
            "_view_count": null,
            "_view_module": "@jupyter-widgets/base",
            "_view_module_version": "1.2.0",
            "_view_name": "StyleView",
            "description_width": ""
          }
        },
        "5a05669c88274ea5994dc12c5ed36a7d": {
          "model_module": "@jupyter-widgets/base",
          "model_name": "LayoutModel",
          "model_module_version": "1.2.0",
          "state": {
            "_model_module": "@jupyter-widgets/base",
            "_model_module_version": "1.2.0",
            "_model_name": "LayoutModel",
            "_view_count": null,
            "_view_module": "@jupyter-widgets/base",
            "_view_module_version": "1.2.0",
            "_view_name": "LayoutView",
            "align_content": null,
            "align_items": null,
            "align_self": null,
            "border": null,
            "bottom": null,
            "display": null,
            "flex": null,
            "flex_flow": null,
            "grid_area": null,
            "grid_auto_columns": null,
            "grid_auto_flow": null,
            "grid_auto_rows": null,
            "grid_column": null,
            "grid_gap": null,
            "grid_row": null,
            "grid_template_areas": null,
            "grid_template_columns": null,
            "grid_template_rows": null,
            "height": null,
            "justify_content": null,
            "justify_items": null,
            "left": null,
            "margin": null,
            "max_height": null,
            "max_width": null,
            "min_height": null,
            "min_width": null,
            "object_fit": null,
            "object_position": null,
            "order": null,
            "overflow": null,
            "overflow_x": null,
            "overflow_y": null,
            "padding": null,
            "right": null,
            "top": null,
            "visibility": null,
            "width": null
          }
        },
        "5d71020f3aba4b2490025d47404063cb": {
          "model_module": "@jupyter-widgets/controls",
          "model_name": "ProgressStyleModel",
          "model_module_version": "1.5.0",
          "state": {
            "_model_module": "@jupyter-widgets/controls",
            "_model_module_version": "1.5.0",
            "_model_name": "ProgressStyleModel",
            "_view_count": null,
            "_view_module": "@jupyter-widgets/base",
            "_view_module_version": "1.2.0",
            "_view_name": "StyleView",
            "bar_color": null,
            "description_width": ""
          }
        },
        "066253fdb3c3412d830a043828a45ff8": {
          "model_module": "@jupyter-widgets/base",
          "model_name": "LayoutModel",
          "model_module_version": "1.2.0",
          "state": {
            "_model_module": "@jupyter-widgets/base",
            "_model_module_version": "1.2.0",
            "_model_name": "LayoutModel",
            "_view_count": null,
            "_view_module": "@jupyter-widgets/base",
            "_view_module_version": "1.2.0",
            "_view_name": "LayoutView",
            "align_content": null,
            "align_items": null,
            "align_self": null,
            "border": null,
            "bottom": null,
            "display": null,
            "flex": null,
            "flex_flow": null,
            "grid_area": null,
            "grid_auto_columns": null,
            "grid_auto_flow": null,
            "grid_auto_rows": null,
            "grid_column": null,
            "grid_gap": null,
            "grid_row": null,
            "grid_template_areas": null,
            "grid_template_columns": null,
            "grid_template_rows": null,
            "height": null,
            "justify_content": null,
            "justify_items": null,
            "left": null,
            "margin": null,
            "max_height": null,
            "max_width": null,
            "min_height": null,
            "min_width": null,
            "object_fit": null,
            "object_position": null,
            "order": null,
            "overflow": null,
            "overflow_x": null,
            "overflow_y": null,
            "padding": null,
            "right": null,
            "top": null,
            "visibility": null,
            "width": null
          }
        },
        "c58707e9c56644f7bceba2447a85cbcc": {
          "model_module": "@jupyter-widgets/controls",
          "model_name": "DescriptionStyleModel",
          "model_module_version": "1.5.0",
          "state": {
            "_model_module": "@jupyter-widgets/controls",
            "_model_module_version": "1.5.0",
            "_model_name": "DescriptionStyleModel",
            "_view_count": null,
            "_view_module": "@jupyter-widgets/base",
            "_view_module_version": "1.2.0",
            "_view_name": "StyleView",
            "description_width": ""
          }
        },
        "4f977944836241b3a26df8ef36c32eb9": {
          "model_module": "@jupyter-widgets/controls",
          "model_name": "HBoxModel",
          "model_module_version": "1.5.0",
          "state": {
            "_dom_classes": [],
            "_model_module": "@jupyter-widgets/controls",
            "_model_module_version": "1.5.0",
            "_model_name": "HBoxModel",
            "_view_count": null,
            "_view_module": "@jupyter-widgets/controls",
            "_view_module_version": "1.5.0",
            "_view_name": "HBoxView",
            "box_style": "",
            "children": [
              "IPY_MODEL_ed078b31647741df81477058cd1116ad",
              "IPY_MODEL_c4932db8333c497fb0edaf3f7953ce76",
              "IPY_MODEL_794fd510124e471d897b9423c388d96a"
            ],
            "layout": "IPY_MODEL_342d93545fdf4837a9a8b7a06ae7b7b6"
          }
        },
        "ed078b31647741df81477058cd1116ad": {
          "model_module": "@jupyter-widgets/controls",
          "model_name": "HTMLModel",
          "model_module_version": "1.5.0",
          "state": {
            "_dom_classes": [],
            "_model_module": "@jupyter-widgets/controls",
            "_model_module_version": "1.5.0",
            "_model_name": "HTMLModel",
            "_view_count": null,
            "_view_module": "@jupyter-widgets/controls",
            "_view_module_version": "1.5.0",
            "_view_name": "HTMLView",
            "description": "",
            "description_tooltip": null,
            "layout": "IPY_MODEL_21a9475ee97b4dbc8d2ad94239849503",
            "placeholder": "​",
            "style": "IPY_MODEL_da2599f9121d4bf58cd937445f90f0ad",
            "value": "config.json: 100%"
          }
        },
        "c4932db8333c497fb0edaf3f7953ce76": {
          "model_module": "@jupyter-widgets/controls",
          "model_name": "FloatProgressModel",
          "model_module_version": "1.5.0",
          "state": {
            "_dom_classes": [],
            "_model_module": "@jupyter-widgets/controls",
            "_model_module_version": "1.5.0",
            "_model_name": "FloatProgressModel",
            "_view_count": null,
            "_view_module": "@jupyter-widgets/controls",
            "_view_module_version": "1.5.0",
            "_view_name": "ProgressView",
            "bar_style": "success",
            "description": "",
            "description_tooltip": null,
            "layout": "IPY_MODEL_3cc71f36f615480aacbdcfe37cbaf9f6",
            "max": 740,
            "min": 0,
            "orientation": "horizontal",
            "style": "IPY_MODEL_e1b1b28bf16642d9bf40a8d6eca2932c",
            "value": 740
          }
        },
        "794fd510124e471d897b9423c388d96a": {
          "model_module": "@jupyter-widgets/controls",
          "model_name": "HTMLModel",
          "model_module_version": "1.5.0",
          "state": {
            "_dom_classes": [],
            "_model_module": "@jupyter-widgets/controls",
            "_model_module_version": "1.5.0",
            "_model_name": "HTMLModel",
            "_view_count": null,
            "_view_module": "@jupyter-widgets/controls",
            "_view_module_version": "1.5.0",
            "_view_name": "HTMLView",
            "description": "",
            "description_tooltip": null,
            "layout": "IPY_MODEL_f496d7e460494726b9a8c7c50e71027c",
            "placeholder": "​",
            "style": "IPY_MODEL_11c835ea85864a68a5f4e03847996692",
            "value": " 740/740 [00:00&lt;00:00, 7.49kB/s]"
          }
        },
        "342d93545fdf4837a9a8b7a06ae7b7b6": {
          "model_module": "@jupyter-widgets/base",
          "model_name": "LayoutModel",
          "model_module_version": "1.2.0",
          "state": {
            "_model_module": "@jupyter-widgets/base",
            "_model_module_version": "1.2.0",
            "_model_name": "LayoutModel",
            "_view_count": null,
            "_view_module": "@jupyter-widgets/base",
            "_view_module_version": "1.2.0",
            "_view_name": "LayoutView",
            "align_content": null,
            "align_items": null,
            "align_self": null,
            "border": null,
            "bottom": null,
            "display": null,
            "flex": null,
            "flex_flow": null,
            "grid_area": null,
            "grid_auto_columns": null,
            "grid_auto_flow": null,
            "grid_auto_rows": null,
            "grid_column": null,
            "grid_gap": null,
            "grid_row": null,
            "grid_template_areas": null,
            "grid_template_columns": null,
            "grid_template_rows": null,
            "height": null,
            "justify_content": null,
            "justify_items": null,
            "left": null,
            "margin": null,
            "max_height": null,
            "max_width": null,
            "min_height": null,
            "min_width": null,
            "object_fit": null,
            "object_position": null,
            "order": null,
            "overflow": null,
            "overflow_x": null,
            "overflow_y": null,
            "padding": null,
            "right": null,
            "top": null,
            "visibility": null,
            "width": null
          }
        },
        "21a9475ee97b4dbc8d2ad94239849503": {
          "model_module": "@jupyter-widgets/base",
          "model_name": "LayoutModel",
          "model_module_version": "1.2.0",
          "state": {
            "_model_module": "@jupyter-widgets/base",
            "_model_module_version": "1.2.0",
            "_model_name": "LayoutModel",
            "_view_count": null,
            "_view_module": "@jupyter-widgets/base",
            "_view_module_version": "1.2.0",
            "_view_name": "LayoutView",
            "align_content": null,
            "align_items": null,
            "align_self": null,
            "border": null,
            "bottom": null,
            "display": null,
            "flex": null,
            "flex_flow": null,
            "grid_area": null,
            "grid_auto_columns": null,
            "grid_auto_flow": null,
            "grid_auto_rows": null,
            "grid_column": null,
            "grid_gap": null,
            "grid_row": null,
            "grid_template_areas": null,
            "grid_template_columns": null,
            "grid_template_rows": null,
            "height": null,
            "justify_content": null,
            "justify_items": null,
            "left": null,
            "margin": null,
            "max_height": null,
            "max_width": null,
            "min_height": null,
            "min_width": null,
            "object_fit": null,
            "object_position": null,
            "order": null,
            "overflow": null,
            "overflow_x": null,
            "overflow_y": null,
            "padding": null,
            "right": null,
            "top": null,
            "visibility": null,
            "width": null
          }
        },
        "da2599f9121d4bf58cd937445f90f0ad": {
          "model_module": "@jupyter-widgets/controls",
          "model_name": "DescriptionStyleModel",
          "model_module_version": "1.5.0",
          "state": {
            "_model_module": "@jupyter-widgets/controls",
            "_model_module_version": "1.5.0",
            "_model_name": "DescriptionStyleModel",
            "_view_count": null,
            "_view_module": "@jupyter-widgets/base",
            "_view_module_version": "1.2.0",
            "_view_name": "StyleView",
            "description_width": ""
          }
        },
        "3cc71f36f615480aacbdcfe37cbaf9f6": {
          "model_module": "@jupyter-widgets/base",
          "model_name": "LayoutModel",
          "model_module_version": "1.2.0",
          "state": {
            "_model_module": "@jupyter-widgets/base",
            "_model_module_version": "1.2.0",
            "_model_name": "LayoutModel",
            "_view_count": null,
            "_view_module": "@jupyter-widgets/base",
            "_view_module_version": "1.2.0",
            "_view_name": "LayoutView",
            "align_content": null,
            "align_items": null,
            "align_self": null,
            "border": null,
            "bottom": null,
            "display": null,
            "flex": null,
            "flex_flow": null,
            "grid_area": null,
            "grid_auto_columns": null,
            "grid_auto_flow": null,
            "grid_auto_rows": null,
            "grid_column": null,
            "grid_gap": null,
            "grid_row": null,
            "grid_template_areas": null,
            "grid_template_columns": null,
            "grid_template_rows": null,
            "height": null,
            "justify_content": null,
            "justify_items": null,
            "left": null,
            "margin": null,
            "max_height": null,
            "max_width": null,
            "min_height": null,
            "min_width": null,
            "object_fit": null,
            "object_position": null,
            "order": null,
            "overflow": null,
            "overflow_x": null,
            "overflow_y": null,
            "padding": null,
            "right": null,
            "top": null,
            "visibility": null,
            "width": null
          }
        },
        "e1b1b28bf16642d9bf40a8d6eca2932c": {
          "model_module": "@jupyter-widgets/controls",
          "model_name": "ProgressStyleModel",
          "model_module_version": "1.5.0",
          "state": {
            "_model_module": "@jupyter-widgets/controls",
            "_model_module_version": "1.5.0",
            "_model_name": "ProgressStyleModel",
            "_view_count": null,
            "_view_module": "@jupyter-widgets/base",
            "_view_module_version": "1.2.0",
            "_view_name": "StyleView",
            "bar_color": null,
            "description_width": ""
          }
        },
        "f496d7e460494726b9a8c7c50e71027c": {
          "model_module": "@jupyter-widgets/base",
          "model_name": "LayoutModel",
          "model_module_version": "1.2.0",
          "state": {
            "_model_module": "@jupyter-widgets/base",
            "_model_module_version": "1.2.0",
            "_model_name": "LayoutModel",
            "_view_count": null,
            "_view_module": "@jupyter-widgets/base",
            "_view_module_version": "1.2.0",
            "_view_name": "LayoutView",
            "align_content": null,
            "align_items": null,
            "align_self": null,
            "border": null,
            "bottom": null,
            "display": null,
            "flex": null,
            "flex_flow": null,
            "grid_area": null,
            "grid_auto_columns": null,
            "grid_auto_flow": null,
            "grid_auto_rows": null,
            "grid_column": null,
            "grid_gap": null,
            "grid_row": null,
            "grid_template_areas": null,
            "grid_template_columns": null,
            "grid_template_rows": null,
            "height": null,
            "justify_content": null,
            "justify_items": null,
            "left": null,
            "margin": null,
            "max_height": null,
            "max_width": null,
            "min_height": null,
            "min_width": null,
            "object_fit": null,
            "object_position": null,
            "order": null,
            "overflow": null,
            "overflow_x": null,
            "overflow_y": null,
            "padding": null,
            "right": null,
            "top": null,
            "visibility": null,
            "width": null
          }
        },
        "11c835ea85864a68a5f4e03847996692": {
          "model_module": "@jupyter-widgets/controls",
          "model_name": "DescriptionStyleModel",
          "model_module_version": "1.5.0",
          "state": {
            "_model_module": "@jupyter-widgets/controls",
            "_model_module_version": "1.5.0",
            "_model_name": "DescriptionStyleModel",
            "_view_count": null,
            "_view_module": "@jupyter-widgets/base",
            "_view_module_version": "1.2.0",
            "_view_name": "StyleView",
            "description_width": ""
          }
        },
        "26ea92f03ddd478caf8d624fb1458414": {
          "model_module": "@jupyter-widgets/controls",
          "model_name": "HBoxModel",
          "model_module_version": "1.5.0",
          "state": {
            "_dom_classes": [],
            "_model_module": "@jupyter-widgets/controls",
            "_model_module_version": "1.5.0",
            "_model_name": "HBoxModel",
            "_view_count": null,
            "_view_module": "@jupyter-widgets/controls",
            "_view_module_version": "1.5.0",
            "_view_name": "HBoxView",
            "box_style": "",
            "children": [
              "IPY_MODEL_8fadb6570b134a3b9758788b348eff88",
              "IPY_MODEL_2ab9e7b9d1eb401384bc08c8e1aa31b0",
              "IPY_MODEL_19a50d55904346e6957a97132f18fdc5"
            ],
            "layout": "IPY_MODEL_26deac2752cf40719243b6f3f62f0046"
          }
        },
        "8fadb6570b134a3b9758788b348eff88": {
          "model_module": "@jupyter-widgets/controls",
          "model_name": "HTMLModel",
          "model_module_version": "1.5.0",
          "state": {
            "_dom_classes": [],
            "_model_module": "@jupyter-widgets/controls",
            "_model_module_version": "1.5.0",
            "_model_name": "HTMLModel",
            "_view_count": null,
            "_view_module": "@jupyter-widgets/controls",
            "_view_module_version": "1.5.0",
            "_view_name": "HTMLView",
            "description": "",
            "description_tooltip": null,
            "layout": "IPY_MODEL_b1dab84a17804a909d271b41d35fdf72",
            "placeholder": "​",
            "style": "IPY_MODEL_c2cff002c22f4ae8a3321ab4bc989956",
            "value": "tokenizer_config.json: 100%"
          }
        },
        "2ab9e7b9d1eb401384bc08c8e1aa31b0": {
          "model_module": "@jupyter-widgets/controls",
          "model_name": "FloatProgressModel",
          "model_module_version": "1.5.0",
          "state": {
            "_dom_classes": [],
            "_model_module": "@jupyter-widgets/controls",
            "_model_module_version": "1.5.0",
            "_model_name": "FloatProgressModel",
            "_view_count": null,
            "_view_module": "@jupyter-widgets/controls",
            "_view_module_version": "1.5.0",
            "_view_name": "ProgressView",
            "bar_style": "success",
            "description": "",
            "description_tooltip": null,
            "layout": "IPY_MODEL_a04d7bd9ab134b75a6e117c9e6cb639e",
            "max": 1242,
            "min": 0,
            "orientation": "horizontal",
            "style": "IPY_MODEL_31439573959d430085104a4944886e01",
            "value": 1242
          }
        },
        "19a50d55904346e6957a97132f18fdc5": {
          "model_module": "@jupyter-widgets/controls",
          "model_name": "HTMLModel",
          "model_module_version": "1.5.0",
          "state": {
            "_dom_classes": [],
            "_model_module": "@jupyter-widgets/controls",
            "_model_module_version": "1.5.0",
            "_model_name": "HTMLModel",
            "_view_count": null,
            "_view_module": "@jupyter-widgets/controls",
            "_view_module_version": "1.5.0",
            "_view_name": "HTMLView",
            "description": "",
            "description_tooltip": null,
            "layout": "IPY_MODEL_5451e83d227c43508c15fdc539ba9860",
            "placeholder": "​",
            "style": "IPY_MODEL_2c04921bdde94a13b1fc8df99e516f76",
            "value": " 1.24k/1.24k [00:00&lt;00:00, 8.97kB/s]"
          }
        },
        "26deac2752cf40719243b6f3f62f0046": {
          "model_module": "@jupyter-widgets/base",
          "model_name": "LayoutModel",
          "model_module_version": "1.2.0",
          "state": {
            "_model_module": "@jupyter-widgets/base",
            "_model_module_version": "1.2.0",
            "_model_name": "LayoutModel",
            "_view_count": null,
            "_view_module": "@jupyter-widgets/base",
            "_view_module_version": "1.2.0",
            "_view_name": "LayoutView",
            "align_content": null,
            "align_items": null,
            "align_self": null,
            "border": null,
            "bottom": null,
            "display": null,
            "flex": null,
            "flex_flow": null,
            "grid_area": null,
            "grid_auto_columns": null,
            "grid_auto_flow": null,
            "grid_auto_rows": null,
            "grid_column": null,
            "grid_gap": null,
            "grid_row": null,
            "grid_template_areas": null,
            "grid_template_columns": null,
            "grid_template_rows": null,
            "height": null,
            "justify_content": null,
            "justify_items": null,
            "left": null,
            "margin": null,
            "max_height": null,
            "max_width": null,
            "min_height": null,
            "min_width": null,
            "object_fit": null,
            "object_position": null,
            "order": null,
            "overflow": null,
            "overflow_x": null,
            "overflow_y": null,
            "padding": null,
            "right": null,
            "top": null,
            "visibility": null,
            "width": null
          }
        },
        "b1dab84a17804a909d271b41d35fdf72": {
          "model_module": "@jupyter-widgets/base",
          "model_name": "LayoutModel",
          "model_module_version": "1.2.0",
          "state": {
            "_model_module": "@jupyter-widgets/base",
            "_model_module_version": "1.2.0",
            "_model_name": "LayoutModel",
            "_view_count": null,
            "_view_module": "@jupyter-widgets/base",
            "_view_module_version": "1.2.0",
            "_view_name": "LayoutView",
            "align_content": null,
            "align_items": null,
            "align_self": null,
            "border": null,
            "bottom": null,
            "display": null,
            "flex": null,
            "flex_flow": null,
            "grid_area": null,
            "grid_auto_columns": null,
            "grid_auto_flow": null,
            "grid_auto_rows": null,
            "grid_column": null,
            "grid_gap": null,
            "grid_row": null,
            "grid_template_areas": null,
            "grid_template_columns": null,
            "grid_template_rows": null,
            "height": null,
            "justify_content": null,
            "justify_items": null,
            "left": null,
            "margin": null,
            "max_height": null,
            "max_width": null,
            "min_height": null,
            "min_width": null,
            "object_fit": null,
            "object_position": null,
            "order": null,
            "overflow": null,
            "overflow_x": null,
            "overflow_y": null,
            "padding": null,
            "right": null,
            "top": null,
            "visibility": null,
            "width": null
          }
        },
        "c2cff002c22f4ae8a3321ab4bc989956": {
          "model_module": "@jupyter-widgets/controls",
          "model_name": "DescriptionStyleModel",
          "model_module_version": "1.5.0",
          "state": {
            "_model_module": "@jupyter-widgets/controls",
            "_model_module_version": "1.5.0",
            "_model_name": "DescriptionStyleModel",
            "_view_count": null,
            "_view_module": "@jupyter-widgets/base",
            "_view_module_version": "1.2.0",
            "_view_name": "StyleView",
            "description_width": ""
          }
        },
        "a04d7bd9ab134b75a6e117c9e6cb639e": {
          "model_module": "@jupyter-widgets/base",
          "model_name": "LayoutModel",
          "model_module_version": "1.2.0",
          "state": {
            "_model_module": "@jupyter-widgets/base",
            "_model_module_version": "1.2.0",
            "_model_name": "LayoutModel",
            "_view_count": null,
            "_view_module": "@jupyter-widgets/base",
            "_view_module_version": "1.2.0",
            "_view_name": "LayoutView",
            "align_content": null,
            "align_items": null,
            "align_self": null,
            "border": null,
            "bottom": null,
            "display": null,
            "flex": null,
            "flex_flow": null,
            "grid_area": null,
            "grid_auto_columns": null,
            "grid_auto_flow": null,
            "grid_auto_rows": null,
            "grid_column": null,
            "grid_gap": null,
            "grid_row": null,
            "grid_template_areas": null,
            "grid_template_columns": null,
            "grid_template_rows": null,
            "height": null,
            "justify_content": null,
            "justify_items": null,
            "left": null,
            "margin": null,
            "max_height": null,
            "max_width": null,
            "min_height": null,
            "min_width": null,
            "object_fit": null,
            "object_position": null,
            "order": null,
            "overflow": null,
            "overflow_x": null,
            "overflow_y": null,
            "padding": null,
            "right": null,
            "top": null,
            "visibility": null,
            "width": null
          }
        },
        "31439573959d430085104a4944886e01": {
          "model_module": "@jupyter-widgets/controls",
          "model_name": "ProgressStyleModel",
          "model_module_version": "1.5.0",
          "state": {
            "_model_module": "@jupyter-widgets/controls",
            "_model_module_version": "1.5.0",
            "_model_name": "ProgressStyleModel",
            "_view_count": null,
            "_view_module": "@jupyter-widgets/base",
            "_view_module_version": "1.2.0",
            "_view_name": "StyleView",
            "bar_color": null,
            "description_width": ""
          }
        },
        "5451e83d227c43508c15fdc539ba9860": {
          "model_module": "@jupyter-widgets/base",
          "model_name": "LayoutModel",
          "model_module_version": "1.2.0",
          "state": {
            "_model_module": "@jupyter-widgets/base",
            "_model_module_version": "1.2.0",
            "_model_name": "LayoutModel",
            "_view_count": null,
            "_view_module": "@jupyter-widgets/base",
            "_view_module_version": "1.2.0",
            "_view_name": "LayoutView",
            "align_content": null,
            "align_items": null,
            "align_self": null,
            "border": null,
            "bottom": null,
            "display": null,
            "flex": null,
            "flex_flow": null,
            "grid_area": null,
            "grid_auto_columns": null,
            "grid_auto_flow": null,
            "grid_auto_rows": null,
            "grid_column": null,
            "grid_gap": null,
            "grid_row": null,
            "grid_template_areas": null,
            "grid_template_columns": null,
            "grid_template_rows": null,
            "height": null,
            "justify_content": null,
            "justify_items": null,
            "left": null,
            "margin": null,
            "max_height": null,
            "max_width": null,
            "min_height": null,
            "min_width": null,
            "object_fit": null,
            "object_position": null,
            "order": null,
            "overflow": null,
            "overflow_x": null,
            "overflow_y": null,
            "padding": null,
            "right": null,
            "top": null,
            "visibility": null,
            "width": null
          }
        },
        "2c04921bdde94a13b1fc8df99e516f76": {
          "model_module": "@jupyter-widgets/controls",
          "model_name": "DescriptionStyleModel",
          "model_module_version": "1.5.0",
          "state": {
            "_model_module": "@jupyter-widgets/controls",
            "_model_module_version": "1.5.0",
            "_model_name": "DescriptionStyleModel",
            "_view_count": null,
            "_view_module": "@jupyter-widgets/base",
            "_view_module_version": "1.2.0",
            "_view_name": "StyleView",
            "description_width": ""
          }
        },
        "a6d7b9c5d0af4a2d8c085407581fb51d": {
          "model_module": "@jupyter-widgets/controls",
          "model_name": "HBoxModel",
          "model_module_version": "1.5.0",
          "state": {
            "_dom_classes": [],
            "_model_module": "@jupyter-widgets/controls",
            "_model_module_version": "1.5.0",
            "_model_name": "HBoxModel",
            "_view_count": null,
            "_view_module": "@jupyter-widgets/controls",
            "_view_module_version": "1.5.0",
            "_view_name": "HBoxView",
            "box_style": "",
            "children": [
              "IPY_MODEL_d23a3d0fe1614a21851441f2e6e1587a",
              "IPY_MODEL_3ef6373f19754959ab21b50a0448be8c",
              "IPY_MODEL_0043eb1e5097404b9e8f3e87c10f5e5a"
            ],
            "layout": "IPY_MODEL_4aeed82195a842098f213ac537a315c2"
          }
        },
        "d23a3d0fe1614a21851441f2e6e1587a": {
          "model_module": "@jupyter-widgets/controls",
          "model_name": "HTMLModel",
          "model_module_version": "1.5.0",
          "state": {
            "_dom_classes": [],
            "_model_module": "@jupyter-widgets/controls",
            "_model_module_version": "1.5.0",
            "_model_name": "HTMLModel",
            "_view_count": null,
            "_view_module": "@jupyter-widgets/controls",
            "_view_module_version": "1.5.0",
            "_view_name": "HTMLView",
            "description": "",
            "description_tooltip": null,
            "layout": "IPY_MODEL_aded853e09db4aabaf023426fdbdf136",
            "placeholder": "​",
            "style": "IPY_MODEL_be3d7dde5805456a956ac0a7639bb52c",
            "value": "tokenizer.json: 100%"
          }
        },
        "3ef6373f19754959ab21b50a0448be8c": {
          "model_module": "@jupyter-widgets/controls",
          "model_name": "FloatProgressModel",
          "model_module_version": "1.5.0",
          "state": {
            "_dom_classes": [],
            "_model_module": "@jupyter-widgets/controls",
            "_model_module_version": "1.5.0",
            "_model_name": "FloatProgressModel",
            "_view_count": null,
            "_view_module": "@jupyter-widgets/controls",
            "_view_module_version": "1.5.0",
            "_view_name": "ProgressView",
            "bar_style": "success",
            "description": "",
            "description_tooltip": null,
            "layout": "IPY_MODEL_eaa396905d7d49ccbf705adf50769ed8",
            "max": 711396,
            "min": 0,
            "orientation": "horizontal",
            "style": "IPY_MODEL_7b5d221295e1452ca2f763af25dd387c",
            "value": 711396
          }
        },
        "0043eb1e5097404b9e8f3e87c10f5e5a": {
          "model_module": "@jupyter-widgets/controls",
          "model_name": "HTMLModel",
          "model_module_version": "1.5.0",
          "state": {
            "_dom_classes": [],
            "_model_module": "@jupyter-widgets/controls",
            "_model_module_version": "1.5.0",
            "_model_name": "HTMLModel",
            "_view_count": null,
            "_view_module": "@jupyter-widgets/controls",
            "_view_module_version": "1.5.0",
            "_view_name": "HTMLView",
            "description": "",
            "description_tooltip": null,
            "layout": "IPY_MODEL_a87baace3b854e70a6ed2013d4ed3c9b",
            "placeholder": "​",
            "style": "IPY_MODEL_2a1430974c6e409c934668f61a4829e5",
            "value": " 711k/711k [00:00&lt;00:00, 2.72MB/s]"
          }
        },
        "4aeed82195a842098f213ac537a315c2": {
          "model_module": "@jupyter-widgets/base",
          "model_name": "LayoutModel",
          "model_module_version": "1.2.0",
          "state": {
            "_model_module": "@jupyter-widgets/base",
            "_model_module_version": "1.2.0",
            "_model_name": "LayoutModel",
            "_view_count": null,
            "_view_module": "@jupyter-widgets/base",
            "_view_module_version": "1.2.0",
            "_view_name": "LayoutView",
            "align_content": null,
            "align_items": null,
            "align_self": null,
            "border": null,
            "bottom": null,
            "display": null,
            "flex": null,
            "flex_flow": null,
            "grid_area": null,
            "grid_auto_columns": null,
            "grid_auto_flow": null,
            "grid_auto_rows": null,
            "grid_column": null,
            "grid_gap": null,
            "grid_row": null,
            "grid_template_areas": null,
            "grid_template_columns": null,
            "grid_template_rows": null,
            "height": null,
            "justify_content": null,
            "justify_items": null,
            "left": null,
            "margin": null,
            "max_height": null,
            "max_width": null,
            "min_height": null,
            "min_width": null,
            "object_fit": null,
            "object_position": null,
            "order": null,
            "overflow": null,
            "overflow_x": null,
            "overflow_y": null,
            "padding": null,
            "right": null,
            "top": null,
            "visibility": null,
            "width": null
          }
        },
        "aded853e09db4aabaf023426fdbdf136": {
          "model_module": "@jupyter-widgets/base",
          "model_name": "LayoutModel",
          "model_module_version": "1.2.0",
          "state": {
            "_model_module": "@jupyter-widgets/base",
            "_model_module_version": "1.2.0",
            "_model_name": "LayoutModel",
            "_view_count": null,
            "_view_module": "@jupyter-widgets/base",
            "_view_module_version": "1.2.0",
            "_view_name": "LayoutView",
            "align_content": null,
            "align_items": null,
            "align_self": null,
            "border": null,
            "bottom": null,
            "display": null,
            "flex": null,
            "flex_flow": null,
            "grid_area": null,
            "grid_auto_columns": null,
            "grid_auto_flow": null,
            "grid_auto_rows": null,
            "grid_column": null,
            "grid_gap": null,
            "grid_row": null,
            "grid_template_areas": null,
            "grid_template_columns": null,
            "grid_template_rows": null,
            "height": null,
            "justify_content": null,
            "justify_items": null,
            "left": null,
            "margin": null,
            "max_height": null,
            "max_width": null,
            "min_height": null,
            "min_width": null,
            "object_fit": null,
            "object_position": null,
            "order": null,
            "overflow": null,
            "overflow_x": null,
            "overflow_y": null,
            "padding": null,
            "right": null,
            "top": null,
            "visibility": null,
            "width": null
          }
        },
        "be3d7dde5805456a956ac0a7639bb52c": {
          "model_module": "@jupyter-widgets/controls",
          "model_name": "DescriptionStyleModel",
          "model_module_version": "1.5.0",
          "state": {
            "_model_module": "@jupyter-widgets/controls",
            "_model_module_version": "1.5.0",
            "_model_name": "DescriptionStyleModel",
            "_view_count": null,
            "_view_module": "@jupyter-widgets/base",
            "_view_module_version": "1.2.0",
            "_view_name": "StyleView",
            "description_width": ""
          }
        },
        "eaa396905d7d49ccbf705adf50769ed8": {
          "model_module": "@jupyter-widgets/base",
          "model_name": "LayoutModel",
          "model_module_version": "1.2.0",
          "state": {
            "_model_module": "@jupyter-widgets/base",
            "_model_module_version": "1.2.0",
            "_model_name": "LayoutModel",
            "_view_count": null,
            "_view_module": "@jupyter-widgets/base",
            "_view_module_version": "1.2.0",
            "_view_name": "LayoutView",
            "align_content": null,
            "align_items": null,
            "align_self": null,
            "border": null,
            "bottom": null,
            "display": null,
            "flex": null,
            "flex_flow": null,
            "grid_area": null,
            "grid_auto_columns": null,
            "grid_auto_flow": null,
            "grid_auto_rows": null,
            "grid_column": null,
            "grid_gap": null,
            "grid_row": null,
            "grid_template_areas": null,
            "grid_template_columns": null,
            "grid_template_rows": null,
            "height": null,
            "justify_content": null,
            "justify_items": null,
            "left": null,
            "margin": null,
            "max_height": null,
            "max_width": null,
            "min_height": null,
            "min_width": null,
            "object_fit": null,
            "object_position": null,
            "order": null,
            "overflow": null,
            "overflow_x": null,
            "overflow_y": null,
            "padding": null,
            "right": null,
            "top": null,
            "visibility": null,
            "width": null
          }
        },
        "7b5d221295e1452ca2f763af25dd387c": {
          "model_module": "@jupyter-widgets/controls",
          "model_name": "ProgressStyleModel",
          "model_module_version": "1.5.0",
          "state": {
            "_model_module": "@jupyter-widgets/controls",
            "_model_module_version": "1.5.0",
            "_model_name": "ProgressStyleModel",
            "_view_count": null,
            "_view_module": "@jupyter-widgets/base",
            "_view_module_version": "1.2.0",
            "_view_name": "StyleView",
            "bar_color": null,
            "description_width": ""
          }
        },
        "a87baace3b854e70a6ed2013d4ed3c9b": {
          "model_module": "@jupyter-widgets/base",
          "model_name": "LayoutModel",
          "model_module_version": "1.2.0",
          "state": {
            "_model_module": "@jupyter-widgets/base",
            "_model_module_version": "1.2.0",
            "_model_name": "LayoutModel",
            "_view_count": null,
            "_view_module": "@jupyter-widgets/base",
            "_view_module_version": "1.2.0",
            "_view_name": "LayoutView",
            "align_content": null,
            "align_items": null,
            "align_self": null,
            "border": null,
            "bottom": null,
            "display": null,
            "flex": null,
            "flex_flow": null,
            "grid_area": null,
            "grid_auto_columns": null,
            "grid_auto_flow": null,
            "grid_auto_rows": null,
            "grid_column": null,
            "grid_gap": null,
            "grid_row": null,
            "grid_template_areas": null,
            "grid_template_columns": null,
            "grid_template_rows": null,
            "height": null,
            "justify_content": null,
            "justify_items": null,
            "left": null,
            "margin": null,
            "max_height": null,
            "max_width": null,
            "min_height": null,
            "min_width": null,
            "object_fit": null,
            "object_position": null,
            "order": null,
            "overflow": null,
            "overflow_x": null,
            "overflow_y": null,
            "padding": null,
            "right": null,
            "top": null,
            "visibility": null,
            "width": null
          }
        },
        "2a1430974c6e409c934668f61a4829e5": {
          "model_module": "@jupyter-widgets/controls",
          "model_name": "DescriptionStyleModel",
          "model_module_version": "1.5.0",
          "state": {
            "_model_module": "@jupyter-widgets/controls",
            "_model_module_version": "1.5.0",
            "_model_name": "DescriptionStyleModel",
            "_view_count": null,
            "_view_module": "@jupyter-widgets/base",
            "_view_module_version": "1.2.0",
            "_view_name": "StyleView",
            "description_width": ""
          }
        },
        "77fc27818c2c40389815f0ad15347772": {
          "model_module": "@jupyter-widgets/controls",
          "model_name": "HBoxModel",
          "model_module_version": "1.5.0",
          "state": {
            "_dom_classes": [],
            "_model_module": "@jupyter-widgets/controls",
            "_model_module_version": "1.5.0",
            "_model_name": "HBoxModel",
            "_view_count": null,
            "_view_module": "@jupyter-widgets/controls",
            "_view_module_version": "1.5.0",
            "_view_name": "HBoxView",
            "box_style": "",
            "children": [
              "IPY_MODEL_1864cc9203c84821a4b9231bae479ad3",
              "IPY_MODEL_7506bf3f03cf4c04938ddaa11955ec02",
              "IPY_MODEL_4e44cc6407f94fc29ddd3560215a6bb3"
            ],
            "layout": "IPY_MODEL_d61a18d7166b4c34bf4a0674cdd7424f"
          }
        },
        "1864cc9203c84821a4b9231bae479ad3": {
          "model_module": "@jupyter-widgets/controls",
          "model_name": "HTMLModel",
          "model_module_version": "1.5.0",
          "state": {
            "_dom_classes": [],
            "_model_module": "@jupyter-widgets/controls",
            "_model_module_version": "1.5.0",
            "_model_name": "HTMLModel",
            "_view_count": null,
            "_view_module": "@jupyter-widgets/controls",
            "_view_module_version": "1.5.0",
            "_view_name": "HTMLView",
            "description": "",
            "description_tooltip": null,
            "layout": "IPY_MODEL_be11ce0c09f646668ce2b2b23cb8c279",
            "placeholder": "​",
            "style": "IPY_MODEL_c039d3f6d932464ab5ee45af98a7e180",
            "value": "model_optimized.onnx: 100%"
          }
        },
        "7506bf3f03cf4c04938ddaa11955ec02": {
          "model_module": "@jupyter-widgets/controls",
          "model_name": "FloatProgressModel",
          "model_module_version": "1.5.0",
          "state": {
            "_dom_classes": [],
            "_model_module": "@jupyter-widgets/controls",
            "_model_module_version": "1.5.0",
            "_model_name": "FloatProgressModel",
            "_view_count": null,
            "_view_module": "@jupyter-widgets/controls",
            "_view_module_version": "1.5.0",
            "_view_name": "ProgressView",
            "bar_style": "success",
            "description": "",
            "description_tooltip": null,
            "layout": "IPY_MODEL_7af220f4636b4a3b9ca1b92e309f8de5",
            "max": 217824172,
            "min": 0,
            "orientation": "horizontal",
            "style": "IPY_MODEL_f24e6183f93b4b23b875ed6e1bccc9c9",
            "value": 217824172
          }
        },
        "4e44cc6407f94fc29ddd3560215a6bb3": {
          "model_module": "@jupyter-widgets/controls",
          "model_name": "HTMLModel",
          "model_module_version": "1.5.0",
          "state": {
            "_dom_classes": [],
            "_model_module": "@jupyter-widgets/controls",
            "_model_module_version": "1.5.0",
            "_model_name": "HTMLModel",
            "_view_count": null,
            "_view_module": "@jupyter-widgets/controls",
            "_view_module_version": "1.5.0",
            "_view_name": "HTMLView",
            "description": "",
            "description_tooltip": null,
            "layout": "IPY_MODEL_b6eff6e9c9cc42dab8b4bb6dcc4becd8",
            "placeholder": "​",
            "style": "IPY_MODEL_2db17b5b6118429780837ee6c01532d3",
            "value": " 218M/218M [00:06&lt;00:00, 91.7MB/s]"
          }
        },
        "d61a18d7166b4c34bf4a0674cdd7424f": {
          "model_module": "@jupyter-widgets/base",
          "model_name": "LayoutModel",
          "model_module_version": "1.2.0",
          "state": {
            "_model_module": "@jupyter-widgets/base",
            "_model_module_version": "1.2.0",
            "_model_name": "LayoutModel",
            "_view_count": null,
            "_view_module": "@jupyter-widgets/base",
            "_view_module_version": "1.2.0",
            "_view_name": "LayoutView",
            "align_content": null,
            "align_items": null,
            "align_self": null,
            "border": null,
            "bottom": null,
            "display": null,
            "flex": null,
            "flex_flow": null,
            "grid_area": null,
            "grid_auto_columns": null,
            "grid_auto_flow": null,
            "grid_auto_rows": null,
            "grid_column": null,
            "grid_gap": null,
            "grid_row": null,
            "grid_template_areas": null,
            "grid_template_columns": null,
            "grid_template_rows": null,
            "height": null,
            "justify_content": null,
            "justify_items": null,
            "left": null,
            "margin": null,
            "max_height": null,
            "max_width": null,
            "min_height": null,
            "min_width": null,
            "object_fit": null,
            "object_position": null,
            "order": null,
            "overflow": null,
            "overflow_x": null,
            "overflow_y": null,
            "padding": null,
            "right": null,
            "top": null,
            "visibility": null,
            "width": null
          }
        },
        "be11ce0c09f646668ce2b2b23cb8c279": {
          "model_module": "@jupyter-widgets/base",
          "model_name": "LayoutModel",
          "model_module_version": "1.2.0",
          "state": {
            "_model_module": "@jupyter-widgets/base",
            "_model_module_version": "1.2.0",
            "_model_name": "LayoutModel",
            "_view_count": null,
            "_view_module": "@jupyter-widgets/base",
            "_view_module_version": "1.2.0",
            "_view_name": "LayoutView",
            "align_content": null,
            "align_items": null,
            "align_self": null,
            "border": null,
            "bottom": null,
            "display": null,
            "flex": null,
            "flex_flow": null,
            "grid_area": null,
            "grid_auto_columns": null,
            "grid_auto_flow": null,
            "grid_auto_rows": null,
            "grid_column": null,
            "grid_gap": null,
            "grid_row": null,
            "grid_template_areas": null,
            "grid_template_columns": null,
            "grid_template_rows": null,
            "height": null,
            "justify_content": null,
            "justify_items": null,
            "left": null,
            "margin": null,
            "max_height": null,
            "max_width": null,
            "min_height": null,
            "min_width": null,
            "object_fit": null,
            "object_position": null,
            "order": null,
            "overflow": null,
            "overflow_x": null,
            "overflow_y": null,
            "padding": null,
            "right": null,
            "top": null,
            "visibility": null,
            "width": null
          }
        },
        "c039d3f6d932464ab5ee45af98a7e180": {
          "model_module": "@jupyter-widgets/controls",
          "model_name": "DescriptionStyleModel",
          "model_module_version": "1.5.0",
          "state": {
            "_model_module": "@jupyter-widgets/controls",
            "_model_module_version": "1.5.0",
            "_model_name": "DescriptionStyleModel",
            "_view_count": null,
            "_view_module": "@jupyter-widgets/base",
            "_view_module_version": "1.2.0",
            "_view_name": "StyleView",
            "description_width": ""
          }
        },
        "7af220f4636b4a3b9ca1b92e309f8de5": {
          "model_module": "@jupyter-widgets/base",
          "model_name": "LayoutModel",
          "model_module_version": "1.2.0",
          "state": {
            "_model_module": "@jupyter-widgets/base",
            "_model_module_version": "1.2.0",
            "_model_name": "LayoutModel",
            "_view_count": null,
            "_view_module": "@jupyter-widgets/base",
            "_view_module_version": "1.2.0",
            "_view_name": "LayoutView",
            "align_content": null,
            "align_items": null,
            "align_self": null,
            "border": null,
            "bottom": null,
            "display": null,
            "flex": null,
            "flex_flow": null,
            "grid_area": null,
            "grid_auto_columns": null,
            "grid_auto_flow": null,
            "grid_auto_rows": null,
            "grid_column": null,
            "grid_gap": null,
            "grid_row": null,
            "grid_template_areas": null,
            "grid_template_columns": null,
            "grid_template_rows": null,
            "height": null,
            "justify_content": null,
            "justify_items": null,
            "left": null,
            "margin": null,
            "max_height": null,
            "max_width": null,
            "min_height": null,
            "min_width": null,
            "object_fit": null,
            "object_position": null,
            "order": null,
            "overflow": null,
            "overflow_x": null,
            "overflow_y": null,
            "padding": null,
            "right": null,
            "top": null,
            "visibility": null,
            "width": null
          }
        },
        "f24e6183f93b4b23b875ed6e1bccc9c9": {
          "model_module": "@jupyter-widgets/controls",
          "model_name": "ProgressStyleModel",
          "model_module_version": "1.5.0",
          "state": {
            "_model_module": "@jupyter-widgets/controls",
            "_model_module_version": "1.5.0",
            "_model_name": "ProgressStyleModel",
            "_view_count": null,
            "_view_module": "@jupyter-widgets/base",
            "_view_module_version": "1.2.0",
            "_view_name": "StyleView",
            "bar_color": null,
            "description_width": ""
          }
        },
        "b6eff6e9c9cc42dab8b4bb6dcc4becd8": {
          "model_module": "@jupyter-widgets/base",
          "model_name": "LayoutModel",
          "model_module_version": "1.2.0",
          "state": {
            "_model_module": "@jupyter-widgets/base",
            "_model_module_version": "1.2.0",
            "_model_name": "LayoutModel",
            "_view_count": null,
            "_view_module": "@jupyter-widgets/base",
            "_view_module_version": "1.2.0",
            "_view_name": "LayoutView",
            "align_content": null,
            "align_items": null,
            "align_self": null,
            "border": null,
            "bottom": null,
            "display": null,
            "flex": null,
            "flex_flow": null,
            "grid_area": null,
            "grid_auto_columns": null,
            "grid_auto_flow": null,
            "grid_auto_rows": null,
            "grid_column": null,
            "grid_gap": null,
            "grid_row": null,
            "grid_template_areas": null,
            "grid_template_columns": null,
            "grid_template_rows": null,
            "height": null,
            "justify_content": null,
            "justify_items": null,
            "left": null,
            "margin": null,
            "max_height": null,
            "max_width": null,
            "min_height": null,
            "min_width": null,
            "object_fit": null,
            "object_position": null,
            "order": null,
            "overflow": null,
            "overflow_x": null,
            "overflow_y": null,
            "padding": null,
            "right": null,
            "top": null,
            "visibility": null,
            "width": null
          }
        },
        "2db17b5b6118429780837ee6c01532d3": {
          "model_module": "@jupyter-widgets/controls",
          "model_name": "DescriptionStyleModel",
          "model_module_version": "1.5.0",
          "state": {
            "_model_module": "@jupyter-widgets/controls",
            "_model_module_version": "1.5.0",
            "_model_name": "DescriptionStyleModel",
            "_view_count": null,
            "_view_module": "@jupyter-widgets/base",
            "_view_module_version": "1.2.0",
            "_view_name": "StyleView",
            "description_width": ""
          }
        }
      }
    }
  },
  "cells": [
    {
      "cell_type": "markdown",
      "source": [
        "### **Step 1**"
      ],
      "metadata": {
        "id": "mTMUf-7GhIdo"
      }
    },
    {
      "cell_type": "markdown",
      "source": [
        "**1. Install Required Libraries**"
      ],
      "metadata": {
        "id": "MnLZkr9fhCsh"
      }
    },
    {
      "cell_type": "markdown",
      "source": [
        "Here is the list of all the required libraries and their versions. Make sure the libraries are installed with the given version as multiple libraries depend on one another. If you want to install the latest version, then make sure all the required libraries are compatible with each other."
      ],
      "metadata": {
        "id": "bK9Nw4J1BvpB"
      }
    },
    {
      "cell_type": "code",
      "execution_count": 1,
      "metadata": {
        "colab": {
          "base_uri": "https://localhost:8080/"
        },
        "id": "RGnLLHGhg2dF",
        "outputId": "3bb9295f-0861-43bb-effe-cb21c0c831c6"
      },
      "outputs": [
        {
          "output_type": "stream",
          "name": "stdout",
          "text": [
            "  Preparing metadata (setup.py) ... \u001b[?25l\u001b[?25hdone\n",
            "  Building wheel for langdetect (setup.py) ... \u001b[?25l\u001b[?25hdone\n",
            "\u001b[31mERROR: pip's dependency resolver does not currently take into account all the packages that are installed. This behaviour is the source of the following dependency conflicts.\n",
            "accelerate 0.34.2 requires huggingface-hub>=0.21.0, but you have huggingface-hub 0.20.3 which is incompatible.\n",
            "transformers 4.44.2 requires huggingface-hub<1.0,>=0.23.2, but you have huggingface-hub 0.20.3 which is incompatible.\n",
            "transformers 4.44.2 requires tokenizers<0.20,>=0.19, but you have tokenizers 0.15.2 which is incompatible.\u001b[0m\u001b[31m\n",
            "\u001b[0m  Installing build dependencies ... \u001b[?25l\u001b[?25hdone\n",
            "  Getting requirements to build wheel ... \u001b[?25l\u001b[?25hdone\n",
            "  Installing backend dependencies ... \u001b[?25l\u001b[?25hdone\n",
            "  Preparing metadata (pyproject.toml) ... \u001b[?25l\u001b[?25hdone\n",
            "  Building wheel for llama-cpp-python (pyproject.toml) ... \u001b[?25l\u001b[?25hdone\n",
            "\u001b[31mERROR: pip's dependency resolver does not currently take into account all the packages that are installed. This behaviour is the source of the following dependency conflicts.\n",
            "langchain-groq 0.1.3 requires langchain-core<0.2.0,>=0.1.45, but you have langchain-core 0.2.41 which is incompatible.\u001b[0m\u001b[31m\n",
            "\u001b[0m"
          ]
        }
      ],
      "source": [
        "!pip -qqq install pip --progress-bar off\n",
        "!pip -qqq install langchain-groq==0.1.3 --progress-bar off\n",
        "!pip -qqq install langchain==0.1.17 --progress-bar off\n",
        "!pip -qqq install llama-parse==0.1.3 --progress-bar off\n",
        "!pip -qqq install \"unstructured[md]\"==0.13.6 --progress-bar off\n",
        "!pip -qqq install fastembed==0.2.7 --progress-bar off\n",
        "!pip -qqq install flashrank==0.2.4 --progress-bar off\n",
        "!pip -qqq install faiss-cpu==1.8.0 --progress-bar off\n",
        "!pip -qqq install langchain-community==0.2.5 --progress-bar off"
      ]
    },
    {
      "cell_type": "markdown",
      "source": [
        "N.B.: Here the notification `Building wheel for llama-cpp-python (pyproject.toml)` should `done` as it allows to declare which build backend used and which other dependencies are needed to build for project."
      ],
      "metadata": {
        "id": "qyxa6v_7DZRx"
      }
    },
    {
      "cell_type": "markdown",
      "source": [
        "**2. Load Required Libraries**"
      ],
      "metadata": {
        "id": "zvuhfbochPdJ"
      }
    },
    {
      "cell_type": "code",
      "source": [
        "import os\n",
        "import textwrap\n",
        "from pathlib import Path\n",
        "\n",
        "from google.colab import userdata\n",
        "from IPython.display import Markdown\n",
        "from langchain.schema import Document\n",
        "from langchain.chains import RetrievalQA\n",
        "from langchain.prompts import PromptTemplate\n",
        "from langchain_community.vectorstores import FAISS\n",
        "from langchain.retrievers import ContextualCompressionRetriever\n",
        "from langchain.retrievers.document_compressors import FlashrankRerank\n",
        "from langchain.text_splitter import RecursiveCharacterTextSplitter\n",
        "from langchain_community.document_loaders import UnstructuredMarkdownLoader\n",
        "from langchain_community.embeddings.fastembed import FastEmbedEmbeddings\n",
        "from langchain_core.prompts import ChatPromptTemplate\n",
        "from langchain_groq import ChatGroq\n",
        "from llama_parse import LlamaParse"
      ],
      "metadata": {
        "id": "i_eWifRzhP0-"
      },
      "execution_count": 2,
      "outputs": []
    },
    {
      "cell_type": "code",
      "source": [
        "'''Connect all the SECRET KEY, stored in the vault'''\n",
        "from google.colab import userdata"
      ],
      "metadata": {
        "id": "CSP9iqIEhwk3"
      },
      "execution_count": 3,
      "outputs": []
    },
    {
      "cell_type": "markdown",
      "source": [
        "### **Step 2**"
      ],
      "metadata": {
        "id": "Vt2iN4qNhgGl"
      }
    },
    {
      "cell_type": "markdown",
      "source": [
        "**3. Set Up the File Path**"
      ],
      "metadata": {
        "id": "_jk1x22ghhw4"
      }
    },
    {
      "cell_type": "markdown",
      "source": [
        "Load and set up the file path"
      ],
      "metadata": {
        "id": "bJTNOoV9TiiZ"
      }
    },
    {
      "cell_type": "code",
      "source": [
        "file_path = \"/content/12587973.pdf\""
      ],
      "metadata": {
        "id": "z0eQWl1ihhSN"
      },
      "execution_count": 4,
      "outputs": []
    },
    {
      "cell_type": "markdown",
      "source": [
        "### **Step 3**"
      ],
      "metadata": {
        "id": "aTG23w9-hvCV"
      }
    },
    {
      "cell_type": "markdown",
      "source": [
        "**4. Document Parsing & Spliting**"
      ],
      "metadata": {
        "id": "dxlWSOgWhx-X"
      }
    },
    {
      "cell_type": "markdown",
      "source": [
        "**4.1 Required Parsing function loading...**"
      ],
      "metadata": {
        "id": "R6V0XR7HjBmA"
      }
    },
    {
      "cell_type": "markdown",
      "source": [
        "LlamaParse is a **GenAI-native document parser** that can parse complex document data for any downstream LLM use case (RAG, agents).\n",
        "\n",
        "It is really good at the following:\n",
        "\n",
        "- ✅ **Broad file type support**: Parsing a variety of unstructured file types (.pdf, .pptx, .docx, .xlsx, .html) with text, tables, visual elements, weird layouts, and more.\n",
        "- ✅ **Table recognition**: Parsing embedded tables accurately into text and semi-structured representations.\n",
        "- ✅ **Multimodal parsing and chunking**: Extracting visual elements (images/diagrams) into structured formats and return image chunks using the latest multimodal models.\n",
        "- ✅ **Custom parsing**: Input custom prompt instructions to customize the output the way you want it.\n",
        "\n",
        "LlamaParse directly integrates with [LlamaIndex](https://github.com/run-llama/llama_index).\n",
        "\n",
        "The free plan is up to 1000 pages a day. Paid plan is free 7k pages per week + 0.3c per additional page by default. There is a sandbox available to test the API [**https://cloud.llamaindex.ai/parse ↗**](https://cloud.llamaindex.ai/parse).\n",
        "\n",
        "Read below for some quickstart information, or see the [full documentation](https://docs.cloud.llamaindex.ai/).\n",
        "\n",
        "If you're a company interested in enterprise RAG solutions, and/or high volume/on-prem usage of LlamaParse, come [talk to us](https://www.llamaindex.ai/contact)."
      ],
      "metadata": {
        "id": "skdXGhd8NBbL"
      }
    },
    {
      "cell_type": "code",
      "source": [
        "LLAMA_PARSE_API_KEY = userdata.get(\"LLAMA_PARSE_API_KEY\")\n",
        "\n",
        "parsing_instruction = f\"\"\"The provided document is resume for job application and many more.\n",
        "Try to be precise while answering the questions.\"\"\"\n",
        "\n",
        "parser = LlamaParse(\n",
        "    api_key = LLAMA_PARSE_API_KEY, ## LlamaParse API key\n",
        "    result_type = \"markdown\", ## Type of parsing for showcase\n",
        "    parsing_instruction = parsing_instruction, ## Additional instruction about document\n",
        ")"
      ],
      "metadata": {
        "id": "nDAKOCfaiIWZ"
      },
      "execution_count": 5,
      "outputs": []
    },
    {
      "cell_type": "markdown",
      "source": [
        "**4.2 Load & View Document**"
      ],
      "metadata": {
        "id": "CjCh2Mxtj4xp"
      }
    },
    {
      "cell_type": "markdown",
      "source": [
        "Loading the documents or information to be utilized through llamaparse."
      ],
      "metadata": {
        "id": "1SVIEswcOF_S"
      }
    },
    {
      "cell_type": "code",
      "source": [
        "llama_parse_documents = await parser.aload_data(file_path)\n",
        "print(llama_parse_documents)"
      ],
      "metadata": {
        "colab": {
          "base_uri": "https://localhost:8080/"
        },
        "id": "hhlgGR0qj9Cu",
        "outputId": "eb94db81-2cf2-43ac-bdfb-8abb91ace29a"
      },
      "execution_count": 6,
      "outputs": [
        {
          "output_type": "stream",
          "name": "stdout",
          "text": [
            "Started parsing the file under job_id d872d15b-0d0b-4716-a293-6ee7d8c3fa46\n",
            "[Document(id_='4e76eb98-2e21-469c-a73c-66f2dc140ba5', embedding=None, metadata={'file_path': '/content/12587973.pdf'}, excluded_embed_metadata_keys=[], excluded_llm_metadata_keys=[], relationships={}, text='# SUBSTITUTE TEACHER\\n\\n# Summary\\n\\nReceiving an education on Psychology and pursuing my teaching certification has been the best professional accomplishment I have achieved. The teaching in the absence of the teacher helped me understand that I have a background to implement the strategist teach.\\n\\nSales Manager successful in relationship and team building. Motivates sales teams to exceed sales goals with a track record of consistently achieving employee retention, skilled in leading teams to set record-high sales figures, expand existing territories and develop new accounts. Achieve record-setting revenue gains. Talented, effective at multi-tasking and reaching sales targets. Builds loyalty and long-term relationships with customers.\\n\\nBusiness development executive experienced in all aspects of sales and marketing, contract negotiation and account management. Driven professional who effectively builds loyalty and long-term relationships with customers while consistently exceeding sales targets.\\n\\n# Accomplishments\\n\\n8620 Spectrum Center Blvd.\\nSan Diego, CA 92123\\n\\n- Attentive Sales Manager with a track record of consistently achieving employee retention and sales goals.\\n- 8 years in sales, customer service and personnel and payroll management.\\n- Driven to exceed goals and expectations.\\n- Talented sales professional effective at multi-tasking and reaching sales targets.\\n- Builds loyalty and long-term relationships with customers.\\n\\n# Experience\\n\\n# Substitute Teacher\\n\\n01/2016 to Current\\nCompany Name\\n\\n- Manage classrooms, and help children throughout the day, by assessing the lesson of the day.\\n- Maintaining discipline in the classroom.\\n\\n# Company Name\\n\\n10/2011 to 01/2017\\nCity, State\\n\\n- Advised prospective employees on various tips and tricks that would assist them in gaining employment in the organization.\\n- Implement effective HR policies to ensure all practices are following labor and employment regulations.\\n- Increased employee retention above 90% by rigorously maintaining a positive work environment.\\n- Develop targeted outreach recruitment programs to recruit more minorities and meet affirmative action requirements.\\n- Created a website with an embedded database and FTP functionality to enable online recruitment for the organization and reducing recruitment costs by 10%.\\n- Develop user-friendly application forms and questionnaires to be used by the organization during staff recruitment and interviewing.\\n- Arbitrate labor disputes in collaboration with the legal department.\\n\\n# Operations Sales Manager\\n\\n09/2008 to 10/2011\\nCompany Name\\nCity, State\\n\\n- Established operational objectives and work plans and delegated assignments to subordinate managers.\\n- Supervised a team of 15 area managers and 35 associates.\\n- Developed executive presentations and reports to facilitate project evaluation and process improvement.\\n- Directed planning, budgeting, vendor selection and quality assurance efforts.\\n- Defined clear targets and objectives and communicated them to other team members.\\n- Reviewed sales, customer concerns and new opportunities to drive business strategy at weekly planning sessions.\\n- Assessed vendor products and maintained positive vendor relations.\\n- Supported the sales team in writing proposals and closing contracts.\\n- Developed quarterly and annual sales department budgets.\\n- Developed a comprehensive training program for new sales associates.\\n- Reviewed operational records and reports to project sales and determine profitability.\\n- Trained all incoming sales team members.\\n- Maintained knowledge of current sales and promotions, policies regarding payment and exchanges and security practices.\\n\\n# Insurance Agent\\n\\n08/2005 to 08/2008\\nFred Loya Insurance - Eagle Pass TX 78852\\n\\n- Met with existing and prospective clients each week to select appropriate insurance policies.\\n- Calculated quotes and educated potential clients on insurance options.\\n- Tracked the progress of all outstanding insurance claims.\\n- Calculated premiums and established payment methods for sales.\\n- Identified and solicited sales prospects in agency databases.\\n- Evaluated leads obtained through direct referrals, lead databases and cold calling.\\n- Modeled exceptional customer service skills and appropriate diagnostic sales techniques.\\n- Collected all premiums on or before effective date of coverage.\\n- Contributed ideas and offered constructive feedback at weekly sales and training meetings.\\n\\n# Education and Training\\n\\nHigh School Diploma\\n2000\\nEagle Pass High School\\nCity, State\\n\\nAssociate of Science\\n---\\n# MEDICAL 2009 KAPLAN UNIVERSITY\\n\\n# City, State\\n\\n# Bachelor of Arts: Psychology minor on Child Development\\n\\n# 2017 Psychology Child Development\\n\\n# Languages\\n\\nFluent in English and Spanish\\n\\n# Skills\\n\\n- agency\\n- budgeting\\n- budgets\\n- business strategy\\n- closing\\n- cold calling\\n- interpersonal\\n- communication skills\\n- Excellent Communication\\n- oral\\n- contracts\\n- Critical thinking\\n- clients\\n- Client Relations\\n- Customer Service\\n- customer service skills\\n- databases\\n- database\\n- Fluent in English\\n- forms\\n- FTP\\n- HR\\n- Insurance\\n- Leadership\\n- legal\\n- Marketing\\n- meetings\\n- Mergers and acquisitions\\n- Works\\n- organizational\\n- policies\\n- executive presentations\\n- Problem Solver\\n- process improvement\\n- progress\\n- proposals\\n- quality assurance\\n- recruitment\\n- sales\\n- sales and training\\n- Spanish\\n- Strategic marketing\\n- supervision\\n- Time management\\n- vendor relations\\n- website\\n- written', start_char_idx=None, end_char_idx=None, text_template='{metadata_str}\\n\\n{content}', metadata_template='{key}: {value}', metadata_seperator='\\n')]\n"
          ]
        }
      ]
    },
    {
      "cell_type": "code",
      "source": [
        "parsed_doc = llama_parse_documents[0]\n",
        "print(parsed_doc)"
      ],
      "metadata": {
        "colab": {
          "base_uri": "https://localhost:8080/"
        },
        "id": "NJWm3WmbkAuT",
        "outputId": "367cafd8-bb1e-433a-e880-37cbd10dcc48"
      },
      "execution_count": 7,
      "outputs": [
        {
          "output_type": "stream",
          "name": "stdout",
          "text": [
            "Doc ID: 4e76eb98-2e21-469c-a73c-66f2dc140ba5\n",
            "Text: # SUBSTITUTE TEACHER  # Summary  Receiving an education on\n",
            "Psychology and pursuing my teaching certification has been the best\n",
            "professional accomplishment I have achieved. The teaching in the\n",
            "absence of the teacher helped me understand that I have a background\n",
            "to implement the strategist teach.  Sales Manager successful in\n",
            "relationship and team ...\n"
          ]
        }
      ]
    },
    {
      "cell_type": "code",
      "source": [
        "print(parsed_doc.id_)"
      ],
      "metadata": {
        "id": "7I3nyPJxFMWW",
        "colab": {
          "base_uri": "https://localhost:8080/"
        },
        "outputId": "21204059-fd94-4eb9-b850-2dc7da7887be"
      },
      "execution_count": 8,
      "outputs": [
        {
          "output_type": "stream",
          "name": "stdout",
          "text": [
            "4e76eb98-2e21-469c-a73c-66f2dc140ba5\n"
          ]
        }
      ]
    },
    {
      "cell_type": "code",
      "source": [
        "from IPython.display import Markdown\n",
        "Markdown(parsed_doc.text)"
      ],
      "metadata": {
        "colab": {
          "base_uri": "https://localhost:8080/",
          "height": 1000
        },
        "id": "oSisQS1FkthH",
        "outputId": "84bee917-77ae-48fc-cfd2-6fa2a1de2500"
      },
      "execution_count": 9,
      "outputs": [
        {
          "output_type": "execute_result",
          "data": {
            "text/plain": [
              "<IPython.core.display.Markdown object>"
            ],
            "text/markdown": "# SUBSTITUTE TEACHER\n\n# Summary\n\nReceiving an education on Psychology and pursuing my teaching certification has been the best professional accomplishment I have achieved. The teaching in the absence of the teacher helped me understand that I have a background to implement the strategist teach.\n\nSales Manager successful in relationship and team building. Motivates sales teams to exceed sales goals with a track record of consistently achieving employee retention, skilled in leading teams to set record-high sales figures, expand existing territories and develop new accounts. Achieve record-setting revenue gains. Talented, effective at multi-tasking and reaching sales targets. Builds loyalty and long-term relationships with customers.\n\nBusiness development executive experienced in all aspects of sales and marketing, contract negotiation and account management. Driven professional who effectively builds loyalty and long-term relationships with customers while consistently exceeding sales targets.\n\n# Accomplishments\n\n8620 Spectrum Center Blvd.\nSan Diego, CA 92123\n\n- Attentive Sales Manager with a track record of consistently achieving employee retention and sales goals.\n- 8 years in sales, customer service and personnel and payroll management.\n- Driven to exceed goals and expectations.\n- Talented sales professional effective at multi-tasking and reaching sales targets.\n- Builds loyalty and long-term relationships with customers.\n\n# Experience\n\n# Substitute Teacher\n\n01/2016 to Current\nCompany Name\n\n- Manage classrooms, and help children throughout the day, by assessing the lesson of the day.\n- Maintaining discipline in the classroom.\n\n# Company Name\n\n10/2011 to 01/2017\nCity, State\n\n- Advised prospective employees on various tips and tricks that would assist them in gaining employment in the organization.\n- Implement effective HR policies to ensure all practices are following labor and employment regulations.\n- Increased employee retention above 90% by rigorously maintaining a positive work environment.\n- Develop targeted outreach recruitment programs to recruit more minorities and meet affirmative action requirements.\n- Created a website with an embedded database and FTP functionality to enable online recruitment for the organization and reducing recruitment costs by 10%.\n- Develop user-friendly application forms and questionnaires to be used by the organization during staff recruitment and interviewing.\n- Arbitrate labor disputes in collaboration with the legal department.\n\n# Operations Sales Manager\n\n09/2008 to 10/2011\nCompany Name\nCity, State\n\n- Established operational objectives and work plans and delegated assignments to subordinate managers.\n- Supervised a team of 15 area managers and 35 associates.\n- Developed executive presentations and reports to facilitate project evaluation and process improvement.\n- Directed planning, budgeting, vendor selection and quality assurance efforts.\n- Defined clear targets and objectives and communicated them to other team members.\n- Reviewed sales, customer concerns and new opportunities to drive business strategy at weekly planning sessions.\n- Assessed vendor products and maintained positive vendor relations.\n- Supported the sales team in writing proposals and closing contracts.\n- Developed quarterly and annual sales department budgets.\n- Developed a comprehensive training program for new sales associates.\n- Reviewed operational records and reports to project sales and determine profitability.\n- Trained all incoming sales team members.\n- Maintained knowledge of current sales and promotions, policies regarding payment and exchanges and security practices.\n\n# Insurance Agent\n\n08/2005 to 08/2008\nFred Loya Insurance - Eagle Pass TX 78852\n\n- Met with existing and prospective clients each week to select appropriate insurance policies.\n- Calculated quotes and educated potential clients on insurance options.\n- Tracked the progress of all outstanding insurance claims.\n- Calculated premiums and established payment methods for sales.\n- Identified and solicited sales prospects in agency databases.\n- Evaluated leads obtained through direct referrals, lead databases and cold calling.\n- Modeled exceptional customer service skills and appropriate diagnostic sales techniques.\n- Collected all premiums on or before effective date of coverage.\n- Contributed ideas and offered constructive feedback at weekly sales and training meetings.\n\n# Education and Training\n\nHigh School Diploma\n2000\nEagle Pass High School\nCity, State\n\nAssociate of Science\n---\n# MEDICAL 2009 KAPLAN UNIVERSITY\n\n# City, State\n\n# Bachelor of Arts: Psychology minor on Child Development\n\n# 2017 Psychology Child Development\n\n# Languages\n\nFluent in English and Spanish\n\n# Skills\n\n- agency\n- budgeting\n- budgets\n- business strategy\n- closing\n- cold calling\n- interpersonal\n- communication skills\n- Excellent Communication\n- oral\n- contracts\n- Critical thinking\n- clients\n- Client Relations\n- Customer Service\n- customer service skills\n- databases\n- database\n- Fluent in English\n- forms\n- FTP\n- HR\n- Insurance\n- Leadership\n- legal\n- Marketing\n- meetings\n- Mergers and acquisitions\n- Works\n- organizational\n- policies\n- executive presentations\n- Problem Solver\n- process improvement\n- progress\n- proposals\n- quality assurance\n- recruitment\n- sales\n- sales and training\n- Spanish\n- Strategic marketing\n- supervision\n- Time management\n- vendor relations\n- website\n- written"
          },
          "metadata": {},
          "execution_count": 9
        }
      ]
    },
    {
      "cell_type": "markdown",
      "source": [
        "**4.3 Load the Unstructured Data**"
      ],
      "metadata": {
        "id": "0AHrw2SnkKQY"
      }
    },
    {
      "cell_type": "markdown",
      "source": [
        "**4.3.1 Process 1**"
      ],
      "metadata": {
        "id": "jX1KBZNtkT1a"
      }
    },
    {
      "cell_type": "markdown",
      "source": [
        "We passing the document information through `UnstructuredMarkdownLoader` and storing our local system.\n",
        "\n",
        "The `UnstructuredMarkdownLoader` is a powerful tool within the LangChain ecosystem designed to facilitate the loading of Markdown documents into a structured format suitable for downstream processing. This loader is particularly useful for developers and data scientists who work with Markdown files, allowing them to seamlessly integrate these documents into their applications."
      ],
      "metadata": {
        "id": "KJjXXI89SyNC"
      }
    },
    {
      "cell_type": "code",
      "source": [
        "# Process - 1\n",
        "document_path = Path(\"parsed_document.md\")\n",
        "with document_path.open(\"a\") as f:\n",
        "    f.write(parsed_doc.text)\n",
        "loader = UnstructuredMarkdownLoader(document_path)\n",
        "loaded_documents = loader.load()"
      ],
      "metadata": {
        "id": "1w__arKkkWzs"
      },
      "execution_count": 10,
      "outputs": []
    },
    {
      "cell_type": "code",
      "source": [
        "from pathlib import PosixPath\n",
        "PosixPath('parsed_document.md')"
      ],
      "metadata": {
        "id": "r04CYSH8k0mf",
        "colab": {
          "base_uri": "https://localhost:8080/"
        },
        "outputId": "132bb73a-c6f8-47cc-931d-c71c9d66502e"
      },
      "execution_count": 11,
      "outputs": [
        {
          "output_type": "execute_result",
          "data": {
            "text/plain": [
              "PosixPath('parsed_document.md')"
            ]
          },
          "metadata": {},
          "execution_count": 11
        }
      ]
    },
    {
      "cell_type": "markdown",
      "source": [
        "**4.3.2 Process 2**"
      ],
      "metadata": {
        "id": "qI2doFskkZCZ"
      }
    },
    {
      "cell_type": "markdown",
      "source": [
        "This involves importing all the documents or information to be utilized."
      ],
      "metadata": {
        "id": "ieCJws0aOVYf"
      }
    },
    {
      "cell_type": "code",
      "source": [
        "# ## Process - 2\n",
        "# loaded_documents = Document(page_content = parsed_doc.text,\n",
        "#                             metadata={\"source\": \"This is a resume for job application.\"})\n",
        "# loaded_documents = [loaded_documents]"
      ],
      "metadata": {
        "id": "vpoRPgFaj1In"
      },
      "execution_count": 12,
      "outputs": []
    },
    {
      "cell_type": "markdown",
      "source": [
        "**4.4 Split the Document**"
      ],
      "metadata": {
        "id": "P7HgKLBYkgSI"
      }
    },
    {
      "cell_type": "markdown",
      "source": [
        "Large documents are divided into smaller pieces, for instance, sections of no more than 2000 characters each with 400 overlap."
      ],
      "metadata": {
        "id": "mwMAUcseOkXK"
      }
    },
    {
      "cell_type": "code",
      "source": [
        "text_splitter = RecursiveCharacterTextSplitter(chunk_size = 2000, chunk_overlap = 400)\n",
        "docs = text_splitter.split_documents(loaded_documents)"
      ],
      "metadata": {
        "id": "P-mFPN0ZkdV9"
      },
      "execution_count": 13,
      "outputs": []
    },
    {
      "cell_type": "markdown",
      "source": [
        "### **Step 4**"
      ],
      "metadata": {
        "id": "R9QcIWmklKOy"
      }
    },
    {
      "cell_type": "markdown",
      "source": [
        "**5. Vector Embeddings and Indexing**"
      ],
      "metadata": {
        "id": "RZ7EBhuelL4d"
      }
    },
    {
      "cell_type": "markdown",
      "source": [
        "The data is converted into vector form using an embedding model, making it understandable for computers. For this project, `FastEmbedEmbeddings` model have been used."
      ],
      "metadata": {
        "id": "tcZ5kevgOuKf"
      }
    },
    {
      "cell_type": "code",
      "source": [
        "HF_TOKEN = userdata.get(\"HF_TOKEN\")\n",
        "embeddings = FastEmbedEmbeddings(model_name=\"BAAI/bge-base-en-v1.5\")"
      ],
      "metadata": {
        "colab": {
          "base_uri": "https://localhost:8080/",
          "height": 209,
          "referenced_widgets": [
            "2773df1c130d4e4099f8c18bf430afd3",
            "cb961c8fae1c4e20b798be441837f18e",
            "7aaefdb7eb92448a8a36c82373876eb7",
            "a1a32bd5f525420babb7ceffee356662",
            "78ce34a362ff4897aa8242a17516a157",
            "1ebe4454edcc430bb8a6480dfebc07f8",
            "afa2d04a73b64d6396a4b2cce8c09995",
            "38a502f4258b4938bedbbf09d74cf3ea",
            "4d9c4d264dfb451bb596757d1c085478",
            "b51f0311397f45449532ba070ae935a3",
            "8fe0628c814e4cda84f435a9d6f4b40d",
            "bcb768e3301346f28201b15875ea368c",
            "9a2644474014440b96e16cad6a6ff2ba",
            "b4b14735ebad4f7cbb299aceaa25dc05",
            "9e40f37c27ba4fcf9dd21c33c27cb9dc",
            "7b34afb3288a4321817debf97c171e71",
            "1db2712731b4489a89edeabb0bf9a6d2",
            "7800853503074520b7df96d5a0a3ebd9",
            "5a05669c88274ea5994dc12c5ed36a7d",
            "5d71020f3aba4b2490025d47404063cb",
            "066253fdb3c3412d830a043828a45ff8",
            "c58707e9c56644f7bceba2447a85cbcc",
            "4f977944836241b3a26df8ef36c32eb9",
            "ed078b31647741df81477058cd1116ad",
            "c4932db8333c497fb0edaf3f7953ce76",
            "794fd510124e471d897b9423c388d96a",
            "342d93545fdf4837a9a8b7a06ae7b7b6",
            "21a9475ee97b4dbc8d2ad94239849503",
            "da2599f9121d4bf58cd937445f90f0ad",
            "3cc71f36f615480aacbdcfe37cbaf9f6",
            "e1b1b28bf16642d9bf40a8d6eca2932c",
            "f496d7e460494726b9a8c7c50e71027c",
            "11c835ea85864a68a5f4e03847996692",
            "26ea92f03ddd478caf8d624fb1458414",
            "8fadb6570b134a3b9758788b348eff88",
            "2ab9e7b9d1eb401384bc08c8e1aa31b0",
            "19a50d55904346e6957a97132f18fdc5",
            "26deac2752cf40719243b6f3f62f0046",
            "b1dab84a17804a909d271b41d35fdf72",
            "c2cff002c22f4ae8a3321ab4bc989956",
            "a04d7bd9ab134b75a6e117c9e6cb639e",
            "31439573959d430085104a4944886e01",
            "5451e83d227c43508c15fdc539ba9860",
            "2c04921bdde94a13b1fc8df99e516f76",
            "a6d7b9c5d0af4a2d8c085407581fb51d",
            "d23a3d0fe1614a21851441f2e6e1587a",
            "3ef6373f19754959ab21b50a0448be8c",
            "0043eb1e5097404b9e8f3e87c10f5e5a",
            "4aeed82195a842098f213ac537a315c2",
            "aded853e09db4aabaf023426fdbdf136",
            "be3d7dde5805456a956ac0a7639bb52c",
            "eaa396905d7d49ccbf705adf50769ed8",
            "7b5d221295e1452ca2f763af25dd387c",
            "a87baace3b854e70a6ed2013d4ed3c9b",
            "2a1430974c6e409c934668f61a4829e5",
            "77fc27818c2c40389815f0ad15347772",
            "1864cc9203c84821a4b9231bae479ad3",
            "7506bf3f03cf4c04938ddaa11955ec02",
            "4e44cc6407f94fc29ddd3560215a6bb3",
            "d61a18d7166b4c34bf4a0674cdd7424f",
            "be11ce0c09f646668ce2b2b23cb8c279",
            "c039d3f6d932464ab5ee45af98a7e180",
            "7af220f4636b4a3b9ca1b92e309f8de5",
            "f24e6183f93b4b23b875ed6e1bccc9c9",
            "b6eff6e9c9cc42dab8b4bb6dcc4becd8",
            "2db17b5b6118429780837ee6c01532d3"
          ]
        },
        "id": "hh24UuRLlLVI",
        "outputId": "39daa969-feeb-48ef-ba59-6211ea795e56"
      },
      "execution_count": 14,
      "outputs": [
        {
          "output_type": "display_data",
          "data": {
            "text/plain": [
              "Fetching 5 files:   0%|          | 0/5 [00:00<?, ?it/s]"
            ],
            "application/vnd.jupyter.widget-view+json": {
              "version_major": 2,
              "version_minor": 0,
              "model_id": "2773df1c130d4e4099f8c18bf430afd3"
            }
          },
          "metadata": {}
        },
        {
          "output_type": "display_data",
          "data": {
            "text/plain": [
              "special_tokens_map.json:   0%|          | 0.00/695 [00:00<?, ?B/s]"
            ],
            "application/vnd.jupyter.widget-view+json": {
              "version_major": 2,
              "version_minor": 0,
              "model_id": "bcb768e3301346f28201b15875ea368c"
            }
          },
          "metadata": {}
        },
        {
          "output_type": "display_data",
          "data": {
            "text/plain": [
              "config.json:   0%|          | 0.00/740 [00:00<?, ?B/s]"
            ],
            "application/vnd.jupyter.widget-view+json": {
              "version_major": 2,
              "version_minor": 0,
              "model_id": "4f977944836241b3a26df8ef36c32eb9"
            }
          },
          "metadata": {}
        },
        {
          "output_type": "display_data",
          "data": {
            "text/plain": [
              "tokenizer_config.json:   0%|          | 0.00/1.24k [00:00<?, ?B/s]"
            ],
            "application/vnd.jupyter.widget-view+json": {
              "version_major": 2,
              "version_minor": 0,
              "model_id": "26ea92f03ddd478caf8d624fb1458414"
            }
          },
          "metadata": {}
        },
        {
          "output_type": "display_data",
          "data": {
            "text/plain": [
              "tokenizer.json:   0%|          | 0.00/711k [00:00<?, ?B/s]"
            ],
            "application/vnd.jupyter.widget-view+json": {
              "version_major": 2,
              "version_minor": 0,
              "model_id": "a6d7b9c5d0af4a2d8c085407581fb51d"
            }
          },
          "metadata": {}
        },
        {
          "output_type": "display_data",
          "data": {
            "text/plain": [
              "model_optimized.onnx:   0%|          | 0.00/218M [00:00<?, ?B/s]"
            ],
            "application/vnd.jupyter.widget-view+json": {
              "version_major": 2,
              "version_minor": 0,
              "model_id": "77fc27818c2c40389815f0ad15347772"
            }
          },
          "metadata": {}
        }
      ]
    },
    {
      "cell_type": "markdown",
      "source": [
        "These vector embeddings are saved in a vector database, allowing them to be easily searched.\n",
        "\n",
        "[FAISS [Facebook AI Similarity Search]](https://engineering.fb.com/2017/03/29/data-infrastructure/faiss-a-library-for-efficient-similarity-search/), a free & open-source library for efficient similarity search and clustering of dense vectors."
      ],
      "metadata": {
        "id": "2SVQ7tBgO-Io"
      }
    },
    {
      "cell_type": "code",
      "source": [
        "database = FAISS.from_documents(docs, embeddings)"
      ],
      "metadata": {
        "id": "Xn_imxw7O4_f"
      },
      "execution_count": 15,
      "outputs": []
    },
    {
      "cell_type": "markdown",
      "source": [
        "**Retrieval:**   \n",
        "\n",
        "When a user asks a question:\n",
        "\n",
        "\n",
        "*   The user’s input is first transformed into a vector (query vector) using the same embedding model from the Data Indexing phase.\n",
        "*   This query vector is then matched against all vectors in the vector database to find the most similar ones (e.g., using the Euclidean distance metric) that might contain the answer to the user’s question. This step is about identifying relevant knowledge chunks.\n",
        "\n"
      ],
      "metadata": {
        "id": "vuJg-z9HPdp3"
      }
    },
    {
      "cell_type": "markdown",
      "source": [
        "**6. Load Retriever**"
      ],
      "metadata": {
        "id": "f6or7pPJlX3J"
      }
    },
    {
      "cell_type": "markdown",
      "source": [
        "Here, we are setting up the retriever technique with maximum top 5 similar phrase with user query would be fetch."
      ],
      "metadata": {
        "id": "FSIIWOiXPyv7"
      }
    },
    {
      "cell_type": "code",
      "source": [
        "retriever = database.as_retriever(search_kwargs={\"k\": 5})"
      ],
      "metadata": {
        "id": "CWxxi8RFlWoG"
      },
      "execution_count": 16,
      "outputs": []
    },
    {
      "cell_type": "markdown",
      "source": [
        "###**(Optional) Step 5**"
      ],
      "metadata": {
        "id": "AmGFIwCmlruX"
      }
    },
    {
      "cell_type": "markdown",
      "source": [
        "**7. Apply ReRanker**"
      ],
      "metadata": {
        "id": "jMwG-kxBlhV6"
      }
    },
    {
      "cell_type": "markdown",
      "source": [
        "[FlashRank](https://github.com/PrithivirajDamodaran/FlashRank) is the Ultra-lite & Super-fast Python library to add re-ranking to your existing search & retrieval pipelines. It is based on SoTA cross-encoders, with gratitude to all the model owners."
      ],
      "metadata": {
        "id": "NGwpQfYTQS5y"
      }
    },
    {
      "cell_type": "code",
      "source": [
        "compressor = FlashrankRerank(model=\"ms-marco-MiniLM-L-12-v2\")\n",
        "compression_retriever = ContextualCompressionRetriever(\n",
        "    base_compressor = compressor, base_retriever = retriever\n",
        ")"
      ],
      "metadata": {
        "colab": {
          "base_uri": "https://localhost:8080/"
        },
        "id": "WzpvpGNyljSh",
        "outputId": "5a9ec0cc-7d40-4a90-e17b-ba49b50d30c6"
      },
      "execution_count": 17,
      "outputs": [
        {
          "output_type": "stream",
          "name": "stdout",
          "text": [
            "Downloading ms-marco-MiniLM-L-12-v2...\n"
          ]
        },
        {
          "output_type": "stream",
          "name": "stderr",
          "text": [
            "ms-marco-MiniLM-L-12-v2.zip: 100%|██████████| 21.6M/21.6M [00:01<00:00, 15.3MiB/s]\n"
          ]
        }
      ]
    },
    {
      "cell_type": "markdown",
      "source": [
        "### **Step 6**"
      ],
      "metadata": {
        "id": "DfrvqXqwlwvG"
      }
    },
    {
      "cell_type": "markdown",
      "source": [
        "**8. Load Large Language Model**"
      ],
      "metadata": {
        "id": "sZ7Ckm3Al2Sv"
      }
    },
    {
      "cell_type": "markdown",
      "source": [
        "Setting up the base LLM, `Llama3-70b` model via. [Groq](https://groq.com/) for retrieval process."
      ],
      "metadata": {
        "id": "ftfK7fQAQbHr"
      }
    },
    {
      "cell_type": "code",
      "source": [
        "GROQ_API_KEY = userdata.get(\"GROQ_API_KEY\")\n",
        "llm = ChatGroq(temperature = 0,\n",
        "               model_name = \"llama3-70b-8192\",\n",
        "               groq_api_key = GROQ_API_KEY,\n",
        "               max_tokens = 3024)"
      ],
      "metadata": {
        "id": "_FOTcimslzLq"
      },
      "execution_count": 18,
      "outputs": []
    },
    {
      "cell_type": "code",
      "source": [
        "'''Testing the base model'''\n",
        "\n",
        "test_llm = llm.invoke(\"2+2?\").content\n",
        "Markdown(test_llm)"
      ],
      "metadata": {
        "colab": {
          "base_uri": "https://localhost:8080/",
          "height": 46
        },
        "id": "WAAtF091pLgK",
        "outputId": "ff10ee94-6011-4c83-b799-19c9f8cbab6c"
      },
      "execution_count": 19,
      "outputs": [
        {
          "output_type": "execute_result",
          "data": {
            "text/plain": [
              "<IPython.core.display.Markdown object>"
            ],
            "text/markdown": "The answer to 2+2 is 4."
          },
          "metadata": {},
          "execution_count": 19
        }
      ]
    },
    {
      "cell_type": "markdown",
      "source": [
        "Setting up the ground instruction as system prompt for LLM."
      ],
      "metadata": {
        "id": "RRDgZ9sGQ3HH"
      }
    },
    {
      "cell_type": "code",
      "source": [
        "prompt_template = \"\"\"\n",
        "Use the following pieces of information to answer the user's question.\n",
        "If you don't know the answer, just say that you don't know, don't try to make up an answer.\n",
        "\n",
        "Context: {context}\n",
        "Question: {question}\n",
        "\n",
        "Answer the question and provide additional helpful information,\n",
        "based on the pieces of information, if applicable. Be succinct.\n",
        "\n",
        "Responses should be properly formatted to be easily read.\n",
        "\"\"\"\n",
        "\n",
        "prompt = PromptTemplate(template = prompt_template,\n",
        "                        input_variables = [\"context\", \"question\"])"
      ],
      "metadata": {
        "id": "20e6AkGLmABD"
      },
      "execution_count": 20,
      "outputs": []
    },
    {
      "cell_type": "markdown",
      "source": [
        "###**(Final) Step 7**"
      ],
      "metadata": {
        "id": "afOmA4m7mDnb"
      }
    },
    {
      "cell_type": "markdown",
      "source": [
        "**9. Start Question-Answering with Large Language Model for the Provided Document**"
      ],
      "metadata": {
        "id": "0FUScBjsmL7W"
      }
    },
    {
      "cell_type": "markdown",
      "source": [
        "Combining all the parts i.e. LLM, retriever, system prompt for generating response for user's query."
      ],
      "metadata": {
        "id": "kGTqXJA-Rm4Y"
      }
    },
    {
      "cell_type": "code",
      "source": [
        "qa = RetrievalQA.from_chain_type(\n",
        "    llm = llm,\n",
        "    chain_type = \"stuff\",\n",
        "    retriever = compression_retriever,\n",
        "    return_source_documents = True,\n",
        "    chain_type_kwargs = {\"prompt\" : prompt, \"verbose\" : False},\n",
        ")"
      ],
      "metadata": {
        "id": "5PVDRW73mHpq"
      },
      "execution_count": 21,
      "outputs": []
    },
    {
      "cell_type": "markdown",
      "source": [
        "**9.1 Query 1**"
      ],
      "metadata": {
        "id": "KpJdwcCGMEjd"
      }
    },
    {
      "cell_type": "markdown",
      "source": [
        "Here we fetching the retriever with relevant query and we are getting expected response.\n",
        "\n",
        "Watch the `query`, `response` and `source document with similarity or relevence score`."
      ],
      "metadata": {
        "id": "BhluTZKCR25y"
      }
    },
    {
      "cell_type": "code",
      "source": [
        "query = \"Tell about Operations Sales Manager role.\"\n",
        "response = qa.invoke(str(query))\n",
        "Markdown(response[\"result\"])"
      ],
      "metadata": {
        "colab": {
          "base_uri": "https://localhost:8080/",
          "height": 325
        },
        "id": "SyaR_zC8mZ7F",
        "outputId": "6ef3f57c-3e60-4f20-aebc-f43c5487cd40"
      },
      "execution_count": 22,
      "outputs": [
        {
          "output_type": "stream",
          "name": "stdout",
          "text": [
            "Running pairwise ranking..\n"
          ]
        },
        {
          "output_type": "execute_result",
          "data": {
            "text/plain": [
              "<IPython.core.display.Markdown object>"
            ],
            "text/markdown": "**Operations Sales Manager Role**\n\nThe Operations Sales Manager role was held from 09/2008 to 10/2011 at a company in City, State. The key responsibilities in this role included:\n\n* Establishing operational objectives and work plans, and delegating assignments to subordinate managers\n* Supervising a team of 15 area managers and 35 associates\n* Developing executive presentations and reports to facilitate project evaluation and process improvement\n* Directing planning, budgeting, vendor selection, and quality assurance efforts\n* Defining clear targets and objectives and communicating them to other team members\n* Reviewing sales, customer concerns, and new opportunities to drive business strategy at weekly planning sessions\n* Assessing vendor products and maintaining positive vendor relations\n* Supporting the sales team in writing proposals and closing contracts\n* Developing quarterly and annual sales department budgets\n* Developing a comprehensive training program for new sales associates\n* Reviewing operational records and reports to project sales and determine profitability\n* Training all incoming sales team members\n\nThis role demonstrates the individual's ability to lead teams, manage sales operations, and drive business strategy."
          },
          "metadata": {},
          "execution_count": 22
        }
      ]
    },
    {
      "cell_type": "code",
      "source": [
        "response_test = \"\\n\"\n",
        "for i, doc in enumerate(response[\"source_documents\"]):\n",
        "  response_test += str(\"--------------------------------\\n\")\n",
        "  print(str(10*\"--------------------------------\"))\n",
        "  response_test += str(\"##**Source Information**\")+str(\"\\t\")+str(i+1)+str(\"\\t\")+str(\":\\n\")\n",
        "  print(str(\"Source Information\")+str(\"\\t\")+str(i+1)+str(\"\\t\")+str(\":\"))\n",
        "  response_test += str(\"--------------------------------\\n\")\n",
        "  print(str(10*\"--------------------------------\"))\n",
        "  response_test += str(doc.page_content)+str(\"\\n\")\n",
        "  print(str(doc.page_content))\n",
        "  response_test += str(\"--------------------------------\\n\")\n",
        "  print(str(10*\"--------------------------------\"))\n",
        "  response_test += str(\"##**Similarity or Relevance Score:**\")+str(\"\\t\")+str(doc.metadata[\"relevance_score\"])+str(\"\\n\")\n",
        "  print(str(\"Similarity or Relevance Score:\")+str(\"\\t\")+str(doc.metadata[\"relevance_score\"]))\n",
        "  response_test += str(\"\\n\\n\\n\")\n",
        "  print(\"\\n\\n\\n\\n\\n\")"
      ],
      "metadata": {
        "colab": {
          "base_uri": "https://localhost:8080/"
        },
        "id": "DVHW2bGnoc5W",
        "outputId": "3ee7df9a-5312-4097-d490-3ffcd372e1dc"
      },
      "execution_count": 23,
      "outputs": [
        {
          "output_type": "stream",
          "name": "stdout",
          "text": [
            "--------------------------------------------------------------------------------------------------------------------------------------------------------------------------------------------------------------------------------------------------------------------------------------------------------------------------------\n",
            "Source Information\t1\t:\n",
            "--------------------------------------------------------------------------------------------------------------------------------------------------------------------------------------------------------------------------------------------------------------------------------------------------------------------------------\n",
            "Maintaining discipline in the classroom.\n",
            "\n",
            "Company Name\n",
            "\n",
            "10/2011 to 01/2017\n",
            "City, State\n",
            "\n",
            "Advised prospective employees on various tips and tricks that would assist them in gaining employment in the organization.\n",
            "\n",
            "Implement effective HR policies to ensure all practices are following labor and employment regulations.\n",
            "\n",
            "Increased employee retention above 90% by rigorously maintaining a positive work environment.\n",
            "\n",
            "Develop targeted outreach recruitment programs to recruit more minorities and meet affirmative action requirements.\n",
            "\n",
            "Created a website with an embedded database and FTP functionality to enable online recruitment for the organization and reducing recruitment costs by 10%.\n",
            "\n",
            "Develop user-friendly application forms and questionnaires to be used by the organization during staff recruitment and interviewing.\n",
            "\n",
            "Arbitrate labor disputes in collaboration with the legal department.\n",
            "\n",
            "Operations Sales Manager\n",
            "\n",
            "09/2008 to 10/2011\n",
            "Company Name\n",
            "City, State\n",
            "\n",
            "Established operational objectives and work plans and delegated assignments to subordinate managers.\n",
            "\n",
            "Supervised a team of 15 area managers and 35 associates.\n",
            "\n",
            "Developed executive presentations and reports to facilitate project evaluation and process improvement.\n",
            "\n",
            "Directed planning, budgeting, vendor selection and quality assurance efforts.\n",
            "\n",
            "Defined clear targets and objectives and communicated them to other team members.\n",
            "\n",
            "Reviewed sales, customer concerns and new opportunities to drive business strategy at weekly planning sessions.\n",
            "\n",
            "Assessed vendor products and maintained positive vendor relations.\n",
            "\n",
            "Supported the sales team in writing proposals and closing contracts.\n",
            "\n",
            "Developed quarterly and annual sales department budgets.\n",
            "\n",
            "Developed a comprehensive training program for new sales associates.\n",
            "\n",
            "Reviewed operational records and reports to project sales and determine profitability.\n",
            "\n",
            "Trained all incoming sales team members.\n",
            "--------------------------------------------------------------------------------------------------------------------------------------------------------------------------------------------------------------------------------------------------------------------------------------------------------------------------------\n",
            "Similarity or Relevance Score:\t0.6138577461242676\n",
            "\n",
            "\n",
            "\n",
            "\n",
            "\n",
            "\n",
            "--------------------------------------------------------------------------------------------------------------------------------------------------------------------------------------------------------------------------------------------------------------------------------------------------------------------------------\n",
            "Source Information\t2\t:\n",
            "--------------------------------------------------------------------------------------------------------------------------------------------------------------------------------------------------------------------------------------------------------------------------------------------------------------------------------\n",
            "SUBSTITUTE TEACHER\n",
            "\n",
            "Summary\n",
            "\n",
            "Receiving an education on Psychology and pursuing my teaching certification has been the best professional accomplishment I have achieved. The teaching in the absence of the teacher helped me understand that I have a background to implement the strategist teach.\n",
            "\n",
            "Sales Manager successful in relationship and team building. Motivates sales teams to exceed sales goals with a track record of consistently achieving employee retention, skilled in leading teams to set record-high sales figures, expand existing territories and develop new accounts. Achieve record-setting revenue gains. Talented, effective at multi-tasking and reaching sales targets. Builds loyalty and long-term relationships with customers.\n",
            "\n",
            "Business development executive experienced in all aspects of sales and marketing, contract negotiation and account management. Driven professional who effectively builds loyalty and long-term relationships with customers while consistently exceeding sales targets.\n",
            "\n",
            "Accomplishments\n",
            "\n",
            "8620 Spectrum Center Blvd.\n",
            "San Diego, CA 92123\n",
            "\n",
            "Attentive Sales Manager with a track record of consistently achieving employee retention and sales goals.\n",
            "\n",
            "8 years in sales, customer service and personnel and payroll management.\n",
            "\n",
            "Driven to exceed goals and expectations.\n",
            "\n",
            "Talented sales professional effective at multi-tasking and reaching sales targets.\n",
            "\n",
            "Builds loyalty and long-term relationships with customers.\n",
            "\n",
            "Experience\n",
            "\n",
            "Substitute Teacher\n",
            "\n",
            "01/2016 to Current\n",
            "Company Name\n",
            "\n",
            "Manage classrooms, and help children throughout the day, by assessing the lesson of the day.\n",
            "\n",
            "Maintaining discipline in the classroom.\n",
            "\n",
            "Company Name\n",
            "\n",
            "10/2011 to 01/2017\n",
            "City, State\n",
            "\n",
            "Advised prospective employees on various tips and tricks that would assist them in gaining employment in the organization.\n",
            "\n",
            "Implement effective HR policies to ensure all practices are following labor and employment regulations.\n",
            "--------------------------------------------------------------------------------------------------------------------------------------------------------------------------------------------------------------------------------------------------------------------------------------------------------------------------------\n",
            "Similarity or Relevance Score:\t0.009485717862844467\n",
            "\n",
            "\n",
            "\n",
            "\n",
            "\n",
            "\n",
            "--------------------------------------------------------------------------------------------------------------------------------------------------------------------------------------------------------------------------------------------------------------------------------------------------------------------------------\n",
            "Source Information\t3\t:\n",
            "--------------------------------------------------------------------------------------------------------------------------------------------------------------------------------------------------------------------------------------------------------------------------------------------------------------------------------\n",
            "Assessed vendor products and maintained positive vendor relations.\n",
            "\n",
            "Supported the sales team in writing proposals and closing contracts.\n",
            "\n",
            "Developed quarterly and annual sales department budgets.\n",
            "\n",
            "Developed a comprehensive training program for new sales associates.\n",
            "\n",
            "Reviewed operational records and reports to project sales and determine profitability.\n",
            "\n",
            "Trained all incoming sales team members.\n",
            "\n",
            "Maintained knowledge of current sales and promotions, policies regarding payment and exchanges and security practices.\n",
            "\n",
            "Insurance Agent\n",
            "\n",
            "08/2005 to 08/2008\n",
            "Fred Loya Insurance - Eagle Pass TX 78852\n",
            "\n",
            "Met with existing and prospective clients each week to select appropriate insurance policies.\n",
            "\n",
            "Calculated quotes and educated potential clients on insurance options.\n",
            "\n",
            "Tracked the progress of all outstanding insurance claims.\n",
            "\n",
            "Calculated premiums and established payment methods for sales.\n",
            "\n",
            "Identified and solicited sales prospects in agency databases.\n",
            "\n",
            "Evaluated leads obtained through direct referrals, lead databases and cold calling.\n",
            "\n",
            "Modeled exceptional customer service skills and appropriate diagnostic sales techniques.\n",
            "\n",
            "Collected all premiums on or before effective date of coverage.\n",
            "\n",
            "Contributed ideas and offered constructive feedback at weekly sales and training meetings.\n",
            "\n",
            "Education and Training\n",
            "\n",
            "High School Diploma\n",
            "2000\n",
            "Eagle Pass High School\n",
            "City, State\n",
            "\n",
            "Associate of Science\n",
            "\n",
            "MEDICAL 2009 KAPLAN UNIVERSITY\n",
            "\n",
            "City, State\n",
            "\n",
            "Bachelor of Arts: Psychology minor on Child Development\n",
            "\n",
            "2017 Psychology Child Development\n",
            "\n",
            "Languages\n",
            "\n",
            "Fluent in English and Spanish\n",
            "\n",
            "Skills\n",
            "\n",
            "agency\n",
            "\n",
            "budgeting\n",
            "\n",
            "budgets\n",
            "\n",
            "business strategy\n",
            "\n",
            "closing\n",
            "\n",
            "cold calling\n",
            "\n",
            "interpersonal\n",
            "\n",
            "communication skills\n",
            "\n",
            "Excellent Communication\n",
            "\n",
            "oral\n",
            "\n",
            "contracts\n",
            "\n",
            "Critical thinking\n",
            "\n",
            "clients\n",
            "\n",
            "Client Relations\n",
            "\n",
            "Customer Service\n",
            "\n",
            "customer service skills\n",
            "\n",
            "databases\n",
            "\n",
            "database\n",
            "\n",
            "Fluent in English\n",
            "\n",
            "forms\n",
            "\n",
            "FTP\n",
            "\n",
            "HR\n",
            "\n",
            "Insurance\n",
            "\n",
            "Leadership\n",
            "\n",
            "legal\n",
            "\n",
            "Marketing\n",
            "\n",
            "meetings\n",
            "\n",
            "Mergers and acquisitions\n",
            "\n",
            "Works\n",
            "\n",
            "organizational\n",
            "\n",
            "policies\n",
            "--------------------------------------------------------------------------------------------------------------------------------------------------------------------------------------------------------------------------------------------------------------------------------------------------------------------------------\n",
            "Similarity or Relevance Score:\t0.004669337999075651\n",
            "\n",
            "\n",
            "\n",
            "\n",
            "\n",
            "\n"
          ]
        }
      ]
    },
    {
      "cell_type": "code",
      "source": [
        "Markdown(response_test)"
      ],
      "metadata": {
        "colab": {
          "base_uri": "https://localhost:8080/",
          "height": 1000
        },
        "id": "yWJDtGDiZ9jV",
        "outputId": "702b399c-aea2-4a4f-a2ed-58c7f666b732"
      },
      "execution_count": 24,
      "outputs": [
        {
          "output_type": "execute_result",
          "data": {
            "text/plain": [
              "<IPython.core.display.Markdown object>"
            ],
            "text/markdown": "\n--------------------------------\n##**Source Information**\t1\t:\n--------------------------------\nMaintaining discipline in the classroom.\n\nCompany Name\n\n10/2011 to 01/2017\nCity, State\n\nAdvised prospective employees on various tips and tricks that would assist them in gaining employment in the organization.\n\nImplement effective HR policies to ensure all practices are following labor and employment regulations.\n\nIncreased employee retention above 90% by rigorously maintaining a positive work environment.\n\nDevelop targeted outreach recruitment programs to recruit more minorities and meet affirmative action requirements.\n\nCreated a website with an embedded database and FTP functionality to enable online recruitment for the organization and reducing recruitment costs by 10%.\n\nDevelop user-friendly application forms and questionnaires to be used by the organization during staff recruitment and interviewing.\n\nArbitrate labor disputes in collaboration with the legal department.\n\nOperations Sales Manager\n\n09/2008 to 10/2011\nCompany Name\nCity, State\n\nEstablished operational objectives and work plans and delegated assignments to subordinate managers.\n\nSupervised a team of 15 area managers and 35 associates.\n\nDeveloped executive presentations and reports to facilitate project evaluation and process improvement.\n\nDirected planning, budgeting, vendor selection and quality assurance efforts.\n\nDefined clear targets and objectives and communicated them to other team members.\n\nReviewed sales, customer concerns and new opportunities to drive business strategy at weekly planning sessions.\n\nAssessed vendor products and maintained positive vendor relations.\n\nSupported the sales team in writing proposals and closing contracts.\n\nDeveloped quarterly and annual sales department budgets.\n\nDeveloped a comprehensive training program for new sales associates.\n\nReviewed operational records and reports to project sales and determine profitability.\n\nTrained all incoming sales team members.\n--------------------------------\n##**Similarity or Relevance Score:**\t0.6138577461242676\n\n\n\n--------------------------------\n##**Source Information**\t2\t:\n--------------------------------\nSUBSTITUTE TEACHER\n\nSummary\n\nReceiving an education on Psychology and pursuing my teaching certification has been the best professional accomplishment I have achieved. The teaching in the absence of the teacher helped me understand that I have a background to implement the strategist teach.\n\nSales Manager successful in relationship and team building. Motivates sales teams to exceed sales goals with a track record of consistently achieving employee retention, skilled in leading teams to set record-high sales figures, expand existing territories and develop new accounts. Achieve record-setting revenue gains. Talented, effective at multi-tasking and reaching sales targets. Builds loyalty and long-term relationships with customers.\n\nBusiness development executive experienced in all aspects of sales and marketing, contract negotiation and account management. Driven professional who effectively builds loyalty and long-term relationships with customers while consistently exceeding sales targets.\n\nAccomplishments\n\n8620 Spectrum Center Blvd.\nSan Diego, CA 92123\n\nAttentive Sales Manager with a track record of consistently achieving employee retention and sales goals.\n\n8 years in sales, customer service and personnel and payroll management.\n\nDriven to exceed goals and expectations.\n\nTalented sales professional effective at multi-tasking and reaching sales targets.\n\nBuilds loyalty and long-term relationships with customers.\n\nExperience\n\nSubstitute Teacher\n\n01/2016 to Current\nCompany Name\n\nManage classrooms, and help children throughout the day, by assessing the lesson of the day.\n\nMaintaining discipline in the classroom.\n\nCompany Name\n\n10/2011 to 01/2017\nCity, State\n\nAdvised prospective employees on various tips and tricks that would assist them in gaining employment in the organization.\n\nImplement effective HR policies to ensure all practices are following labor and employment regulations.\n--------------------------------\n##**Similarity or Relevance Score:**\t0.009485717862844467\n\n\n\n--------------------------------\n##**Source Information**\t3\t:\n--------------------------------\nAssessed vendor products and maintained positive vendor relations.\n\nSupported the sales team in writing proposals and closing contracts.\n\nDeveloped quarterly and annual sales department budgets.\n\nDeveloped a comprehensive training program for new sales associates.\n\nReviewed operational records and reports to project sales and determine profitability.\n\nTrained all incoming sales team members.\n\nMaintained knowledge of current sales and promotions, policies regarding payment and exchanges and security practices.\n\nInsurance Agent\n\n08/2005 to 08/2008\nFred Loya Insurance - Eagle Pass TX 78852\n\nMet with existing and prospective clients each week to select appropriate insurance policies.\n\nCalculated quotes and educated potential clients on insurance options.\n\nTracked the progress of all outstanding insurance claims.\n\nCalculated premiums and established payment methods for sales.\n\nIdentified and solicited sales prospects in agency databases.\n\nEvaluated leads obtained through direct referrals, lead databases and cold calling.\n\nModeled exceptional customer service skills and appropriate diagnostic sales techniques.\n\nCollected all premiums on or before effective date of coverage.\n\nContributed ideas and offered constructive feedback at weekly sales and training meetings.\n\nEducation and Training\n\nHigh School Diploma\n2000\nEagle Pass High School\nCity, State\n\nAssociate of Science\n\nMEDICAL 2009 KAPLAN UNIVERSITY\n\nCity, State\n\nBachelor of Arts: Psychology minor on Child Development\n\n2017 Psychology Child Development\n\nLanguages\n\nFluent in English and Spanish\n\nSkills\n\nagency\n\nbudgeting\n\nbudgets\n\nbusiness strategy\n\nclosing\n\ncold calling\n\ninterpersonal\n\ncommunication skills\n\nExcellent Communication\n\noral\n\ncontracts\n\nCritical thinking\n\nclients\n\nClient Relations\n\nCustomer Service\n\ncustomer service skills\n\ndatabases\n\ndatabase\n\nFluent in English\n\nforms\n\nFTP\n\nHR\n\nInsurance\n\nLeadership\n\nlegal\n\nMarketing\n\nmeetings\n\nMergers and acquisitions\n\nWorks\n\norganizational\n\npolicies\n--------------------------------\n##**Similarity or Relevance Score:**\t0.004669337999075651\n\n\n\n"
          },
          "metadata": {},
          "execution_count": 24
        }
      ]
    },
    {
      "cell_type": "markdown",
      "source": [
        "**9.1 Query 2**"
      ],
      "metadata": {
        "id": "-YHZ6em7MZki"
      }
    },
    {
      "cell_type": "markdown",
      "source": [
        "Here we fetching the retriever with irrelevant query and we are getting expected response as this query is irrelevant for given doument.\n",
        "\n",
        "Watch the `query`, `response` and `source document with similarity or relevence score`."
      ],
      "metadata": {
        "id": "PzML0MNoSVPM"
      }
    },
    {
      "cell_type": "code",
      "source": [
        "query = \"Share the details about 'First Quarter 2024 Financial Highlights'. Share your response in table format.\"\n",
        "response = qa.invoke(str(query))\n",
        "Markdown(response[\"result\"])"
      ],
      "metadata": {
        "colab": {
          "base_uri": "https://localhost:8080/",
          "height": 81
        },
        "id": "dPCNmtkYKIz7",
        "outputId": "336b0536-611b-4ac7-fe23-05b497ac3569"
      },
      "execution_count": 25,
      "outputs": [
        {
          "output_type": "stream",
          "name": "stdout",
          "text": [
            "Running pairwise ranking..\n"
          ]
        },
        {
          "output_type": "execute_result",
          "data": {
            "text/plain": [
              "<IPython.core.display.Markdown object>"
            ],
            "text/markdown": "I don't know the answer to this question as there is no information provided about the \"First Quarter 2024 Financial Highlights\" in the given context. The provided information is about the person's work experience, education, and skills, but it does not include any financial data or highlights for a specific quarter in 2024."
          },
          "metadata": {},
          "execution_count": 25
        }
      ]
    },
    {
      "cell_type": "code",
      "source": [
        "response_test = \"\\n\"\n",
        "for i, doc in enumerate(response[\"source_documents\"]):\n",
        "  response_test += str(\"--------------------------------\\n\")\n",
        "  print(str(10*\"--------------------------------\"))\n",
        "  response_test += str(\"##**Source Information**\")+str(\"\\t\")+str(i+1)+str(\"\\t\")+str(\":\\n\")\n",
        "  print(str(\"Source Information\")+str(\"\\t\")+str(i+1)+str(\"\\t\")+str(\":\"))\n",
        "  response_test += str(\"--------------------------------\\n\")\n",
        "  print(str(10*\"--------------------------------\"))\n",
        "  response_test += str(doc.page_content)+str(\"\\n\")\n",
        "  print(str(doc.page_content))\n",
        "  response_test += str(\"--------------------------------\\n\")\n",
        "  print(str(10*\"--------------------------------\"))\n",
        "  response_test += str(\"##**Similarity or Relevance Score:**\")+str(\"\\t\")+str(doc.metadata[\"relevance_score\"])+str(\"\\n\")\n",
        "  print(str(\"Similarity or Relevance Score:\")+str(\"\\t\")+str(doc.metadata[\"relevance_score\"]))\n",
        "  response_test += str(\"\\n\\n\\n\")\n",
        "  print(\"\\n\\n\\n\\n\\n\")"
      ],
      "metadata": {
        "colab": {
          "base_uri": "https://localhost:8080/"
        },
        "id": "IR8vfHMhMQAj",
        "outputId": "9f3d57ed-7726-4ef1-ac49-b6e9fee92af0"
      },
      "execution_count": 26,
      "outputs": [
        {
          "output_type": "stream",
          "name": "stdout",
          "text": [
            "--------------------------------------------------------------------------------------------------------------------------------------------------------------------------------------------------------------------------------------------------------------------------------------------------------------------------------\n",
            "Source Information\t1\t:\n",
            "--------------------------------------------------------------------------------------------------------------------------------------------------------------------------------------------------------------------------------------------------------------------------------------------------------------------------------\n",
            "Assessed vendor products and maintained positive vendor relations.\n",
            "\n",
            "Supported the sales team in writing proposals and closing contracts.\n",
            "\n",
            "Developed quarterly and annual sales department budgets.\n",
            "\n",
            "Developed a comprehensive training program for new sales associates.\n",
            "\n",
            "Reviewed operational records and reports to project sales and determine profitability.\n",
            "\n",
            "Trained all incoming sales team members.\n",
            "\n",
            "Maintained knowledge of current sales and promotions, policies regarding payment and exchanges and security practices.\n",
            "\n",
            "Insurance Agent\n",
            "\n",
            "08/2005 to 08/2008\n",
            "Fred Loya Insurance - Eagle Pass TX 78852\n",
            "\n",
            "Met with existing and prospective clients each week to select appropriate insurance policies.\n",
            "\n",
            "Calculated quotes and educated potential clients on insurance options.\n",
            "\n",
            "Tracked the progress of all outstanding insurance claims.\n",
            "\n",
            "Calculated premiums and established payment methods for sales.\n",
            "\n",
            "Identified and solicited sales prospects in agency databases.\n",
            "\n",
            "Evaluated leads obtained through direct referrals, lead databases and cold calling.\n",
            "\n",
            "Modeled exceptional customer service skills and appropriate diagnostic sales techniques.\n",
            "\n",
            "Collected all premiums on or before effective date of coverage.\n",
            "\n",
            "Contributed ideas and offered constructive feedback at weekly sales and training meetings.\n",
            "\n",
            "Education and Training\n",
            "\n",
            "High School Diploma\n",
            "2000\n",
            "Eagle Pass High School\n",
            "City, State\n",
            "\n",
            "Associate of Science\n",
            "\n",
            "MEDICAL 2009 KAPLAN UNIVERSITY\n",
            "\n",
            "City, State\n",
            "\n",
            "Bachelor of Arts: Psychology minor on Child Development\n",
            "\n",
            "2017 Psychology Child Development\n",
            "\n",
            "Languages\n",
            "\n",
            "Fluent in English and Spanish\n",
            "\n",
            "Skills\n",
            "\n",
            "agency\n",
            "\n",
            "budgeting\n",
            "\n",
            "budgets\n",
            "\n",
            "business strategy\n",
            "\n",
            "closing\n",
            "\n",
            "cold calling\n",
            "\n",
            "interpersonal\n",
            "\n",
            "communication skills\n",
            "\n",
            "Excellent Communication\n",
            "\n",
            "oral\n",
            "\n",
            "contracts\n",
            "\n",
            "Critical thinking\n",
            "\n",
            "clients\n",
            "\n",
            "Client Relations\n",
            "\n",
            "Customer Service\n",
            "\n",
            "customer service skills\n",
            "\n",
            "databases\n",
            "\n",
            "database\n",
            "\n",
            "Fluent in English\n",
            "\n",
            "forms\n",
            "\n",
            "FTP\n",
            "\n",
            "HR\n",
            "\n",
            "Insurance\n",
            "\n",
            "Leadership\n",
            "\n",
            "legal\n",
            "\n",
            "Marketing\n",
            "\n",
            "meetings\n",
            "\n",
            "Mergers and acquisitions\n",
            "\n",
            "Works\n",
            "\n",
            "organizational\n",
            "\n",
            "policies\n",
            "--------------------------------------------------------------------------------------------------------------------------------------------------------------------------------------------------------------------------------------------------------------------------------------------------------------------------------\n",
            "Similarity or Relevance Score:\t2.0521090846159495e-05\n",
            "\n",
            "\n",
            "\n",
            "\n",
            "\n",
            "\n",
            "--------------------------------------------------------------------------------------------------------------------------------------------------------------------------------------------------------------------------------------------------------------------------------------------------------------------------------\n",
            "Source Information\t2\t:\n",
            "--------------------------------------------------------------------------------------------------------------------------------------------------------------------------------------------------------------------------------------------------------------------------------------------------------------------------------\n",
            "budgeting\n",
            "\n",
            "budgets\n",
            "\n",
            "business strategy\n",
            "\n",
            "closing\n",
            "\n",
            "cold calling\n",
            "\n",
            "interpersonal\n",
            "\n",
            "communication skills\n",
            "\n",
            "Excellent Communication\n",
            "\n",
            "oral\n",
            "\n",
            "contracts\n",
            "\n",
            "Critical thinking\n",
            "\n",
            "clients\n",
            "\n",
            "Client Relations\n",
            "\n",
            "Customer Service\n",
            "\n",
            "customer service skills\n",
            "\n",
            "databases\n",
            "\n",
            "database\n",
            "\n",
            "Fluent in English\n",
            "\n",
            "forms\n",
            "\n",
            "FTP\n",
            "\n",
            "HR\n",
            "\n",
            "Insurance\n",
            "\n",
            "Leadership\n",
            "\n",
            "legal\n",
            "\n",
            "Marketing\n",
            "\n",
            "meetings\n",
            "\n",
            "Mergers and acquisitions\n",
            "\n",
            "Works\n",
            "\n",
            "organizational\n",
            "\n",
            "policies\n",
            "\n",
            "executive presentations\n",
            "\n",
            "Problem Solver\n",
            "\n",
            "process improvement\n",
            "\n",
            "progress\n",
            "\n",
            "proposals\n",
            "\n",
            "quality assurance\n",
            "\n",
            "recruitment\n",
            "\n",
            "sales\n",
            "\n",
            "sales and training\n",
            "\n",
            "Spanish\n",
            "\n",
            "Strategic marketing\n",
            "\n",
            "supervision\n",
            "\n",
            "Time management\n",
            "\n",
            "vendor relations\n",
            "\n",
            "website\n",
            "\n",
            "written\n",
            "--------------------------------------------------------------------------------------------------------------------------------------------------------------------------------------------------------------------------------------------------------------------------------------------------------------------------------\n",
            "Similarity or Relevance Score:\t1.9298920960864052e-05\n",
            "\n",
            "\n",
            "\n",
            "\n",
            "\n",
            "\n",
            "--------------------------------------------------------------------------------------------------------------------------------------------------------------------------------------------------------------------------------------------------------------------------------------------------------------------------------\n",
            "Source Information\t3\t:\n",
            "--------------------------------------------------------------------------------------------------------------------------------------------------------------------------------------------------------------------------------------------------------------------------------------------------------------------------------\n",
            "Maintaining discipline in the classroom.\n",
            "\n",
            "Company Name\n",
            "\n",
            "10/2011 to 01/2017\n",
            "City, State\n",
            "\n",
            "Advised prospective employees on various tips and tricks that would assist them in gaining employment in the organization.\n",
            "\n",
            "Implement effective HR policies to ensure all practices are following labor and employment regulations.\n",
            "\n",
            "Increased employee retention above 90% by rigorously maintaining a positive work environment.\n",
            "\n",
            "Develop targeted outreach recruitment programs to recruit more minorities and meet affirmative action requirements.\n",
            "\n",
            "Created a website with an embedded database and FTP functionality to enable online recruitment for the organization and reducing recruitment costs by 10%.\n",
            "\n",
            "Develop user-friendly application forms and questionnaires to be used by the organization during staff recruitment and interviewing.\n",
            "\n",
            "Arbitrate labor disputes in collaboration with the legal department.\n",
            "\n",
            "Operations Sales Manager\n",
            "\n",
            "09/2008 to 10/2011\n",
            "Company Name\n",
            "City, State\n",
            "\n",
            "Established operational objectives and work plans and delegated assignments to subordinate managers.\n",
            "\n",
            "Supervised a team of 15 area managers and 35 associates.\n",
            "\n",
            "Developed executive presentations and reports to facilitate project evaluation and process improvement.\n",
            "\n",
            "Directed planning, budgeting, vendor selection and quality assurance efforts.\n",
            "\n",
            "Defined clear targets and objectives and communicated them to other team members.\n",
            "\n",
            "Reviewed sales, customer concerns and new opportunities to drive business strategy at weekly planning sessions.\n",
            "\n",
            "Assessed vendor products and maintained positive vendor relations.\n",
            "\n",
            "Supported the sales team in writing proposals and closing contracts.\n",
            "\n",
            "Developed quarterly and annual sales department budgets.\n",
            "\n",
            "Developed a comprehensive training program for new sales associates.\n",
            "\n",
            "Reviewed operational records and reports to project sales and determine profitability.\n",
            "\n",
            "Trained all incoming sales team members.\n",
            "--------------------------------------------------------------------------------------------------------------------------------------------------------------------------------------------------------------------------------------------------------------------------------------------------------------------------------\n",
            "Similarity or Relevance Score:\t1.7236929124919698e-05\n",
            "\n",
            "\n",
            "\n",
            "\n",
            "\n",
            "\n"
          ]
        }
      ]
    },
    {
      "cell_type": "code",
      "source": [
        "Markdown(response_test)"
      ],
      "metadata": {
        "colab": {
          "base_uri": "https://localhost:8080/",
          "height": 1000
        },
        "id": "yL68_UMcMWJV",
        "outputId": "030bf3af-a18a-4b8e-c3df-932478d11d4a"
      },
      "execution_count": 27,
      "outputs": [
        {
          "output_type": "execute_result",
          "data": {
            "text/plain": [
              "<IPython.core.display.Markdown object>"
            ],
            "text/markdown": "\n--------------------------------\n##**Source Information**\t1\t:\n--------------------------------\nAssessed vendor products and maintained positive vendor relations.\n\nSupported the sales team in writing proposals and closing contracts.\n\nDeveloped quarterly and annual sales department budgets.\n\nDeveloped a comprehensive training program for new sales associates.\n\nReviewed operational records and reports to project sales and determine profitability.\n\nTrained all incoming sales team members.\n\nMaintained knowledge of current sales and promotions, policies regarding payment and exchanges and security practices.\n\nInsurance Agent\n\n08/2005 to 08/2008\nFred Loya Insurance - Eagle Pass TX 78852\n\nMet with existing and prospective clients each week to select appropriate insurance policies.\n\nCalculated quotes and educated potential clients on insurance options.\n\nTracked the progress of all outstanding insurance claims.\n\nCalculated premiums and established payment methods for sales.\n\nIdentified and solicited sales prospects in agency databases.\n\nEvaluated leads obtained through direct referrals, lead databases and cold calling.\n\nModeled exceptional customer service skills and appropriate diagnostic sales techniques.\n\nCollected all premiums on or before effective date of coverage.\n\nContributed ideas and offered constructive feedback at weekly sales and training meetings.\n\nEducation and Training\n\nHigh School Diploma\n2000\nEagle Pass High School\nCity, State\n\nAssociate of Science\n\nMEDICAL 2009 KAPLAN UNIVERSITY\n\nCity, State\n\nBachelor of Arts: Psychology minor on Child Development\n\n2017 Psychology Child Development\n\nLanguages\n\nFluent in English and Spanish\n\nSkills\n\nagency\n\nbudgeting\n\nbudgets\n\nbusiness strategy\n\nclosing\n\ncold calling\n\ninterpersonal\n\ncommunication skills\n\nExcellent Communication\n\noral\n\ncontracts\n\nCritical thinking\n\nclients\n\nClient Relations\n\nCustomer Service\n\ncustomer service skills\n\ndatabases\n\ndatabase\n\nFluent in English\n\nforms\n\nFTP\n\nHR\n\nInsurance\n\nLeadership\n\nlegal\n\nMarketing\n\nmeetings\n\nMergers and acquisitions\n\nWorks\n\norganizational\n\npolicies\n--------------------------------\n##**Similarity or Relevance Score:**\t2.0521090846159495e-05\n\n\n\n--------------------------------\n##**Source Information**\t2\t:\n--------------------------------\nbudgeting\n\nbudgets\n\nbusiness strategy\n\nclosing\n\ncold calling\n\ninterpersonal\n\ncommunication skills\n\nExcellent Communication\n\noral\n\ncontracts\n\nCritical thinking\n\nclients\n\nClient Relations\n\nCustomer Service\n\ncustomer service skills\n\ndatabases\n\ndatabase\n\nFluent in English\n\nforms\n\nFTP\n\nHR\n\nInsurance\n\nLeadership\n\nlegal\n\nMarketing\n\nmeetings\n\nMergers and acquisitions\n\nWorks\n\norganizational\n\npolicies\n\nexecutive presentations\n\nProblem Solver\n\nprocess improvement\n\nprogress\n\nproposals\n\nquality assurance\n\nrecruitment\n\nsales\n\nsales and training\n\nSpanish\n\nStrategic marketing\n\nsupervision\n\nTime management\n\nvendor relations\n\nwebsite\n\nwritten\n--------------------------------\n##**Similarity or Relevance Score:**\t1.9298920960864052e-05\n\n\n\n--------------------------------\n##**Source Information**\t3\t:\n--------------------------------\nMaintaining discipline in the classroom.\n\nCompany Name\n\n10/2011 to 01/2017\nCity, State\n\nAdvised prospective employees on various tips and tricks that would assist them in gaining employment in the organization.\n\nImplement effective HR policies to ensure all practices are following labor and employment regulations.\n\nIncreased employee retention above 90% by rigorously maintaining a positive work environment.\n\nDevelop targeted outreach recruitment programs to recruit more minorities and meet affirmative action requirements.\n\nCreated a website with an embedded database and FTP functionality to enable online recruitment for the organization and reducing recruitment costs by 10%.\n\nDevelop user-friendly application forms and questionnaires to be used by the organization during staff recruitment and interviewing.\n\nArbitrate labor disputes in collaboration with the legal department.\n\nOperations Sales Manager\n\n09/2008 to 10/2011\nCompany Name\nCity, State\n\nEstablished operational objectives and work plans and delegated assignments to subordinate managers.\n\nSupervised a team of 15 area managers and 35 associates.\n\nDeveloped executive presentations and reports to facilitate project evaluation and process improvement.\n\nDirected planning, budgeting, vendor selection and quality assurance efforts.\n\nDefined clear targets and objectives and communicated them to other team members.\n\nReviewed sales, customer concerns and new opportunities to drive business strategy at weekly planning sessions.\n\nAssessed vendor products and maintained positive vendor relations.\n\nSupported the sales team in writing proposals and closing contracts.\n\nDeveloped quarterly and annual sales department budgets.\n\nDeveloped a comprehensive training program for new sales associates.\n\nReviewed operational records and reports to project sales and determine profitability.\n\nTrained all incoming sales team members.\n--------------------------------\n##**Similarity or Relevance Score:**\t1.7236929124919698e-05\n\n\n\n"
          },
          "metadata": {},
          "execution_count": 27
        }
      ]
    },
    {
      "cell_type": "code",
      "source": [],
      "metadata": {
        "id": "F-7Fl_YCY6XW"
      },
      "execution_count": 27,
      "outputs": []
    }
  ]
}